{
  "nbformat": 4,
  "nbformat_minor": 0,
  "metadata": {
    "colab": {
      "name": "Cuaderno introductorio a R.ipynb",
      "provenance": [],
      "collapsed_sections": [],
      "toc_visible": true
    },
    "kernelspec": {
      "name": "ir",
      "display_name": "R"
    },
    "language_info": {
      "name": "R"
    }
  },
  "cells": [
    {
      "cell_type": "markdown",
      "source": [
        "#¿Qué es R?"
      ],
      "metadata": {
        "id": "6uEKrU6uzBH8"
      }
    },
    {
      "cell_type": "markdown",
      "source": [
        "![picture](https://raw.githubusercontent.com/AlejandroDGR/Proyecto_Difusion_Universitarios_INE/master/Images/R%20Logo.jpg)\n",
        "\n",
        "**R** es un lenguaje de programación cuyas características básicas son:\n",
        "* Es un lenguaje de programación pensado por y para estadísticos. Por ello, su funcionalidad básica - y que vamos a emplear en este proyecto con datos del INE - es el análisis de datos y todo lo relacionado con él: gestión de bases de datos, visualización de resultados, etc. \n",
        "* Es de alto nivel, es decir, se asemeja más a un lenguaje humano (español, inglés, francés, etc.) que a un lenguaje binario empleado por máquinas. Asimismo, su gramática es, en general, clara y bastante legible. Esto lo convierte en un lenguaje no muy difícil de aprender y muy útil para comenzar en el mundo de la programación estadística.\n",
        "* Su tipado es fuerte - distingue de manera muy clara entre los distintos tipos que puede tener una variable - y dinámico - esto es, no es necesario establecer el tipo de una variable antes de ejecutar un programa, sino que el propio Python establecerá el tipo durante la ejecución del programa.\n",
        "* Permite la Programación Orientada a Objetos (POO). El significado y usabilidad de esta característica se desarrolla ampliamente en otro cuaderno.\n",
        "* Es un lenguaje de código abierto, es decir, no solo se puede utilizar de manera gratuita, sino que existe la posibilidad de que cada usuario plantee mejoras y desarrolle sus propias librerías y paquetes.\n",
        "\n",
        "Con este cuaderno pretendemos dar unos fundamentos básicos de programación en R que resultarán más o menos útiles para el desarrollo de análisis de datos. Así, el cuaderno presenta los siguientes epígrafes:\n",
        "* **Tipos de datos, operadores y variables**\n",
        "* **Estructuras de datos en R: vectores, matrices, listas, dataframes y factores**\n",
        "* **Condicionales: `if-else` e `ifelse()`**\n",
        "* **Bucles: `for`, `while` y `repeat`**\n",
        "* **Funciones: básicas, lambda y `apply()`**\n",
        "* **Instalación y carga de librerías en R**\n",
        "\n",
        "Decimos que estos fundamentos nos serán más o menos útiles para realizar análisis estadísticos porque, aunque siempre será mejor controlar las bases del lenguaje que aquí presentamos, en muchas ocasiones no será necesario utilizar condicionales, bucles o funciones creadas por nosostros mismos ya que, la mayor parte del tiempo, utilizaremos funciones ya creadas por otros usuarios, mediante la carga de librerías específicas, que nos facilitarán mucho nuestras labores.\n",
        "\n",
        "Asimismo, con la finalidad de no tener que descargar nada y facilitar, lo más posible, la vida a los usuarios de nuestro proyecto, vamos a utilizar **Google Colab** como entorno de desarrollo - en lugar de otros entornos que sí requieren descarga, como puede ser *RStudio*. La forma de utilizar Colab la tenemos descrita en otro cuaderno."
      ],
      "metadata": {
        "id": "voW5l79BzCcC"
      }
    },
    {
      "cell_type": "markdown",
      "source": [
        "#Tipos de datos, operadores y variables"
      ],
      "metadata": {
        "id": "mX5uzyT5zMtP"
      }
    },
    {
      "cell_type": "markdown",
      "source": [
        "R admite los siguientes **tipos de datos**:\n",
        "\n",
        "1. **Numéricos** (`numeric`). A su vez se dividen en:\n",
        "    * Enteros (`integer`).\n",
        "    * Decimales o de punto flotante (`double`). IMPORTANTE: en R, como en inglés, los decimales se escriben con punto, no con coma.\n",
        "2. **Textos** o **Cadenas de caracteres** (`character`). Las cadenas de texto van entre comillas:\n",
        "```\n",
        "\"Hola\"\n",
        "```\n",
        "3. **Complejos** (`complex`): números complejos, como el siguiente:\n",
        "```\n",
        "24 + 3i\n",
        "``` \n",
        "4. **Lógicos** o **Booleanos**: solo admiten dos tipos de valores: Verdadero (`TRUE`) o Falso (`FALSE`).\n",
        "\n",
        "Y sus **operadores** principales son:\n",
        "1. Aritméticos:\n",
        "\n",
        "| Operador| Operación| Ejemplo | Resultado|\n",
        "|--- | --- | --- | --- |\n",
        "| +  | Suma           | 5 + 2  | 7  |\n",
        "| -  | Resta          | 5 - 2  | 3  |\n",
        "| *  | Multiplicación | 5 * 2  | 10 |\n",
        "| /  | División    | 5/ 2   |2.5 |\n",
        "| %/% | División entera (solo se queda con la parte entera de la división, no con el resto)| 5 %/% 2 | 2  |\n",
        "|  %% | Módulo (solo se queda con el resto de la división)       |  5 %% 2 | 1  |\n",
        "| ^ | Potencia       | 5 ^ 2 | 25 |\n",
        "\n",
        "2. De comparación:\n",
        "\n",
        "| Operador| Significado|\n",
        "|--- | --- | \n",
        "| ==  | Igual que | \n",
        "| !=  | Diferente que | \n",
        "| >  | Mayor que | \n",
        "| <  | Menor que | \n",
        "| >= | Mayor o igual que | \n",
        "| <= | Menor o igual que |\n",
        "\n",
        "3. Lógicos: permiten evaluar más de una condición a la vez:\n",
        "\n",
        "| Operador| Significado|\n",
        "|--- | --- | \n",
        "| & | Y | \n",
        "| Barra vertical  | O | \n",
        "|  ! | No | \n",
        "\n",
        "    La barra vertical es este símbolo: | No lo hemos podido meter en la tabla, ya que la tabla está construida con barras verticales y lo reconoce como un lado de la tabla, no como un símbolo diferente.\n",
        "\n",
        "4. De asignación: para asignar valores a variables (similares en muchos casos a los operadores aritméticos):\n",
        "\n",
        "| Operador| Significado| Ejemplo |Resultado |\n",
        "|--- | --- | --- | --- |\n",
        "| = | Igual | a = 10  | a = 10 |\n",
        "| <- | Igual | a <- 10  | a = 10 |\n",
        "\n",
        "    También se podría asignar hacia la derecha (auqnue no es usual):\n",
        "| Operador| Significado| Ejemplo |Resultado |\n",
        "|--- | --- | --- | --- |\n",
        "| -> | Igual | 10 -> a  | a = 10 |\n",
        "\n",
        "Pero, ¿qué es una **variable**? Una variable en programación y, por tanto, una variable en R, no es más que un espacio en la memoria del ordenador o de la nube, donde se almacenará un valor que podrá variar durante la ejecución de un programa. Véamos un ejemplo muy sencillo:"
      ],
      "metadata": {
        "id": "40s6MJBrzRir"
      }
    },
    {
      "cell_type": "code",
      "execution_count": null,
      "metadata": {
        "colab": {
          "base_uri": "https://localhost:8080/",
          "height": 34
        },
        "id": "RRvFBidey6lP",
        "outputId": "6b1f7300-86d7-484e-9d9b-2092c170bc46"
      },
      "outputs": [
        {
          "output_type": "display_data",
          "data": {
            "text/html": [
              "10"
            ],
            "text/markdown": "10",
            "text/latex": "10",
            "text/plain": [
              "[1] 10"
            ]
          },
          "metadata": {}
        }
      ],
      "source": [
        "a <- 10\n",
        "a"
      ]
    },
    {
      "cell_type": "markdown",
      "source": [
        "Ahora modificamos el valor de **a**, para que sea igual a 15:"
      ],
      "metadata": {
        "id": "JommSnbj0CU4"
      }
    },
    {
      "cell_type": "code",
      "source": [
        "a <- 15\n",
        "a"
      ],
      "metadata": {
        "colab": {
          "base_uri": "https://localhost:8080/",
          "height": 34
        },
        "id": "tEeqtakc0GUs",
        "outputId": "f63e3dd8-758d-44b3-a2ae-609f128f41ce"
      },
      "execution_count": null,
      "outputs": [
        {
          "output_type": "display_data",
          "data": {
            "text/html": [
              "15"
            ],
            "text/markdown": "15",
            "text/latex": "15",
            "text/plain": [
              "[1] 15"
            ]
          },
          "metadata": {}
        }
      ]
    },
    {
      "cell_type": "markdown",
      "source": [
        "Volvemos a modificarlo para que vuelva a ser igual a 10:"
      ],
      "metadata": {
        "id": "KI_J8XzW0MX5"
      }
    },
    {
      "cell_type": "code",
      "source": [
        "a = 10\n",
        "a"
      ],
      "metadata": {
        "colab": {
          "base_uri": "https://localhost:8080/",
          "height": 34
        },
        "id": "h8lTtWdK0NN3",
        "outputId": "b78849ef-43d4-4b9c-e8ba-7753d5afaf9e"
      },
      "execution_count": null,
      "outputs": [
        {
          "output_type": "display_data",
          "data": {
            "text/html": [
              "10"
            ],
            "text/markdown": "10",
            "text/latex": "10",
            "text/plain": [
              "[1] 10"
            ]
          },
          "metadata": {}
        }
      ]
    },
    {
      "cell_type": "markdown",
      "source": [
        "De esta forma, podemos cómprobar que 1) el valor de la variable puede cambiar dentro de un mismo programa, y 2) (**MUY IMPORTANTE**) los dos operadores de asignación `=` y `<-` son los que nos permiten crear una variable.\n",
        "\n",
        "En R se suele usar más `<-` que `=`, aunque no ocasiona problemas utilizar el segundo.\n",
        "\n",
        "Asimismo, es fundamental no confundir el operador de asignación `=`, con el operador de comparación `==`. Veámos un ejemplo:"
      ],
      "metadata": {
        "id": "3-6BfuGO0TnG"
      }
    },
    {
      "cell_type": "code",
      "source": [
        "b = 7\n",
        "b"
      ],
      "metadata": {
        "colab": {
          "base_uri": "https://localhost:8080/",
          "height": 34
        },
        "id": "0RHR6-6H1M3d",
        "outputId": "155504ef-ae1b-4c78-f732-11de6bc51ba0"
      },
      "execution_count": null,
      "outputs": [
        {
          "output_type": "display_data",
          "data": {
            "text/html": [
              "7"
            ],
            "text/markdown": "7",
            "text/latex": "7",
            "text/plain": [
              "[1] 7"
            ]
          },
          "metadata": {}
        }
      ]
    },
    {
      "cell_type": "code",
      "source": [
        "b == 10"
      ],
      "metadata": {
        "colab": {
          "base_uri": "https://localhost:8080/",
          "height": 34
        },
        "id": "GgM93I3X1RDl",
        "outputId": "1f6b11bc-4d44-4b68-cede-d7943e78b15f"
      },
      "execution_count": null,
      "outputs": [
        {
          "output_type": "display_data",
          "data": {
            "text/html": [
              "FALSE"
            ],
            "text/markdown": "FALSE",
            "text/latex": "FALSE",
            "text/plain": [
              "[1] FALSE"
            ]
          },
          "metadata": {}
        }
      ]
    },
    {
      "cell_type": "markdown",
      "source": [
        "Con `=` hemos asignado el valor 7 a **b**, creando una variable; y con `==` le hemos preguntado a R si **b** es igual a 10, respondiéndonos que no, que es falso. Sin embargo, si le preguntáramos si **b** es igual a 7, nos diría que sí, que es verdad:"
      ],
      "metadata": {
        "id": "G3srbOxi1VUG"
      }
    },
    {
      "cell_type": "code",
      "source": [
        "b == 7"
      ],
      "metadata": {
        "colab": {
          "base_uri": "https://localhost:8080/",
          "height": 34
        },
        "id": "WNyeRfgA1kau",
        "outputId": "a41ee8f5-6455-489e-e998-7fe28da365a1"
      },
      "execution_count": null,
      "outputs": [
        {
          "output_type": "display_data",
          "data": {
            "text/html": [
              "TRUE"
            ],
            "text/markdown": "TRUE",
            "text/latex": "TRUE",
            "text/plain": [
              "[1] TRUE"
            ]
          },
          "metadata": {}
        }
      ]
    },
    {
      "cell_type": "markdown",
      "source": [
        "Otra cosa que debemos tener en cuenta a la hora de crear una variable en R es que el nombre de ésta solo puede empezar por letras (nunca por números ni guiones bajos - aunque sí puede contener en su interior números o guiones bajos). Los guiones bajos se emplean cuando el nombre de la variable contiene más de una palabra, usándose para unir dichas palabras. Por ejemplo, nombres de variables válidos serían los siguientes: `variable`, `Variable`, `Variable1` o `Nombre_Variable`; y no serían válidos ni `1Variable` ni `_Variable` ni `Nombre Variable`.\n",
        "\n",
        "Asimismo, dos funciones predefinidas de R para saber el tipo de variable son: `class()` y `typeof()`. Lo vemos con ejemplos:"
      ],
      "metadata": {
        "id": "gy9IEJob15yG"
      }
    },
    {
      "cell_type": "code",
      "source": [
        "#Vamos a crear una variable númerica tipo entero: \n",
        "numero <- 10\n",
        "class(numero)"
      ],
      "metadata": {
        "colab": {
          "base_uri": "https://localhost:8080/",
          "height": 34
        },
        "id": "ASPzZb-s21Sb",
        "outputId": "436d4bbb-1ff8-4e80-aa0c-c8ef099e8c59"
      },
      "execution_count": null,
      "outputs": [
        {
          "output_type": "display_data",
          "data": {
            "text/html": [
              "'numeric'"
            ],
            "text/markdown": "'numeric'",
            "text/latex": "'numeric'",
            "text/plain": [
              "[1] \"numeric\""
            ]
          },
          "metadata": {}
        }
      ]
    },
    {
      "cell_type": "code",
      "source": [
        "#Ahora será tipo decimal:\n",
        "numero <- 65.96\n",
        "class(numero)"
      ],
      "metadata": {
        "colab": {
          "base_uri": "https://localhost:8080/",
          "height": 34
        },
        "id": "8A4bN2WqWQd7",
        "outputId": "f876bc21-b981-4483-ce56-5733dd301c55"
      },
      "execution_count": null,
      "outputs": [
        {
          "output_type": "display_data",
          "data": {
            "text/html": [
              "'numeric'"
            ],
            "text/markdown": "'numeric'",
            "text/latex": "'numeric'",
            "text/plain": [
              "[1] \"numeric\""
            ]
          },
          "metadata": {}
        }
      ]
    },
    {
      "cell_type": "markdown",
      "source": [
        "Vemos que no hay cambiado el tipo, que en ambos casos es `numeric`. Eso es porque la función `class()` solo reconoce valores `numeric` cuando introducimos números, sean estos decimales o enteros. Por ello, para poder distinguir entre estos dos tipos debemos usar la función `typeof()`, poniendo un `L` después de un número entero para marcar que es entero porque, si no, lo reconoce como double:"
      ],
      "metadata": {
        "id": "lO7J87XOWk6S"
      }
    },
    {
      "cell_type": "code",
      "source": [
        "numero <- 4\n",
        "typeof(numero)"
      ],
      "metadata": {
        "colab": {
          "base_uri": "https://localhost:8080/",
          "height": 34
        },
        "id": "_V6iXGkuXpPy",
        "outputId": "befd7ba8-2b51-46d4-c413-03948c42ab91"
      },
      "execution_count": null,
      "outputs": [
        {
          "output_type": "display_data",
          "data": {
            "text/html": [
              "'double'"
            ],
            "text/markdown": "'double'",
            "text/latex": "'double'",
            "text/plain": [
              "[1] \"double\""
            ]
          },
          "metadata": {}
        }
      ]
    },
    {
      "cell_type": "code",
      "source": [
        "numero <- 4L\n",
        "typeof(numero)"
      ],
      "metadata": {
        "colab": {
          "base_uri": "https://localhost:8080/",
          "height": 34
        },
        "id": "gGAh44CFXxIy",
        "outputId": "d8bab8b1-9799-478b-b197-be093b82e061"
      },
      "execution_count": null,
      "outputs": [
        {
          "output_type": "display_data",
          "data": {
            "text/html": [
              "'integer'"
            ],
            "text/markdown": "'integer'",
            "text/latex": "'integer'",
            "text/plain": [
              "[1] \"integer\""
            ]
          },
          "metadata": {}
        }
      ]
    },
    {
      "cell_type": "code",
      "source": [
        "numero <- 4.5\n",
        "typeof(numero)"
      ],
      "metadata": {
        "colab": {
          "base_uri": "https://localhost:8080/",
          "height": 34
        },
        "id": "LW2g7ItUXy88",
        "outputId": "2e90b8c8-3533-4888-bb73-21577bc99480"
      },
      "execution_count": null,
      "outputs": [
        {
          "output_type": "display_data",
          "data": {
            "text/html": [
              "'double'"
            ],
            "text/markdown": "'double'",
            "text/latex": "'double'",
            "text/plain": [
              "[1] \"double\""
            ]
          },
          "metadata": {}
        }
      ]
    },
    {
      "cell_type": "code",
      "source": [
        "numero <- 4.5L\n",
        "typeof(numero)\n",
        "#Aunque le pongamos una L detrás, el punto marca que el número es decimal"
      ],
      "metadata": {
        "colab": {
          "base_uri": "https://localhost:8080/",
          "height": 34
        },
        "id": "G9OxxXRvX43n",
        "outputId": "4305ddce-a5d5-413a-b9f2-1c18db297820"
      },
      "execution_count": null,
      "outputs": [
        {
          "output_type": "display_data",
          "data": {
            "text/html": [
              "'double'"
            ],
            "text/markdown": "'double'",
            "text/latex": "'double'",
            "text/plain": [
              "[1] \"double\""
            ]
          },
          "metadata": {}
        }
      ]
    },
    {
      "cell_type": "markdown",
      "source": [
        "Para el resto de casos, `class()` y `typeof()` son iguales:"
      ],
      "metadata": {
        "id": "J24YHTcWYEmB"
      }
    },
    {
      "cell_type": "code",
      "source": [
        "#Volvemos a cambiar el valor de la variable:\n",
        "numero = 10.5 + 2i\n",
        "class(numero)\n",
        "#Ahora será de tipo complejo"
      ],
      "metadata": {
        "colab": {
          "base_uri": "https://localhost:8080/",
          "height": 34
        },
        "id": "zbHIFIBB3ws6",
        "outputId": "1a996254-ed21-4315-cebb-992be3375146"
      },
      "execution_count": null,
      "outputs": [
        {
          "output_type": "display_data",
          "data": {
            "text/html": [
              "'complex'"
            ],
            "text/markdown": "'complex'",
            "text/latex": "'complex'",
            "text/plain": [
              "[1] \"complex\""
            ]
          },
          "metadata": {}
        }
      ]
    },
    {
      "cell_type": "code",
      "source": [
        "numero = 10.5 + 2i\n",
        "typeof(numero)"
      ],
      "metadata": {
        "colab": {
          "base_uri": "https://localhost:8080/",
          "height": 34
        },
        "id": "tbe--FJ4YW5E",
        "outputId": "b5dcaf26-4eb0-47cc-85ca-b8ba30947a66"
      },
      "execution_count": null,
      "outputs": [
        {
          "output_type": "display_data",
          "data": {
            "text/html": [
              "'complex'"
            ],
            "text/markdown": "'complex'",
            "text/latex": "'complex'",
            "text/plain": [
              "[1] \"complex\""
            ]
          },
          "metadata": {}
        }
      ]
    },
    {
      "cell_type": "code",
      "source": [
        "#Volvemos a modificar el valor:\n",
        "numero = \"Hola\"\n",
        "class(numero)"
      ],
      "metadata": {
        "colab": {
          "base_uri": "https://localhost:8080/",
          "height": 34
        },
        "id": "8aw5kH_C4D5x",
        "outputId": "2600e6a0-6d6c-4fa5-fb44-69cb9faac933"
      },
      "execution_count": null,
      "outputs": [
        {
          "output_type": "display_data",
          "data": {
            "text/html": [
              "'character'"
            ],
            "text/markdown": "'character'",
            "text/latex": "'character'",
            "text/plain": [
              "[1] \"character\""
            ]
          },
          "metadata": {}
        }
      ]
    },
    {
      "cell_type": "markdown",
      "source": [
        "Vemos que, aunque se llame número, la variable es de tipo character o texto. Es decir, el tipo de la variable no lo marca su nombre, sino su contenido\n",
        "\n",
        "Por último, dentro de este apartado, comentar que la forma de poner comentarios dentro del código en R, como hemos podido ver en los ejemplos anteriores, es mediante la colocación de una `#` al principio del comentario:\n",
        "```python\n",
        "#Esto es un comentario.\n",
        "#Todas las líneas de código que presenten una # se considerarán comentarios desde la primera # que tengan.\n",
        "```"
      ],
      "metadata": {
        "id": "-JYgXlLG4NnF"
      }
    },
    {
      "cell_type": "markdown",
      "source": [
        "#Estructuras de datos"
      ],
      "metadata": {
        "id": "AdD9tFSp4VQJ"
      }
    },
    {
      "cell_type": "markdown",
      "source": [
        "###**Vectores**\n",
        "Los vectores son la estructura de datos más sencilla de R. Son colecciones de uno o más elementos del mismo tipo.\n",
        "\n",
        "El tipo del vector lo determinará el tipo de datos que contenga. Y el largo del vector es el número de elementos que contiene, siendo ésta la única dimensión que tienen los vectores.\n",
        "\n",
        "Como los vectores pueden estar formado por un solo elemento, un número o una cadena de texto, pueden ser también considerados vectores:"
      ],
      "metadata": {
        "id": "_JC8ydmV4YMK"
      }
    },
    {
      "cell_type": "code",
      "source": [
        "hola = \"Hola\"\n",
        "is.vector(hola)"
      ],
      "metadata": {
        "colab": {
          "base_uri": "https://localhost:8080/",
          "height": 34
        },
        "id": "GpojiMEdSPmD",
        "outputId": "0bab638e-374f-43a2-c621-1d3e1f740394"
      },
      "execution_count": null,
      "outputs": [
        {
          "output_type": "display_data",
          "data": {
            "text/html": [
              "TRUE"
            ],
            "text/markdown": "TRUE",
            "text/latex": "TRUE",
            "text/plain": [
              "[1] TRUE"
            ]
          },
          "metadata": {}
        }
      ]
    },
    {
      "cell_type": "markdown",
      "source": [
        "Vemos que la función `is.vector()` nos permite conocer si una variable es o no un vector."
      ],
      "metadata": {
        "id": "7qtn7gcmScdH"
      }
    },
    {
      "cell_type": "markdown",
      "source": [
        "######**Creación de vectores**"
      ],
      "metadata": {
        "id": "MysUqBkxSsYh"
      }
    },
    {
      "cell_type": "markdown",
      "source": [
        "Para crear un vector que éste formado por más de un elemento, debemos usar la función `c()`: esta función concatena o combina los elementos que le indiquemos para formar el vector:"
      ],
      "metadata": {
        "id": "rQrUymS0S0Sc"
      }
    },
    {
      "cell_type": "code",
      "source": [
        "Vector <- c(28, 35.4, 4)\n",
        "is.vector(Vector)"
      ],
      "metadata": {
        "colab": {
          "base_uri": "https://localhost:8080/",
          "height": 34
        },
        "id": "w0_lZ4ZBTCvb",
        "outputId": "0f614906-4610-4935-f688-29ca6536301e"
      },
      "execution_count": null,
      "outputs": [
        {
          "output_type": "display_data",
          "data": {
            "text/html": [
              "TRUE"
            ],
            "text/markdown": "TRUE",
            "text/latex": "TRUE",
            "text/plain": [
              "[1] TRUE"
            ]
          },
          "metadata": {}
        }
      ]
    },
    {
      "cell_type": "code",
      "source": [
        "class(Vector)"
      ],
      "metadata": {
        "colab": {
          "base_uri": "https://localhost:8080/",
          "height": 34
        },
        "id": "NtgtLC4iTdfr",
        "outputId": "ecaaab01-f56b-491c-c626-d5cdbe442809"
      },
      "execution_count": null,
      "outputs": [
        {
          "output_type": "display_data",
          "data": {
            "text/html": [
              "'numeric'"
            ],
            "text/markdown": "'numeric'",
            "text/latex": "'numeric'",
            "text/plain": [
              "[1] \"numeric\""
            ]
          },
          "metadata": {}
        }
      ]
    },
    {
      "cell_type": "markdown",
      "source": [
        "######**Longitud de los vectores**"
      ],
      "metadata": {
        "id": "i0lC4uT7ZAll"
      }
    },
    {
      "cell_type": "markdown",
      "source": [
        "Usamos la función `length()` para conocer el largo de un vector:"
      ],
      "metadata": {
        "id": "p2leVWXhZYvq"
      }
    },
    {
      "cell_type": "code",
      "source": [
        "Vector2 <- c(\"Ey\", \"Qué\", \"Pasa\", \"Chavales\")\n",
        "length(Vector2)"
      ],
      "metadata": {
        "colab": {
          "base_uri": "https://localhost:8080/",
          "height": 34
        },
        "id": "7nHLxCyxZFp6",
        "outputId": "b32d926f-e68f-4df7-9069-c7839e480bd7"
      },
      "execution_count": null,
      "outputs": [
        {
          "output_type": "display_data",
          "data": {
            "text/html": [
              "4"
            ],
            "text/markdown": "4",
            "text/latex": "4",
            "text/plain": [
              "[1] 4"
            ]
          },
          "metadata": {}
        }
      ]
    },
    {
      "cell_type": "markdown",
      "source": [
        "######**Seleccionar uno o más elementos de un vector**"
      ],
      "metadata": {
        "id": "RrIoAdSDaM0k"
      }
    },
    {
      "cell_type": "code",
      "source": [
        "Vector_seleccionable <- c(2, 4, 8, 67, 451)"
      ],
      "metadata": {
        "id": "FUHwKzL-aUPu"
      },
      "execution_count": null,
      "outputs": []
    },
    {
      "cell_type": "markdown",
      "source": [
        "Para seleccionar un valor, ponemos, entre corchetes, la posición que queremos seleccionar, empezando a contar por la izquierda por 1.\n",
        "\n",
        "Por ejemplo, vamos a seleccionar el segundo elemento:"
      ],
      "metadata": {
        "id": "YVwJsFfEaiV9"
      }
    },
    {
      "cell_type": "code",
      "source": [
        "Vector_seleccionable[2]"
      ],
      "metadata": {
        "colab": {
          "base_uri": "https://localhost:8080/",
          "height": 34
        },
        "id": "MMAEdn47aeoF",
        "outputId": "5414e6f6-a097-4f10-bbaa-f07a0c93d886"
      },
      "execution_count": null,
      "outputs": [
        {
          "output_type": "display_data",
          "data": {
            "text/html": [
              "4"
            ],
            "text/markdown": "4",
            "text/latex": "4",
            "text/plain": [
              "[1] 4"
            ]
          },
          "metadata": {}
        }
      ]
    },
    {
      "cell_type": "markdown",
      "source": [
        "Para seleccionar más de un elemento, debemos seleccionar más de una posición, por lo que vamos a usar un vector para ello.\n",
        "\n",
        "Por ejemplo, seleccionamos la posiciones 2 y 5:"
      ],
      "metadata": {
        "id": "GiHnP7YSay_X"
      }
    },
    {
      "cell_type": "code",
      "source": [
        "Vector_seleccionable[c(2, 5)]"
      ],
      "metadata": {
        "colab": {
          "base_uri": "https://localhost:8080/",
          "height": 34
        },
        "id": "UD6cJWlobFAV",
        "outputId": "a3180060-5ea6-4067-a4de-f12af12c5d37"
      },
      "execution_count": null,
      "outputs": [
        {
          "output_type": "display_data",
          "data": {
            "text/html": [
              "<style>\n",
              ".list-inline {list-style: none; margin:0; padding: 0}\n",
              ".list-inline>li {display: inline-block}\n",
              ".list-inline>li:not(:last-child)::after {content: \"\\00b7\"; padding: 0 .5ex}\n",
              "</style>\n",
              "<ol class=list-inline><li>4</li><li>451</li></ol>\n"
            ],
            "text/markdown": "1. 4\n2. 451\n\n\n",
            "text/latex": "\\begin{enumerate*}\n\\item 4\n\\item 451\n\\end{enumerate*}\n",
            "text/plain": [
              "[1]   4 451"
            ]
          },
          "metadata": {}
        }
      ]
    },
    {
      "cell_type": "markdown",
      "source": [
        "Otra manera de seleccionar elementos de un vector consiste en indicar las posiciones que **no** queremos visualizar.\n",
        "\n",
        "Por ejemplo, vamos a ver todos los elementos salvo el primero y el último (posiciones 1 y 5):"
      ],
      "metadata": {
        "id": "ev84SuHjdvV_"
      }
    },
    {
      "cell_type": "code",
      "source": [
        "Vector_seleccionable[-c(1,5)]"
      ],
      "metadata": {
        "colab": {
          "base_uri": "https://localhost:8080/",
          "height": 34
        },
        "id": "zi30O4pxd6vA",
        "outputId": "01a2af48-2f76-4620-b09c-9df9d0f7c7da"
      },
      "execution_count": null,
      "outputs": [
        {
          "output_type": "display_data",
          "data": {
            "text/html": [
              "<style>\n",
              ".list-inline {list-style: none; margin:0; padding: 0}\n",
              ".list-inline>li {display: inline-block}\n",
              ".list-inline>li:not(:last-child)::after {content: \"\\00b7\"; padding: 0 .5ex}\n",
              "</style>\n",
              "<ol class=list-inline><li>4</li><li>8</li><li>67</li></ol>\n"
            ],
            "text/markdown": "1. 4\n2. 8\n3. 67\n\n\n",
            "text/latex": "\\begin{enumerate*}\n\\item 4\n\\item 8\n\\item 67\n\\end{enumerate*}\n",
            "text/plain": [
              "[1]  4  8 67"
            ]
          },
          "metadata": {}
        }
      ]
    },
    {
      "cell_type": "markdown",
      "source": [
        "######**Mostrar el inicio o final de un vector**"
      ],
      "metadata": {
        "id": "y2ETApy8bVMx"
      }
    },
    {
      "cell_type": "markdown",
      "source": [
        "Usamos la función `head()` para seleccionar los primeros elementos de un vector, indicando con un parámetro el número de posiciones iniciales a mostrar."
      ],
      "metadata": {
        "id": "LLc9lMITbiA7"
      }
    },
    {
      "cell_type": "code",
      "source": [
        "#Mostramos el primer elemento:\n",
        "head(Vector_seleccionable, 1)"
      ],
      "metadata": {
        "colab": {
          "base_uri": "https://localhost:8080/",
          "height": 34
        },
        "id": "8tsePXddbcoB",
        "outputId": "5f3754f5-aa8e-43f4-f4ba-8c1bf09cc4b5"
      },
      "execution_count": null,
      "outputs": [
        {
          "output_type": "display_data",
          "data": {
            "text/html": [
              "2"
            ],
            "text/markdown": "2",
            "text/latex": "2",
            "text/plain": [
              "[1] 2"
            ]
          },
          "metadata": {}
        }
      ]
    },
    {
      "cell_type": "markdown",
      "source": [
        "Usamos la función `tail()` para seleccionar los últimos elementos de un vector, indicando con un parámetro el número de posiciones finales a mostrar."
      ],
      "metadata": {
        "id": "338DhzYVcGup"
      }
    },
    {
      "cell_type": "code",
      "source": [
        "#Mostramos los tres últimos elementos por el final:\n",
        "tail(Vector_seleccionable, 3)"
      ],
      "metadata": {
        "colab": {
          "base_uri": "https://localhost:8080/",
          "height": 34
        },
        "id": "vKNlPWylcO0H",
        "outputId": "2bddcd73-695e-4f94-a8a0-23931fbdc4bf"
      },
      "execution_count": null,
      "outputs": [
        {
          "output_type": "display_data",
          "data": {
            "text/html": [
              "<style>\n",
              ".list-inline {list-style: none; margin:0; padding: 0}\n",
              ".list-inline>li {display: inline-block}\n",
              ".list-inline>li:not(:last-child)::after {content: \"\\00b7\"; padding: 0 .5ex}\n",
              "</style>\n",
              "<ol class=list-inline><li>8</li><li>67</li><li>451</li></ol>\n"
            ],
            "text/markdown": "1. 8\n2. 67\n3. 451\n\n\n",
            "text/latex": "\\begin{enumerate*}\n\\item 8\n\\item 67\n\\item 451\n\\end{enumerate*}\n",
            "text/plain": [
              "[1]   8  67 451"
            ]
          },
          "metadata": {}
        }
      ]
    },
    {
      "cell_type": "markdown",
      "source": [
        "######**Añadir elementos a un vector**"
      ],
      "metadata": {
        "id": "R2jrmzAbeL9P"
      }
    },
    {
      "cell_type": "markdown",
      "source": [
        "Podemos crear vectores como combinación de otros vectores:"
      ],
      "metadata": {
        "id": "BTZ_ffoaekP2"
      }
    },
    {
      "cell_type": "code",
      "source": [
        "vector_1 <- c(\"Buenos\", \"días\")\n",
        "vector_2 <- c(\"y\", \"buenas\", \"noches\")\n",
        "vector_completo <- c(vector_1, vector_2)\n",
        "vector_completo"
      ],
      "metadata": {
        "colab": {
          "base_uri": "https://localhost:8080/",
          "height": 34
        },
        "id": "lq7RGJr8eooP",
        "outputId": "0d7dd12b-a000-4586-892d-d515ee58be69"
      },
      "execution_count": null,
      "outputs": [
        {
          "output_type": "display_data",
          "data": {
            "text/html": [
              "<style>\n",
              ".list-inline {list-style: none; margin:0; padding: 0}\n",
              ".list-inline>li {display: inline-block}\n",
              ".list-inline>li:not(:last-child)::after {content: \"\\00b7\"; padding: 0 .5ex}\n",
              "</style>\n",
              "<ol class=list-inline><li>'Buenos'</li><li>'días'</li><li>'y'</li><li>'buenas'</li><li>'noches'</li></ol>\n"
            ],
            "text/markdown": "1. 'Buenos'\n2. 'días'\n3. 'y'\n4. 'buenas'\n5. 'noches'\n\n\n",
            "text/latex": "\\begin{enumerate*}\n\\item 'Buenos'\n\\item 'días'\n\\item 'y'\n\\item 'buenas'\n\\item 'noches'\n\\end{enumerate*}\n",
            "text/plain": [
              "[1] \"Buenos\" \"días\"   \"y\"      \"buenas\" \"noches\""
            ]
          },
          "metadata": {}
        }
      ]
    },
    {
      "cell_type": "markdown",
      "source": [
        "O simplemento mediante la combinación de un vector y un nuevo elemento:"
      ],
      "metadata": {
        "id": "ruIMH_PFeP2F"
      }
    },
    {
      "cell_type": "code",
      "source": [
        "vector_logico <- c(TRUE, FALSE, TRUE)\n",
        "vector_logico_completo <- c(vector_logico, FALSE)\n",
        "vector_logico_completo"
      ],
      "metadata": {
        "colab": {
          "base_uri": "https://localhost:8080/",
          "height": 34
        },
        "id": "TTyltE_VfGu8",
        "outputId": "88a47c4e-8902-4dcd-f260-a191431d93b0"
      },
      "execution_count": null,
      "outputs": [
        {
          "output_type": "display_data",
          "data": {
            "text/html": [
              "<style>\n",
              ".list-inline {list-style: none; margin:0; padding: 0}\n",
              ".list-inline>li {display: inline-block}\n",
              ".list-inline>li:not(:last-child)::after {content: \"\\00b7\"; padding: 0 .5ex}\n",
              "</style>\n",
              "<ol class=list-inline><li>TRUE</li><li>FALSE</li><li>TRUE</li><li>FALSE</li></ol>\n"
            ],
            "text/markdown": "1. TRUE\n2. FALSE\n3. TRUE\n4. FALSE\n\n\n",
            "text/latex": "\\begin{enumerate*}\n\\item TRUE\n\\item FALSE\n\\item TRUE\n\\item FALSE\n\\end{enumerate*}\n",
            "text/plain": [
              "[1]  TRUE FALSE  TRUE FALSE"
            ]
          },
          "metadata": {}
        }
      ]
    },
    {
      "cell_type": "markdown",
      "source": [
        "######**Vectores de secuencias numéricas**"
      ],
      "metadata": {
        "id": "R0YkmSLZfina"
      }
    },
    {
      "cell_type": "markdown",
      "source": [
        "Podemos usar los `:` indicando de qué a qué número queremos la secuencia:\n",
        "```\n",
        "c(numero_inicio_secuencia : numero_final_secuencia)\n",
        "```"
      ],
      "metadata": {
        "id": "b9DQJav-f2OH"
      }
    },
    {
      "cell_type": "code",
      "source": [
        "secuencia_1 <-c(1:10)\n",
        "secuencia_1"
      ],
      "metadata": {
        "colab": {
          "base_uri": "https://localhost:8080/",
          "height": 34
        },
        "id": "d_fgECz1fniM",
        "outputId": "683febac-42fe-421b-a511-5fbf54ce3e36"
      },
      "execution_count": null,
      "outputs": [
        {
          "output_type": "display_data",
          "data": {
            "text/html": [
              "<style>\n",
              ".list-inline {list-style: none; margin:0; padding: 0}\n",
              ".list-inline>li {display: inline-block}\n",
              ".list-inline>li:not(:last-child)::after {content: \"\\00b7\"; padding: 0 .5ex}\n",
              "</style>\n",
              "<ol class=list-inline><li>1</li><li>2</li><li>3</li><li>4</li><li>5</li><li>6</li><li>7</li><li>8</li><li>9</li><li>10</li></ol>\n"
            ],
            "text/markdown": "1. 1\n2. 2\n3. 3\n4. 4\n5. 5\n6. 6\n7. 7\n8. 8\n9. 9\n10. 10\n\n\n",
            "text/latex": "\\begin{enumerate*}\n\\item 1\n\\item 2\n\\item 3\n\\item 4\n\\item 5\n\\item 6\n\\item 7\n\\item 8\n\\item 9\n\\item 10\n\\end{enumerate*}\n",
            "text/plain": [
              " [1]  1  2  3  4  5  6  7  8  9 10"
            ]
          },
          "metadata": {}
        }
      ]
    },
    {
      "cell_type": "markdown",
      "source": [
        "O usar la función `seq`:\n",
        "```\n",
        "seq(numero_inicio_secuencia, numero_final_secuencia)\n",
        "```\n",
        "`seq()` cuenta con los parámetros adicionales: `by` y `length`. `by` permite establecer el largo de cada salto y `length`, el número de saltos entre el primer y el último número de la secuencia:"
      ],
      "metadata": {
        "id": "EYJu6zp1gGka"
      }
    },
    {
      "cell_type": "code",
      "source": [
        "secuencia_2 <- seq(1, 10)\n",
        "secuencia_2"
      ],
      "metadata": {
        "colab": {
          "base_uri": "https://localhost:8080/",
          "height": 34
        },
        "id": "PeVuxRPkgyp0",
        "outputId": "a1422dd8-7b22-46ef-ce09-7c6485c9edbf"
      },
      "execution_count": null,
      "outputs": [
        {
          "output_type": "display_data",
          "data": {
            "text/html": [
              "<style>\n",
              ".list-inline {list-style: none; margin:0; padding: 0}\n",
              ".list-inline>li {display: inline-block}\n",
              ".list-inline>li:not(:last-child)::after {content: \"\\00b7\"; padding: 0 .5ex}\n",
              "</style>\n",
              "<ol class=list-inline><li>1</li><li>2</li><li>3</li><li>4</li><li>5</li><li>6</li><li>7</li><li>8</li><li>9</li><li>10</li></ol>\n"
            ],
            "text/markdown": "1. 1\n2. 2\n3. 3\n4. 4\n5. 5\n6. 6\n7. 7\n8. 8\n9. 9\n10. 10\n\n\n",
            "text/latex": "\\begin{enumerate*}\n\\item 1\n\\item 2\n\\item 3\n\\item 4\n\\item 5\n\\item 6\n\\item 7\n\\item 8\n\\item 9\n\\item 10\n\\end{enumerate*}\n",
            "text/plain": [
              " [1]  1  2  3  4  5  6  7  8  9 10"
            ]
          },
          "metadata": {}
        }
      ]
    },
    {
      "cell_type": "code",
      "source": [
        "secuencia_2 <- seq(1, 10, by=3)\n",
        "secuencia_2"
      ],
      "metadata": {
        "colab": {
          "base_uri": "https://localhost:8080/",
          "height": 34
        },
        "id": "aucsvXWQg7PM",
        "outputId": "7a705ea7-a56a-4a5d-d609-06a098db13f2"
      },
      "execution_count": null,
      "outputs": [
        {
          "output_type": "display_data",
          "data": {
            "text/html": [
              "<style>\n",
              ".list-inline {list-style: none; margin:0; padding: 0}\n",
              ".list-inline>li {display: inline-block}\n",
              ".list-inline>li:not(:last-child)::after {content: \"\\00b7\"; padding: 0 .5ex}\n",
              "</style>\n",
              "<ol class=list-inline><li>1</li><li>4</li><li>7</li><li>10</li></ol>\n"
            ],
            "text/markdown": "1. 1\n2. 4\n3. 7\n4. 10\n\n\n",
            "text/latex": "\\begin{enumerate*}\n\\item 1\n\\item 4\n\\item 7\n\\item 10\n\\end{enumerate*}\n",
            "text/plain": [
              "[1]  1  4  7 10"
            ]
          },
          "metadata": {}
        }
      ]
    },
    {
      "cell_type": "code",
      "source": [
        "secuencia_2 <- seq(1, 10, length = 15)\n",
        "secuencia_2"
      ],
      "metadata": {
        "colab": {
          "base_uri": "https://localhost:8080/",
          "height": 69
        },
        "id": "QuVXA9cYhDbm",
        "outputId": "868f39f0-3100-4d51-99a4-d06380378409"
      },
      "execution_count": null,
      "outputs": [
        {
          "output_type": "display_data",
          "data": {
            "text/html": [
              "<style>\n",
              ".list-inline {list-style: none; margin:0; padding: 0}\n",
              ".list-inline>li {display: inline-block}\n",
              ".list-inline>li:not(:last-child)::after {content: \"\\00b7\"; padding: 0 .5ex}\n",
              "</style>\n",
              "<ol class=list-inline><li>1</li><li>1.64285714285714</li><li>2.28571428571429</li><li>2.92857142857143</li><li>3.57142857142857</li><li>4.21428571428571</li><li>4.85714285714286</li><li>5.5</li><li>6.14285714285714</li><li>6.78571428571429</li><li>7.42857142857143</li><li>8.07142857142857</li><li>8.71428571428572</li><li>9.35714285714286</li><li>10</li></ol>\n"
            ],
            "text/markdown": "1. 1\n2. 1.64285714285714\n3. 2.28571428571429\n4. 2.92857142857143\n5. 3.57142857142857\n6. 4.21428571428571\n7. 4.85714285714286\n8. 5.5\n9. 6.14285714285714\n10. 6.78571428571429\n11. 7.42857142857143\n12. 8.07142857142857\n13. 8.71428571428572\n14. 9.35714285714286\n15. 10\n\n\n",
            "text/latex": "\\begin{enumerate*}\n\\item 1\n\\item 1.64285714285714\n\\item 2.28571428571429\n\\item 2.92857142857143\n\\item 3.57142857142857\n\\item 4.21428571428571\n\\item 4.85714285714286\n\\item 5.5\n\\item 6.14285714285714\n\\item 6.78571428571429\n\\item 7.42857142857143\n\\item 8.07142857142857\n\\item 8.71428571428572\n\\item 9.35714285714286\n\\item 10\n\\end{enumerate*}\n",
            "text/plain": [
              " [1]  1.000000  1.642857  2.285714  2.928571  3.571429  4.214286  4.857143\n",
              " [8]  5.500000  6.142857  6.785714  7.428571  8.071429  8.714286  9.357143\n",
              "[15] 10.000000"
            ]
          },
          "metadata": {}
        }
      ]
    },
    {
      "cell_type": "markdown",
      "source": [
        "######**Operaciones con vectores y reciclaje de vectores**"
      ],
      "metadata": {
        "id": "aBuo_LYrlqpX"
      }
    },
    {
      "cell_type": "markdown",
      "source": [
        "* Operaciones con un vector y un número: el número se le sumará, restará, multiplicará, etc. - dependiendo de la operación concreta -, a todos los elementos del vector"
      ],
      "metadata": {
        "id": "vHh6RV-7lyHI"
      }
    },
    {
      "cell_type": "code",
      "source": [
        "Vector_suma <- c(1, 29, 257)\n",
        "Vector_suma + 2"
      ],
      "metadata": {
        "colab": {
          "base_uri": "https://localhost:8080/",
          "height": 34
        },
        "id": "nucpn1kXmDOT",
        "outputId": "ff9fb2fc-0517-47dc-c785-32164ae7cc0a"
      },
      "execution_count": null,
      "outputs": [
        {
          "output_type": "display_data",
          "data": {
            "text/html": [
              "<style>\n",
              ".list-inline {list-style: none; margin:0; padding: 0}\n",
              ".list-inline>li {display: inline-block}\n",
              ".list-inline>li:not(:last-child)::after {content: \"\\00b7\"; padding: 0 .5ex}\n",
              "</style>\n",
              "<ol class=list-inline><li>3</li><li>31</li><li>259</li></ol>\n"
            ],
            "text/markdown": "1. 3\n2. 31\n3. 259\n\n\n",
            "text/latex": "\\begin{enumerate*}\n\\item 3\n\\item 31\n\\item 259\n\\end{enumerate*}\n",
            "text/plain": [
              "[1]   3  31 259"
            ]
          },
          "metadata": {}
        }
      ]
    },
    {
      "cell_type": "markdown",
      "source": [
        "* Operaciones con dos o más vectores: se sumarán, restarán, multiplicarán, etc. - dependiendo de la operación concreta -, los elementos que ocupan la misma posición.\n",
        "\n",
        "  Por ello, los vectores deben tener el mismo número de elementos o se producirá el llamado **reciclaje de elementos** en el vector de menor longitud. Veamos dos ejemplos:"
      ],
      "metadata": {
        "id": "O7sbKWq5mNdw"
      }
    },
    {
      "cell_type": "code",
      "source": [
        "#Resta de vectores de la misma longitud:\n",
        "vector_a <- c(1, 2, 3)\n",
        "vector_b <- c(3, 2, 1)\n",
        "vector_a - vector_b"
      ],
      "metadata": {
        "colab": {
          "base_uri": "https://localhost:8080/",
          "height": 34
        },
        "id": "bo0ZQR73nMRg",
        "outputId": "7e97d83f-f3fa-4007-97fc-b6bfec5460fa"
      },
      "execution_count": null,
      "outputs": [
        {
          "output_type": "display_data",
          "data": {
            "text/html": [
              "<style>\n",
              ".list-inline {list-style: none; margin:0; padding: 0}\n",
              ".list-inline>li {display: inline-block}\n",
              ".list-inline>li:not(:last-child)::after {content: \"\\00b7\"; padding: 0 .5ex}\n",
              "</style>\n",
              "<ol class=list-inline><li>-2</li><li>0</li><li>2</li></ol>\n"
            ],
            "text/markdown": "1. -2\n2. 0\n3. 2\n\n\n",
            "text/latex": "\\begin{enumerate*}\n\\item -2\n\\item 0\n\\item 2\n\\end{enumerate*}\n",
            "text/plain": [
              "[1] -2  0  2"
            ]
          },
          "metadata": {}
        }
      ]
    },
    {
      "cell_type": "code",
      "source": [
        "#Resta de vectores de distinta longitud, pero la longitud de uno de ellos es múltiplo de la del otro:\n",
        "vector_c <- c(1, 2, 3, 4)\n",
        "vector_d <- seq(1, 2)\n",
        "vector_c - vector_d"
      ],
      "metadata": {
        "colab": {
          "base_uri": "https://localhost:8080/",
          "height": 34
        },
        "id": "DT8-4u7jnaYW",
        "outputId": "beb40282-d319-41b6-e43b-da3e443729e2"
      },
      "execution_count": null,
      "outputs": [
        {
          "output_type": "display_data",
          "data": {
            "text/html": [
              "<style>\n",
              ".list-inline {list-style: none; margin:0; padding: 0}\n",
              ".list-inline>li {display: inline-block}\n",
              ".list-inline>li:not(:last-child)::after {content: \"\\00b7\"; padding: 0 .5ex}\n",
              "</style>\n",
              "<ol class=list-inline><li>0</li><li>0</li><li>2</li><li>2</li></ol>\n"
            ],
            "text/markdown": "1. 0\n2. 0\n3. 2\n4. 2\n\n\n",
            "text/latex": "\\begin{enumerate*}\n\\item 0\n\\item 0\n\\item 2\n\\item 2\n\\end{enumerate*}\n",
            "text/plain": [
              "[1] 0 0 2 2"
            ]
          },
          "metadata": {}
        }
      ]
    },
    {
      "cell_type": "code",
      "source": [
        "#Resta de vectores de distinta longitud, y su longitudes no son múltiplos:\n",
        "vector_e <- c(0.5, 0.3, 1.5)\n",
        "vector_c - vector_e"
      ],
      "metadata": {
        "colab": {
          "base_uri": "https://localhost:8080/",
          "height": 69
        },
        "id": "Az9R6BaOn9nj",
        "outputId": "9824d9e4-f3cd-4f8b-d3ea-5388a397445a"
      },
      "execution_count": null,
      "outputs": [
        {
          "output_type": "stream",
          "name": "stderr",
          "text": [
            "Warning message in vector_c - vector_e:\n",
            "“longer object length is not a multiple of shorter object length”\n"
          ]
        },
        {
          "output_type": "display_data",
          "data": {
            "text/html": [
              "<style>\n",
              ".list-inline {list-style: none; margin:0; padding: 0}\n",
              ".list-inline>li {display: inline-block}\n",
              ".list-inline>li:not(:last-child)::after {content: \"\\00b7\"; padding: 0 .5ex}\n",
              "</style>\n",
              "<ol class=list-inline><li>0.5</li><li>1.7</li><li>1.5</li><li>3.5</li></ol>\n"
            ],
            "text/markdown": "1. 0.5\n2. 1.7\n3. 1.5\n4. 3.5\n\n\n",
            "text/latex": "\\begin{enumerate*}\n\\item 0.5\n\\item 1.7\n\\item 1.5\n\\item 3.5\n\\end{enumerate*}\n",
            "text/plain": [
              "[1] 0.5 1.7 1.5 3.5"
            ]
          },
          "metadata": {}
        }
      ]
    },
    {
      "cell_type": "markdown",
      "source": [
        "Cuando los vectores no tienen la misma longitud, se produce el reciclaje del vector, sean las longitudes de los vectores multiplos entre sí o no. Lo que ocurre es que si las longitudes no son múltiplos, R arroja un `warning`.\n",
        "\n",
        "El **reciclaje** consiste en que al vector de menor longitud se le añadirán tantos elementos como sean necesarios para alcanzar la longitud del vector más largo. Los elementos que se añaden son los mismos que ya contiene el vector, empezando por el primero de la izquierda. Miremos el ejemplo anterior para aclararnos: el número que se ha añadido al vector corto es su primer elemento: `0.5`, que ha sido restado a `4` (el último elemento del vector largo), dando como resultado `3.5`. Veamos otro ejemplo:"
      ],
      "metadata": {
        "id": "9_m2IHXuoRPR"
      }
    },
    {
      "cell_type": "code",
      "source": [
        "vector_largo <- c(8, 8, 8, 8, 8, 8, 8, 8)\n",
        "vector_corto <- c(3, 5)\n",
        "vector_largo * vector_corto"
      ],
      "metadata": {
        "colab": {
          "base_uri": "https://localhost:8080/",
          "height": 34
        },
        "id": "PN-mwbaAqvCT",
        "outputId": "e753ac14-b1fd-445e-ae31-aaf657edf499"
      },
      "execution_count": null,
      "outputs": [
        {
          "output_type": "display_data",
          "data": {
            "text/html": [
              "<style>\n",
              ".list-inline {list-style: none; margin:0; padding: 0}\n",
              ".list-inline>li {display: inline-block}\n",
              ".list-inline>li:not(:last-child)::after {content: \"\\00b7\"; padding: 0 .5ex}\n",
              "</style>\n",
              "<ol class=list-inline><li>24</li><li>40</li><li>24</li><li>40</li><li>24</li><li>40</li><li>24</li><li>40</li></ol>\n"
            ],
            "text/markdown": "1. 24\n2. 40\n3. 24\n4. 40\n5. 24\n6. 40\n7. 24\n8. 40\n\n\n",
            "text/latex": "\\begin{enumerate*}\n\\item 24\n\\item 40\n\\item 24\n\\item 40\n\\item 24\n\\item 40\n\\item 24\n\\item 40\n\\end{enumerate*}\n",
            "text/plain": [
              "[1] 24 40 24 40 24 40 24 40"
            ]
          },
          "metadata": {}
        }
      ]
    },
    {
      "cell_type": "markdown",
      "source": [
        "En este caso, el `vector_corto` ha debido alargarse hasta los 8 elementos, para tener la misma longitud que el `vector_largo`. Para ello, se han añadido los números `3, 5, 3, 5, 3, 5`."
      ],
      "metadata": {
        "id": "M2WjpMy5rBr_"
      }
    },
    {
      "cell_type": "markdown",
      "source": [
        "######**Borrar elementos de un vector**"
      ],
      "metadata": {
        "id": "4O3Gr4HpsZWf"
      }
    },
    {
      "cell_type": "markdown",
      "source": [
        "Tenemos dos formas:\n",
        "* Seleccionar elementos en negativo - algo que ya hemos visto.\n",
        "* Emplear la función `which()`."
      ],
      "metadata": {
        "id": "kVnKRvRgsdmk"
      }
    },
    {
      "cell_type": "code",
      "source": [
        "vector_estaciones <- c(\"Primavera\", \"Verano\", \"Otoño\", \"Invierno\")"
      ],
      "metadata": {
        "id": "PC52jQfLsqZJ"
      },
      "execution_count": null,
      "outputs": []
    },
    {
      "cell_type": "code",
      "source": [
        "#Quitamos el invierno:\n",
        "vector_sin_invierno <- vector_estaciones[-4]\n",
        "vector_sin_invierno"
      ],
      "metadata": {
        "colab": {
          "base_uri": "https://localhost:8080/",
          "height": 34
        },
        "id": "mxgYSd3Ts2-5",
        "outputId": "93ae790a-7253-4855-941e-fbf0b04e9e23"
      },
      "execution_count": null,
      "outputs": [
        {
          "output_type": "display_data",
          "data": {
            "text/html": [
              "<style>\n",
              ".list-inline {list-style: none; margin:0; padding: 0}\n",
              ".list-inline>li {display: inline-block}\n",
              ".list-inline>li:not(:last-child)::after {content: \"\\00b7\"; padding: 0 .5ex}\n",
              "</style>\n",
              "<ol class=list-inline><li>'Primavera'</li><li>'Verano'</li><li>'Otoño'</li></ol>\n"
            ],
            "text/markdown": "1. 'Primavera'\n2. 'Verano'\n3. 'Otoño'\n\n\n",
            "text/latex": "\\begin{enumerate*}\n\\item 'Primavera'\n\\item 'Verano'\n\\item 'Otoño'\n\\end{enumerate*}\n",
            "text/plain": [
              "[1] \"Primavera\" \"Verano\"    \"Otoño\"    "
            ]
          },
          "metadata": {}
        }
      ]
    },
    {
      "cell_type": "code",
      "source": [
        "#Quitamos la primavera:\n",
        "vector_sin_primavera <- vector_estaciones[which(vector_estaciones != \"Primavera\")]\n",
        "vector_sin_primavera"
      ],
      "metadata": {
        "colab": {
          "base_uri": "https://localhost:8080/",
          "height": 34
        },
        "id": "ejt5CHoytDxA",
        "outputId": "cd2b2d02-9bb1-47d9-8dbb-0da3f4b71914"
      },
      "execution_count": null,
      "outputs": [
        {
          "output_type": "display_data",
          "data": {
            "text/html": [
              "<style>\n",
              ".list-inline {list-style: none; margin:0; padding: 0}\n",
              ".list-inline>li {display: inline-block}\n",
              ".list-inline>li:not(:last-child)::after {content: \"\\00b7\"; padding: 0 .5ex}\n",
              "</style>\n",
              "<ol class=list-inline><li>'Verano'</li><li>'Otoño'</li><li>'Invierno'</li></ol>\n"
            ],
            "text/markdown": "1. 'Verano'\n2. 'Otoño'\n3. 'Invierno'\n\n\n",
            "text/latex": "\\begin{enumerate*}\n\\item 'Verano'\n\\item 'Otoño'\n\\item 'Invierno'\n\\end{enumerate*}\n",
            "text/plain": [
              "[1] \"Verano\"   \"Otoño\"    \"Invierno\""
            ]
          },
          "metadata": {}
        }
      ]
    },
    {
      "cell_type": "code",
      "source": [
        "#Quitamos el otoño:\n",
        "vector_sin_otonno <- vector_estaciones[-which(vector_estaciones == \"Otoño\")]\n",
        "vector_sin_otonno"
      ],
      "metadata": {
        "colab": {
          "base_uri": "https://localhost:8080/",
          "height": 34
        },
        "id": "vCOvsgbjta1T",
        "outputId": "22de1cee-6ac4-4a9b-c95d-2c5a965b8bdb"
      },
      "execution_count": null,
      "outputs": [
        {
          "output_type": "display_data",
          "data": {
            "text/html": [
              "<style>\n",
              ".list-inline {list-style: none; margin:0; padding: 0}\n",
              ".list-inline>li {display: inline-block}\n",
              ".list-inline>li:not(:last-child)::after {content: \"\\00b7\"; padding: 0 .5ex}\n",
              "</style>\n",
              "<ol class=list-inline><li>'Primavera'</li><li>'Verano'</li><li>'Invierno'</li></ol>\n"
            ],
            "text/markdown": "1. 'Primavera'\n2. 'Verano'\n3. 'Invierno'\n\n\n",
            "text/latex": "\\begin{enumerate*}\n\\item 'Primavera'\n\\item 'Verano'\n\\item 'Invierno'\n\\end{enumerate*}\n",
            "text/plain": [
              "[1] \"Primavera\" \"Verano\"    \"Invierno\" "
            ]
          },
          "metadata": {}
        }
      ]
    },
    {
      "cell_type": "markdown",
      "source": [
        "######**Borrar un vector**\n"
      ],
      "metadata": {
        "id": "2Nrki7AltnH9"
      }
    },
    {
      "cell_type": "markdown",
      "source": [
        "Al igual que cualquier otra variable, podemos borrar un vector sobrescribiendo la información que contiene la variable en la que se almacena. Pero, si lo que queremos es eliminar totalmente la variable que contiene al vector, tenemos tres opciones:"
      ],
      "metadata": {
        "id": "sVTtK8cFtrYu"
      }
    },
    {
      "cell_type": "code",
      "source": [
        "vector_a_borrar <- c(5:25)\n",
        "#Opción de borrado 1: función rm() [remove]\n",
        "rm(vector_a_borrar)\n",
        "vector_a_borrar"
      ],
      "metadata": {
        "colab": {
          "base_uri": "https://localhost:8080/",
          "height": 94
        },
        "id": "fmdmZNB-uhOo",
        "outputId": "5113b5d7-81b5-44b7-b771-13de64d69dcd"
      },
      "execution_count": null,
      "outputs": [
        {
          "output_type": "error",
          "ename": "ERROR",
          "evalue": "ignored",
          "traceback": [
            "Error in eval(expr, envir, enclos): object 'vector_a_borrar' not found\nTraceback:\n"
          ]
        }
      ]
    },
    {
      "cell_type": "code",
      "source": [
        "vector_a_borrar <- c(5:25)\n",
        "#Opción de borrado 2: sobrescribiéndolo por un vector vacío\n",
        "vector_a_borrar <- c()\n",
        "vector_a_borrar"
      ],
      "metadata": {
        "colab": {
          "base_uri": "https://localhost:8080/",
          "height": 34
        },
        "id": "tfOCf2BZuvLI",
        "outputId": "1510efda-2bc5-4740-9868-832598c80905"
      },
      "execution_count": null,
      "outputs": [
        {
          "output_type": "display_data",
          "data": {
            "text/plain": [
              "NULL"
            ]
          },
          "metadata": {}
        }
      ]
    },
    {
      "cell_type": "code",
      "source": [
        "vector_a_borrar <- c(5:25)\n",
        "#Opción 3: asignándole un NULL\n",
        "vector_a_borrar <- NULL\n",
        "vector_a_borrar"
      ],
      "metadata": {
        "colab": {
          "base_uri": "https://localhost:8080/",
          "height": 34
        },
        "id": "JhttdpX9u8Zw",
        "outputId": "9102f1c1-0fff-4300-d928-344e97710d9d"
      },
      "execution_count": null,
      "outputs": [
        {
          "output_type": "display_data",
          "data": {
            "text/plain": [
              "NULL"
            ]
          },
          "metadata": {}
        }
      ]
    },
    {
      "cell_type": "markdown",
      "source": [
        "### **Matrices**\n",
        "\n"
      ],
      "metadata": {
        "id": "akGRDSkxVoDm"
      }
    },
    {
      "cell_type": "markdown",
      "source": [
        "\\begin{pmatrix}\n",
        "a_{11} & a_{12} & ...& a_{1n} \\\\\n",
        "a_{21} & a_{22} & ...& a_{21} \\\\\n",
        "...    &    ... & ...& ...    \\\\\n",
        "a_{m1} & a_{m2} & ...& a_{mn}\n",
        "\\end{pmatrix}\n",
        "\\\n",
        "Las matrices son una estructura de datos muy utilizada en estadística y matemáticas, por lo que son también una de las estructuras de datos fundamentales de R.\n",
        "\n",
        "Al igual que los vectores, las matrices solo pueden almacenar objetos del mismo tipo. Pero, al contrario que éstos, tienen dos dimensiones (largo y alto) y no solo una (largo)."
      ],
      "metadata": {
        "id": "2kxIjCZXXo0z"
      }
    },
    {
      "cell_type": "markdown",
      "source": [
        "######**Creación de matrices**\n",
        "`matrix()` es la función que nos permite crear matrices en R. Su sintaxis en la siguiente:\n",
        "```\n",
        "matrix(datos, nrow = numero_filas, ncol = numero_columnas)\n",
        "```\n",
        "Los datos que intentemos agrupar en una matriz serán colocados en el siguiente orden: de arriba a abajo, y de izquierda a derecha, hasta formar un rectángulo."
      ],
      "metadata": {
        "id": "TuiBI3Z5YPht"
      }
    },
    {
      "cell_type": "code",
      "source": [
        "matrix(1:24, nrow=4, ncol=6)"
      ],
      "metadata": {
        "colab": {
          "base_uri": "https://localhost:8080/",
          "height": 160
        },
        "id": "nIXZbk3hZA8v",
        "outputId": "5e775e11-35e2-46d9-8f99-ea7660a20f59"
      },
      "execution_count": null,
      "outputs": [
        {
          "output_type": "display_data",
          "data": {
            "text/html": [
              "<table class=\"dataframe\">\n",
              "<caption>A matrix: 4 × 6 of type int</caption>\n",
              "<tbody>\n",
              "\t<tr><td>1</td><td>5</td><td> 9</td><td>13</td><td>17</td><td>21</td></tr>\n",
              "\t<tr><td>2</td><td>6</td><td>10</td><td>14</td><td>18</td><td>22</td></tr>\n",
              "\t<tr><td>3</td><td>7</td><td>11</td><td>15</td><td>19</td><td>23</td></tr>\n",
              "\t<tr><td>4</td><td>8</td><td>12</td><td>16</td><td>20</td><td>24</td></tr>\n",
              "</tbody>\n",
              "</table>\n"
            ],
            "text/markdown": "\nA matrix: 4 × 6 of type int\n\n| 1 | 5 |  9 | 13 | 17 | 21 |\n| 2 | 6 | 10 | 14 | 18 | 22 |\n| 3 | 7 | 11 | 15 | 19 | 23 |\n| 4 | 8 | 12 | 16 | 20 | 24 |\n\n",
            "text/latex": "A matrix: 4 × 6 of type int\n\\begin{tabular}{llllll}\n\t 1 & 5 &  9 & 13 & 17 & 21\\\\\n\t 2 & 6 & 10 & 14 & 18 & 22\\\\\n\t 3 & 7 & 11 & 15 & 19 & 23\\\\\n\t 4 & 8 & 12 & 16 & 20 & 24\\\\\n\\end{tabular}\n",
            "text/plain": [
              "     [,1] [,2] [,3] [,4] [,5] [,6]\n",
              "[1,] 1    5     9   13   17   21  \n",
              "[2,] 2    6    10   14   18   22  \n",
              "[3,] 3    7    11   15   19   23  \n",
              "[4,] 4    8    12   16   20   24  "
            ]
          },
          "metadata": {}
        }
      ]
    },
    {
      "cell_type": "code",
      "source": [
        "matrix(1:24, nrow=6, ncol=4)"
      ],
      "metadata": {
        "colab": {
          "base_uri": "https://localhost:8080/",
          "height": 240
        },
        "id": "g27ZciTrZIJy",
        "outputId": "3eca01ea-31fc-4027-ab9a-aac3ed7141ad"
      },
      "execution_count": null,
      "outputs": [
        {
          "output_type": "display_data",
          "data": {
            "text/html": [
              "<table class=\"dataframe\">\n",
              "<caption>A matrix: 6 × 4 of type int</caption>\n",
              "<tbody>\n",
              "\t<tr><td>1</td><td> 7</td><td>13</td><td>19</td></tr>\n",
              "\t<tr><td>2</td><td> 8</td><td>14</td><td>20</td></tr>\n",
              "\t<tr><td>3</td><td> 9</td><td>15</td><td>21</td></tr>\n",
              "\t<tr><td>4</td><td>10</td><td>16</td><td>22</td></tr>\n",
              "\t<tr><td>5</td><td>11</td><td>17</td><td>23</td></tr>\n",
              "\t<tr><td>6</td><td>12</td><td>18</td><td>24</td></tr>\n",
              "</tbody>\n",
              "</table>\n"
            ],
            "text/markdown": "\nA matrix: 6 × 4 of type int\n\n| 1 |  7 | 13 | 19 |\n| 2 |  8 | 14 | 20 |\n| 3 |  9 | 15 | 21 |\n| 4 | 10 | 16 | 22 |\n| 5 | 11 | 17 | 23 |\n| 6 | 12 | 18 | 24 |\n\n",
            "text/latex": "A matrix: 6 × 4 of type int\n\\begin{tabular}{llll}\n\t 1 &  7 & 13 & 19\\\\\n\t 2 &  8 & 14 & 20\\\\\n\t 3 &  9 & 15 & 21\\\\\n\t 4 & 10 & 16 & 22\\\\\n\t 5 & 11 & 17 & 23\\\\\n\t 6 & 12 & 18 & 24\\\\\n\\end{tabular}\n",
            "text/plain": [
              "     [,1] [,2] [,3] [,4]\n",
              "[1,] 1     7   13   19  \n",
              "[2,] 2     8   14   20  \n",
              "[3,] 3     9   15   21  \n",
              "[4,] 4    10   16   22  \n",
              "[5,] 5    11   17   23  \n",
              "[6,] 6    12   18   24  "
            ]
          },
          "metadata": {}
        }
      ]
    },
    {
      "cell_type": "markdown",
      "source": [
        "En los ejemplos anteriores, el número de elementos que queríamos agrupar (24) en la matriz era justo el número de posiciones disponibles en la misma (multiplicación del número de filas y columnas: 24). Sin embargo, es posible que queramos introducir más elementos en la matriz que posiciones disponibles o, lo contrario, que haya más huecos que elementos a colocar.\n",
        "\n",
        "1. Si el número de elementos es mayor al número de celdas, se colocarán todos los datos que sean posibles y los demás se omitirán. R arrojará un `Warning` advirtiéndonos del hecho."
      ],
      "metadata": {
        "id": "14sZUPW2ZR1T"
      }
    },
    {
      "cell_type": "code",
      "source": [
        "matrix(1:16, ncol=3, nrow=3) #Vemos que no hay por poner cambiar el orden de los parámetros ncol y nrow"
      ],
      "metadata": {
        "colab": {
          "base_uri": "https://localhost:8080/",
          "height": 197
        },
        "id": "ZcyN2Xn-aFeZ",
        "outputId": "6582dda7-a74b-460e-ac78-da1e1f9740f6"
      },
      "execution_count": null,
      "outputs": [
        {
          "output_type": "stream",
          "name": "stderr",
          "text": [
            "Warning message in matrix(1:16, ncol = 3, nrow = 3):\n",
            "“data length [16] is not a sub-multiple or multiple of the number of rows [3]”\n"
          ]
        },
        {
          "output_type": "display_data",
          "data": {
            "text/html": [
              "<table class=\"dataframe\">\n",
              "<caption>A matrix: 3 × 3 of type int</caption>\n",
              "<tbody>\n",
              "\t<tr><td>1</td><td>4</td><td>7</td></tr>\n",
              "\t<tr><td>2</td><td>5</td><td>8</td></tr>\n",
              "\t<tr><td>3</td><td>6</td><td>9</td></tr>\n",
              "</tbody>\n",
              "</table>\n"
            ],
            "text/markdown": "\nA matrix: 3 × 3 of type int\n\n| 1 | 4 | 7 |\n| 2 | 5 | 8 |\n| 3 | 6 | 9 |\n\n",
            "text/latex": "A matrix: 3 × 3 of type int\n\\begin{tabular}{lll}\n\t 1 & 4 & 7\\\\\n\t 2 & 5 & 8\\\\\n\t 3 & 6 & 9\\\\\n\\end{tabular}\n",
            "text/plain": [
              "     [,1] [,2] [,3]\n",
              "[1,] 1    4    7   \n",
              "[2,] 2    5    8   \n",
              "[3,] 3    6    9   "
            ]
          },
          "metadata": {}
        }
      ]
    },
    {
      "cell_type": "markdown",
      "source": [
        "2. Si, por el contrario, el número de celdas es mayor que el número de elementos, éstos se **reciclarán**. R también nos devolverá una advertencia y, como ocurría con el reciclaje de vectores, se empezarán a usar los elementos a partir del primero de ellos."
      ],
      "metadata": {
        "id": "EjzAV-qQaXxm"
      }
    },
    {
      "cell_type": "code",
      "source": [
        "matrix(1:9, ncol=5, nrow=3)"
      ],
      "metadata": {
        "colab": {
          "base_uri": "https://localhost:8080/",
          "height": 180
        },
        "id": "7QE28naWa_xb",
        "outputId": "2a9bcabc-4d50-425d-a6f8-915f9becf967"
      },
      "execution_count": null,
      "outputs": [
        {
          "output_type": "stream",
          "name": "stderr",
          "text": [
            "Warning message in matrix(1:9, ncol = 5, nrow = 3):\n",
            "“data length [9] is not a sub-multiple or multiple of the number of columns [5]”\n"
          ]
        },
        {
          "output_type": "display_data",
          "data": {
            "text/html": [
              "<table class=\"dataframe\">\n",
              "<caption>A matrix: 3 × 5 of type int</caption>\n",
              "<tbody>\n",
              "\t<tr><td>1</td><td>4</td><td>7</td><td>1</td><td>4</td></tr>\n",
              "\t<tr><td>2</td><td>5</td><td>8</td><td>2</td><td>5</td></tr>\n",
              "\t<tr><td>3</td><td>6</td><td>9</td><td>3</td><td>6</td></tr>\n",
              "</tbody>\n",
              "</table>\n"
            ],
            "text/markdown": "\nA matrix: 3 × 5 of type int\n\n| 1 | 4 | 7 | 1 | 4 |\n| 2 | 5 | 8 | 2 | 5 |\n| 3 | 6 | 9 | 3 | 6 |\n\n",
            "text/latex": "A matrix: 3 × 5 of type int\n\\begin{tabular}{lllll}\n\t 1 & 4 & 7 & 1 & 4\\\\\n\t 2 & 5 & 8 & 2 & 5\\\\\n\t 3 & 6 & 9 & 3 & 6\\\\\n\\end{tabular}\n",
            "text/plain": [
              "     [,1] [,2] [,3] [,4] [,5]\n",
              "[1,] 1    4    7    1    4   \n",
              "[2,] 2    5    8    2    5   \n",
              "[3,] 3    6    9    3    6   "
            ]
          },
          "metadata": {}
        }
      ]
    },
    {
      "cell_type": "markdown",
      "source": [
        "Más allá de `matrix()`, otros dos procedimientos nos permiten construir matrices mediante la unión de vectores - siempre que contengan elementos del mismo tipo:\n",
        "\n",
        "* `cbind()`: cada vector se convertirá en una columna de la matriz.\n",
        "* `rbind()`: cada vector se convertirá en una fila.  "
      ],
      "metadata": {
        "id": "JMWM4MUMbauv"
      }
    },
    {
      "cell_type": "code",
      "source": [
        "vector_1 <- c(4, 85, 24777, 9)\n",
        "vector_2 <- c(555, 52, 89, 7)"
      ],
      "metadata": {
        "id": "vD_A2s7ub6_m"
      },
      "execution_count": null,
      "outputs": []
    },
    {
      "cell_type": "code",
      "source": [
        "cbind(vector_1, vector_2)"
      ],
      "metadata": {
        "colab": {
          "base_uri": "https://localhost:8080/",
          "height": 209
        },
        "id": "vx3TsZYvcGhq",
        "outputId": "844e4027-98f1-4584-d7e0-cf8ccec56abf"
      },
      "execution_count": null,
      "outputs": [
        {
          "output_type": "display_data",
          "data": {
            "text/html": [
              "<table class=\"dataframe\">\n",
              "<caption>A matrix: 4 × 2 of type dbl</caption>\n",
              "<thead>\n",
              "\t<tr><th scope=col>vector_1</th><th scope=col>vector_2</th></tr>\n",
              "</thead>\n",
              "<tbody>\n",
              "\t<tr><td>    4</td><td>555</td></tr>\n",
              "\t<tr><td>   85</td><td> 52</td></tr>\n",
              "\t<tr><td>24777</td><td> 89</td></tr>\n",
              "\t<tr><td>    9</td><td>  7</td></tr>\n",
              "</tbody>\n",
              "</table>\n"
            ],
            "text/markdown": "\nA matrix: 4 × 2 of type dbl\n\n| vector_1 | vector_2 |\n|---|---|\n|     4 | 555 |\n|    85 |  52 |\n| 24777 |  89 |\n|     9 |   7 |\n\n",
            "text/latex": "A matrix: 4 × 2 of type dbl\n\\begin{tabular}{ll}\n vector\\_1 & vector\\_2\\\\\n\\hline\n\t     4 & 555\\\\\n\t    85 &  52\\\\\n\t 24777 &  89\\\\\n\t     9 &   7\\\\\n\\end{tabular}\n",
            "text/plain": [
              "     vector_1 vector_2\n",
              "[1,]     4    555     \n",
              "[2,]    85     52     \n",
              "[3,] 24777     89     \n",
              "[4,]     9      7     "
            ]
          },
          "metadata": {}
        }
      ]
    },
    {
      "cell_type": "code",
      "source": [
        "rbind(vector_1, vector_2)"
      ],
      "metadata": {
        "colab": {
          "base_uri": "https://localhost:8080/",
          "height": 97
        },
        "id": "oM6cLX2jcGVm",
        "outputId": "9de571d5-f808-458c-91dc-718baf6a5dd2"
      },
      "execution_count": null,
      "outputs": [
        {
          "output_type": "display_data",
          "data": {
            "text/html": [
              "<table class=\"dataframe\">\n",
              "<caption>A matrix: 2 × 4 of type dbl</caption>\n",
              "<tbody>\n",
              "\t<tr><th scope=row>vector_1</th><td>  4</td><td>85</td><td>24777</td><td>9</td></tr>\n",
              "\t<tr><th scope=row>vector_2</th><td>555</td><td>52</td><td>   89</td><td>7</td></tr>\n",
              "</tbody>\n",
              "</table>\n"
            ],
            "text/markdown": "\nA matrix: 2 × 4 of type dbl\n\n| vector_1 |   4 | 85 | 24777 | 9 |\n| vector_2 | 555 | 52 |    89 | 7 |\n\n",
            "text/latex": "A matrix: 2 × 4 of type dbl\n\\begin{tabular}{r|llll}\n\tvector\\_1 &   4 & 85 & 24777 & 9\\\\\n\tvector\\_2 & 555 & 52 &    89 & 7\\\\\n\\end{tabular}\n",
            "text/plain": [
              "         [,1] [,2] [,3]  [,4]\n",
              "vector_1   4  85   24777 9   \n",
              "vector_2 555  52      89 7   "
            ]
          },
          "metadata": {}
        }
      ]
    },
    {
      "cell_type": "markdown",
      "source": [
        "Si algún vector fuese más corto que el otro, sería reciclado hasta alcanzar la longitud del mayor."
      ],
      "metadata": {
        "id": "yiqilynecZOu"
      }
    },
    {
      "cell_type": "markdown",
      "source": [
        "######**Conocer las dimensiones de una matriz**\n",
        "En ocasiones, puede resultar muy útil conocer las dimensiones de una matriz sin necesidad de mostrar la propia matriz. Para ello, debemos usar la función `dim()`:"
      ],
      "metadata": {
        "id": "zHmDXRvUdE3u"
      }
    },
    {
      "cell_type": "code",
      "source": [
        "matriz <- matrix(1:1000, nrow=47, ncol=28)\n",
        "dim(matriz)"
      ],
      "metadata": {
        "colab": {
          "base_uri": "https://localhost:8080/",
          "height": 69
        },
        "id": "6veJ3dJ2db0b",
        "outputId": "e2923625-3d9b-4656-f882-71f9153b31e0"
      },
      "execution_count": null,
      "outputs": [
        {
          "output_type": "stream",
          "name": "stderr",
          "text": [
            "Warning message in matrix(1:1000, nrow = 47, ncol = 28):\n",
            "“data length [1000] is not a sub-multiple or multiple of the number of rows [47]”\n"
          ]
        },
        {
          "output_type": "display_data",
          "data": {
            "text/html": [
              "<style>\n",
              ".list-inline {list-style: none; margin:0; padding: 0}\n",
              ".list-inline>li {display: inline-block}\n",
              ".list-inline>li:not(:last-child)::after {content: \"\\00b7\"; padding: 0 .5ex}\n",
              "</style>\n",
              "<ol class=list-inline><li>47</li><li>28</li></ol>\n"
            ],
            "text/markdown": "1. 47\n2. 28\n\n\n",
            "text/latex": "\\begin{enumerate*}\n\\item 47\n\\item 28\n\\end{enumerate*}\n",
            "text/plain": [
              "[1] 47 28"
            ]
          },
          "metadata": {}
        }
      ]
    },
    {
      "cell_type": "markdown",
      "source": [
        "En este caso, ya conocíamos de antemano las dimensiones (número de filas y columnas) porque se las habíamos explicitado al crear la matriz. Pero es posible que hayamos importado una matriz de algún sitio o ésta sea el producto de algún análisis y no conozcamos sus dimensiones. En estos casos es cuando resulta muy útil la función `dim()`.\n",
        "\n",
        "Asimismo, esta función también puede usarse para crear matrices a partir de vectores:"
      ],
      "metadata": {
        "id": "xAFiy89RfZqB"
      }
    },
    {
      "cell_type": "code",
      "source": [
        "vector_matriz <- c(3, 6, 5, 9, 2, 1)\n",
        "dim(vector_matriz) <- c(3, 2) #Primero ponemos el número de filas, y luego el de columnas\n",
        "vector_matriz"
      ],
      "metadata": {
        "colab": {
          "base_uri": "https://localhost:8080/",
          "height": 197
        },
        "id": "hdWhmYsRgtht",
        "outputId": "406dac2e-f6bb-41a1-c78c-536bb7dda1a5"
      },
      "execution_count": null,
      "outputs": [
        {
          "output_type": "display_data",
          "data": {
            "text/html": [
              "<table class=\"dataframe\">\n",
              "<caption>A matrix: 3 × 2 of type dbl</caption>\n",
              "<tbody>\n",
              "\t<tr><td>3</td><td>9</td></tr>\n",
              "\t<tr><td>6</td><td>2</td></tr>\n",
              "\t<tr><td>5</td><td>1</td></tr>\n",
              "</tbody>\n",
              "</table>\n"
            ],
            "text/markdown": "\nA matrix: 3 × 2 of type dbl\n\n| 3 | 9 |\n| 6 | 2 |\n| 5 | 1 |\n\n",
            "text/latex": "A matrix: 3 × 2 of type dbl\n\\begin{tabular}{ll}\n\t 3 & 9\\\\\n\t 6 & 2\\\\\n\t 5 & 1\\\\\n\\end{tabular}\n",
            "text/plain": [
              "     [,1] [,2]\n",
              "[1,] 3    9   \n",
              "[2,] 6    2   \n",
              "[3,] 5    1   "
            ]
          },
          "metadata": {}
        }
      ]
    },
    {
      "cell_type": "markdown",
      "source": [
        "######**Operaciones con una matriz y un número**"
      ],
      "metadata": {
        "id": "A2JfUlTghbYM"
      }
    },
    {
      "cell_type": "markdown",
      "source": [
        "Podemos sumar, restar, multiplicar o dividir todos los elementos de una matriz por un escalar (número entero o decimal). Emplearemos los operadores aritméticos vistos más arriba.\n",
        "\n",
        "Ejemplo de matriz por escalar:"
      ],
      "metadata": {
        "id": "cEpfaZv0hjTD"
      }
    },
    {
      "cell_type": "code",
      "source": [
        "datos = 1:4\n",
        "matriz <- matrix(datos, ncol=2, nrow=2)\n",
        "matriz"
      ],
      "metadata": {
        "colab": {
          "base_uri": "https://localhost:8080/",
          "height": 166
        },
        "id": "ErP62ZoEh8rU",
        "outputId": "e2eff1c7-40e0-41f6-8b30-60d4ef56f2d3"
      },
      "execution_count": null,
      "outputs": [
        {
          "output_type": "display_data",
          "data": {
            "text/html": [
              "<table class=\"dataframe\">\n",
              "<caption>A matrix: 2 × 2 of type int</caption>\n",
              "<tbody>\n",
              "\t<tr><td>1</td><td>3</td></tr>\n",
              "\t<tr><td>2</td><td>4</td></tr>\n",
              "</tbody>\n",
              "</table>\n"
            ],
            "text/markdown": "\nA matrix: 2 × 2 of type int\n\n| 1 | 3 |\n| 2 | 4 |\n\n",
            "text/latex": "A matrix: 2 × 2 of type int\n\\begin{tabular}{ll}\n\t 1 & 3\\\\\n\t 2 & 4\\\\\n\\end{tabular}\n",
            "text/plain": [
              "     [,1] [,2]\n",
              "[1,] 1    3   \n",
              "[2,] 2    4   "
            ]
          },
          "metadata": {}
        }
      ]
    },
    {
      "cell_type": "code",
      "source": [
        "matriz * 2"
      ],
      "metadata": {
        "colab": {
          "base_uri": "https://localhost:8080/",
          "height": 166
        },
        "id": "xQpDiZ0YiJk8",
        "outputId": "0f7f03c9-9481-473c-ad28-f3c87d9cd986"
      },
      "execution_count": null,
      "outputs": [
        {
          "output_type": "display_data",
          "data": {
            "text/html": [
              "<table class=\"dataframe\">\n",
              "<caption>A matrix: 2 × 2 of type dbl</caption>\n",
              "<tbody>\n",
              "\t<tr><td>2</td><td>6</td></tr>\n",
              "\t<tr><td>4</td><td>8</td></tr>\n",
              "</tbody>\n",
              "</table>\n"
            ],
            "text/markdown": "\nA matrix: 2 × 2 of type dbl\n\n| 2 | 6 |\n| 4 | 8 |\n\n",
            "text/latex": "A matrix: 2 × 2 of type dbl\n\\begin{tabular}{ll}\n\t 2 & 6\\\\\n\t 4 & 8\\\\\n\\end{tabular}\n",
            "text/plain": [
              "     [,1] [,2]\n",
              "[1,] 2    6   \n",
              "[2,] 4    8   "
            ]
          },
          "metadata": {}
        }
      ]
    },
    {
      "cell_type": "markdown",
      "source": [
        "######**Operaciones con matrices**\n"
      ],
      "metadata": {
        "id": "ovmbA-QT3Nq_"
      }
    },
    {
      "cell_type": "markdown",
      "source": [
        "* Suma y resta de matrices: al igual que las operaciones con escalares, para sumar o restar matrices, empleamos los operadores aritméticos `+` y `-`. En este caso, cada elemento se sumará o restará al elemento que ocupe la misma posición en la otra matriz."
      ],
      "metadata": {
        "id": "wgCjKlt63b-v"
      }
    },
    {
      "cell_type": "code",
      "source": [
        "matriz_suma_1 <- matrix(1:4, ncol=2, nrow=2)\n",
        "matriz_suma_1"
      ],
      "metadata": {
        "colab": {
          "base_uri": "https://localhost:8080/",
          "height": 166
        },
        "id": "1tUDZg5q3jN8",
        "outputId": "4f864339-6c8d-4a55-920d-387b848dd957"
      },
      "execution_count": null,
      "outputs": [
        {
          "output_type": "display_data",
          "data": {
            "text/html": [
              "<table class=\"dataframe\">\n",
              "<caption>A matrix: 2 × 2 of type int</caption>\n",
              "<tbody>\n",
              "\t<tr><td>1</td><td>3</td></tr>\n",
              "\t<tr><td>2</td><td>4</td></tr>\n",
              "</tbody>\n",
              "</table>\n"
            ],
            "text/markdown": "\nA matrix: 2 × 2 of type int\n\n| 1 | 3 |\n| 2 | 4 |\n\n",
            "text/latex": "A matrix: 2 × 2 of type int\n\\begin{tabular}{ll}\n\t 1 & 3\\\\\n\t 2 & 4\\\\\n\\end{tabular}\n",
            "text/plain": [
              "     [,1] [,2]\n",
              "[1,] 1    3   \n",
              "[2,] 2    4   "
            ]
          },
          "metadata": {}
        }
      ]
    },
    {
      "cell_type": "code",
      "source": [
        "matriz_suma_2 <- matrix(1:4, ncol=2, nrow=2)\n",
        "matriz_suma_2"
      ],
      "metadata": {
        "colab": {
          "base_uri": "https://localhost:8080/",
          "height": 166
        },
        "id": "Yr7K7fF23xbO",
        "outputId": "a8ed187f-1293-434a-9eef-860921267c4c"
      },
      "execution_count": null,
      "outputs": [
        {
          "output_type": "display_data",
          "data": {
            "text/html": [
              "<table class=\"dataframe\">\n",
              "<caption>A matrix: 2 × 2 of type int</caption>\n",
              "<tbody>\n",
              "\t<tr><td>1</td><td>3</td></tr>\n",
              "\t<tr><td>2</td><td>4</td></tr>\n",
              "</tbody>\n",
              "</table>\n"
            ],
            "text/markdown": "\nA matrix: 2 × 2 of type int\n\n| 1 | 3 |\n| 2 | 4 |\n\n",
            "text/latex": "A matrix: 2 × 2 of type int\n\\begin{tabular}{ll}\n\t 1 & 3\\\\\n\t 2 & 4\\\\\n\\end{tabular}\n",
            "text/plain": [
              "     [,1] [,2]\n",
              "[1,] 1    3   \n",
              "[2,] 2    4   "
            ]
          },
          "metadata": {}
        }
      ]
    },
    {
      "cell_type": "code",
      "source": [
        "matriz_suma_1 + matriz_suma_2"
      ],
      "metadata": {
        "colab": {
          "base_uri": "https://localhost:8080/",
          "height": 166
        },
        "id": "dEWj5hZN30sD",
        "outputId": "d4bb7aed-aa4a-43d8-a821-5fd1d5faf315"
      },
      "execution_count": null,
      "outputs": [
        {
          "output_type": "display_data",
          "data": {
            "text/html": [
              "<table class=\"dataframe\">\n",
              "<caption>A matrix: 2 × 2 of type int</caption>\n",
              "<tbody>\n",
              "\t<tr><td>2</td><td>6</td></tr>\n",
              "\t<tr><td>4</td><td>8</td></tr>\n",
              "</tbody>\n",
              "</table>\n"
            ],
            "text/markdown": "\nA matrix: 2 × 2 of type int\n\n| 2 | 6 |\n| 4 | 8 |\n\n",
            "text/latex": "A matrix: 2 × 2 of type int\n\\begin{tabular}{ll}\n\t 2 & 6\\\\\n\t 4 & 8\\\\\n\\end{tabular}\n",
            "text/plain": [
              "     [,1] [,2]\n",
              "[1,] 2    6   \n",
              "[2,] 4    8   "
            ]
          },
          "metadata": {}
        }
      ]
    },
    {
      "cell_type": "markdown",
      "source": [
        "* Producto matricial: multiplicar matrices es algo más complicado que la suma o resta, ya que no consiste en multiplicar los elementos que ocupan la misma posición dentro de la matriz. En este cuaderno no vamos a explicar el proceso de multiplicación matricial, pero sí vamos a mostrar cómo hacerlo en R. Para ello, debemos emplear el operador `%*%`:"
      ],
      "metadata": {
        "id": "Dsa6tPAh3YEp"
      }
    },
    {
      "cell_type": "code",
      "source": [
        "matriz_suma_1 %*% matriz_suma_2"
      ],
      "metadata": {
        "colab": {
          "base_uri": "https://localhost:8080/",
          "height": 132
        },
        "id": "EdHwHN-l5J7W",
        "outputId": "abdedfcf-6343-4632-c844-700cdb09b3f2"
      },
      "execution_count": null,
      "outputs": [
        {
          "output_type": "display_data",
          "data": {
            "text/html": [
              "<table class=\"dataframe\">\n",
              "<caption>A matrix: 2 × 2 of type dbl</caption>\n",
              "<tbody>\n",
              "\t<tr><td> 7</td><td>15</td></tr>\n",
              "\t<tr><td>10</td><td>22</td></tr>\n",
              "</tbody>\n",
              "</table>\n"
            ],
            "text/markdown": "\nA matrix: 2 × 2 of type dbl\n\n|  7 | 15 |\n| 10 | 22 |\n\n",
            "text/latex": "A matrix: 2 × 2 of type dbl\n\\begin{tabular}{ll}\n\t  7 & 15\\\\\n\t 10 & 22\\\\\n\\end{tabular}\n",
            "text/plain": [
              "     [,1] [,2]\n",
              "[1,]  7   15  \n",
              "[2,] 10   22  "
            ]
          },
          "metadata": {}
        }
      ]
    },
    {
      "cell_type": "markdown",
      "source": [
        "######**Obtención de la diagonal de una matriz**"
      ],
      "metadata": {
        "id": "x6hMOWeP5tuM"
      }
    },
    {
      "cell_type": "markdown",
      "source": [
        "Debemos emplear la función `diag()`:"
      ],
      "metadata": {
        "id": "sTUM6HIE5zq3"
      }
    },
    {
      "cell_type": "code",
      "source": [
        "matriz <- matrix(1:16, ncol=4, nrow=4)\n",
        "matriz"
      ],
      "metadata": {
        "colab": {
          "base_uri": "https://localhost:8080/",
          "height": 177
        },
        "id": "rtYhCsl75yek",
        "outputId": "f65edd78-8978-4c72-ac1d-b45381cec3aa"
      },
      "execution_count": null,
      "outputs": [
        {
          "output_type": "display_data",
          "data": {
            "text/html": [
              "<table class=\"dataframe\">\n",
              "<caption>A matrix: 4 × 4 of type int</caption>\n",
              "<tbody>\n",
              "\t<tr><td>1</td><td>5</td><td> 9</td><td>13</td></tr>\n",
              "\t<tr><td>2</td><td>6</td><td>10</td><td>14</td></tr>\n",
              "\t<tr><td>3</td><td>7</td><td>11</td><td>15</td></tr>\n",
              "\t<tr><td>4</td><td>8</td><td>12</td><td>16</td></tr>\n",
              "</tbody>\n",
              "</table>\n"
            ],
            "text/markdown": "\nA matrix: 4 × 4 of type int\n\n| 1 | 5 |  9 | 13 |\n| 2 | 6 | 10 | 14 |\n| 3 | 7 | 11 | 15 |\n| 4 | 8 | 12 | 16 |\n\n",
            "text/latex": "A matrix: 4 × 4 of type int\n\\begin{tabular}{llll}\n\t 1 & 5 &  9 & 13\\\\\n\t 2 & 6 & 10 & 14\\\\\n\t 3 & 7 & 11 & 15\\\\\n\t 4 & 8 & 12 & 16\\\\\n\\end{tabular}\n",
            "text/plain": [
              "     [,1] [,2] [,3] [,4]\n",
              "[1,] 1    5     9   13  \n",
              "[2,] 2    6    10   14  \n",
              "[3,] 3    7    11   15  \n",
              "[4,] 4    8    12   16  "
            ]
          },
          "metadata": {}
        }
      ]
    },
    {
      "cell_type": "code",
      "source": [
        "diagonal <- diag(matriz)\n",
        "diagonal"
      ],
      "metadata": {
        "colab": {
          "base_uri": "https://localhost:8080/",
          "height": 34
        },
        "id": "Q37hKTO36mw-",
        "outputId": "93980824-f480-401a-eb25-5c7aec5f1906"
      },
      "execution_count": null,
      "outputs": [
        {
          "output_type": "display_data",
          "data": {
            "text/html": [
              "<style>\n",
              ".list-inline {list-style: none; margin:0; padding: 0}\n",
              ".list-inline>li {display: inline-block}\n",
              ".list-inline>li:not(:last-child)::after {content: \"\\00b7\"; padding: 0 .5ex}\n",
              "</style>\n",
              "<ol class=list-inline><li>1</li><li>6</li><li>11</li><li>16</li></ol>\n"
            ],
            "text/markdown": "1. 1\n2. 6\n3. 11\n4. 16\n\n\n",
            "text/latex": "\\begin{enumerate*}\n\\item 1\n\\item 6\n\\item 11\n\\item 16\n\\end{enumerate*}\n",
            "text/plain": [
              "[1]  1  6 11 16"
            ]
          },
          "metadata": {}
        }
      ]
    },
    {
      "cell_type": "markdown",
      "source": [
        "Obtenemos un vector con los elementos que conforman la diagonal de la matriz:"
      ],
      "metadata": {
        "id": "iME9W9166ozk"
      }
    },
    {
      "cell_type": "code",
      "source": [
        "is.vector(diagonal)"
      ],
      "metadata": {
        "colab": {
          "base_uri": "https://localhost:8080/",
          "height": 34
        },
        "id": "c6irJVOF6Miw",
        "outputId": "3cb74bf0-9089-4451-df2a-7720cbd757a2"
      },
      "execution_count": null,
      "outputs": [
        {
          "output_type": "display_data",
          "data": {
            "text/html": [
              "TRUE"
            ],
            "text/markdown": "TRUE",
            "text/latex": "TRUE",
            "text/plain": [
              "[1] TRUE"
            ]
          },
          "metadata": {}
        }
      ]
    },
    {
      "cell_type": "markdown",
      "source": [
        "Con el método `diag()` también podemos crear matrices diagonales, pasando como argumento el vector que queremos que sea la diagonal de dicha matriz diagonal.\n",
        "\n",
        "Vamos a crear una matriz diagonal con la diagonal anteriormente extraída:"
      ],
      "metadata": {
        "id": "aydtFa7d8Thk"
      }
    },
    {
      "cell_type": "code",
      "source": [
        "matriz_diagonal <- diag(diagonal)\n",
        "matriz_diagonal"
      ],
      "metadata": {
        "colab": {
          "base_uri": "https://localhost:8080/",
          "height": 177
        },
        "id": "rn0xzsVu8vYq",
        "outputId": "a8d0465a-439e-4689-c77d-b5e36171b999"
      },
      "execution_count": null,
      "outputs": [
        {
          "output_type": "display_data",
          "data": {
            "text/html": [
              "<table class=\"dataframe\">\n",
              "<caption>A matrix: 4 × 4 of type int</caption>\n",
              "<tbody>\n",
              "\t<tr><td>1</td><td>0</td><td> 0</td><td> 0</td></tr>\n",
              "\t<tr><td>0</td><td>6</td><td> 0</td><td> 0</td></tr>\n",
              "\t<tr><td>0</td><td>0</td><td>11</td><td> 0</td></tr>\n",
              "\t<tr><td>0</td><td>0</td><td> 0</td><td>16</td></tr>\n",
              "</tbody>\n",
              "</table>\n"
            ],
            "text/markdown": "\nA matrix: 4 × 4 of type int\n\n| 1 | 0 |  0 |  0 |\n| 0 | 6 |  0 |  0 |\n| 0 | 0 | 11 |  0 |\n| 0 | 0 |  0 | 16 |\n\n",
            "text/latex": "A matrix: 4 × 4 of type int\n\\begin{tabular}{llll}\n\t 1 & 0 &  0 &  0\\\\\n\t 0 & 6 &  0 &  0\\\\\n\t 0 & 0 & 11 &  0\\\\\n\t 0 & 0 &  0 & 16\\\\\n\\end{tabular}\n",
            "text/plain": [
              "     [,1] [,2] [,3] [,4]\n",
              "[1,] 1    0     0    0  \n",
              "[2,] 0    6     0    0  \n",
              "[3,] 0    0    11    0  \n",
              "[4,] 0    0     0   16  "
            ]
          },
          "metadata": {}
        }
      ]
    },
    {
      "cell_type": "markdown",
      "source": [
        "######**Transponer una matriz**"
      ],
      "metadata": {
        "id": "nH3sEr8n7ECZ"
      }
    },
    {
      "cell_type": "markdown",
      "source": [
        "Transponer una matriz implica convertir sus filas en columnas y sus columnas en filas. Para transponer matrices en R debemos usar el método `t()`.\n",
        "\n",
        "Transponemos la matriz creada en el apartado anterior:"
      ],
      "metadata": {
        "id": "DSkmIucL7Iue"
      }
    },
    {
      "cell_type": "code",
      "source": [
        "matriz_transpuesta <- t(matriz)\n",
        "matriz_transpuesta"
      ],
      "metadata": {
        "colab": {
          "base_uri": "https://localhost:8080/",
          "height": 177
        },
        "id": "hmDEu5rp7cTs",
        "outputId": "f50bffa6-e0f5-48e2-a0cc-b08107b7b7a6"
      },
      "execution_count": null,
      "outputs": [
        {
          "output_type": "display_data",
          "data": {
            "text/html": [
              "<table class=\"dataframe\">\n",
              "<caption>A matrix: 4 × 4 of type int</caption>\n",
              "<tbody>\n",
              "\t<tr><td> 1</td><td> 2</td><td> 3</td><td> 4</td></tr>\n",
              "\t<tr><td> 5</td><td> 6</td><td> 7</td><td> 8</td></tr>\n",
              "\t<tr><td> 9</td><td>10</td><td>11</td><td>12</td></tr>\n",
              "\t<tr><td>13</td><td>14</td><td>15</td><td>16</td></tr>\n",
              "</tbody>\n",
              "</table>\n"
            ],
            "text/markdown": "\nA matrix: 4 × 4 of type int\n\n|  1 |  2 |  3 |  4 |\n|  5 |  6 |  7 |  8 |\n|  9 | 10 | 11 | 12 |\n| 13 | 14 | 15 | 16 |\n\n",
            "text/latex": "A matrix: 4 × 4 of type int\n\\begin{tabular}{llll}\n\t  1 &  2 &  3 &  4\\\\\n\t  5 &  6 &  7 &  8\\\\\n\t  9 & 10 & 11 & 12\\\\\n\t 13 & 14 & 15 & 16\\\\\n\\end{tabular}\n",
            "text/plain": [
              "     [,1] [,2] [,3] [,4]\n",
              "[1,]  1    2    3    4  \n",
              "[2,]  5    6    7    8  \n",
              "[3,]  9   10   11   12  \n",
              "[4,] 13   14   15   16  "
            ]
          },
          "metadata": {}
        }
      ]
    },
    {
      "cell_type": "markdown",
      "source": [
        "######**Calcular la inversa de una matriz**"
      ],
      "metadata": {
        "id": "bqEV9Bb-89oe"
      }
    },
    {
      "cell_type": "markdown",
      "source": [
        "Otra operación clásica con matrices es el cálcula de matrices inversas. Su explicación también va más allá de la intención de este cuaderno, pero mostraremos cómo hacerlo en R y comprobaremos que la solución es correcta.\n",
        "\n",
        "Para calcular la inversa de una matriz debemos emplear la función `solve()`:"
      ],
      "metadata": {
        "id": "yxSydNGr9BdL"
      }
    },
    {
      "cell_type": "code",
      "source": [
        "matriz <- matrix(c(5, 12, 10, 8), ncol=2, nrow=2)\n",
        "matriz_inversa <- solve(matriz)\n",
        "matriz_inversa"
      ],
      "metadata": {
        "colab": {
          "base_uri": "https://localhost:8080/",
          "height": 114
        },
        "id": "0T5qsXWO9X9d",
        "outputId": "27fe42db-974c-400f-e97c-3ac44175cc4b"
      },
      "execution_count": null,
      "outputs": [
        {
          "output_type": "display_data",
          "data": {
            "text/html": [
              "<table class=\"dataframe\">\n",
              "<caption>A matrix: 2 × 2 of type dbl</caption>\n",
              "<tbody>\n",
              "\t<tr><td>-0.10</td><td> 0.1250</td></tr>\n",
              "\t<tr><td> 0.15</td><td>-0.0625</td></tr>\n",
              "</tbody>\n",
              "</table>\n"
            ],
            "text/markdown": "\nA matrix: 2 × 2 of type dbl\n\n| -0.10 |  0.1250 |\n|  0.15 | -0.0625 |\n\n",
            "text/latex": "A matrix: 2 × 2 of type dbl\n\\begin{tabular}{ll}\n\t -0.10 &  0.1250\\\\\n\t  0.15 & -0.0625\\\\\n\\end{tabular}\n",
            "text/plain": [
              "     [,1]  [,2]   \n",
              "[1,] -0.10  0.1250\n",
              "[2,]  0.15 -0.0625"
            ]
          },
          "metadata": {}
        }
      ]
    },
    {
      "cell_type": "markdown",
      "source": [
        "Como una matriz multiplicada por su inversa es igual a la matriz identidad:\n",
        "\\begin{align}\n",
        "A * A^{-1} = I\n",
        "\\end{align}\n",
        "Vamos a comprobar que el resultado obtenido con `solve()` es correcto:"
      ],
      "metadata": {
        "id": "_J8DMKuF-Y38"
      }
    },
    {
      "cell_type": "code",
      "source": [
        "matriz %*% matriz_inversa"
      ],
      "metadata": {
        "colab": {
          "base_uri": "https://localhost:8080/",
          "height": 114
        },
        "id": "TAVp1goV-0aK",
        "outputId": "5758a37a-ddf0-4c27-ee6f-fc4a2b74ed7e"
      },
      "execution_count": null,
      "outputs": [
        {
          "output_type": "display_data",
          "data": {
            "text/html": [
              "<table class=\"dataframe\">\n",
              "<caption>A matrix: 2 × 2 of type dbl</caption>\n",
              "<tbody>\n",
              "\t<tr><td>1</td><td>6.938894e-17</td></tr>\n",
              "\t<tr><td>0</td><td>1.000000e+00</td></tr>\n",
              "</tbody>\n",
              "</table>\n"
            ],
            "text/markdown": "\nA matrix: 2 × 2 of type dbl\n\n| 1 | 6.938894e-17 |\n| 0 | 1.000000e+00 |\n\n",
            "text/latex": "A matrix: 2 × 2 of type dbl\n\\begin{tabular}{ll}\n\t 1 & 6.938894e-17\\\\\n\t 0 & 1.000000e+00\\\\\n\\end{tabular}\n",
            "text/plain": [
              "     [,1] [,2]        \n",
              "[1,] 1    6.938894e-17\n",
              "[2,] 0    1.000000e+00"
            ]
          },
          "metadata": {}
        }
      ]
    },
    {
      "cell_type": "markdown",
      "source": [
        "El resultado no es la matriz identidad perfecta (unos en la diagonal y ceros en el resto de posiciones), pero se aproxima muchísimo."
      ],
      "metadata": {
        "id": "qwFWNFck_Oko"
      }
    },
    {
      "cell_type": "markdown",
      "source": [
        "######**Cálculo del determinante de una matriz**"
      ],
      "metadata": {
        "id": "9UFNwjBP_cmv"
      }
    },
    {
      "cell_type": "markdown",
      "source": [
        "Otra operación matemática fundamental muy sencilla de realizar en R: debemos usar la función `det()`:"
      ],
      "metadata": {
        "id": "t09xiOx6_kos"
      }
    },
    {
      "cell_type": "code",
      "source": [
        "det(matriz)"
      ],
      "metadata": {
        "colab": {
          "base_uri": "https://localhost:8080/",
          "height": 34
        },
        "id": "2EoPJoa7_b1v",
        "outputId": "d6b302c9-64a9-4580-cab3-86af0d9b6a72"
      },
      "execution_count": null,
      "outputs": [
        {
          "output_type": "display_data",
          "data": {
            "text/html": [
              "-80"
            ],
            "text/markdown": "-80",
            "text/latex": "-80",
            "text/plain": [
              "[1] -80"
            ]
          },
          "metadata": {}
        }
      ]
    },
    {
      "cell_type": "markdown",
      "source": [
        "######**Añadir nombres a las filas y columnas de una matriz**"
      ],
      "metadata": {
        "id": "9aykL6UbAlL5"
      }
    },
    {
      "cell_type": "markdown",
      "source": [
        "Podemos añadir nombres a las filas y columnas de una matriz de manera sencilla. Para ello, debemos emplear `rownames()` y `colnames()`, respectivamente. Los nombres los añadiremos mediante un vector:"
      ],
      "metadata": {
        "id": "aC1ueTEGAqpV"
      }
    },
    {
      "cell_type": "code",
      "source": [
        "matriz <- matrix(1:6, nrow=2, ncol=3)\n",
        "rownames(matriz) <- c(\"Fila 1\", \"Fila 2\")\n",
        "colnames(matriz) <- c(\"Columna 1\", \"Columna 2\", \"Columna 3\")\n",
        "matriz"
      ],
      "metadata": {
        "colab": {
          "base_uri": "https://localhost:8080/",
          "height": 129
        },
        "id": "bmjSJsGgA5_p",
        "outputId": "2435b1a6-04c7-4f2a-fb43-c63005d8aff6"
      },
      "execution_count": null,
      "outputs": [
        {
          "output_type": "display_data",
          "data": {
            "text/html": [
              "<table class=\"dataframe\">\n",
              "<caption>A matrix: 2 × 3 of type int</caption>\n",
              "<thead>\n",
              "\t<tr><th></th><th scope=col>Columna 1</th><th scope=col>Columna 2</th><th scope=col>Columna 3</th></tr>\n",
              "</thead>\n",
              "<tbody>\n",
              "\t<tr><th scope=row>Fila 1</th><td>1</td><td>3</td><td>5</td></tr>\n",
              "\t<tr><th scope=row>Fila 2</th><td>2</td><td>4</td><td>6</td></tr>\n",
              "</tbody>\n",
              "</table>\n"
            ],
            "text/markdown": "\nA matrix: 2 × 3 of type int\n\n| <!--/--> | Columna 1 | Columna 2 | Columna 3 |\n|---|---|---|---|\n| Fila 1 | 1 | 3 | 5 |\n| Fila 2 | 2 | 4 | 6 |\n\n",
            "text/latex": "A matrix: 2 × 3 of type int\n\\begin{tabular}{r|lll}\n  & Columna 1 & Columna 2 & Columna 3\\\\\n\\hline\n\tFila 1 & 1 & 3 & 5\\\\\n\tFila 2 & 2 & 4 & 6\\\\\n\\end{tabular}\n",
            "text/plain": [
              "       Columna 1 Columna 2 Columna 3\n",
              "Fila 1 1         3         5        \n",
              "Fila 2 2         4         6        "
            ]
          },
          "metadata": {}
        }
      ]
    },
    {
      "cell_type": "markdown",
      "source": [
        "De esta forma, la matriz adquiere un aspecto de tabla."
      ],
      "metadata": {
        "id": "c7WcBDEBBVsC"
      }
    },
    {
      "cell_type": "markdown",
      "source": [
        "###**Listas**"
      ],
      "metadata": {
        "id": "Tsos4VtyBagC"
      }
    },
    {
      "cell_type": "markdown",
      "source": [
        "En R, las listas, al igual que los vectores, son estructuras de datos unidimensionales, es decir, solo tienen longitud. No obstante, a diferencia de los vectores, las listas pueden almacenar datos de diferentes tipos, incluso otras listas. Esto último hace que las listas sean consideradas vectores recursivos, pues son objetos que permiten contener objetos de la misma clase.\n",
        "\n",
        "Asimismo, los componentes de una lista suelen ser pares clave-valor, como los diccionarios de Python. Esto quiere decir que cada elemento (*valor*), recibe un nombre (*clave*) que facilita su posterior localización dentro de la lista."
      ],
      "metadata": {
        "id": "yUpPrRqEVur1"
      }
    },
    {
      "cell_type": "markdown",
      "source": [
        "######**Cómo crear una lista**"
      ],
      "metadata": {
        "id": "W1HRS87MX1R0"
      }
    },
    {
      "cell_type": "markdown",
      "source": [
        "Para crear una lista en R, debemos utilizar la función `list()`:"
      ],
      "metadata": {
        "id": "nsxr6tjgXxTO"
      }
    },
    {
      "cell_type": "code",
      "source": [
        "#Vamos a crear elementos de distinto tipo para ejemplificar que pueden guardarse en una lista sin problemas:\n",
        "vector_numeros <- c(27, 29, 31, 45)\n",
        "palabra <- \"Coche\"\n",
        "matriz <- matrix (1:9, ncol=3, nrow=3)\n",
        "\n",
        "#Creamos la lista:\n",
        "lista_sin_nombres <- list(vector_numeros, palabra, matriz)\n",
        "lista_sin_nombres\n",
        "#Vemos los distintos elementos que la contienen, que están numerados del 1 al 3."
      ],
      "metadata": {
        "colab": {
          "base_uri": "https://localhost:8080/",
          "height": 226
        },
        "id": "8GMhwQluWtUN",
        "outputId": "21ca189d-4113-493f-8f1c-9fb3f871f68b"
      },
      "execution_count": null,
      "outputs": [
        {
          "output_type": "display_data",
          "data": {
            "text/html": [
              "<ol>\n",
              "\t<li><style>\n",
              ".list-inline {list-style: none; margin:0; padding: 0}\n",
              ".list-inline>li {display: inline-block}\n",
              ".list-inline>li:not(:last-child)::after {content: \"\\00b7\"; padding: 0 .5ex}\n",
              "</style>\n",
              "<ol class=list-inline><li>27</li><li>29</li><li>31</li><li>45</li></ol>\n",
              "</li>\n",
              "\t<li>'Coche'</li>\n",
              "\t<li><table class=\"dataframe\">\n",
              "<caption>A matrix: 3 × 3 of type int</caption>\n",
              "<tbody>\n",
              "\t<tr><td>1</td><td>4</td><td>7</td></tr>\n",
              "\t<tr><td>2</td><td>5</td><td>8</td></tr>\n",
              "\t<tr><td>3</td><td>6</td><td>9</td></tr>\n",
              "</tbody>\n",
              "</table>\n",
              "</li>\n",
              "</ol>\n"
            ],
            "text/markdown": "1. 1. 27\n2. 29\n3. 31\n4. 45\n\n\n\n2. 'Coche'\n3. \nA matrix: 3 × 3 of type int\n\n| 1 | 4 | 7 |\n| 2 | 5 | 8 |\n| 3 | 6 | 9 |\n\n\n\n\n",
            "text/latex": "\\begin{enumerate}\n\\item \\begin{enumerate*}\n\\item 27\n\\item 29\n\\item 31\n\\item 45\n\\end{enumerate*}\n\n\\item 'Coche'\n\\item A matrix: 3 × 3 of type int\n\\begin{tabular}{lll}\n\t 1 & 4 & 7\\\\\n\t 2 & 5 & 8\\\\\n\t 3 & 6 & 9\\\\\n\\end{tabular}\n\n\\end{enumerate}\n",
            "text/plain": [
              "[[1]]\n",
              "[1] 27 29 31 45\n",
              "\n",
              "[[2]]\n",
              "[1] \"Coche\"\n",
              "\n",
              "[[3]]\n",
              "     [,1] [,2] [,3]\n",
              "[1,]    1    4    7\n",
              "[2,]    2    5    8\n",
              "[3,]    3    6    9\n"
            ]
          },
          "metadata": {}
        }
      ]
    },
    {
      "cell_type": "markdown",
      "source": [
        "######**Cómo nombrar los elementos de una lista**"
      ],
      "metadata": {
        "id": "Q4Q8vu-oX64l"
      }
    },
    {
      "cell_type": "markdown",
      "source": [
        "Como ya hemos dicho, lo normal suele ser darle un nombre a los elementos de una lista para facilitar el poder acceder a ellos posteriormente. Este paso de dar nombre a los componentes de la lista es muy sencillo, como vemos con el siguiente ejemplo:"
      ],
      "metadata": {
        "id": "lHQhjlzMX_wU"
      }
    },
    {
      "cell_type": "code",
      "source": [
        "#Nombramos los componentes de la lista anterior: al primero lo vamos a llamar \"Numeros\", al segundo, \"Coche\" y, al tercero, \"Matriz\"\n",
        "lista_con_nombres <- list(Numeros = vector_numeros, Coche = palabra, Matriz = matriz)\n",
        "lista_con_nombres"
      ],
      "metadata": {
        "colab": {
          "base_uri": "https://localhost:8080/",
          "height": 277
        },
        "id": "f1opqwbVYQes",
        "outputId": "ba17b71a-401d-474f-9680-c27fec4b1023"
      },
      "execution_count": null,
      "outputs": [
        {
          "output_type": "display_data",
          "data": {
            "text/html": [
              "<dl>\n",
              "\t<dt>$Numeros</dt>\n",
              "\t\t<dd><style>\n",
              ".list-inline {list-style: none; margin:0; padding: 0}\n",
              ".list-inline>li {display: inline-block}\n",
              ".list-inline>li:not(:last-child)::after {content: \"\\00b7\"; padding: 0 .5ex}\n",
              "</style>\n",
              "<ol class=list-inline><li>27</li><li>29</li><li>31</li><li>45</li></ol>\n",
              "</dd>\n",
              "\t<dt>$Coche</dt>\n",
              "\t\t<dd>'Coche'</dd>\n",
              "\t<dt>$Matriz</dt>\n",
              "\t\t<dd><table class=\"dataframe\">\n",
              "<caption>A matrix: 3 × 3 of type int</caption>\n",
              "<tbody>\n",
              "\t<tr><td>1</td><td>4</td><td>7</td></tr>\n",
              "\t<tr><td>2</td><td>5</td><td>8</td></tr>\n",
              "\t<tr><td>3</td><td>6</td><td>9</td></tr>\n",
              "</tbody>\n",
              "</table>\n",
              "</dd>\n",
              "</dl>\n"
            ],
            "text/markdown": "$Numeros\n:   1. 27\n2. 29\n3. 31\n4. 45\n\n\n\n$Coche\n:   'Coche'\n$Matriz\n:   \nA matrix: 3 × 3 of type int\n\n| 1 | 4 | 7 |\n| 2 | 5 | 8 |\n| 3 | 6 | 9 |\n\n\n\n\n",
            "text/latex": "\\begin{description}\n\\item[\\$Numeros] \\begin{enumerate*}\n\\item 27\n\\item 29\n\\item 31\n\\item 45\n\\end{enumerate*}\n\n\\item[\\$Coche] 'Coche'\n\\item[\\$Matriz] A matrix: 3 × 3 of type int\n\\begin{tabular}{lll}\n\t 1 & 4 & 7\\\\\n\t 2 & 5 & 8\\\\\n\t 3 & 6 & 9\\\\\n\\end{tabular}\n\n\\end{description}\n",
            "text/plain": [
              "$Numeros\n",
              "[1] 27 29 31 45\n",
              "\n",
              "$Coche\n",
              "[1] \"Coche\"\n",
              "\n",
              "$Matriz\n",
              "     [,1] [,2] [,3]\n",
              "[1,]    1    4    7\n",
              "[2,]    2    5    8\n",
              "[3,]    3    6    9\n"
            ]
          },
          "metadata": {}
        }
      ]
    },
    {
      "cell_type": "markdown",
      "source": [
        "######**Acceder a elementos de una lista**"
      ],
      "metadata": {
        "id": "_ZfR_8obY1BS"
      }
    },
    {
      "cell_type": "markdown",
      "source": [
        "Existen dos formas de acceder a los elementos de una lista. \n",
        "\n",
        "Si echamos un vistazo a los dos ejemplos anteriores, vemos que en la salida que nos muestra Colab para la `lista_sin_nombres`, cada uno de los elementos que la conforman aparece identificaco con un número, mientras que en el caso de la `lista_con_nombres`, cada elemento aparece identificado por su nombre precedido de un símbolo de `$`. Las dos formas principales que tenemos de acceder a los  elementos de una lista se derivan de lo descrito en este párrafo:\n",
        "\n",
        "* Forma 1: acceder a los elementos de una lista indicando la posición del elemento dentro de la lista. Para ello, debemos explicitar la posición a extraer dentro de un doble corchete `[[]]`. Este método sirve tanto para listas con elementos sin nombre, como para listas con elementos con nombre."
      ],
      "metadata": {
        "id": "SYjykY7zY04d"
      }
    },
    {
      "cell_type": "code",
      "source": [
        "#Accedemos al primer elemento de la lista: el vector de números\n",
        "lista_sin_nombres[[1]]"
      ],
      "metadata": {
        "colab": {
          "base_uri": "https://localhost:8080/",
          "height": 34
        },
        "id": "aU90COr7mN0T",
        "outputId": "47959a93-df71-4d55-8dee-982e3519bd91"
      },
      "execution_count": null,
      "outputs": [
        {
          "output_type": "display_data",
          "data": {
            "text/html": [
              "<style>\n",
              ".list-inline {list-style: none; margin:0; padding: 0}\n",
              ".list-inline>li {display: inline-block}\n",
              ".list-inline>li:not(:last-child)::after {content: \"\\00b7\"; padding: 0 .5ex}\n",
              "</style>\n",
              "<ol class=list-inline><li>27</li><li>29</li><li>31</li><li>45</li></ol>\n"
            ],
            "text/markdown": "1. 27\n2. 29\n3. 31\n4. 45\n\n\n",
            "text/latex": "\\begin{enumerate*}\n\\item 27\n\\item 29\n\\item 31\n\\item 45\n\\end{enumerate*}\n",
            "text/plain": [
              "[1] 27 29 31 45"
            ]
          },
          "metadata": {}
        }
      ]
    },
    {
      "cell_type": "markdown",
      "source": [
        "* Cuando queremos extraer una matriz de una lista podemos especificar tanto que queremos extraer la matriz (indicando su posición), como el elemento exacto dentro de la matriz que queramos extraer (indicando su fila y columna), si es que no queremos extraer la matriz entera:\n",
        "\n",
        "\n",
        "\n"
      ],
      "metadata": {
        "id": "qHbFKF2_nKZD"
      }
    },
    {
      "cell_type": "code",
      "source": [
        "#Extraemos la matriz de la lista:\n",
        "lista_con_nombres[[3]]"
      ],
      "metadata": {
        "colab": {
          "base_uri": "https://localhost:8080/",
          "height": 163
        },
        "id": "ZTaRHKPSnqaY",
        "outputId": "56b3fd28-40dd-401c-b539-d0771414aabb"
      },
      "execution_count": null,
      "outputs": [
        {
          "output_type": "display_data",
          "data": {
            "text/html": [
              "<table class=\"dataframe\">\n",
              "<caption>A matrix: 3 × 3 of type int</caption>\n",
              "<tbody>\n",
              "\t<tr><td>1</td><td>4</td><td>7</td></tr>\n",
              "\t<tr><td>2</td><td>5</td><td>8</td></tr>\n",
              "\t<tr><td>3</td><td>6</td><td>9</td></tr>\n",
              "</tbody>\n",
              "</table>\n"
            ],
            "text/markdown": "\nA matrix: 3 × 3 of type int\n\n| 1 | 4 | 7 |\n| 2 | 5 | 8 |\n| 3 | 6 | 9 |\n\n",
            "text/latex": "A matrix: 3 × 3 of type int\n\\begin{tabular}{lll}\n\t 1 & 4 & 7\\\\\n\t 2 & 5 & 8\\\\\n\t 3 & 6 & 9\\\\\n\\end{tabular}\n",
            "text/plain": [
              "     [,1] [,2] [,3]\n",
              "[1,] 1    4    7   \n",
              "[2,] 2    5    8   \n",
              "[3,] 3    6    9   "
            ]
          },
          "metadata": {}
        }
      ]
    },
    {
      "cell_type": "code",
      "source": [
        "#Extraemos el elemento central de la matriz (fila 2, columna 2):\n",
        "lista_sin_nombres[[3]][2,2]"
      ],
      "metadata": {
        "colab": {
          "base_uri": "https://localhost:8080/",
          "height": 34
        },
        "id": "6sLrA1l3n5ob",
        "outputId": "857f0caa-8872-4bb8-824b-f5d0029bcacb"
      },
      "execution_count": null,
      "outputs": [
        {
          "output_type": "display_data",
          "data": {
            "text/html": [
              "5"
            ],
            "text/markdown": "5",
            "text/latex": "5",
            "text/plain": [
              "[1] 5"
            ]
          },
          "metadata": {}
        }
      ]
    },
    {
      "cell_type": "markdown",
      "source": [
        "* Forma 2: acceder a los elementos de una lista indicando su nombre. Para ello, debemos utilizar este código:\n",
        "```\n",
        "lista$nombre_del_elemento_a_extraer\n",
        "```\n",
        "O este:\n",
        "```\n",
        "lista[[\"nombre_del_elemento_a_extraer\"]]\n",
        "```\n",
        "Obviamente, este método solo puede emplearse con listas con nombres."
      ],
      "metadata": {
        "id": "dgo6tsx9oJT1"
      }
    },
    {
      "cell_type": "code",
      "source": [
        "#Accedemos al primer elemento:\n",
        "lista_con_nombres[[\"Numeros\"]]"
      ],
      "metadata": {
        "colab": {
          "base_uri": "https://localhost:8080/",
          "height": 34
        },
        "id": "HZGrUdlSpvT2",
        "outputId": "bd22dd31-0f38-4784-9bd2-c0b96d83558d"
      },
      "execution_count": null,
      "outputs": [
        {
          "output_type": "display_data",
          "data": {
            "text/html": [
              "<style>\n",
              ".list-inline {list-style: none; margin:0; padding: 0}\n",
              ".list-inline>li {display: inline-block}\n",
              ".list-inline>li:not(:last-child)::after {content: \"\\00b7\"; padding: 0 .5ex}\n",
              "</style>\n",
              "<ol class=list-inline><li>27</li><li>29</li><li>31</li><li>45</li></ol>\n"
            ],
            "text/markdown": "1. 27\n2. 29\n3. 31\n4. 45\n\n\n",
            "text/latex": "\\begin{enumerate*}\n\\item 27\n\\item 29\n\\item 31\n\\item 45\n\\end{enumerate*}\n",
            "text/plain": [
              "[1] 27 29 31 45"
            ]
          },
          "metadata": {}
        }
      ]
    },
    {
      "cell_type": "code",
      "source": [
        "#Accedemos al elemento central de la matriz:\n",
        "lista_con_nombres$Matriz[2, 2]"
      ],
      "metadata": {
        "colab": {
          "base_uri": "https://localhost:8080/",
          "height": 34
        },
        "id": "FnZj9OaG8LR3",
        "outputId": "b0333bfc-47c7-4392-e891-6b3256d51fbb"
      },
      "execution_count": null,
      "outputs": [
        {
          "output_type": "display_data",
          "data": {
            "text/html": [
              "5"
            ],
            "text/markdown": "5",
            "text/latex": "5",
            "text/plain": [
              "[1] 5"
            ]
          },
          "metadata": {}
        }
      ]
    },
    {
      "cell_type": "markdown",
      "source": [
        "* Forma 3: extraer elementos de manera negativa, es decir, indicando cuáles no queremos extraer:"
      ],
      "metadata": {
        "id": "4avsNZ5JB26W"
      }
    },
    {
      "cell_type": "code",
      "source": [
        "#Nos quedamos con los elementos 1 y dos de la lista_con_nombres:\n",
        "lista_con_nombres[-3]"
      ],
      "metadata": {
        "colab": {
          "base_uri": "https://localhost:8080/",
          "height": 114
        },
        "id": "-b2opdKmCAA6",
        "outputId": "8592d5f7-b0fe-4050-fd02-975499bd9ca3"
      },
      "execution_count": null,
      "outputs": [
        {
          "output_type": "display_data",
          "data": {
            "text/html": [
              "<dl>\n",
              "\t<dt>$Numeros</dt>\n",
              "\t\t<dd><style>\n",
              ".list-inline {list-style: none; margin:0; padding: 0}\n",
              ".list-inline>li {display: inline-block}\n",
              ".list-inline>li:not(:last-child)::after {content: \"\\00b7\"; padding: 0 .5ex}\n",
              "</style>\n",
              "<ol class=list-inline><li>27</li><li>29</li><li>31</li><li>45</li></ol>\n",
              "</dd>\n",
              "\t<dt>$Coche</dt>\n",
              "\t\t<dd>'Coche'</dd>\n",
              "</dl>\n"
            ],
            "text/markdown": "$Numeros\n:   1. 27\n2. 29\n3. 31\n4. 45\n\n\n\n$Coche\n:   'Coche'\n\n\n",
            "text/latex": "\\begin{description}\n\\item[\\$Numeros] \\begin{enumerate*}\n\\item 27\n\\item 29\n\\item 31\n\\item 45\n\\end{enumerate*}\n\n\\item[\\$Coche] 'Coche'\n\\end{description}\n",
            "text/plain": [
              "$Numeros\n",
              "[1] 27 29 31 45\n",
              "\n",
              "$Coche\n",
              "[1] \"Coche\"\n"
            ]
          },
          "metadata": {}
        }
      ]
    },
    {
      "cell_type": "markdown",
      "source": [
        "######**Longitud de las listas**"
      ],
      "metadata": {
        "id": "5bNuhPdD8r84"
      }
    },
    {
      "cell_type": "markdown",
      "source": [
        "La longitud de una lista es el número de elementos dentro de la misma.\n",
        "\n",
        "Para conocer la longitud de la lista debemos utilizar la función `length`. Y, si quisiéramos conocer la longitud de un elemento de de la lista, primero deberemos extraer dicho elemento:"
      ],
      "metadata": {
        "id": "5H65h6iw8w7O"
      }
    },
    {
      "cell_type": "code",
      "source": [
        "#Longitud de la lista:\n",
        "length(lista_sin_nombres)"
      ],
      "metadata": {
        "colab": {
          "base_uri": "https://localhost:8080/",
          "height": 34
        },
        "id": "4T4CD6f29O14",
        "outputId": "f650143e-16b6-42fe-a6f9-c57f97b8fac4"
      },
      "execution_count": null,
      "outputs": [
        {
          "output_type": "display_data",
          "data": {
            "text/html": [
              "3"
            ],
            "text/markdown": "3",
            "text/latex": "3",
            "text/plain": [
              "[1] 3"
            ]
          },
          "metadata": {}
        }
      ]
    },
    {
      "cell_type": "code",
      "source": [
        "#Longitud del vector Numeros (primer elemento de la lista):\n",
        "length(lista_sin_nombres[[1]])"
      ],
      "metadata": {
        "colab": {
          "base_uri": "https://localhost:8080/",
          "height": 34
        },
        "id": "cbgdzuiW9YOQ",
        "outputId": "483d1d39-e81c-4b68-d080-ebe4bdaf1c33"
      },
      "execution_count": null,
      "outputs": [
        {
          "output_type": "display_data",
          "data": {
            "text/html": [
              "4"
            ],
            "text/markdown": "4",
            "text/latex": "4",
            "text/plain": [
              "[1] 4"
            ]
          },
          "metadata": {}
        }
      ]
    },
    {
      "cell_type": "markdown",
      "source": [
        "######**Añadir elementos a una lista**"
      ],
      "metadata": {
        "id": "MD4i1VoS-ePm"
      }
    },
    {
      "cell_type": "markdown",
      "source": [
        "Para añadir nuevos elementos a una lista debemos especificar la posición que ocuparán dentro de la lista. La cuestión es que, si especificamos una posición que ya está ocupada por otro elemento, dicho otro elemento será sobrescribido. Entonces, para evitar perder información al añadir nuevos elementos a la lista, debemos decirle a R que añade el nuevo elemento en la primera posición no ocupada.\n",
        "\n",
        "Veámos un ejemplo: en el apartado anterior hemos visto que `lista_sin_nombres` está formada por tres elementos, por lo tanto, la primera posición no ocupada es la cuarta. De esta forma, para añadir un nuevo elemento a dicha lista debemos explicitar que ocuparemos la cuarta posición:"
      ],
      "metadata": {
        "id": "LiqozPln-kRE"
      }
    },
    {
      "cell_type": "code",
      "source": [
        "lista_sin_nombres[[4]] <- \"EYYYYYY\"\n",
        "lista_sin_nombres"
      ],
      "metadata": {
        "colab": {
          "base_uri": "https://localhost:8080/",
          "height": 243
        },
        "id": "ayszYIlA-iyA",
        "outputId": "210b40d5-31cb-4588-e7c1-6ffff3d5716a"
      },
      "execution_count": null,
      "outputs": [
        {
          "output_type": "display_data",
          "data": {
            "text/html": [
              "<ol>\n",
              "\t<li><style>\n",
              ".list-inline {list-style: none; margin:0; padding: 0}\n",
              ".list-inline>li {display: inline-block}\n",
              ".list-inline>li:not(:last-child)::after {content: \"\\00b7\"; padding: 0 .5ex}\n",
              "</style>\n",
              "<ol class=list-inline><li>27</li><li>29</li><li>31</li><li>45</li></ol>\n",
              "</li>\n",
              "\t<li>'Coche'</li>\n",
              "\t<li><table class=\"dataframe\">\n",
              "<caption>A matrix: 3 × 3 of type int</caption>\n",
              "<tbody>\n",
              "\t<tr><td>1</td><td>4</td><td>7</td></tr>\n",
              "\t<tr><td>2</td><td>5</td><td>8</td></tr>\n",
              "\t<tr><td>3</td><td>6</td><td>9</td></tr>\n",
              "</tbody>\n",
              "</table>\n",
              "</li>\n",
              "\t<li>'EYYYYYY'</li>\n",
              "</ol>\n"
            ],
            "text/markdown": "1. 1. 27\n2. 29\n3. 31\n4. 45\n\n\n\n2. 'Coche'\n3. \nA matrix: 3 × 3 of type int\n\n| 1 | 4 | 7 |\n| 2 | 5 | 8 |\n| 3 | 6 | 9 |\n\n\n4. 'EYYYYYY'\n\n\n",
            "text/latex": "\\begin{enumerate}\n\\item \\begin{enumerate*}\n\\item 27\n\\item 29\n\\item 31\n\\item 45\n\\end{enumerate*}\n\n\\item 'Coche'\n\\item A matrix: 3 × 3 of type int\n\\begin{tabular}{lll}\n\t 1 & 4 & 7\\\\\n\t 2 & 5 & 8\\\\\n\t 3 & 6 & 9\\\\\n\\end{tabular}\n\n\\item 'EYYYYYY'\n\\end{enumerate}\n",
            "text/plain": [
              "[[1]]\n",
              "[1] 27 29 31 45\n",
              "\n",
              "[[2]]\n",
              "[1] \"Coche\"\n",
              "\n",
              "[[3]]\n",
              "     [,1] [,2] [,3]\n",
              "[1,]    1    4    7\n",
              "[2,]    2    5    8\n",
              "[3,]    3    6    9\n",
              "\n",
              "[[4]]\n",
              "[1] \"EYYYYYY\"\n"
            ]
          },
          "metadata": {}
        }
      ]
    },
    {
      "cell_type": "markdown",
      "source": [
        "Y si no sabemos cuál es la primera posición no ocupada y no queremos usar la función `length` para conocerla en un paso previo, podemos usar dicha función en el mismo paso en el que introducimos el nuevo elemento:"
      ],
      "metadata": {
        "id": "kcbtf6Gy_3pf"
      }
    },
    {
      "cell_type": "code",
      "source": [
        "lista_sin_nombres[[length(lista_sin_nombres) + 1]] <- \"¿Qué pasa?\"\n",
        "lista_sin_nombres"
      ],
      "metadata": {
        "colab": {
          "base_uri": "https://localhost:8080/",
          "height": 260
        },
        "id": "Z6VcgvMxAViQ",
        "outputId": "677151fd-eac6-4d53-d41e-8a79ddbcdf9c"
      },
      "execution_count": null,
      "outputs": [
        {
          "output_type": "display_data",
          "data": {
            "text/html": [
              "<ol>\n",
              "\t<li><style>\n",
              ".list-inline {list-style: none; margin:0; padding: 0}\n",
              ".list-inline>li {display: inline-block}\n",
              ".list-inline>li:not(:last-child)::after {content: \"\\00b7\"; padding: 0 .5ex}\n",
              "</style>\n",
              "<ol class=list-inline><li>27</li><li>29</li><li>31</li><li>45</li></ol>\n",
              "</li>\n",
              "\t<li>'Coche'</li>\n",
              "\t<li><table class=\"dataframe\">\n",
              "<caption>A matrix: 3 × 3 of type int</caption>\n",
              "<tbody>\n",
              "\t<tr><td>1</td><td>4</td><td>7</td></tr>\n",
              "\t<tr><td>2</td><td>5</td><td>8</td></tr>\n",
              "\t<tr><td>3</td><td>6</td><td>9</td></tr>\n",
              "</tbody>\n",
              "</table>\n",
              "</li>\n",
              "\t<li>'EYYYYYY'</li>\n",
              "\t<li>'¿Qué pasa?'</li>\n",
              "</ol>\n"
            ],
            "text/markdown": "1. 1. 27\n2. 29\n3. 31\n4. 45\n\n\n\n2. 'Coche'\n3. \nA matrix: 3 × 3 of type int\n\n| 1 | 4 | 7 |\n| 2 | 5 | 8 |\n| 3 | 6 | 9 |\n\n\n4. 'EYYYYYY'\n5. '¿Qué pasa?'\n\n\n",
            "text/latex": "\\begin{enumerate}\n\\item \\begin{enumerate*}\n\\item 27\n\\item 29\n\\item 31\n\\item 45\n\\end{enumerate*}\n\n\\item 'Coche'\n\\item A matrix: 3 × 3 of type int\n\\begin{tabular}{lll}\n\t 1 & 4 & 7\\\\\n\t 2 & 5 & 8\\\\\n\t 3 & 6 & 9\\\\\n\\end{tabular}\n\n\\item 'EYYYYYY'\n\\item '¿Qué pasa?'\n\\end{enumerate}\n",
            "text/plain": [
              "[[1]]\n",
              "[1] 27 29 31 45\n",
              "\n",
              "[[2]]\n",
              "[1] \"Coche\"\n",
              "\n",
              "[[3]]\n",
              "     [,1] [,2] [,3]\n",
              "[1,]    1    4    7\n",
              "[2,]    2    5    8\n",
              "[3,]    3    6    9\n",
              "\n",
              "[[4]]\n",
              "[1] \"EYYYYYY\"\n",
              "\n",
              "[[5]]\n",
              "[1] \"¿Qué pasa?\"\n"
            ]
          },
          "metadata": {}
        }
      ]
    },
    {
      "cell_type": "markdown",
      "source": [
        "######**Borrar elementos de una lista**"
      ],
      "metadata": {
        "id": "qynPXXBBAoq-"
      }
    },
    {
      "cell_type": "markdown",
      "source": [
        "Como hemos apuntado en el apartado anterior, una forma de borrar elementos de una lista consiste en sobreescribirlos por otros elementos que añadamos. Sin embargo, si queremos borrarlos sin añadir nuevos elementos, debemos realizar lo siguiente:"
      ],
      "metadata": {
        "id": "fZfKrHgEAytn"
      }
    },
    {
      "cell_type": "code",
      "source": [
        "#Forma 1: eliminamos el elemento número 5\n",
        "lista_sin_nombres[[5]] <- NULL"
      ],
      "metadata": {
        "colab": {
          "base_uri": "https://localhost:8080/",
          "height": 226
        },
        "id": "Tl1QGn-gBCWD",
        "outputId": "ed4bbb83-8acb-44a0-f6ea-7c090cbb25c0"
      },
      "execution_count": null,
      "outputs": [
        {
          "output_type": "display_data",
          "data": {
            "text/html": [
              "<ol>\n",
              "\t<li><style>\n",
              ".list-inline {list-style: none; margin:0; padding: 0}\n",
              ".list-inline>li {display: inline-block}\n",
              ".list-inline>li:not(:last-child)::after {content: \"\\00b7\"; padding: 0 .5ex}\n",
              "</style>\n",
              "<ol class=list-inline><li>27</li><li>29</li><li>31</li><li>45</li></ol>\n",
              "</li>\n",
              "\t<li>'Coche'</li>\n",
              "\t<li><table class=\"dataframe\">\n",
              "<caption>A matrix: 3 × 3 of type int</caption>\n",
              "<tbody>\n",
              "\t<tr><td>1</td><td>4</td><td>7</td></tr>\n",
              "\t<tr><td>2</td><td>5</td><td>8</td></tr>\n",
              "\t<tr><td>3</td><td>6</td><td>9</td></tr>\n",
              "</tbody>\n",
              "</table>\n",
              "</li>\n",
              "</ol>\n"
            ],
            "text/markdown": "1. 1. 27\n2. 29\n3. 31\n4. 45\n\n\n\n2. 'Coche'\n3. \nA matrix: 3 × 3 of type int\n\n| 1 | 4 | 7 |\n| 2 | 5 | 8 |\n| 3 | 6 | 9 |\n\n\n\n\n",
            "text/latex": "\\begin{enumerate}\n\\item \\begin{enumerate*}\n\\item 27\n\\item 29\n\\item 31\n\\item 45\n\\end{enumerate*}\n\n\\item 'Coche'\n\\item A matrix: 3 × 3 of type int\n\\begin{tabular}{lll}\n\t 1 & 4 & 7\\\\\n\t 2 & 5 & 8\\\\\n\t 3 & 6 & 9\\\\\n\\end{tabular}\n\n\\end{enumerate}\n",
            "text/plain": [
              "[[1]]\n",
              "[1] 27 29 31 45\n",
              "\n",
              "[[2]]\n",
              "[1] \"Coche\"\n",
              "\n",
              "[[3]]\n",
              "     [,1] [,2] [,3]\n",
              "[1,]    1    4    7\n",
              "[2,]    2    5    8\n",
              "[3,]    3    6    9\n"
            ]
          },
          "metadata": {}
        }
      ]
    },
    {
      "cell_type": "markdown",
      "source": [
        "######**Borrar una lista entera**"
      ],
      "metadata": {
        "id": "UDqvzTV2CgIk"
      }
    },
    {
      "cell_type": "markdown",
      "source": [
        "Si queremos borrar toda una lista, debemos asignar el `NULL` directamente a la lista, no solo a uno de sus elementos:"
      ],
      "metadata": {
        "id": "LPWM8JH6CnSP"
      }
    },
    {
      "cell_type": "code",
      "source": [
        "lista_NULL <- lista_sin_nombres\n",
        "lista_NULL "
      ],
      "metadata": {
        "colab": {
          "base_uri": "https://localhost:8080/",
          "height": 243
        },
        "id": "pJbn7BYIClYD",
        "outputId": "a4caf53f-7f33-4516-9ca9-162ca07047fd"
      },
      "execution_count": null,
      "outputs": [
        {
          "output_type": "display_data",
          "data": {
            "text/html": [
              "<ol>\n",
              "\t<li><style>\n",
              ".list-inline {list-style: none; margin:0; padding: 0}\n",
              ".list-inline>li {display: inline-block}\n",
              ".list-inline>li:not(:last-child)::after {content: \"\\00b7\"; padding: 0 .5ex}\n",
              "</style>\n",
              "<ol class=list-inline><li>27</li><li>29</li><li>31</li><li>45</li></ol>\n",
              "</li>\n",
              "\t<li>'Coche'</li>\n",
              "\t<li><table class=\"dataframe\">\n",
              "<caption>A matrix: 3 × 3 of type int</caption>\n",
              "<tbody>\n",
              "\t<tr><td>1</td><td>4</td><td>7</td></tr>\n",
              "\t<tr><td>2</td><td>5</td><td>8</td></tr>\n",
              "\t<tr><td>3</td><td>6</td><td>9</td></tr>\n",
              "</tbody>\n",
              "</table>\n",
              "</li>\n",
              "\t<li>'EYYYYYY'</li>\n",
              "</ol>\n"
            ],
            "text/markdown": "1. 1. 27\n2. 29\n3. 31\n4. 45\n\n\n\n2. 'Coche'\n3. \nA matrix: 3 × 3 of type int\n\n| 1 | 4 | 7 |\n| 2 | 5 | 8 |\n| 3 | 6 | 9 |\n\n\n4. 'EYYYYYY'\n\n\n",
            "text/latex": "\\begin{enumerate}\n\\item \\begin{enumerate*}\n\\item 27\n\\item 29\n\\item 31\n\\item 45\n\\end{enumerate*}\n\n\\item 'Coche'\n\\item A matrix: 3 × 3 of type int\n\\begin{tabular}{lll}\n\t 1 & 4 & 7\\\\\n\t 2 & 5 & 8\\\\\n\t 3 & 6 & 9\\\\\n\\end{tabular}\n\n\\item 'EYYYYYY'\n\\end{enumerate}\n",
            "text/plain": [
              "[[1]]\n",
              "[1] 27 29 31 45\n",
              "\n",
              "[[2]]\n",
              "[1] \"Coche\"\n",
              "\n",
              "[[3]]\n",
              "     [,1] [,2] [,3]\n",
              "[1,]    1    4    7\n",
              "[2,]    2    5    8\n",
              "[3,]    3    6    9\n",
              "\n",
              "[[4]]\n",
              "[1] \"EYYYYYY\"\n"
            ]
          },
          "metadata": {}
        }
      ]
    },
    {
      "cell_type": "code",
      "source": [
        "lista_NULL <- NULL\n",
        "lista_NULL"
      ],
      "metadata": {
        "colab": {
          "base_uri": "https://localhost:8080/",
          "height": 34
        },
        "id": "eVoGkj4tC4YY",
        "outputId": "cb8311fc-21f3-4f79-85e2-54836e3a5ab8"
      },
      "execution_count": null,
      "outputs": [
        {
          "output_type": "display_data",
          "data": {
            "text/plain": [
              "NULL"
            ]
          },
          "metadata": {}
        }
      ]
    },
    {
      "cell_type": "markdown",
      "source": [
        "######**Listas anidadas**"
      ],
      "metadata": {
        "id": "Ol4-BqcZDB2Q"
      }
    },
    {
      "cell_type": "markdown",
      "source": [
        "Se conocen como anidadas aquellas listas que contienen en su interior otras listas. Estas listas, a su vez, pueden contener otras listas, etc. Para crearlas debemos emplear la función `list()`.\n",
        "\n",
        "Veámos un ejemplo:"
      ],
      "metadata": {
        "id": "XIC_avn2DE8s"
      }
    },
    {
      "cell_type": "code",
      "source": [
        "lista_anidada_1 <- list(\"Hola\", \"¿Cómo\")\n",
        "lista_anidada_2 <- list(\"está\", \"usted?\")\n",
        "super_lista <- list(lista_1, lista_2, \"Estoy bien\", c(27, 41, 1099))\n",
        "super_lista"
      ],
      "metadata": {
        "colab": {
          "base_uri": "https://localhost:8080/",
          "height": 149
        },
        "id": "kAAKEsMPDbn3",
        "outputId": "06d856c6-1fd7-459e-f41c-644e87ee3085"
      },
      "execution_count": null,
      "outputs": [
        {
          "output_type": "display_data",
          "data": {
            "text/html": [
              "<ol>\n",
              "\t<li><ol>\n",
              "\t<li>'Hola'</li>\n",
              "\t<li>'¿Cómo'</li>\n",
              "</ol>\n",
              "</li>\n",
              "\t<li><ol>\n",
              "\t<li>'está'</li>\n",
              "\t<li>'usted?'</li>\n",
              "</ol>\n",
              "</li>\n",
              "\t<li>'Estoy bien'</li>\n",
              "\t<li><style>\n",
              ".list-inline {list-style: none; margin:0; padding: 0}\n",
              ".list-inline>li {display: inline-block}\n",
              ".list-inline>li:not(:last-child)::after {content: \"\\00b7\"; padding: 0 .5ex}\n",
              "</style>\n",
              "<ol class=list-inline><li>27</li><li>41</li><li>1099</li></ol>\n",
              "</li>\n",
              "</ol>\n"
            ],
            "text/markdown": "1. 1. 'Hola'\n2. '¿Cómo'\n\n\n\n2. 1. 'está'\n2. 'usted?'\n\n\n\n3. 'Estoy bien'\n4. 1. 27\n2. 41\n3. 1099\n\n\n\n\n\n",
            "text/latex": "\\begin{enumerate}\n\\item \\begin{enumerate}\n\\item 'Hola'\n\\item '¿Cómo'\n\\end{enumerate}\n\n\\item \\begin{enumerate}\n\\item 'está'\n\\item 'usted?'\n\\end{enumerate}\n\n\\item 'Estoy bien'\n\\item \\begin{enumerate*}\n\\item 27\n\\item 41\n\\item 1099\n\\end{enumerate*}\n\n\\end{enumerate}\n",
            "text/plain": [
              "[[1]]\n",
              "[[1]][[1]]\n",
              "[1] \"Hola\"\n",
              "\n",
              "[[1]][[2]]\n",
              "[1] \"¿Cómo\"\n",
              "\n",
              "\n",
              "[[2]]\n",
              "[[2]][[1]]\n",
              "[1] \"está\"\n",
              "\n",
              "[[2]][[2]]\n",
              "[1] \"usted?\"\n",
              "\n",
              "\n",
              "[[3]]\n",
              "[1] \"Estoy bien\"\n",
              "\n",
              "[[4]]\n",
              "[1]   27   41 1099\n"
            ]
          },
          "metadata": {}
        }
      ]
    },
    {
      "cell_type": "markdown",
      "source": [
        "######**Acceder a los elementos de una lista anidada**"
      ],
      "metadata": {
        "id": "ysKktxVqEJFQ"
      }
    },
    {
      "cell_type": "markdown",
      "source": [
        "El método para acceder a los elementos de una lista anidada es muy similar al empleado para acceder a los de una lista no anidada:\n",
        "```\n",
        "lista[[posicion_lista_aninada_a_acceder]][[posicion_elemento_a_acceder_dentro_de_la_lista_anidada]]\n",
        "```"
      ],
      "metadata": {
        "id": "-GNVmtysEP5c"
      }
    },
    {
      "cell_type": "code",
      "source": [
        "#Accedemos al primer elemento de la super_lista: lista_anidada_1\n",
        "super_lista[[1]]"
      ],
      "metadata": {
        "colab": {
          "base_uri": "https://localhost:8080/",
          "height": 80
        },
        "id": "DKUY_wY6EPHz",
        "outputId": "0275d246-a7c5-451b-e0c7-c6d05236445d"
      },
      "execution_count": null,
      "outputs": [
        {
          "output_type": "display_data",
          "data": {
            "text/html": [
              "<ol>\n",
              "\t<li>'Hola'</li>\n",
              "\t<li>'¿Cómo'</li>\n",
              "</ol>\n"
            ],
            "text/markdown": "1. 'Hola'\n2. '¿Cómo'\n\n\n",
            "text/latex": "\\begin{enumerate}\n\\item 'Hola'\n\\item '¿Cómo'\n\\end{enumerate}\n",
            "text/plain": [
              "[[1]]\n",
              "[1] \"Hola\"\n",
              "\n",
              "[[2]]\n",
              "[1] \"¿Cómo\"\n"
            ]
          },
          "metadata": {}
        }
      ]
    },
    {
      "cell_type": "code",
      "source": [
        "#Accedemos al segundo elemento de la lista_anidada_1:\n",
        "super_lista[[1]][[2]]"
      ],
      "metadata": {
        "colab": {
          "base_uri": "https://localhost:8080/",
          "height": 34
        },
        "id": "Airxg2m6FNQ3",
        "outputId": "f461e437-60d8-40da-8252-23441bfff749"
      },
      "execution_count": null,
      "outputs": [
        {
          "output_type": "display_data",
          "data": {
            "text/html": [
              "'¿Cómo'"
            ],
            "text/markdown": "'¿Cómo'",
            "text/latex": "'¿Cómo'",
            "text/plain": [
              "[1] \"¿Cómo\""
            ]
          },
          "metadata": {}
        }
      ]
    },
    {
      "cell_type": "markdown",
      "source": [
        "También podemos extraer una lista anidada en una nueva variable, y extraer los elementos de la lista almacenada en esa variable:"
      ],
      "metadata": {
        "id": "6sU5H8OHFgqf"
      }
    },
    {
      "cell_type": "code",
      "source": [
        "lista_anidada_extraida <- super_lista[[2]]\n",
        "lista_anidada_extraida[1]"
      ],
      "metadata": {
        "colab": {
          "base_uri": "https://localhost:8080/",
          "height": 61
        },
        "id": "ecwSwVoUFocw",
        "outputId": "9af98d16-5de0-44f2-a590-79dbf3b865a7"
      },
      "execution_count": null,
      "outputs": [
        {
          "output_type": "display_data",
          "data": {
            "text/html": [
              "<ol>\n",
              "\t<li>'está'</li>\n",
              "</ol>\n"
            ],
            "text/markdown": "1. 'está'\n\n\n",
            "text/latex": "\\begin{enumerate}\n\\item 'está'\n\\end{enumerate}\n",
            "text/plain": [
              "[[1]]\n",
              "[1] \"está\"\n"
            ]
          },
          "metadata": {}
        }
      ]
    },
    {
      "cell_type": "markdown",
      "source": [
        "######**Unir listas**"
      ],
      "metadata": {
        "id": "wi1dSO2KF74K"
      }
    },
    {
      "cell_type": "markdown",
      "source": [
        "El concepto puede parecer similar al de las listas anidadas, sin embargo, es diferente: al unir listas, los elementos de la segunda entrarán en la primera. Tenemos dos funciones para ello: `append()` o `c()`. El código es el siguiente:\n",
        "```\n",
        "union_de_listas <- append(primera_lista, segunda_lista)\n",
        "\n",
        "union_de_listas <- c(primera_lista, segunda_lista)\n",
        "```"
      ],
      "metadata": {
        "id": "VXOgiVNxF-jS"
      }
    },
    {
      "cell_type": "code",
      "source": [
        "lista_union_1 <- c(1:3)\n",
        "lista_union_2 <- c(4:6)\n",
        "lista_unidad <- append(lista_union_1, lista_union_2)\n",
        "lista_unidad"
      ],
      "metadata": {
        "colab": {
          "base_uri": "https://localhost:8080/",
          "height": 34
        },
        "id": "Bg8ZHrElGXuC",
        "outputId": "9cdefad0-4c9c-43c8-fd2a-a3abea80d1dc"
      },
      "execution_count": null,
      "outputs": [
        {
          "output_type": "display_data",
          "data": {
            "text/html": [
              "<style>\n",
              ".list-inline {list-style: none; margin:0; padding: 0}\n",
              ".list-inline>li {display: inline-block}\n",
              ".list-inline>li:not(:last-child)::after {content: \"\\00b7\"; padding: 0 .5ex}\n",
              "</style>\n",
              "<ol class=list-inline><li>1</li><li>2</li><li>3</li><li>4</li><li>5</li><li>6</li></ol>\n"
            ],
            "text/markdown": "1. 1\n2. 2\n3. 3\n4. 4\n5. 5\n6. 6\n\n\n",
            "text/latex": "\\begin{enumerate*}\n\\item 1\n\\item 2\n\\item 3\n\\item 4\n\\item 5\n\\item 6\n\\end{enumerate*}\n",
            "text/plain": [
              "[1] 1 2 3 4 5 6"
            ]
          },
          "metadata": {}
        }
      ]
    },
    {
      "cell_type": "code",
      "source": [
        "lista_union_3 <- c(7:10)\n",
        "lista_unidad <- c(lista_unidad, lista_union_3)\n",
        "lista_unidad"
      ],
      "metadata": {
        "colab": {
          "base_uri": "https://localhost:8080/",
          "height": 34
        },
        "id": "Xrl5Jqb-HBI0",
        "outputId": "afb8ce48-fc7d-4c75-cb86-99523f107c38"
      },
      "execution_count": null,
      "outputs": [
        {
          "output_type": "display_data",
          "data": {
            "text/html": [
              "<style>\n",
              ".list-inline {list-style: none; margin:0; padding: 0}\n",
              ".list-inline>li {display: inline-block}\n",
              ".list-inline>li:not(:last-child)::after {content: \"\\00b7\"; padding: 0 .5ex}\n",
              "</style>\n",
              "<ol class=list-inline><li>1</li><li>2</li><li>3</li><li>4</li><li>5</li><li>6</li><li>7</li><li>8</li><li>9</li><li>10</li><li>7</li><li>8</li><li>9</li><li>10</li></ol>\n"
            ],
            "text/markdown": "1. 1\n2. 2\n3. 3\n4. 4\n5. 5\n6. 6\n7. 7\n8. 8\n9. 9\n10. 10\n11. 7\n12. 8\n13. 9\n14. 10\n\n\n",
            "text/latex": "\\begin{enumerate*}\n\\item 1\n\\item 2\n\\item 3\n\\item 4\n\\item 5\n\\item 6\n\\item 7\n\\item 8\n\\item 9\n\\item 10\n\\item 7\n\\item 8\n\\item 9\n\\item 10\n\\end{enumerate*}\n",
            "text/plain": [
              " [1]  1  2  3  4  5  6  7  8  9 10  7  8  9 10"
            ]
          },
          "metadata": {}
        }
      ]
    },
    {
      "cell_type": "markdown",
      "source": [
        "######**Juntar listas con los mismos nombres**"
      ],
      "metadata": {
        "id": "z5VPdmgXHb-y"
      }
    },
    {
      "cell_type": "markdown",
      "source": [
        "Si tenemos dos o más listas con elementos con los mismos nombres, podemos fusionar los elementos de la lista con una lista de la misma longitud que las anteriores, donde se concatenarán los elementos con el mismo nombre. Para ello, usamos las funciones `Map()` o `mapply()` en combinación con la función `c()` antes vista:\n",
        "```\n",
        "Map(c, lista_con_nombres_1, lista_con_nombres_2)\n",
        "\n",
        "mapply(c, lista_con_nombres_1, lista_con_nombres_2)\n",
        "```"
      ],
      "metadata": {
        "id": "olICoKPuHiJf"
      }
    },
    {
      "cell_type": "code",
      "source": [
        "lista_con_nombres_1 <- list(A=1, B=2, C=3)\n",
        "lista_con_nombres_2 <- list(A=\"Moto\", B=\"Casa\", C=89)\n",
        "super_lista_con_nombres <- Map(c, lista_con_nombres_1, lista_con_nombres_2)\n",
        "super_lista_con_nombres"
      ],
      "metadata": {
        "colab": {
          "base_uri": "https://localhost:8080/",
          "height": 149
        },
        "id": "7HSA0IGeHgt5",
        "outputId": "302ff129-ea05-4fca-a6ec-79ff4a32c26b"
      },
      "execution_count": null,
      "outputs": [
        {
          "output_type": "display_data",
          "data": {
            "text/html": [
              "<dl>\n",
              "\t<dt>$A</dt>\n",
              "\t\t<dd><style>\n",
              ".list-inline {list-style: none; margin:0; padding: 0}\n",
              ".list-inline>li {display: inline-block}\n",
              ".list-inline>li:not(:last-child)::after {content: \"\\00b7\"; padding: 0 .5ex}\n",
              "</style>\n",
              "<ol class=list-inline><li>'1'</li><li>'Moto'</li></ol>\n",
              "</dd>\n",
              "\t<dt>$B</dt>\n",
              "\t\t<dd><style>\n",
              ".list-inline {list-style: none; margin:0; padding: 0}\n",
              ".list-inline>li {display: inline-block}\n",
              ".list-inline>li:not(:last-child)::after {content: \"\\00b7\"; padding: 0 .5ex}\n",
              "</style>\n",
              "<ol class=list-inline><li>'2'</li><li>'Casa'</li></ol>\n",
              "</dd>\n",
              "\t<dt>$C</dt>\n",
              "\t\t<dd><style>\n",
              ".list-inline {list-style: none; margin:0; padding: 0}\n",
              ".list-inline>li {display: inline-block}\n",
              ".list-inline>li:not(:last-child)::after {content: \"\\00b7\"; padding: 0 .5ex}\n",
              "</style>\n",
              "<ol class=list-inline><li>3</li><li>89</li></ol>\n",
              "</dd>\n",
              "</dl>\n"
            ],
            "text/markdown": "$A\n:   1. '1'\n2. 'Moto'\n\n\n\n$B\n:   1. '2'\n2. 'Casa'\n\n\n\n$C\n:   1. 3\n2. 89\n\n\n\n\n\n",
            "text/latex": "\\begin{description}\n\\item[\\$A] \\begin{enumerate*}\n\\item '1'\n\\item 'Moto'\n\\end{enumerate*}\n\n\\item[\\$B] \\begin{enumerate*}\n\\item '2'\n\\item 'Casa'\n\\end{enumerate*}\n\n\\item[\\$C] \\begin{enumerate*}\n\\item 3\n\\item 89\n\\end{enumerate*}\n\n\\end{description}\n",
            "text/plain": [
              "$A\n",
              "[1] \"1\"    \"Moto\"\n",
              "\n",
              "$B\n",
              "[1] \"2\"    \"Casa\"\n",
              "\n",
              "$C\n",
              "[1]  3 89\n"
            ]
          },
          "metadata": {}
        }
      ]
    },
    {
      "cell_type": "code",
      "source": [
        "lista_con_nombres_3 <- list(A=\"27\", B=c(4, 5), C=0)\n",
        "super_lista_con_nombres <- mapply(c, super_lista_con_nombres, lista_con_nombres_3)\n",
        "super_lista_con_nombres"
      ],
      "metadata": {
        "colab": {
          "base_uri": "https://localhost:8080/",
          "height": 149
        },
        "id": "Vx7ZGG2rIyvg",
        "outputId": "d3f36473-763e-4e7c-d535-f9f60f1d9bab"
      },
      "execution_count": null,
      "outputs": [
        {
          "output_type": "display_data",
          "data": {
            "text/html": [
              "<dl>\n",
              "\t<dt>$A</dt>\n",
              "\t\t<dd><style>\n",
              ".list-inline {list-style: none; margin:0; padding: 0}\n",
              ".list-inline>li {display: inline-block}\n",
              ".list-inline>li:not(:last-child)::after {content: \"\\00b7\"; padding: 0 .5ex}\n",
              "</style>\n",
              "<ol class=list-inline><li>'1'</li><li>'Moto'</li><li>'27'</li></ol>\n",
              "</dd>\n",
              "\t<dt>$B</dt>\n",
              "\t\t<dd><style>\n",
              ".list-inline {list-style: none; margin:0; padding: 0}\n",
              ".list-inline>li {display: inline-block}\n",
              ".list-inline>li:not(:last-child)::after {content: \"\\00b7\"; padding: 0 .5ex}\n",
              "</style>\n",
              "<ol class=list-inline><li>'2'</li><li>'Casa'</li><li>'4'</li><li>'5'</li></ol>\n",
              "</dd>\n",
              "\t<dt>$C</dt>\n",
              "\t\t<dd><style>\n",
              ".list-inline {list-style: none; margin:0; padding: 0}\n",
              ".list-inline>li {display: inline-block}\n",
              ".list-inline>li:not(:last-child)::after {content: \"\\00b7\"; padding: 0 .5ex}\n",
              "</style>\n",
              "<ol class=list-inline><li>3</li><li>89</li><li>0</li></ol>\n",
              "</dd>\n",
              "</dl>\n"
            ],
            "text/markdown": "$A\n:   1. '1'\n2. 'Moto'\n3. '27'\n\n\n\n$B\n:   1. '2'\n2. 'Casa'\n3. '4'\n4. '5'\n\n\n\n$C\n:   1. 3\n2. 89\n3. 0\n\n\n\n\n\n",
            "text/latex": "\\begin{description}\n\\item[\\$A] \\begin{enumerate*}\n\\item '1'\n\\item 'Moto'\n\\item '27'\n\\end{enumerate*}\n\n\\item[\\$B] \\begin{enumerate*}\n\\item '2'\n\\item 'Casa'\n\\item '4'\n\\item '5'\n\\end{enumerate*}\n\n\\item[\\$C] \\begin{enumerate*}\n\\item 3\n\\item 89\n\\item 0\n\\end{enumerate*}\n\n\\end{description}\n",
            "text/plain": [
              "$A\n",
              "[1] \"1\"    \"Moto\" \"27\"  \n",
              "\n",
              "$B\n",
              "[1] \"2\"    \"Casa\" \"4\"    \"5\"   \n",
              "\n",
              "$C\n",
              "[1]  3 89  0\n"
            ]
          },
          "metadata": {}
        }
      ]
    },
    {
      "cell_type": "markdown",
      "source": [
        "######**Conocer los elementos comunes entre dos o más listas**"
      ],
      "metadata": {
        "id": "jCt77RbJJM9A"
      }
    },
    {
      "cell_type": "markdown",
      "source": [
        "Para saber qué elementos tienen en común dos o más listas, debemos usar la función `intersect()`"
      ],
      "metadata": {
        "id": "OjI8By05JrV1"
      }
    },
    {
      "cell_type": "code",
      "source": [
        "lista_comparar_1 <- list(1, 69, \"4x4\", 27)\n",
        "lista_comparar_2 <- list(\"4x4\", 27, \"Coche\", c(4, 5))\n",
        "intersect(lista_comparar_1, lista_comparar_2)"
      ],
      "metadata": {
        "colab": {
          "base_uri": "https://localhost:8080/",
          "height": 80
        },
        "id": "0HNwuF75Jx6p",
        "outputId": "8cea4efa-b482-48f5-9a14-abb0569574cc"
      },
      "execution_count": null,
      "outputs": [
        {
          "output_type": "display_data",
          "data": {
            "text/html": [
              "<ol>\n",
              "\t<li>'4x4'</li>\n",
              "\t<li>27</li>\n",
              "</ol>\n"
            ],
            "text/markdown": "1. '4x4'\n2. 27\n\n\n",
            "text/latex": "\\begin{enumerate}\n\\item '4x4'\n\\item 27\n\\end{enumerate}\n",
            "text/plain": [
              "[[1]]\n",
              "[1] \"4x4\"\n",
              "\n",
              "[[2]]\n",
              "[1] 27\n"
            ]
          },
          "metadata": {}
        }
      ]
    },
    {
      "cell_type": "markdown",
      "source": [
        "######**Conocer los elementos diferentes entre dos o más listas**"
      ],
      "metadata": {
        "id": "0t3aFrXsJR5M"
      }
    },
    {
      "cell_type": "markdown",
      "source": [
        "Para saber qué elementos difieren entre las listas, debemos usar la función `setdiff()`. En este caso, el orden importa de introducción de las listas en la función importa:"
      ],
      "metadata": {
        "id": "AzopW2AQKONA"
      }
    },
    {
      "cell_type": "code",
      "source": [
        "#¿Qué elementos está en lista_comparar_1 que no están en lista_comparar_2?\n",
        "setdiff(lista_comparar_1, lista_comparar_2)"
      ],
      "metadata": {
        "colab": {
          "base_uri": "https://localhost:8080/",
          "height": 80
        },
        "id": "_PX1Igs7KdYl",
        "outputId": "c5d6d4f6-aede-4f7b-b701-7b5132e9e430"
      },
      "execution_count": null,
      "outputs": [
        {
          "output_type": "display_data",
          "data": {
            "text/html": [
              "<ol>\n",
              "\t<li>1</li>\n",
              "\t<li>69</li>\n",
              "</ol>\n"
            ],
            "text/markdown": "1. 1\n2. 69\n\n\n",
            "text/latex": "\\begin{enumerate}\n\\item 1\n\\item 69\n\\end{enumerate}\n",
            "text/plain": [
              "[[1]]\n",
              "[1] 1\n",
              "\n",
              "[[2]]\n",
              "[1] 69\n"
            ]
          },
          "metadata": {}
        }
      ]
    },
    {
      "cell_type": "code",
      "source": [
        "#¿Qué elementos está en lista_comparar_2 que no están en lista_comparar_1?\n",
        "setdiff(lista_comparar_2, lista_comparar_1)"
      ],
      "metadata": {
        "colab": {
          "base_uri": "https://localhost:8080/",
          "height": 80
        },
        "id": "rUnX8b2sKlGH",
        "outputId": "de7586b1-7e85-4159-dc09-ea5a63fd8ad6"
      },
      "execution_count": null,
      "outputs": [
        {
          "output_type": "display_data",
          "data": {
            "text/html": [
              "<ol>\n",
              "\t<li>'Coche'</li>\n",
              "\t<li><style>\n",
              ".list-inline {list-style: none; margin:0; padding: 0}\n",
              ".list-inline>li {display: inline-block}\n",
              ".list-inline>li:not(:last-child)::after {content: \"\\00b7\"; padding: 0 .5ex}\n",
              "</style>\n",
              "<ol class=list-inline><li>4</li><li>5</li></ol>\n",
              "</li>\n",
              "</ol>\n"
            ],
            "text/markdown": "1. 'Coche'\n2. 1. 4\n2. 5\n\n\n\n\n\n",
            "text/latex": "\\begin{enumerate}\n\\item 'Coche'\n\\item \\begin{enumerate*}\n\\item 4\n\\item 5\n\\end{enumerate*}\n\n\\end{enumerate}\n",
            "text/plain": [
              "[[1]]\n",
              "[1] \"Coche\"\n",
              "\n",
              "[[2]]\n",
              "[1] 4 5\n"
            ]
          },
          "metadata": {}
        }
      ]
    },
    {
      "cell_type": "markdown",
      "source": [
        "######**Saber si un elemento está en una lista**"
      ],
      "metadata": {
        "id": "PT0GKespJWPc"
      }
    },
    {
      "cell_type": "markdown",
      "source": [
        "Este método tiene un significado parecido al de conocer los elementos iguales entre dos o más listas. En este caso, le preguntaremos a R si un elemento de una primera lista también está en una segunda, respondiéndonos `TRUE` si se repite y `FALSE` si no lo hace. El operador que permite realizar esta operación es `%in%`:"
      ],
      "metadata": {
        "id": "iTkaEQ3qLFVi"
      }
    },
    {
      "cell_type": "code",
      "source": [
        "lista_comparar_1 %in% lista_comparar_2"
      ],
      "metadata": {
        "colab": {
          "base_uri": "https://localhost:8080/",
          "height": 34
        },
        "id": "hB63Z63sLfTW",
        "outputId": "413940d3-655e-4fe5-8a0f-584b133c50e5"
      },
      "execution_count": null,
      "outputs": [
        {
          "output_type": "display_data",
          "data": {
            "text/html": [
              "<style>\n",
              ".list-inline {list-style: none; margin:0; padding: 0}\n",
              ".list-inline>li {display: inline-block}\n",
              ".list-inline>li:not(:last-child)::after {content: \"\\00b7\"; padding: 0 .5ex}\n",
              "</style>\n",
              "<ol class=list-inline><li>FALSE</li><li>FALSE</li><li>TRUE</li><li>TRUE</li></ol>\n"
            ],
            "text/markdown": "1. FALSE\n2. FALSE\n3. TRUE\n4. TRUE\n\n\n",
            "text/latex": "\\begin{enumerate*}\n\\item FALSE\n\\item FALSE\n\\item TRUE\n\\item TRUE\n\\end{enumerate*}\n",
            "text/plain": [
              "[1] FALSE FALSE  TRUE  TRUE"
            ]
          },
          "metadata": {}
        }
      ]
    },
    {
      "cell_type": "code",
      "source": [
        "lista_comparar_2 %in% lista_comparar_1"
      ],
      "metadata": {
        "colab": {
          "base_uri": "https://localhost:8080/",
          "height": 34
        },
        "id": "E-2EyIuOLkAH",
        "outputId": "86b555e5-aca3-4fb4-93e9-b312d2da0389"
      },
      "execution_count": null,
      "outputs": [
        {
          "output_type": "display_data",
          "data": {
            "text/html": [
              "<style>\n",
              ".list-inline {list-style: none; margin:0; padding: 0}\n",
              ".list-inline>li {display: inline-block}\n",
              ".list-inline>li:not(:last-child)::after {content: \"\\00b7\"; padding: 0 .5ex}\n",
              "</style>\n",
              "<ol class=list-inline><li>TRUE</li><li>TRUE</li><li>FALSE</li><li>FALSE</li></ol>\n"
            ],
            "text/markdown": "1. TRUE\n2. TRUE\n3. FALSE\n4. FALSE\n\n\n",
            "text/latex": "\\begin{enumerate*}\n\\item TRUE\n\\item TRUE\n\\item FALSE\n\\item FALSE\n\\end{enumerate*}\n",
            "text/plain": [
              "[1]  TRUE  TRUE FALSE FALSE"
            ]
          },
          "metadata": {}
        }
      ]
    },
    {
      "cell_type": "markdown",
      "source": [
        "######**Convertir una lista en un vector**"
      ],
      "metadata": {
        "id": "gp9mhGZ2Jdty"
      }
    },
    {
      "cell_type": "markdown",
      "source": [
        "Es posible que, por algún motivo, en algún momento, queramos convertir una lista en un vector. Para ello tenemos la función `unlist()`.\n",
        "\n",
        "Con esta función podemos convertir en vectores tanto elementos concretos de una lista como toda la lista. En este último caso debemos tener en cuenta que tendremos que usar el parámetro `use.names = FALSE` y que todos los elementos de la lista se convertirán en tipo `character`."
      ],
      "metadata": {
        "id": "WLVCWRA5L9Th"
      }
    },
    {
      "cell_type": "code",
      "source": [
        "lista <- list(\"Vecino\", c(4, 5, 8:14), \"INE\")\n",
        "#Convertimos en vector el segundo elemento: el vector con números:\n",
        "unlist(lista[[2]])"
      ],
      "metadata": {
        "colab": {
          "base_uri": "https://localhost:8080/",
          "height": 34
        },
        "id": "R6vgNWFbL8tD",
        "outputId": "fa8f3409-2ddd-48d6-df49-79630ec2fcb2"
      },
      "execution_count": null,
      "outputs": [
        {
          "output_type": "display_data",
          "data": {
            "text/html": [
              "<style>\n",
              ".list-inline {list-style: none; margin:0; padding: 0}\n",
              ".list-inline>li {display: inline-block}\n",
              ".list-inline>li:not(:last-child)::after {content: \"\\00b7\"; padding: 0 .5ex}\n",
              "</style>\n",
              "<ol class=list-inline><li>4</li><li>5</li><li>8</li><li>9</li><li>10</li><li>11</li><li>12</li><li>13</li><li>14</li></ol>\n"
            ],
            "text/markdown": "1. 4\n2. 5\n3. 8\n4. 9\n5. 10\n6. 11\n7. 12\n8. 13\n9. 14\n\n\n",
            "text/latex": "\\begin{enumerate*}\n\\item 4\n\\item 5\n\\item 8\n\\item 9\n\\item 10\n\\item 11\n\\item 12\n\\item 13\n\\item 14\n\\end{enumerate*}\n",
            "text/plain": [
              "[1]  4  5  8  9 10 11 12 13 14"
            ]
          },
          "metadata": {}
        }
      ]
    },
    {
      "cell_type": "code",
      "source": [
        "#Convertimos a vector toda la lista:\n",
        "unlist(lista, use.names = FALSE)"
      ],
      "metadata": {
        "colab": {
          "base_uri": "https://localhost:8080/",
          "height": 34
        },
        "id": "ZojaQgdaM4pM",
        "outputId": "6c10cedb-751b-4791-cb70-09095225bfea"
      },
      "execution_count": null,
      "outputs": [
        {
          "output_type": "display_data",
          "data": {
            "text/html": [
              "<style>\n",
              ".list-inline {list-style: none; margin:0; padding: 0}\n",
              ".list-inline>li {display: inline-block}\n",
              ".list-inline>li:not(:last-child)::after {content: \"\\00b7\"; padding: 0 .5ex}\n",
              "</style>\n",
              "<ol class=list-inline><li>'Vecino'</li><li>'4'</li><li>'5'</li><li>'8'</li><li>'9'</li><li>'10'</li><li>'11'</li><li>'12'</li><li>'13'</li><li>'14'</li><li>'INE'</li></ol>\n"
            ],
            "text/markdown": "1. 'Vecino'\n2. '4'\n3. '5'\n4. '8'\n5. '9'\n6. '10'\n7. '11'\n8. '12'\n9. '13'\n10. '14'\n11. 'INE'\n\n\n",
            "text/latex": "\\begin{enumerate*}\n\\item 'Vecino'\n\\item '4'\n\\item '5'\n\\item '8'\n\\item '9'\n\\item '10'\n\\item '11'\n\\item '12'\n\\item '13'\n\\item '14'\n\\item 'INE'\n\\end{enumerate*}\n",
            "text/plain": [
              " [1] \"Vecino\" \"4\"      \"5\"      \"8\"      \"9\"      \"10\"     \"11\"     \"12\"    \n",
              " [9] \"13\"     \"14\"     \"INE\"   "
            ]
          },
          "metadata": {}
        }
      ]
    },
    {
      "cell_type": "markdown",
      "source": [
        "######**Convertir una lista en un dataframe**"
      ],
      "metadata": {
        "id": "RDsv0g9oJilQ"
      }
    },
    {
      "cell_type": "markdown",
      "source": [
        "Por último, es posible que queramos convertir una lista en una dataframe (otra de las estructuras de datos típicas de R, que veremos a continuación). Los dataframe el formato tabla en R. \n",
        "\n",
        "Para convertir una lista en un dataframe debemos combinar las funciones `unlist`, `matrix` y `data.frame` de la siguiente manera:"
      ],
      "metadata": {
        "id": "rt4SuA4oNSv4"
      }
    },
    {
      "cell_type": "code",
      "source": [
        "lista <- list(c(88, 17, 1212), c(1572, 1969, 1))\n",
        "\n",
        "data.frame(matrix(unlist(lista), nrow = length(lista), byrow = TRUE))"
      ],
      "metadata": {
        "colab": {
          "base_uri": "https://localhost:8080/",
          "height": 161
        },
        "id": "_SWYpBesNxHW",
        "outputId": "5f173f00-65dc-44d3-c40f-670a7f740c48"
      },
      "execution_count": null,
      "outputs": [
        {
          "output_type": "display_data",
          "data": {
            "text/html": [
              "<table class=\"dataframe\">\n",
              "<caption>A data.frame: 2 × 3</caption>\n",
              "<thead>\n",
              "\t<tr><th scope=col>X1</th><th scope=col>X2</th><th scope=col>X3</th></tr>\n",
              "\t<tr><th scope=col>&lt;dbl&gt;</th><th scope=col>&lt;dbl&gt;</th><th scope=col>&lt;dbl&gt;</th></tr>\n",
              "</thead>\n",
              "<tbody>\n",
              "\t<tr><td>  88</td><td>  17</td><td>1212</td></tr>\n",
              "\t<tr><td>1572</td><td>1969</td><td>   1</td></tr>\n",
              "</tbody>\n",
              "</table>\n"
            ],
            "text/markdown": "\nA data.frame: 2 × 3\n\n| X1 &lt;dbl&gt; | X2 &lt;dbl&gt; | X3 &lt;dbl&gt; |\n|---|---|---|\n|   88 |   17 | 1212 |\n| 1572 | 1969 |    1 |\n\n",
            "text/latex": "A data.frame: 2 × 3\n\\begin{tabular}{lll}\n X1 & X2 & X3\\\\\n <dbl> & <dbl> & <dbl>\\\\\n\\hline\n\t   88 &   17 & 1212\\\\\n\t 1572 & 1969 &    1\\\\\n\\end{tabular}\n",
            "text/plain": [
              "  X1   X2   X3  \n",
              "1   88   17 1212\n",
              "2 1572 1969    1"
            ]
          },
          "metadata": {}
        }
      ]
    },
    {
      "cell_type": "markdown",
      "source": [
        "###**Dataframes**"
      ],
      "metadata": {
        "id": "CXnDE3zmOD-q"
      }
    },
    {
      "cell_type": "markdown",
      "source": [
        "Los dataframes son estructuras de datos de dos dimensiones (rectangulares), que pueden contener datos de diferentes tipos. Dada su versatilidad, esta estructura de datos es la más usada para realizar análisis de datos, por lo que es el tipo de estructura que más vamos a utilizar en este proyecto del INE.\n",
        "\n",
        "Podemos entender a los dataframes como una versión más flexible de una matriz. Mientras que en una matriz todas las celdas deben contener datos del mismo tipo, las filas de un dataframe admiten datos de distintos tipos, pero sus columnas conservan la restricción de contener datos de un sólo tipo. Esto es así porque las columnas de un dataframe son vectores que, recordemos, deben contener elementos del mismo tipo.\n",
        "\n",
        "Asimismo, en términos generales, las filas en un dataframe representan casos, individuos u observaciones, mientras que las columnas representan atributos, rasgos o variables. Los dataframes son, en general, tablas de datos, con una estructura similar a las que podemos utilizar en Excel o CSV."
      ],
      "metadata": {
        "id": "P8YI1laOpHgJ"
      }
    },
    {
      "cell_type": "markdown",
      "source": [
        "######**Cómo crear un dataframe**"
      ],
      "metadata": {
        "id": "gIS6Q6DjTitX"
      }
    },
    {
      "cell_type": "markdown",
      "source": [
        "En general, podemos crear un dataframe en R mediante la función `data.frame()`. No obstante, como podemos comprobar en otros cuadernos de este proyecto que hacen análisis de datos en R, en general, las funciones de lectura de ficheros Excel, CSV o similares, ya incluyen en su interior la función `data.frame()`, por lo que al usar estas funciones de lectura, obtendremos directamente dataframes.\n",
        "\n",
        "De todas formas, veámos un sencillo ejemplo de dataframe en R:"
      ],
      "metadata": {
        "id": "yEp_r-mCTU79"
      }
    },
    {
      "cell_type": "code",
      "source": [
        "temperatura <- c(20.37, 18.56, 18.4, 21.96, 29.53, 28.16,\n",
        "          36.38, 36.62, 40.03, 27.59, 22.15, 19.85)\n",
        "humedad <- c(88, 86, 81, 79, 80, 78,\n",
        "             71, 69, 78, 82, 85, 83)\n",
        "precipitaciones <- c(72, 33.9, 37.5, 36.6, 31.0, 16.6,\n",
        "                     1.2, 6.8, 36.8, 30.8, 38.5, 22.7)\n",
        "mes <- c(\"Enero\", \"Febrero\", \"Marzo\", \"Abril\", \"Mayo\", \"Junio\",\n",
        "         \"Julio\", \"Agosto\", \"Septiembre\", \"Octubre\", \"Noviembre\", \"Diciembre\")\n",
        "#Creamos el dataframe con los vectores anteriores:\n",
        "dataframe <- data.frame(Mes = mes, Temperatura = temperatura, Humedad = humedad, Precipitaciones = precipitaciones)\n",
        "dataframe"
      ],
      "metadata": {
        "id": "jv0YkQfWs3N4",
        "colab": {
          "base_uri": "https://localhost:8080/",
          "height": 474
        },
        "outputId": "d61d2511-6393-42bb-a01d-f29b2c3c13ac"
      },
      "execution_count": null,
      "outputs": [
        {
          "output_type": "display_data",
          "data": {
            "text/html": [
              "<table class=\"dataframe\">\n",
              "<caption>A data.frame: 12 × 4</caption>\n",
              "<thead>\n",
              "\t<tr><th scope=col>Mes</th><th scope=col>Temperatura</th><th scope=col>Humedad</th><th scope=col>Precipitaciones</th></tr>\n",
              "\t<tr><th scope=col>&lt;chr&gt;</th><th scope=col>&lt;dbl&gt;</th><th scope=col>&lt;dbl&gt;</th><th scope=col>&lt;dbl&gt;</th></tr>\n",
              "</thead>\n",
              "<tbody>\n",
              "\t<tr><td>Enero     </td><td>20.37</td><td>88</td><td>72.0</td></tr>\n",
              "\t<tr><td>Febrero   </td><td>18.56</td><td>86</td><td>33.9</td></tr>\n",
              "\t<tr><td>Marzo     </td><td>18.40</td><td>81</td><td>37.5</td></tr>\n",
              "\t<tr><td>Abril     </td><td>21.96</td><td>79</td><td>36.6</td></tr>\n",
              "\t<tr><td>Mayo      </td><td>29.53</td><td>80</td><td>31.0</td></tr>\n",
              "\t<tr><td>Junio     </td><td>28.16</td><td>78</td><td>16.6</td></tr>\n",
              "\t<tr><td>Julio     </td><td>36.38</td><td>71</td><td> 1.2</td></tr>\n",
              "\t<tr><td>Agosto    </td><td>36.62</td><td>69</td><td> 6.8</td></tr>\n",
              "\t<tr><td>Septiembre</td><td>40.03</td><td>78</td><td>36.8</td></tr>\n",
              "\t<tr><td>Octubre   </td><td>27.59</td><td>82</td><td>30.8</td></tr>\n",
              "\t<tr><td>Noviembre </td><td>22.15</td><td>85</td><td>38.5</td></tr>\n",
              "\t<tr><td>Diciembre </td><td>19.85</td><td>83</td><td>22.7</td></tr>\n",
              "</tbody>\n",
              "</table>\n"
            ],
            "text/markdown": "\nA data.frame: 12 × 4\n\n| Mes &lt;chr&gt; | Temperatura &lt;dbl&gt; | Humedad &lt;dbl&gt; | Precipitaciones &lt;dbl&gt; |\n|---|---|---|---|\n| Enero      | 20.37 | 88 | 72.0 |\n| Febrero    | 18.56 | 86 | 33.9 |\n| Marzo      | 18.40 | 81 | 37.5 |\n| Abril      | 21.96 | 79 | 36.6 |\n| Mayo       | 29.53 | 80 | 31.0 |\n| Junio      | 28.16 | 78 | 16.6 |\n| Julio      | 36.38 | 71 |  1.2 |\n| Agosto     | 36.62 | 69 |  6.8 |\n| Septiembre | 40.03 | 78 | 36.8 |\n| Octubre    | 27.59 | 82 | 30.8 |\n| Noviembre  | 22.15 | 85 | 38.5 |\n| Diciembre  | 19.85 | 83 | 22.7 |\n\n",
            "text/latex": "A data.frame: 12 × 4\n\\begin{tabular}{llll}\n Mes & Temperatura & Humedad & Precipitaciones\\\\\n <chr> & <dbl> & <dbl> & <dbl>\\\\\n\\hline\n\t Enero      & 20.37 & 88 & 72.0\\\\\n\t Febrero    & 18.56 & 86 & 33.9\\\\\n\t Marzo      & 18.40 & 81 & 37.5\\\\\n\t Abril      & 21.96 & 79 & 36.6\\\\\n\t Mayo       & 29.53 & 80 & 31.0\\\\\n\t Junio      & 28.16 & 78 & 16.6\\\\\n\t Julio      & 36.38 & 71 &  1.2\\\\\n\t Agosto     & 36.62 & 69 &  6.8\\\\\n\t Septiembre & 40.03 & 78 & 36.8\\\\\n\t Octubre    & 27.59 & 82 & 30.8\\\\\n\t Noviembre  & 22.15 & 85 & 38.5\\\\\n\t Diciembre  & 19.85 & 83 & 22.7\\\\\n\\end{tabular}\n",
            "text/plain": [
              "   Mes        Temperatura Humedad Precipitaciones\n",
              "1  Enero      20.37       88      72.0           \n",
              "2  Febrero    18.56       86      33.9           \n",
              "3  Marzo      18.40       81      37.5           \n",
              "4  Abril      21.96       79      36.6           \n",
              "5  Mayo       29.53       80      31.0           \n",
              "6  Junio      28.16       78      16.6           \n",
              "7  Julio      36.38       71       1.2           \n",
              "8  Agosto     36.62       69       6.8           \n",
              "9  Septiembre 40.03       78      36.8           \n",
              "10 Octubre    27.59       82      30.8           \n",
              "11 Noviembre  22.15       85      38.5           \n",
              "12 Diciembre  19.85       83      22.7           "
            ]
          },
          "metadata": {}
        }
      ]
    },
    {
      "cell_type": "markdown",
      "source": [
        "######**Dimensiones de un dataframe**\n"
      ],
      "metadata": {
        "id": "KRuc1_LFToFL"
      }
    },
    {
      "cell_type": "markdown",
      "source": [
        "En R, contamos con dos funciones básicas para conocer las dimensiones de un dataframe: `dim()` y `length()`.\n",
        "\n",
        "En realidad, solo `dim()` nos da las dos dimensiones del dataframe, pues `length()` únicamente nos informa del número de columnas:"
      ],
      "metadata": {
        "id": "cZHV0wpkT0z1"
      }
    },
    {
      "cell_type": "code",
      "source": [
        "dim(dataframe)\n",
        "#El dataframe tiene doce filas y cuatro columnas"
      ],
      "metadata": {
        "colab": {
          "base_uri": "https://localhost:8080/",
          "height": 34
        },
        "id": "6uPaxKupUW4g",
        "outputId": "3fe928b2-dd59-459a-d380-eb1dfe5c72ce"
      },
      "execution_count": null,
      "outputs": [
        {
          "output_type": "display_data",
          "data": {
            "text/html": [
              "<style>\n",
              ".list-inline {list-style: none; margin:0; padding: 0}\n",
              ".list-inline>li {display: inline-block}\n",
              ".list-inline>li:not(:last-child)::after {content: \"\\00b7\"; padding: 0 .5ex}\n",
              "</style>\n",
              "<ol class=list-inline><li>12</li><li>4</li></ol>\n"
            ],
            "text/markdown": "1. 12\n2. 4\n\n\n",
            "text/latex": "\\begin{enumerate*}\n\\item 12\n\\item 4\n\\end{enumerate*}\n",
            "text/plain": [
              "[1] 12  4"
            ]
          },
          "metadata": {}
        }
      ]
    },
    {
      "cell_type": "code",
      "source": [
        "length(dataframe)\n",
        "#El dataframe tiene cuatro columnas"
      ],
      "metadata": {
        "colab": {
          "base_uri": "https://localhost:8080/",
          "height": 34
        },
        "id": "k-45a37HUeko",
        "outputId": "6ab9daf1-6f49-47c2-c39f-43406ed609a5"
      },
      "execution_count": null,
      "outputs": [
        {
          "output_type": "display_data",
          "data": {
            "text/html": [
              "4"
            ],
            "text/markdown": "4",
            "text/latex": "4",
            "text/plain": [
              "[1] 4"
            ]
          },
          "metadata": {}
        }
      ]
    },
    {
      "cell_type": "markdown",
      "source": [
        "######**Acceder a los nombres de las columnas**"
      ],
      "metadata": {
        "id": "5D2eCtJBUlYx"
      }
    },
    {
      "cell_type": "markdown",
      "source": [
        "En ocasiones, resultará útil acceder a los nombres de las columnas para realizar ciertas acciones, como bucles o condicionales.\n",
        "\n",
        "Para conocer/acceder a los nombres de las columnas de un dataframe, debemos hacer uso de la función `names()`:"
      ],
      "metadata": {
        "id": "9r1vnCPmUpjP"
      }
    },
    {
      "cell_type": "code",
      "source": [
        "names(dataframe)"
      ],
      "metadata": {
        "colab": {
          "base_uri": "https://localhost:8080/",
          "height": 34
        },
        "id": "gHJaRF_OzZ6w",
        "outputId": "8a44e21c-96da-4a85-9cdf-33631ef90bdd"
      },
      "execution_count": null,
      "outputs": [
        {
          "output_type": "display_data",
          "data": {
            "text/html": [
              "<style>\n",
              ".list-inline {list-style: none; margin:0; padding: 0}\n",
              ".list-inline>li {display: inline-block}\n",
              ".list-inline>li:not(:last-child)::after {content: \"\\00b7\"; padding: 0 .5ex}\n",
              "</style>\n",
              "<ol class=list-inline><li>'Mes'</li><li>'Temperatura'</li><li>'Humedad'</li><li>'Precipitaciones'</li></ol>\n"
            ],
            "text/markdown": "1. 'Mes'\n2. 'Temperatura'\n3. 'Humedad'\n4. 'Precipitaciones'\n\n\n",
            "text/latex": "\\begin{enumerate*}\n\\item 'Mes'\n\\item 'Temperatura'\n\\item 'Humedad'\n\\item 'Precipitaciones'\n\\end{enumerate*}\n",
            "text/plain": [
              "[1] \"Mes\"             \"Temperatura\"     \"Humedad\"         \"Precipitaciones\""
            ]
          },
          "metadata": {}
        }
      ]
    },
    {
      "cell_type": "markdown",
      "source": [
        "######**Acceder a las filas y/o columnas de un dataframe**"
      ],
      "metadata": {
        "id": "qNvyFGFKzxcW"
      }
    },
    {
      "cell_type": "markdown",
      "source": [
        "Como con las listas, existen dos formas de acceder a los elementos de un dataframe: haciendo uso de corchetes `[]` o del símbolo de dólar `$`. Sin embargo, en el caso concreto de los dataframes, el `$` nos sirve para acceder a columnas, mientras que con los `[]` podremos acceder tanto a filas como columnas. En este último caso, la sintaxis en la siguiente:\n",
        "```\n",
        "dataframe[posicion_de_la_fila_a_la_que_deseamos_acceder, posicion_de_la_columna_a_la_que_deseamos_acceder]\n",
        "```"
      ],
      "metadata": {
        "id": "TUCPq4xv0gN9"
      }
    },
    {
      "cell_type": "code",
      "source": [
        "#Accedemos a la primera fila (y a todas las columnas):\n",
        "dataframe[1,]"
      ],
      "metadata": {
        "colab": {
          "base_uri": "https://localhost:8080/",
          "height": 129
        },
        "id": "OfLcqD9d1XB5",
        "outputId": "cb7e2d0a-1e43-41e3-ac0e-a1d83f9b856b"
      },
      "execution_count": null,
      "outputs": [
        {
          "output_type": "display_data",
          "data": {
            "text/html": [
              "<table class=\"dataframe\">\n",
              "<caption>A data.frame: 1 × 4</caption>\n",
              "<thead>\n",
              "\t<tr><th></th><th scope=col>Mes</th><th scope=col>Temperatura</th><th scope=col>Humedad</th><th scope=col>Precipitaciones</th></tr>\n",
              "\t<tr><th></th><th scope=col>&lt;chr&gt;</th><th scope=col>&lt;dbl&gt;</th><th scope=col>&lt;dbl&gt;</th><th scope=col>&lt;dbl&gt;</th></tr>\n",
              "</thead>\n",
              "<tbody>\n",
              "\t<tr><th scope=row>1</th><td>Enero</td><td>20.37</td><td>88</td><td>72</td></tr>\n",
              "</tbody>\n",
              "</table>\n"
            ],
            "text/markdown": "\nA data.frame: 1 × 4\n\n| <!--/--> | Mes &lt;chr&gt; | Temperatura &lt;dbl&gt; | Humedad &lt;dbl&gt; | Precipitaciones &lt;dbl&gt; |\n|---|---|---|---|---|\n| 1 | Enero | 20.37 | 88 | 72 |\n\n",
            "text/latex": "A data.frame: 1 × 4\n\\begin{tabular}{r|llll}\n  & Mes & Temperatura & Humedad & Precipitaciones\\\\\n  & <chr> & <dbl> & <dbl> & <dbl>\\\\\n\\hline\n\t1 & Enero & 20.37 & 88 & 72\\\\\n\\end{tabular}\n",
            "text/plain": [
              "  Mes   Temperatura Humedad Precipitaciones\n",
              "1 Enero 20.37       88      72             "
            ]
          },
          "metadata": {}
        }
      ]
    },
    {
      "cell_type": "code",
      "source": [
        "#Accedemos a la segunda columna (y todas las filas):\n",
        "dataframe[,2]"
      ],
      "metadata": {
        "colab": {
          "base_uri": "https://localhost:8080/",
          "height": 34
        },
        "id": "Q1431BYG1gLQ",
        "outputId": "979f1406-ba91-4c4b-b864-bb530ca08800"
      },
      "execution_count": null,
      "outputs": [
        {
          "output_type": "display_data",
          "data": {
            "text/html": [
              "<style>\n",
              ".list-inline {list-style: none; margin:0; padding: 0}\n",
              ".list-inline>li {display: inline-block}\n",
              ".list-inline>li:not(:last-child)::after {content: \"\\00b7\"; padding: 0 .5ex}\n",
              "</style>\n",
              "<ol class=list-inline><li>20.37</li><li>18.56</li><li>18.4</li><li>21.96</li><li>29.53</li><li>28.16</li><li>36.38</li><li>36.62</li><li>40.03</li><li>27.59</li><li>22.15</li><li>19.85</li></ol>\n"
            ],
            "text/markdown": "1. 20.37\n2. 18.56\n3. 18.4\n4. 21.96\n5. 29.53\n6. 28.16\n7. 36.38\n8. 36.62\n9. 40.03\n10. 27.59\n11. 22.15\n12. 19.85\n\n\n",
            "text/latex": "\\begin{enumerate*}\n\\item 20.37\n\\item 18.56\n\\item 18.4\n\\item 21.96\n\\item 29.53\n\\item 28.16\n\\item 36.38\n\\item 36.62\n\\item 40.03\n\\item 27.59\n\\item 22.15\n\\item 19.85\n\\end{enumerate*}\n",
            "text/plain": [
              " [1] 20.37 18.56 18.40 21.96 29.53 28.16 36.38 36.62 40.03 27.59 22.15 19.85"
            ]
          },
          "metadata": {}
        }
      ]
    },
    {
      "cell_type": "code",
      "source": [
        "#Accedemos a la segunda columna mediante el nombre:\n",
        "dataframe$Temperatura"
      ],
      "metadata": {
        "colab": {
          "base_uri": "https://localhost:8080/",
          "height": 34
        },
        "id": "mGvgXjXs1zMI",
        "outputId": "ae9cf997-a17e-45e8-83a7-70ebb1a28a26"
      },
      "execution_count": null,
      "outputs": [
        {
          "output_type": "display_data",
          "data": {
            "text/html": [
              "<style>\n",
              ".list-inline {list-style: none; margin:0; padding: 0}\n",
              ".list-inline>li {display: inline-block}\n",
              ".list-inline>li:not(:last-child)::after {content: \"\\00b7\"; padding: 0 .5ex}\n",
              "</style>\n",
              "<ol class=list-inline><li>20.37</li><li>18.56</li><li>18.4</li><li>21.96</li><li>29.53</li><li>28.16</li><li>36.38</li><li>36.62</li><li>40.03</li><li>27.59</li><li>22.15</li><li>19.85</li></ol>\n"
            ],
            "text/markdown": "1. 20.37\n2. 18.56\n3. 18.4\n4. 21.96\n5. 29.53\n6. 28.16\n7. 36.38\n8. 36.62\n9. 40.03\n10. 27.59\n11. 22.15\n12. 19.85\n\n\n",
            "text/latex": "\\begin{enumerate*}\n\\item 20.37\n\\item 18.56\n\\item 18.4\n\\item 21.96\n\\item 29.53\n\\item 28.16\n\\item 36.38\n\\item 36.62\n\\item 40.03\n\\item 27.59\n\\item 22.15\n\\item 19.85\n\\end{enumerate*}\n",
            "text/plain": [
              " [1] 20.37 18.56 18.40 21.96 29.53 28.16 36.38 36.62 40.03 27.59 22.15 19.85"
            ]
          },
          "metadata": {}
        }
      ]
    },
    {
      "cell_type": "code",
      "source": [
        "#Accedemos al dato de precipitaciones (cuarta columna), del mes de marzo (tercera fila):\n",
        "dataframe[3,4]"
      ],
      "metadata": {
        "colab": {
          "base_uri": "https://localhost:8080/",
          "height": 34
        },
        "id": "jOPPa8IR1ndL",
        "outputId": "34992ea0-d3ab-4cb3-93b3-b0a54f526fa8"
      },
      "execution_count": null,
      "outputs": [
        {
          "output_type": "display_data",
          "data": {
            "text/html": [
              "37.5"
            ],
            "text/markdown": "37.5",
            "text/latex": "37.5",
            "text/plain": [
              "[1] 37.5"
            ]
          },
          "metadata": {}
        }
      ]
    },
    {
      "cell_type": "code",
      "source": [
        "#Accedemos al dato de precipitaciones, del mes de marzo (tercera fila) (método equivalente al anterior):\n",
        "dataframe[3,]$Precipitaciones"
      ],
      "metadata": {
        "colab": {
          "base_uri": "https://localhost:8080/",
          "height": 34
        },
        "id": "TAVk4vSy2Nhh",
        "outputId": "1d7d3292-b864-4da7-ce28-7171653b2073"
      },
      "execution_count": null,
      "outputs": [
        {
          "output_type": "display_data",
          "data": {
            "text/html": [
              "37.5"
            ],
            "text/markdown": "37.5",
            "text/latex": "37.5",
            "text/plain": [
              "[1] 37.5"
            ]
          },
          "metadata": {}
        }
      ]
    },
    {
      "cell_type": "code",
      "source": [
        "#Accedemos a la segunda, quinta y séptima filas, y a la seguunda y tercera columnas:\n",
        "dataframe[c(2,5,7), c(2,3)]"
      ],
      "metadata": {
        "colab": {
          "base_uri": "https://localhost:8080/",
          "height": 192
        },
        "id": "NU3W31AW18Jk",
        "outputId": "1b1a5cfd-a4bb-4459-f6e0-bcf50ea55aef"
      },
      "execution_count": null,
      "outputs": [
        {
          "output_type": "display_data",
          "data": {
            "text/html": [
              "<table class=\"dataframe\">\n",
              "<caption>A data.frame: 3 × 2</caption>\n",
              "<thead>\n",
              "\t<tr><th></th><th scope=col>Temperatura</th><th scope=col>Humedad</th></tr>\n",
              "\t<tr><th></th><th scope=col>&lt;dbl&gt;</th><th scope=col>&lt;dbl&gt;</th></tr>\n",
              "</thead>\n",
              "<tbody>\n",
              "\t<tr><th scope=row>2</th><td>18.56</td><td>86</td></tr>\n",
              "\t<tr><th scope=row>5</th><td>29.53</td><td>80</td></tr>\n",
              "\t<tr><th scope=row>7</th><td>36.38</td><td>71</td></tr>\n",
              "</tbody>\n",
              "</table>\n"
            ],
            "text/markdown": "\nA data.frame: 3 × 2\n\n| <!--/--> | Temperatura &lt;dbl&gt; | Humedad &lt;dbl&gt; |\n|---|---|---|\n| 2 | 18.56 | 86 |\n| 5 | 29.53 | 80 |\n| 7 | 36.38 | 71 |\n\n",
            "text/latex": "A data.frame: 3 × 2\n\\begin{tabular}{r|ll}\n  & Temperatura & Humedad\\\\\n  & <dbl> & <dbl>\\\\\n\\hline\n\t2 & 18.56 & 86\\\\\n\t5 & 29.53 & 80\\\\\n\t7 & 36.38 & 71\\\\\n\\end{tabular}\n",
            "text/plain": [
              "  Temperatura Humedad\n",
              "2 18.56       86     \n",
              "5 29.53       80     \n",
              "7 36.38       71     "
            ]
          },
          "metadata": {}
        }
      ]
    },
    {
      "cell_type": "markdown",
      "source": [
        "######**Manejo de un dataframe: operaciones de *data wrangling***"
      ],
      "metadata": {
        "id": "bhUh-FJp3pUZ"
      }
    },
    {
      "cell_type": "markdown",
      "source": [
        "En el apartado anterior, hemos visto como acceder a las filas y columnas de un dataframe. Dichas operaciones forman parte de lo que se conoce como *data wrangling*, es decir, el proceso de limpieza, ordenación y extracción de datos procedentes, generalmente, de grandes *datasets*. El *data wrangling* es la fase previa a todo análisis de datos, y suele conllevar el mayor tiempo de trabajo (se estima que las operaciones de análisis solo suponen un 20% del trabajo).\n",
        "\n",
        "En este cuaderno, no vamos a mostrar más operaciones para el manejo y limpieza de dataframes porque lo hacemos en otro cuaderno del proyecto al que os remitimos: **Análisis Exploratorio de Datos con R**."
      ],
      "metadata": {
        "id": "Z-XrNFBy3ybg"
      }
    },
    {
      "cell_type": "markdown",
      "source": [
        "###**Factores**"
      ],
      "metadata": {
        "id": "gRDDhfkHp7_5"
      }
    },
    {
      "cell_type": "markdown",
      "source": [
        "Los factores son una estructura de datos especial que tiene R para almacenar información categórica/cualitativa. Un ejemplo sencillo es el *sexo*: podemos tener una variable factor que contenga dos niveles 0 - \"Hombre\" y 1 - \"Mujer\", o al revés. Esto suele ser muy útil en numerosos modelos estadísticos. Por ejemplo, en una regresión lineal, el nivel \"Hombre\", al estar codificado como 0, sería el nivel de referencia."
      ],
      "metadata": {
        "id": "3gyGyrXep_YX"
      }
    },
    {
      "cell_type": "markdown",
      "source": [
        "######**Cómo crear un factor**"
      ],
      "metadata": {
        "id": "7_0rfYhhwsGD"
      }
    },
    {
      "cell_type": "markdown",
      "source": [
        "Para crear factores debemos usar la función `factor()` con un vector de nombres:"
      ],
      "metadata": {
        "id": "1ZLa8piqwvh6"
      }
    },
    {
      "cell_type": "code",
      "source": [
        "#Creamos un vector de variables de texto:\n",
        "Sexo <- c(\"M\", \"H\", \"M\", \"M\", \"M\", \"M\", \"H\", \"H\", \"M\")\n",
        "\n",
        "#Creamos un factor a partir del anterior vector:\n",
        "factor(Sexo)"
      ],
      "metadata": {
        "colab": {
          "base_uri": "https://localhost:8080/",
          "height": 69
        },
        "id": "il8xI98gw9O6",
        "outputId": "3f86a082-d7da-4957-af2b-a44745fd7723"
      },
      "execution_count": null,
      "outputs": [
        {
          "output_type": "display_data",
          "data": {
            "text/html": [
              "<style>\n",
              ".list-inline {list-style: none; margin:0; padding: 0}\n",
              ".list-inline>li {display: inline-block}\n",
              ".list-inline>li:not(:last-child)::after {content: \"\\00b7\"; padding: 0 .5ex}\n",
              "</style>\n",
              "<ol class=list-inline><li>M</li><li>H</li><li>M</li><li>M</li><li>M</li><li>M</li><li>H</li><li>H</li><li>M</li></ol>\n",
              "\n",
              "<details>\n",
              "\t<summary style=display:list-item;cursor:pointer>\n",
              "\t\t<strong>Levels</strong>:\n",
              "\t</summary>\n",
              "\t<style>\n",
              "\t.list-inline {list-style: none; margin:0; padding: 0}\n",
              "\t.list-inline>li {display: inline-block}\n",
              "\t.list-inline>li:not(:last-child)::after {content: \"\\00b7\"; padding: 0 .5ex}\n",
              "\t</style>\n",
              "\t<ol class=list-inline><li>'H'</li><li>'M'</li></ol>\n",
              "</details>"
            ],
            "text/markdown": "1. M\n2. H\n3. M\n4. M\n5. M\n6. M\n7. H\n8. H\n9. M\n\n\n\n**Levels**: 1. 'H'\n2. 'M'\n\n\n",
            "text/latex": "\\begin{enumerate*}\n\\item M\n\\item H\n\\item M\n\\item M\n\\item M\n\\item M\n\\item H\n\\item H\n\\item M\n\\end{enumerate*}\n\n\\emph{Levels}: \\begin{enumerate*}\n\\item 'H'\n\\item 'M'\n\\end{enumerate*}\n",
            "text/plain": [
              "[1] M H M M M M H H M\n",
              "Levels: H M"
            ]
          },
          "metadata": {}
        }
      ]
    },
    {
      "cell_type": "markdown",
      "source": [
        "Como vemos, R nos devuelve un resumen de de los niveles (`Levels`) que ha identificado. En este caso, los factores han sido dos: `H` y `M`."
      ],
      "metadata": {
        "id": "YGxuP8fexb2R"
      }
    },
    {
      "cell_type": "markdown",
      "source": [
        "######**Factores con niveles ordenados**"
      ],
      "metadata": {
        "id": "LPgXqnDCxwQg"
      }
    },
    {
      "cell_type": "markdown",
      "source": [
        "En Estadística, contamos con dos tipos de variables categóricas:\n",
        "* Nominales. Sus categorías no tienen orden. Ejemplo: el sexo de los participantes.\n",
        "* Ordinales. Sus categorías siguen un orden. Por ejemplo, dividir las tallas de ropa en \"Pequeña\", \"Mediana\" y \"Grande\". Veámos este último ejemplo en R:"
      ],
      "metadata": {
        "id": "KkK1Qe-73Gfj"
      }
    },
    {
      "cell_type": "code",
      "source": [
        "Altura <- c(\"Grande\", \"Pequeña\", \"Pequeña\", \"Mediana\", \"Grande\", \"Mediana\", \"Mediana\", \"Mediana\", \"Mediana\", \"Mediana\", \"Pequeña\")\n",
        "\n",
        "factor_altura <- factor(Altura,\n",
        "                        ordered = TRUE,\n",
        "                        levels = c(\"Pequeña\", \"Mediana\", \"Grande\"))\n",
        "\n",
        "factor_altura"
      ],
      "metadata": {
        "colab": {
          "base_uri": "https://localhost:8080/",
          "height": 86
        },
        "id": "6DczLnCm3slc",
        "outputId": "0b85cc4a-04e4-46a1-f4fc-a715f440bec9"
      },
      "execution_count": null,
      "outputs": [
        {
          "output_type": "display_data",
          "data": {
            "text/html": [
              "<style>\n",
              ".list-inline {list-style: none; margin:0; padding: 0}\n",
              ".list-inline>li {display: inline-block}\n",
              ".list-inline>li:not(:last-child)::after {content: \"\\00b7\"; padding: 0 .5ex}\n",
              "</style>\n",
              "<ol class=list-inline><li>Grande</li><li>Pequeña</li><li>Pequeña</li><li>Mediana</li><li>Grande</li><li>Mediana</li><li>Mediana</li><li>Mediana</li><li>Mediana</li><li>Mediana</li><li>Pequeña</li></ol>\n",
              "\n",
              "<details>\n",
              "\t<summary style=display:list-item;cursor:pointer>\n",
              "\t\t<strong>Levels</strong>:\n",
              "\t</summary>\n",
              "\t<style>\n",
              "\t.list-inline {list-style: none; margin:0; padding: 0}\n",
              "\t.list-inline>li {display: inline-block}\n",
              "\t.list-inline>li:not(:last-child)::after {content: \"\\00b7\"; padding: 0 .5ex}\n",
              "\t</style>\n",
              "\t<ol class=list-inline><li>'Pequeña'</li><li>'Mediana'</li><li>'Grande'</li></ol>\n",
              "</details>"
            ],
            "text/markdown": "1. Grande\n2. Pequeña\n3. Pequeña\n4. Mediana\n5. Grande\n6. Mediana\n7. Mediana\n8. Mediana\n9. Mediana\n10. Mediana\n11. Pequeña\n\n\n\n**Levels**: 1. 'Pequeña'\n2. 'Mediana'\n3. 'Grande'\n\n\n",
            "text/latex": "\\begin{enumerate*}\n\\item Grande\n\\item Pequeña\n\\item Pequeña\n\\item Mediana\n\\item Grande\n\\item Mediana\n\\item Mediana\n\\item Mediana\n\\item Mediana\n\\item Mediana\n\\item Pequeña\n\\end{enumerate*}\n\n\\emph{Levels}: \\begin{enumerate*}\n\\item 'Pequeña'\n\\item 'Mediana'\n\\item 'Grande'\n\\end{enumerate*}\n",
            "text/plain": [
              " [1] Grande  Pequeña Pequeña Mediana Grande  Mediana Mediana Mediana Mediana\n",
              "[10] Mediana Pequeña\n",
              "Levels: Pequeña < Mediana < Grande"
            ]
          },
          "metadata": {}
        }
      ]
    },
    {
      "cell_type": "markdown",
      "source": [
        "######**Mostrar un resumen de la variable categórica**"
      ],
      "metadata": {
        "id": "5pVH1xK-4wAc"
      }
    },
    {
      "cell_type": "markdown",
      "source": [
        "La función `summary()` con un factor nos muestra una tabla de frecuencias de los diferentes niveles del factor:"
      ],
      "metadata": {
        "id": "XR25Ltfs41vh"
      }
    },
    {
      "cell_type": "code",
      "source": [
        "#Vemos que la función summary() con un vector no muestra una tabla de frecuencias:\n",
        "summary(Altura)"
      ],
      "metadata": {
        "colab": {
          "base_uri": "https://localhost:8080/",
          "height": 51
        },
        "id": "4TF87GBj4-oP",
        "outputId": "3544cf6d-7878-44b8-9990-15ef3c96fc3c"
      },
      "execution_count": null,
      "outputs": [
        {
          "output_type": "display_data",
          "data": {
            "text/plain": [
              "   Length     Class      Mode \n",
              "       11 character character "
            ]
          },
          "metadata": {}
        }
      ]
    },
    {
      "cell_type": "code",
      "source": [
        "#Pero sí lo hace cuando utilizamos un factor:\n",
        "summary(factor_altura)"
      ],
      "metadata": {
        "colab": {
          "base_uri": "https://localhost:8080/",
          "height": 34
        },
        "id": "K-aRoDG_5Ba9",
        "outputId": "1ec1be8c-067f-4e98-e479-0250d7500294"
      },
      "execution_count": null,
      "outputs": [
        {
          "output_type": "display_data",
          "data": {
            "text/html": [
              "<style>\n",
              ".dl-inline {width: auto; margin:0; padding: 0}\n",
              ".dl-inline>dt, .dl-inline>dd {float: none; width: auto; display: inline-block}\n",
              ".dl-inline>dt::after {content: \":\\0020\"; padding-right: .5ex}\n",
              ".dl-inline>dt:not(:first-of-type) {padding-left: .5ex}\n",
              "</style><dl class=dl-inline><dt>Pequeña</dt><dd>3</dd><dt>Mediana</dt><dd>6</dd><dt>Grande</dt><dd>2</dd></dl>\n"
            ],
            "text/markdown": "Pequeña\n:   3Mediana\n:   6Grande\n:   2\n\n",
            "text/latex": "\\begin{description*}\n\\item[Pequeña] 3\n\\item[Mediana] 6\n\\item[Grande] 2\n\\end{description*}\n",
            "text/plain": [
              "Pequeña Mediana  Grande \n",
              "      3       6       2 "
            ]
          },
          "metadata": {}
        }
      ]
    },
    {
      "cell_type": "markdown",
      "source": [
        "######**Cambiar las etiquetas de los niveles del factor**"
      ],
      "metadata": {
        "id": "1YC7QfY45acJ"
      }
    },
    {
      "cell_type": "markdown",
      "source": [
        "Es posible modificar las etiquetas de salida de los niveles del factor mediante la opción `labels`:"
      ],
      "metadata": {
        "id": "DHhSmPEy5emG"
      }
    },
    {
      "cell_type": "code",
      "source": [
        "factor_altura_reetiquetado <- factor(Altura,\n",
        "                                     ordered = TRUE,\n",
        "                                     levels = c(\"Pequeña\", \"Mediana\", \"Grande\"),\n",
        "                                     labels = c(\"S\", \"M\", \"L\"))\n",
        "\n",
        "factor_altura_reetiquetado"
      ],
      "metadata": {
        "colab": {
          "base_uri": "https://localhost:8080/",
          "height": 69
        },
        "id": "v5rw4v9E5lQ3",
        "outputId": "88d94733-fc83-4948-8577-01ec9785dd77"
      },
      "execution_count": null,
      "outputs": [
        {
          "output_type": "display_data",
          "data": {
            "text/html": [
              "<style>\n",
              ".list-inline {list-style: none; margin:0; padding: 0}\n",
              ".list-inline>li {display: inline-block}\n",
              ".list-inline>li:not(:last-child)::after {content: \"\\00b7\"; padding: 0 .5ex}\n",
              "</style>\n",
              "<ol class=list-inline><li>L</li><li>S</li><li>S</li><li>M</li><li>L</li><li>M</li><li>M</li><li>M</li><li>M</li><li>M</li><li>S</li></ol>\n",
              "\n",
              "<details>\n",
              "\t<summary style=display:list-item;cursor:pointer>\n",
              "\t\t<strong>Levels</strong>:\n",
              "\t</summary>\n",
              "\t<style>\n",
              "\t.list-inline {list-style: none; margin:0; padding: 0}\n",
              "\t.list-inline>li {display: inline-block}\n",
              "\t.list-inline>li:not(:last-child)::after {content: \"\\00b7\"; padding: 0 .5ex}\n",
              "\t</style>\n",
              "\t<ol class=list-inline><li>'S'</li><li>'M'</li><li>'L'</li></ol>\n",
              "</details>"
            ],
            "text/markdown": "1. L\n2. S\n3. S\n4. M\n5. L\n6. M\n7. M\n8. M\n9. M\n10. M\n11. S\n\n\n\n**Levels**: 1. 'S'\n2. 'M'\n3. 'L'\n\n\n",
            "text/latex": "\\begin{enumerate*}\n\\item L\n\\item S\n\\item S\n\\item M\n\\item L\n\\item M\n\\item M\n\\item M\n\\item M\n\\item M\n\\item S\n\\end{enumerate*}\n\n\\emph{Levels}: \\begin{enumerate*}\n\\item 'S'\n\\item 'M'\n\\item 'L'\n\\end{enumerate*}\n",
            "text/plain": [
              " [1] L S S M L M M M M M S\n",
              "Levels: S < M < L"
            ]
          },
          "metadata": {}
        }
      ]
    },
    {
      "cell_type": "markdown",
      "source": [
        "######**Graficar las frecuencias de los niveles de un factor**"
      ],
      "metadata": {
        "id": "3sTSytvU6esu"
      }
    },
    {
      "cell_type": "markdown",
      "source": [
        "La función `plot` nos permite dibujar muy fácilmente un diagrama con las frecuencias de los niveles de un factor:"
      ],
      "metadata": {
        "id": "rGnjJ1Sr6mAz"
      }
    },
    {
      "cell_type": "code",
      "source": [
        "plot(factor_altura_reetiquetado)"
      ],
      "metadata": {
        "colab": {
          "base_uri": "https://localhost:8080/",
          "height": 437
        },
        "id": "qwqdheT26xMs",
        "outputId": "2ecb8f8c-0c49-40f0-e87e-b6a178ebe26a"
      },
      "execution_count": null,
      "outputs": [
        {
          "output_type": "display_data",
          "data": {
            "text/plain": [
              "plot without title"
            ],
            "image/png": "[encoded data removed]"
          },
          "metadata": {
            "image/png": {
              "width": 420,
              "height": 420
            }
          }
        }
      ]
    },
    {
      "cell_type": "markdown",
      "source": [
        "#**Condicionales**"
      ],
      "metadata": {
        "id": "LrQ6IOGC8t75"
      }
    },
    {
      "cell_type": "markdown",
      "source": [
        "###**Condicionales `if` y `else`**"
      ],
      "metadata": {
        "id": "X_SjeL9FMFrh"
      }
    },
    {
      "cell_type": "markdown",
      "source": [
        "En general, en programación, el código se ejecuta de arriba abajo. Sin embargo, es posible emplear estructuras de control del flujo de ejecución del programa - como los condicionales o los bucles - que modifiquen esta lectura lineal de arriba abajo.\n",
        "\n",
        "Así, los condicionales son estructuras de control que permiten ejecutar una o varias instrucciones solo si se cumplen una o varias condiciones. Es decir, el código se va ejecutando de arriba abajo y, cuando llega al condicional, R evalúa la condición. Si ésta se cumple, se ejecuta el código dentro del condicional y luego se continúa ejecutando lo que resta del programa. Sin embargo, si la condición no se cumple, el programa se salta el bloque de código que contiene el condicional.\n",
        "\n",
        "La estructura de código de los condicionales en R es la siguiente:\n",
        "\n",
        "```\n",
        "if(condición){ \n",
        "  instrucciones_si_la_condición_es_TRUE\n",
        "} else {\n",
        "  instrucciones_si_la_condición_es_FALSE\n",
        "}\n",
        "```\n",
        "\n",
        "Vemos, por tanto, que se utilizan las palabras reservadas `if` y `else`. Los condicionales más básicos solo emplearán `if`. A continuación, para permitir otra condición, usamos `else`; y para añadir aún más condiciones utilizaríamos condicionales anidados, volviendo a utilizar `if` y `else`:\n",
        "```\n",
        "if(condición1){ \n",
        "  instrucciones_si_la_condición1_es_TRUE\n",
        "} else {\n",
        "  if(condición2){\n",
        "    instrucciones_si_la_condición1_es_FALSE_pero_la_condición2_es_TRUE\n",
        "  } else {\n",
        "    instrucciones_si_la_condición2_también_es_FALSE\n",
        "    }\n",
        "}\n",
        "```\n",
        "\n",
        "Tres ejemplos muy sencillos con número creciente de condiciones:"
      ],
      "metadata": {
        "id": "qxevNqN7LI8c"
      }
    },
    {
      "cell_type": "code",
      "source": [
        "#Condicional con una sola condición: solo if\n",
        "\n",
        "numero = as.integer(readline(prompt=\"Elige un número cualquiera: \"))\n",
        "\n",
        "if(numero < 0){\n",
        "  paste(\"El número\", numero, \"es negativo.\")\n",
        "}"
      ],
      "metadata": {
        "colab": {
          "base_uri": "https://localhost:8080/",
          "height": 51
        },
        "id": "CuID--d_ln_P",
        "outputId": "89213061-73b6-4592-d7d6-fe27b0b4315b"
      },
      "execution_count": null,
      "outputs": [
        {
          "name": "stdout",
          "output_type": "stream",
          "text": [
            "Elige un número cualquiera: -200\n"
          ]
        },
        {
          "output_type": "display_data",
          "data": {
            "text/html": [
              "'El número -200 es negativo.'"
            ],
            "text/markdown": "'El número -200 es negativo.'",
            "text/latex": "'El número -200 es negativo.'",
            "text/plain": [
              "[1] \"El número -200 es negativo.\""
            ]
          },
          "metadata": {}
        }
      ]
    },
    {
      "cell_type": "code",
      "source": [
        "#Condicional con dos condiciones: if y else\n",
        "\n",
        "numero = as.integer(readline(prompt=\"Elige un número cualquiera: \"))\n",
        "\n",
        "if(numero < 0){\n",
        "  paste(\"El número\", numero, \"es negativo.\")\n",
        "} else {\n",
        "  paste(\"El número\", numero, \"es positivo.\")\n",
        "}"
      ],
      "metadata": {
        "colab": {
          "base_uri": "https://localhost:8080/",
          "height": 51
        },
        "id": "0azC-JBQnBpY",
        "outputId": "bdf04971-7efb-4260-aff1-8a01c318da58"
      },
      "execution_count": null,
      "outputs": [
        {
          "name": "stdout",
          "output_type": "stream",
          "text": [
            "Elige un número cualquiera: 4\n"
          ]
        },
        {
          "output_type": "display_data",
          "data": {
            "text/html": [
              "'El número 4 es positivo.'"
            ],
            "text/markdown": "'El número 4 es positivo.'",
            "text/latex": "'El número 4 es positivo.'",
            "text/plain": [
              "[1] \"El número 4 es positivo.\""
            ]
          },
          "metadata": {}
        }
      ]
    },
    {
      "cell_type": "code",
      "source": [
        "#Condicional con más de dos condiciones: if y else anidados\n",
        "\n",
        "numero = as.integer(readline(prompt=\"Elige un número cualquiera: \"))\n",
        "\n",
        "if(numero < 0){\n",
        "  paste(\"El número\", numero, \"es negativo.\")\n",
        "} else {\n",
        "  if(0 <= numero & numero <= 100){\n",
        "     paste(\"El número\", numero, \"está entre 0 y 100.\")\n",
        "  } else {\n",
        "     paste(\"El número\", numero, \"es mayor que 100.\")\n",
        "  }\n",
        "}"
      ],
      "metadata": {
        "colab": {
          "base_uri": "https://localhost:8080/",
          "height": 51
        },
        "id": "5HktyAGunRC_",
        "outputId": "4a205bf5-de4e-4c08-a872-fa3ad6141a61"
      },
      "execution_count": null,
      "outputs": [
        {
          "name": "stdout",
          "output_type": "stream",
          "text": [
            "Elige un número cualquiera: 40\n"
          ]
        },
        {
          "output_type": "display_data",
          "data": {
            "text/html": [
              "'El número 40 está entre 0 y 100.'"
            ],
            "text/markdown": "'El número 40 está entre 0 y 100.'",
            "text/latex": "'El número 40 está entre 0 y 100.'",
            "text/plain": [
              "[1] \"El número 40 está entre 0 y 100.\""
            ]
          },
          "metadata": {}
        }
      ]
    },
    {
      "cell_type": "markdown",
      "source": [
        "Con estos ejemplos, hemos visto también otra función integrada por defecto en R: la función `readline()`. Como hemos podido comprobar, esta función permite pedir al usuario un dato - dato que luego será utilizado en el programa.\n",
        "\n",
        "Algo que debemos tener en cuenta al emplear `readline()` es que sea el que sea el dato que introduzcamos - texto, número entero o número decimal -, R lo considerará de tipo *string*. Por ello, para poder compararlo con un número entero en el condicional, necesitamos haberlo convertido previamente en otro número entero. Esto lo hemos hecho con la función `as.integer()` (lo mismo ocurre con la función `input()` en Python)."
      ],
      "metadata": {
        "id": "EZ4MpSS7rutg"
      }
    },
    {
      "cell_type": "markdown",
      "source": [
        "###**Función `ifelse()`**"
      ],
      "metadata": {
        "id": "FFEfq8VIMLLw"
      }
    },
    {
      "cell_type": "markdown",
      "source": [
        "R dispone de una manera más rápida de realizar condicionales `if-else`: la función `ifelse()`. Su estructura de código es la siguiente:\n",
        "```\n",
        "ifelse(condición, instrucciones_si_la_condición_es_TRUE, instrucciones_si_la_condición_es_FALSE)\n",
        "```\n",
        "\n",
        "Para probarla, replicaremos el ejemplo anterior con dos condiciones:"
      ],
      "metadata": {
        "id": "mbEZzYVUiEkM"
      }
    },
    {
      "cell_type": "code",
      "source": [
        "numero = as.integer(readline(prompt=\"Elige un número cualquiera: \"))\n",
        "\n",
        "ifelse(numero < 0, paste(\"El número\", numero, \"es negativo.\"), paste(\"El número\", numero, \"es positivo.\")) "
      ],
      "metadata": {
        "colab": {
          "base_uri": "https://localhost:8080/",
          "height": 51
        },
        "id": "Dvgr7D_kivOj",
        "outputId": "45e840d1-f94a-46b0-e069-de4009e98b28"
      },
      "execution_count": null,
      "outputs": [
        {
          "name": "stdout",
          "output_type": "stream",
          "text": [
            "Elige un número cualquiera: 4\n"
          ]
        },
        {
          "output_type": "display_data",
          "data": {
            "text/html": [
              "'El número 4 es positivo.'"
            ],
            "text/markdown": "'El número 4 es positivo.'",
            "text/latex": "'El número 4 es positivo.'",
            "text/plain": [
              "[1] \"El número 4 es positivo.\""
            ]
          },
          "metadata": {}
        }
      ]
    },
    {
      "cell_type": "markdown",
      "source": [
        "#**Bucles**"
      ],
      "metadata": {
        "id": "yLTalZy68wpr"
      }
    },
    {
      "cell_type": "markdown",
      "source": [
        "Junto con los condicionales, los bucles son la otra estructura de control por excelencia. Como su propio nombre indica, sirven para ejecutar un número determinado o indeterminado de veces un bloque de código, hasta que se cumpla o deje de cumplirse una determinada condición. Es decir, los bucles son muy útiles a la hora de realizar acciones que, de otra forma, deberíamos repetir muchas veces: por ejemplo, si debemos repetir cierto mensaje cincuenta veces, en lugar de copiar y pergar el código del mensaje cincuenta veces, escribimos un bucle que repita dicho mensaje las veces necesarias. Por ello, los bucles son una manera, por un lado, de ahorrarnos tiempo de escritura de código y, por otro, de permitirnos crear un código menos repetitivo y más estilizado. De hecho, hay ocasiones en las que sabremos que vamos a necesitar repetir una o varias acciones varias veces, pero no justamente qué número de veces. En esas ocasiones será esencial utilizar un bucle."
      ],
      "metadata": {
        "id": "aYmQaUbdj4ei"
      }
    },
    {
      "cell_type": "markdown",
      "source": [
        "###**Bucle `for`: bucle determinado**"
      ],
      "metadata": {
        "id": "UdzzPRkPkD22"
      }
    },
    {
      "cell_type": "markdown",
      "source": [
        "Los bucles determinados son aquellos que se ejecutan un número concreto de veces. Por ello, a priori ya sabemos cuántas veces se va a ejecutar el código del interior del bucle.\n",
        "```\n",
        "for(elemento in objeto_iterable){\n",
        "  Instrucciones\n",
        "}\n",
        "```\n",
        "Dos ejemplos muy sencillos:"
      ],
      "metadata": {
        "id": "uUJumbNbkRtK"
      }
    },
    {
      "cell_type": "code",
      "source": [
        "for(numero in 1:5){\n",
        "  print(numero)\n",
        "}"
      ],
      "metadata": {
        "colab": {
          "base_uri": "https://localhost:8080/"
        },
        "id": "P-N0HF-kkDNi",
        "outputId": "57e0e4e2-86cb-4d15-900d-692b6bce5a24"
      },
      "execution_count": null,
      "outputs": [
        {
          "output_type": "stream",
          "name": "stdout",
          "text": [
            "[1] 1\n",
            "[1] 2\n",
            "[1] 3\n",
            "[1] 4\n",
            "[1] 5\n"
          ]
        }
      ]
    },
    {
      "cell_type": "code",
      "source": [
        "for(i in list(\"Invierno\", \"Primavera\", \"Verano\", \"Otoño\")){\n",
        "  print(i)\n",
        "}"
      ],
      "metadata": {
        "colab": {
          "base_uri": "https://localhost:8080/"
        },
        "id": "r8nzvwUNk1Ve",
        "outputId": "9f10ded6-c8e6-40b8-81b5-deb22adfc35e"
      },
      "execution_count": null,
      "outputs": [
        {
          "output_type": "stream",
          "name": "stdout",
          "text": [
            "[1] \"Invierno\"\n",
            "[1] \"Primavera\"\n",
            "[1] \"Verano\"\n",
            "[1] \"Otoño\"\n"
          ]
        }
      ]
    },
    {
      "cell_type": "markdown",
      "source": [
        "Asimismo, en contra de lo que ocurre en Python, en R los *strings* no son objetos directamente iterables, sino que para poderlos iterar necesitamos hacer uso de funciones intermediarias como `strsplit()`:"
      ],
      "metadata": {
        "id": "NtgbZKpHly7W"
      }
    },
    {
      "cell_type": "code",
      "source": [
        "texto <- \"Hola\"\n",
        "\n",
        "texto_iterable <- strsplit(texto, \"\")[[1]]\n",
        "\n",
        "for(i in texto_iterable){\n",
        "  print(i)\n",
        "}"
      ],
      "metadata": {
        "colab": {
          "base_uri": "https://localhost:8080/"
        },
        "id": "o2LiALXfmPbO",
        "outputId": "cb10ea03-5c35-4259-e0c1-ecc0b6b17adc"
      },
      "execution_count": null,
      "outputs": [
        {
          "output_type": "stream",
          "name": "stdout",
          "text": [
            "[1] \"H\"\n",
            "[1] \"o\"\n",
            "[1] \"l\"\n",
            "[1] \"a\"\n"
          ]
        }
      ]
    },
    {
      "cell_type": "markdown",
      "source": [
        "###**Bucle `while`: bucle indeterminado**\n"
      ],
      "metadata": {
        "id": "1dGFHioPm3wk"
      }
    },
    {
      "cell_type": "markdown",
      "source": [
        "Los bucles indeterminados son aquellos para los que, a priori, no sabemos el número de veces que se va a ejecutar el bucle, variando éste en función de las condiciones que hayamos establecido.\n",
        "```\n",
        "while(condición_sea_TRUE){\n",
        "  Instruciones\n",
        "}\n",
        "```\n",
        "Veámos unos sencillos ejemplos:"
      ],
      "metadata": {
        "id": "hkFsKeB6m7ut"
      }
    },
    {
      "cell_type": "code",
      "source": [
        "#Bucle while equivalente al primer bucle for puesto como ejemplo:\n",
        "numero <- 1\n",
        "while(numero <= 5){\n",
        "  print(numero)\n",
        "  numero = numero + 1\n",
        "}"
      ],
      "metadata": {
        "colab": {
          "base_uri": "https://localhost:8080/"
        },
        "id": "TOIJL2zpnaog",
        "outputId": "4d05ac3e-772b-4594-c6e1-fdf1e4ba99c4"
      },
      "execution_count": null,
      "outputs": [
        {
          "output_type": "stream",
          "name": "stdout",
          "text": [
            "[1] 1\n",
            "[1] 2\n",
            "[1] 3\n",
            "[1] 4\n",
            "[1] 5\n"
          ]
        }
      ]
    },
    {
      "cell_type": "code",
      "source": [
        "#Saber cuántas veces debemos dividir un valor para obtener una cifra menor a 0,05:\n",
        "numero <- as.integer(readline(prompt=\"Inserta un número \"))\n",
        "numero_condicion <- numero\n",
        "\n",
        "i <- 0 #Establecemos en cero el número de intentos\n",
        "\n",
        "while(numero_condicion > 0.05){\n",
        "  numero_condicion = numero_condicion/2\n",
        "  i = i + 1 #Para sumar un intento a cada vuelta de bucle\n",
        "}\n",
        "\n",
        "paste(\"Debemos dividir\", numero, i, \"veces para que el resultado sea menor a 0,05.\")"
      ],
      "metadata": {
        "colab": {
          "base_uri": "https://localhost:8080/",
          "height": 51
        },
        "id": "8sFUwKf4nvTl",
        "outputId": "87306d65-24cd-49a8-8101-7226efd02a4e"
      },
      "execution_count": null,
      "outputs": [
        {
          "name": "stdout",
          "output_type": "stream",
          "text": [
            "Inserta un número 88\n"
          ]
        },
        {
          "output_type": "display_data",
          "data": {
            "text/html": [
              "'Debemos dividir 88 11 veces para que el resultado sea menor a 0,05.'"
            ],
            "text/markdown": "'Debemos dividir 88 11 veces para que el resultado sea menor a 0,05.'",
            "text/latex": "'Debemos dividir 88 11 veces para que el resultado sea menor a 0,05.'",
            "text/plain": [
              "[1] \"Debemos dividir 88 11 veces para que el resultado sea menor a 0,05.\""
            ]
          },
          "metadata": {}
        }
      ]
    },
    {
      "cell_type": "markdown",
      "source": [
        "###**Instrucciones `break` y `next`**"
      ],
      "metadata": {
        "id": "YjI5h6Ors4Zi"
      }
    },
    {
      "cell_type": "markdown",
      "source": [
        "`break` nos posibilita interrumpir un bucle, mientras que `next` nos permite avanzar a la siguiente iteración del bucle, saltándonos la actual. Veámos cómo funcionan:"
      ],
      "metadata": {
        "id": "_YWnAFAns_ll"
      }
    },
    {
      "cell_type": "code",
      "source": [
        "#Ejemplo con for y break:\n",
        "for(i in 1:10000){\n",
        "  if(i == 10){\n",
        "    break\n",
        "  }\n",
        "  print(i)\n",
        "}"
      ],
      "metadata": {
        "colab": {
          "base_uri": "https://localhost:8080/"
        },
        "id": "YNFefgxmteJu",
        "outputId": "5b7f9e9a-a196-4d08-9e72-415e9619173b"
      },
      "execution_count": null,
      "outputs": [
        {
          "output_type": "stream",
          "name": "stdout",
          "text": [
            "[1] 1\n",
            "[1] 2\n",
            "[1] 3\n",
            "[1] 4\n",
            "[1] 5\n",
            "[1] 6\n",
            "[1] 7\n",
            "[1] 8\n",
            "[1] 9\n"
          ]
        }
      ]
    },
    {
      "cell_type": "markdown",
      "source": [
        "El bucle para cuando el número es igual a 10."
      ],
      "metadata": {
        "id": "d8BJ_f82tvYe"
      }
    },
    {
      "cell_type": "code",
      "source": [
        "#Ejemplo con while y break:\n",
        "numero <- 10\n",
        "\n",
        "while(numero){\n",
        "  print(numero)\n",
        "  numero <- numero - 1\n",
        "  if (numero == 3){\n",
        "    break\n",
        "  }\n",
        "}"
      ],
      "metadata": {
        "colab": {
          "base_uri": "https://localhost:8080/"
        },
        "id": "Y4YvljhatuGz",
        "outputId": "fac53ec6-168a-40aa-b404-bba4259f369a"
      },
      "execution_count": null,
      "outputs": [
        {
          "output_type": "stream",
          "name": "stdout",
          "text": [
            "[1] 10\n",
            "[1] 9\n",
            "[1] 8\n",
            "[1] 7\n",
            "[1] 6\n",
            "[1] 5\n",
            "[1] 4\n"
          ]
        }
      ]
    },
    {
      "cell_type": "code",
      "source": [
        "#Ejemplo con next:\n",
        "for(i in 1:10) {\n",
        "  if(i == 3 | i == 6) {\n",
        "    next #Le decimos que se salte la instrucción print(i) cuando llegue a 3 y 6\n",
        "  }\n",
        "  print(i)\n",
        "}"
      ],
      "metadata": {
        "colab": {
          "base_uri": "https://localhost:8080/"
        },
        "id": "WZ4EBI10vaW3",
        "outputId": "987f872d-096d-4195-c22f-868fdfcf3933"
      },
      "execution_count": null,
      "outputs": [
        {
          "output_type": "stream",
          "name": "stdout",
          "text": [
            "[1] 1\n",
            "[1] 2\n",
            "[1] 4\n",
            "[1] 5\n",
            "[1] 7\n",
            "[1] 8\n",
            "[1] 9\n",
            "[1] 10\n"
          ]
        }
      ]
    },
    {
      "cell_type": "markdown",
      "source": [
        "###**Bucle `repeat`: bucle determinado**"
      ],
      "metadata": {
        "id": "Cj4fPSAdqjRF"
      }
    },
    {
      "cell_type": "markdown",
      "source": [
        "Este bucle se repetirá tantas veces como especifiquemos, debiendo usar la instrucción `break` para detenerlo.\n",
        "```\n",
        "repeat{\n",
        "  Instrucciones\n",
        "  break\n",
        "}\n",
        "```\n",
        "Véamos un sencillo ejemplo:"
      ],
      "metadata": {
        "id": "e1Nj-_xSqpQX"
      }
    },
    {
      "cell_type": "code",
      "source": [
        "#El bucle sumará 1 a la variable numero hasta que le ordenemos parar:\n",
        "numero <- 0\n",
        "\n",
        "repeat{\n",
        "  numero <- numero + 1\n",
        "  if(numero == 10){\n",
        "    break\n",
        "  }\n",
        "}\n",
        "\n",
        "numero"
      ],
      "metadata": {
        "colab": {
          "base_uri": "https://localhost:8080/",
          "height": 34
        },
        "id": "p6QgW-XjrPsw",
        "outputId": "41e63009-31ce-4503-f38d-fd271ddf80b6"
      },
      "execution_count": null,
      "outputs": [
        {
          "output_type": "display_data",
          "data": {
            "text/html": [
              "10"
            ],
            "text/markdown": "10",
            "text/latex": "10",
            "text/plain": [
              "[1] 10"
            ]
          },
          "metadata": {}
        }
      ]
    },
    {
      "cell_type": "markdown",
      "source": [
        "Es importante acordarse de poner un `break` para evitar que el bucle se convierta en un bucle infinito (un bucle que nunca para).\n"
      ],
      "metadata": {
        "id": "a0OKlQgOro6J"
      }
    },
    {
      "cell_type": "markdown",
      "source": [
        "#**Funciones**"
      ],
      "metadata": {
        "id": "MPlVnW4Y8qSL"
      }
    },
    {
      "cell_type": "markdown",
      "source": [
        "A rasgos generales, podemos definir una **función** como un grupo instrucciones que conforman una unidad lógica del programa y resuelven un problema concreto.\n",
        "\n",
        "De manera más desarrollada, podemos decir que una función es un bloque de código, con un nombre asociado, que recibe cero o más parámetros o argumentos y, siguiendo una secuencia de instrucciones, ejecuta una operación.\n",
        "\n",
        "El uso de funciones es básico en cualquier lenguaje de programación, ya que nos permiten desarrollar dos cuestiones fundamentales: 1) fragmentar un programa complejo en partes más breves y sencillas (**modularización**) y 2) una vez definida, la función puede ser llamada tantas veces como se necesite (**reutilización**).\n",
        "\n",
        "R dispone de una serie de funciones integradas por defecto: `dim()`, `length()`, `class()`, etc. Y, en la mayor parte de los análisis que se presentan en este proyecto del INE, se utilizarán funciones de caracter estadístico o relacionado que cargaremos procedentes de distintas librerías.\n",
        "\n",
        "No obstante, en este apartado, mostramos la forma de crear nuestras propias funciones, si fuera necesario."
      ],
      "metadata": {
        "id": "8IygisUirUOL"
      }
    },
    {
      "cell_type": "markdown",
      "source": [
        "###**Funciones básicas**"
      ],
      "metadata": {
        "id": "ff1K1nsVtbHV"
      }
    },
    {
      "cell_type": "markdown",
      "source": [
        "Presentan la siguiente estructura de código:\n",
        "```\n",
        "Nombre_Funcion <- function(parametros/argumentos que recibe){\n",
        "  Instrucciones de la función\n",
        "  return(opcional)\n",
        "}\n",
        "```\n",
        "IMPORTANTE: al contrario que ocurre en Python, los elementos/instrucciones que lleve dentro la función no tienen por qué ir indexados, es decir, las líneas de código internas no tienen por qué empezar más adentro que la línea definidora de la función, como si se tratara de una sangría de texto. La cuestión en R es que los elementos/instrucciones de la función vayan dentro de las llaves: `{}`. No obstante, por convención, como hemos mostrado en la estructura de código de arriba, sí se suelen indexar dichos elementos/instrucciones, para así mostrar claramente qué es lo que está dentro de la función.\n",
        "\n",
        "A su vez, para llamar a la función una vez creada, debemos escribir:\n",
        "```\n",
        "Nombre_Función(parámetros/argumentos que requiera)\n",
        "``` \n",
        "Veámos unos ejemplos muy básicos:"
      ],
      "metadata": {
        "id": "qZF5XVXjuJIF"
      }
    },
    {
      "cell_type": "code",
      "source": [
        "#Función sin parámetros:\n",
        "bienvenida <- function(){\n",
        "  print(\"Hola, ¿cómo te llamas?\")\n",
        "  print(\"Bienvenido al proyecto de difusión del INE.\")\n",
        "}"
      ],
      "metadata": {
        "id": "oly96Av5rTeq"
      },
      "execution_count": null,
      "outputs": []
    },
    {
      "cell_type": "code",
      "source": [
        "bienvenida()"
      ],
      "metadata": {
        "colab": {
          "base_uri": "https://localhost:8080/"
        },
        "id": "F4a_G9z_YO_4",
        "outputId": "78941a86-2b77-431f-97cb-1b7a8f0f1dfe"
      },
      "execution_count": null,
      "outputs": [
        {
          "output_type": "stream",
          "name": "stdout",
          "text": [
            "[1] \"Hola, ¿cómo te llamas?\"\n",
            "[1] \"Bienvenido al proyecto de difusión del INE.\"\n"
          ]
        }
      ]
    },
    {
      "cell_type": "code",
      "source": [
        "#Función con parametros:\n",
        "multiplicacion <- function(numero_1, numero_2){\n",
        "  resultado = numero_1 * numero_2\n",
        "  return(resultado)\n",
        "}"
      ],
      "metadata": {
        "id": "XmyZ45LDZHvT"
      },
      "execution_count": null,
      "outputs": []
    },
    {
      "cell_type": "code",
      "source": [
        "multiplicacion(7, 10)"
      ],
      "metadata": {
        "colab": {
          "base_uri": "https://localhost:8080/",
          "height": 34
        },
        "id": "2pKdF4ELZU5F",
        "outputId": "16fa5af8-2c57-4755-eea8-32d38ac9afdb"
      },
      "execution_count": null,
      "outputs": [
        {
          "output_type": "display_data",
          "data": {
            "text/html": [
              "70"
            ],
            "text/markdown": "70",
            "text/latex": "70",
            "text/plain": [
              "[1] 70"
            ]
          },
          "metadata": {}
        }
      ]
    },
    {
      "cell_type": "markdown",
      "source": [
        "Como hemos visto en el ejemplo anterior, no es necesario explicitar el nombre de los parámetros al llamar a la función. Cuando hacemos esto, el orden de los parámetros que introducimos será igual al orden que tiene definido la función. Es decir, en este caso `numero_1` será igual a 7, y `numero_2` a 10. Sin embargo, puede que queramos introducir los parámetros en otro orden y que la función se siga ejecutando con el mismo resultado. Para ello, al llamar a la función, deberemos explicitar el nombre de cada parámetro introducido.\n",
        "\n",
        "Lo vemos con un ejemplo donde el orden de los parámetros sí afecta al resultado:"
      ],
      "metadata": {
        "id": "QealV5ORdTMT"
      }
    },
    {
      "cell_type": "code",
      "source": [
        "resta <- function(numero_1, numero_2){\n",
        "  resultado = numero_1 - numero_2\n",
        "  return(resultado)\n",
        "}\n",
        "#Las restas no son conmutativas: numero_1 - numero_2 ≠ numero_2 - numero_1"
      ],
      "metadata": {
        "id": "rK14fRwZdSvT"
      },
      "execution_count": null,
      "outputs": []
    },
    {
      "cell_type": "code",
      "source": [
        "resta(50, 30)"
      ],
      "metadata": {
        "colab": {
          "base_uri": "https://localhost:8080/",
          "height": 34
        },
        "id": "iOtUtQrsdsFX",
        "outputId": "7057ae6f-8ee2-4ad3-f436-5671b2ff9e1a"
      },
      "execution_count": null,
      "outputs": [
        {
          "output_type": "display_data",
          "data": {
            "text/html": [
              "20"
            ],
            "text/markdown": "20",
            "text/latex": "20",
            "text/plain": [
              "[1] 20"
            ]
          },
          "metadata": {}
        }
      ]
    },
    {
      "cell_type": "code",
      "source": [
        "resta(30, 50)"
      ],
      "metadata": {
        "colab": {
          "base_uri": "https://localhost:8080/",
          "height": 34
        },
        "id": "AYQdcVC3dv7B",
        "outputId": "eec7e8de-c691-4492-d9cf-fd78a895cbc4"
      },
      "execution_count": null,
      "outputs": [
        {
          "output_type": "display_data",
          "data": {
            "text/html": [
              "-20"
            ],
            "text/markdown": "-20",
            "text/latex": "-20",
            "text/plain": [
              "[1] -20"
            ]
          },
          "metadata": {}
        }
      ]
    },
    {
      "cell_type": "code",
      "source": [
        "#Explicitamos el nombre de los parámetros para que el resultado sea igual al del primer intento:\n",
        "resta(numero_2=30, numero_1=50)"
      ],
      "metadata": {
        "colab": {
          "base_uri": "https://localhost:8080/",
          "height": 34
        },
        "id": "0KGEupMSdyhW",
        "outputId": "a61d1906-30cd-4f01-ed49-7e106d6bddf0"
      },
      "execution_count": null,
      "outputs": [
        {
          "output_type": "display_data",
          "data": {
            "text/html": [
              "20"
            ],
            "text/markdown": "20",
            "text/latex": "20",
            "text/plain": [
              "[1] 20"
            ]
          },
          "metadata": {}
        }
      ]
    },
    {
      "cell_type": "markdown",
      "source": [
        "###**Funciones lambda o funciones anónimas**"
      ],
      "metadata": {
        "id": "5bZtyzCRgJyn"
      }
    },
    {
      "cell_type": "markdown",
      "source": [
        "Se trata de una forma de simplificar aún más el código de funciones básicas sencillas. Básicamente, dicha simplificación consiste en no darle nombre a la función (por ello, se denominan *anónimas*). Debido a ello, las funciones lambda o anónimas son útiles cuando se van a utilizar una sola vez o un número pequeño de veces, si es rápido volver a escribirlas.\n",
        "\n",
        "Presentan la siguiente estructura de código:\n",
        "```\n",
        "(function(parametros/argumentos que recibe)Instrucciones)(parametros/argumentos que introducimos para que se ejecute la funcion)\n",
        "```\n",
        "Lo vemos con un ejemplo:"
      ],
      "metadata": {
        "id": "7oDdmujpgbVv"
      }
    },
    {
      "cell_type": "code",
      "source": [
        "#Creamos una función básica sencilla:\n",
        "suma <- function(num1, num2){\n",
        "  resultado_suma <- num1 + num2\n",
        "  return(resultado_suma)\n",
        "}\n",
        "\n",
        "suma(27,3)"
      ],
      "metadata": {
        "colab": {
          "base_uri": "https://localhost:8080/",
          "height": 34
        },
        "id": "XI6bItLZhxQO",
        "outputId": "bda78b1c-6058-48b3-8616-77804a03756b"
      },
      "execution_count": null,
      "outputs": [
        {
          "output_type": "display_data",
          "data": {
            "text/html": [
              "30"
            ],
            "text/markdown": "30",
            "text/latex": "30",
            "text/plain": [
              "[1] 30"
            ]
          },
          "metadata": {}
        }
      ]
    },
    {
      "cell_type": "code",
      "source": [
        "#Creamos la función lambda equivalente\n",
        "(function(num1, num2) num1 + num2)(27,3)"
      ],
      "metadata": {
        "colab": {
          "base_uri": "https://localhost:8080/",
          "height": 34
        },
        "id": "c8Em4t_khfhg",
        "outputId": "2139d9b5-cd36-469f-9a37-01b9751e2f42"
      },
      "execution_count": null,
      "outputs": [
        {
          "output_type": "display_data",
          "data": {
            "text/html": [
              "30"
            ],
            "text/markdown": "30",
            "text/latex": "30",
            "text/plain": [
              "[1] 30"
            ]
          },
          "metadata": {}
        }
      ]
    },
    {
      "cell_type": "markdown",
      "source": [
        "###**Función `apply()`**"
      ],
      "metadata": {
        "id": "g5e4Wakn2QOr"
      }
    },
    {
      "cell_type": "markdown",
      "source": [
        "La función `apply()` es una función de orden superior. Las funciones de orden superior son aquellas que cumplen, al menos, una de las siguientes dos condiciones:\n",
        "1. Toman una o más funciones como parámetro.\n",
        "2. Devuelven una función como salida.\n",
        "\n",
        "En concreto, la función `apply()` permite aplicar una función a los elementos de una matriz o dataframe. Su estructura de código en la siguiente:\n",
        "```\n",
        "apply(X = matriz o dataframe, \n",
        "      MARGIN = 1, 2 ó c(1,2),\n",
        "      FUN = funcion a aplicar)\n",
        "```\n",
        "* Si `MARGIN = 1`, la función se aplicará sobre las filas de la matriz o dataframe.\n",
        "* Si `MARGIN = 2`, la función se aplicará sobre las columnas.\n",
        "* Si `MARGIN = c(1, 2)`, la función se aplicará sobre cada una de las celdas.\n",
        "\n",
        "Veamos un ejemplo sencillo con la función suma: `sum()`."
      ],
      "metadata": {
        "id": "soyVynlk2cXr"
      }
    },
    {
      "cell_type": "code",
      "source": [
        "#Creamos unos datos:\n",
        "datos <- data.frame(A = 1:5, B = 6:10, C = 11:15)\n",
        "datos"
      ],
      "metadata": {
        "colab": {
          "base_uri": "https://localhost:8080/",
          "height": 254
        },
        "id": "3ytDkK8f2uxd",
        "outputId": "a8c63ee1-6717-4525-b8b3-b10a6997be87"
      },
      "execution_count": null,
      "outputs": [
        {
          "output_type": "display_data",
          "data": {
            "text/html": [
              "<table class=\"dataframe\">\n",
              "<caption>A data.frame: 5 × 3</caption>\n",
              "<thead>\n",
              "\t<tr><th scope=col>A</th><th scope=col>B</th><th scope=col>C</th></tr>\n",
              "\t<tr><th scope=col>&lt;int&gt;</th><th scope=col>&lt;int&gt;</th><th scope=col>&lt;int&gt;</th></tr>\n",
              "</thead>\n",
              "<tbody>\n",
              "\t<tr><td>1</td><td> 6</td><td>11</td></tr>\n",
              "\t<tr><td>2</td><td> 7</td><td>12</td></tr>\n",
              "\t<tr><td>3</td><td> 8</td><td>13</td></tr>\n",
              "\t<tr><td>4</td><td> 9</td><td>14</td></tr>\n",
              "\t<tr><td>5</td><td>10</td><td>15</td></tr>\n",
              "</tbody>\n",
              "</table>\n"
            ],
            "text/markdown": "\nA data.frame: 5 × 3\n\n| A &lt;int&gt; | B &lt;int&gt; | C &lt;int&gt; |\n|---|---|---|\n| 1 |  6 | 11 |\n| 2 |  7 | 12 |\n| 3 |  8 | 13 |\n| 4 |  9 | 14 |\n| 5 | 10 | 15 |\n\n",
            "text/latex": "A data.frame: 5 × 3\n\\begin{tabular}{lll}\n A & B & C\\\\\n <int> & <int> & <int>\\\\\n\\hline\n\t 1 &  6 & 11\\\\\n\t 2 &  7 & 12\\\\\n\t 3 &  8 & 13\\\\\n\t 4 &  9 & 14\\\\\n\t 5 & 10 & 15\\\\\n\\end{tabular}\n",
            "text/plain": [
              "  A B  C \n",
              "1 1  6 11\n",
              "2 2  7 12\n",
              "3 3  8 13\n",
              "4 4  9 14\n",
              "5 5 10 15"
            ]
          },
          "metadata": {}
        }
      ]
    },
    {
      "cell_type": "code",
      "source": [
        "#Aplicamos la función suma a las filas, es decir, vamos a sumar los elementos de cada fila:\n",
        "apply(datos, 1, sum)"
      ],
      "metadata": {
        "colab": {
          "base_uri": "https://localhost:8080/",
          "height": 34
        },
        "id": "Gb9YjfID285p",
        "outputId": "f7d3d858-f851-46fc-c0a1-a1584534a40f"
      },
      "execution_count": null,
      "outputs": [
        {
          "output_type": "display_data",
          "data": {
            "text/html": [
              "<style>\n",
              ".list-inline {list-style: none; margin:0; padding: 0}\n",
              ".list-inline>li {display: inline-block}\n",
              ".list-inline>li:not(:last-child)::after {content: \"\\00b7\"; padding: 0 .5ex}\n",
              "</style>\n",
              "<ol class=list-inline><li>18</li><li>21</li><li>24</li><li>27</li><li>30</li></ol>\n"
            ],
            "text/markdown": "1. 18\n2. 21\n3. 24\n4. 27\n5. 30\n\n\n",
            "text/latex": "\\begin{enumerate*}\n\\item 18\n\\item 21\n\\item 24\n\\item 27\n\\item 30\n\\end{enumerate*}\n",
            "text/plain": [
              "[1] 18 21 24 27 30"
            ]
          },
          "metadata": {}
        }
      ]
    },
    {
      "cell_type": "code",
      "source": [
        "#Aplicamos la función suma a las columnas, es decir, vamos a sumar los elementos de cada columna:\n",
        "apply(datos, 2, sum)"
      ],
      "metadata": {
        "colab": {
          "base_uri": "https://localhost:8080/",
          "height": 34
        },
        "id": "m260OAHwG3dM",
        "outputId": "3c11c6ee-ed92-4d95-f11b-d11965785248"
      },
      "execution_count": null,
      "outputs": [
        {
          "output_type": "display_data",
          "data": {
            "text/html": [
              "<style>\n",
              ".dl-inline {width: auto; margin:0; padding: 0}\n",
              ".dl-inline>dt, .dl-inline>dd {float: none; width: auto; display: inline-block}\n",
              ".dl-inline>dt::after {content: \":\\0020\"; padding-right: .5ex}\n",
              ".dl-inline>dt:not(:first-of-type) {padding-left: .5ex}\n",
              "</style><dl class=dl-inline><dt>A</dt><dd>15</dd><dt>B</dt><dd>40</dd><dt>C</dt><dd>65</dd></dl>\n"
            ],
            "text/markdown": "A\n:   15B\n:   40C\n:   65\n\n",
            "text/latex": "\\begin{description*}\n\\item[A] 15\n\\item[B] 40\n\\item[C] 65\n\\end{description*}\n",
            "text/plain": [
              " A  B  C \n",
              "15 40 65 "
            ]
          },
          "metadata": {}
        }
      ]
    },
    {
      "cell_type": "code",
      "source": [
        "#Aplicamos la función suma a todas las celdas:\n",
        "apply(datos, c(1,2), sum)"
      ],
      "metadata": {
        "colab": {
          "base_uri": "https://localhost:8080/",
          "height": 241
        },
        "id": "lg9f57eQG-v3",
        "outputId": "a1671d66-8462-46b0-cf45-9861d72d4919"
      },
      "execution_count": null,
      "outputs": [
        {
          "output_type": "display_data",
          "data": {
            "text/html": [
              "<table class=\"dataframe\">\n",
              "<caption>A matrix: 5 × 3 of type int</caption>\n",
              "<thead>\n",
              "\t<tr><th scope=col>A</th><th scope=col>B</th><th scope=col>C</th></tr>\n",
              "</thead>\n",
              "<tbody>\n",
              "\t<tr><td>1</td><td> 6</td><td>11</td></tr>\n",
              "\t<tr><td>2</td><td> 7</td><td>12</td></tr>\n",
              "\t<tr><td>3</td><td> 8</td><td>13</td></tr>\n",
              "\t<tr><td>4</td><td> 9</td><td>14</td></tr>\n",
              "\t<tr><td>5</td><td>10</td><td>15</td></tr>\n",
              "</tbody>\n",
              "</table>\n"
            ],
            "text/markdown": "\nA matrix: 5 × 3 of type int\n\n| A | B | C |\n|---|---|---|\n| 1 |  6 | 11 |\n| 2 |  7 | 12 |\n| 3 |  8 | 13 |\n| 4 |  9 | 14 |\n| 5 | 10 | 15 |\n\n",
            "text/latex": "A matrix: 5 × 3 of type int\n\\begin{tabular}{lll}\n A & B & C\\\\\n\\hline\n\t 1 &  6 & 11\\\\\n\t 2 &  7 & 12\\\\\n\t 3 &  8 & 13\\\\\n\t 4 &  9 & 14\\\\\n\t 5 & 10 & 15\\\\\n\\end{tabular}\n",
            "text/plain": [
              "     A B  C \n",
              "[1,] 1  6 11\n",
              "[2,] 2  7 12\n",
              "[3,] 3  8 13\n",
              "[4,] 4  9 14\n",
              "[5,] 5 10 15"
            ]
          },
          "metadata": {}
        }
      ]
    },
    {
      "cell_type": "markdown",
      "source": [
        "En este último caso, vemos que los elementos del dataframe de salida son los elementos originales del dataframe, ya que se está calculando la suma de cada celda individual."
      ],
      "metadata": {
        "id": "m4xTvD9UHZIE"
      }
    },
    {
      "cell_type": "code",
      "source": [
        "#Si cambiamos c(1,2) por c(2,1) transponemos el dataframe:\n",
        "apply(datos, c(2,1), sum)"
      ],
      "metadata": {
        "colab": {
          "base_uri": "https://localhost:8080/",
          "height": 128
        },
        "id": "1oPRzNIrHj8V",
        "outputId": "fca77fd4-f9d5-428c-f6ce-09af145b6ed5"
      },
      "execution_count": null,
      "outputs": [
        {
          "output_type": "display_data",
          "data": {
            "text/html": [
              "<table class=\"dataframe\">\n",
              "<caption>A matrix: 3 × 5 of type int</caption>\n",
              "<tbody>\n",
              "\t<tr><th scope=row>A</th><td> 1</td><td> 2</td><td> 3</td><td> 4</td><td> 5</td></tr>\n",
              "\t<tr><th scope=row>B</th><td> 6</td><td> 7</td><td> 8</td><td> 9</td><td>10</td></tr>\n",
              "\t<tr><th scope=row>C</th><td>11</td><td>12</td><td>13</td><td>14</td><td>15</td></tr>\n",
              "</tbody>\n",
              "</table>\n"
            ],
            "text/markdown": "\nA matrix: 3 × 5 of type int\n\n| A |  1 |  2 |  3 |  4 |  5 |\n| B |  6 |  7 |  8 |  9 | 10 |\n| C | 11 | 12 | 13 | 14 | 15 |\n\n",
            "text/latex": "A matrix: 3 × 5 of type int\n\\begin{tabular}{r|lllll}\n\tA &  1 &  2 &  3 &  4 &  5\\\\\n\tB &  6 &  7 &  8 &  9 & 10\\\\\n\tC & 11 & 12 & 13 & 14 & 15\\\\\n\\end{tabular}\n",
            "text/plain": [
              "  [,1] [,2] [,3] [,4] [,5]\n",
              "A  1    2    3    4    5  \n",
              "B  6    7    8    9   10  \n",
              "C 11   12   13   14   15  "
            ]
          },
          "metadata": {}
        }
      ]
    },
    {
      "cell_type": "markdown",
      "source": [
        "Con `apply()` también podemos aplicar funciones que hayamos creado nosotros:"
      ],
      "metadata": {
        "id": "H--y29DPH2o9"
      }
    },
    {
      "cell_type": "code",
      "source": [
        "#Creamos la función\n",
        "al_cuadrado <- function(numero){\n",
        "  resultado = numero^2\n",
        "  return(resultado)\n",
        "}"
      ],
      "metadata": {
        "id": "D4Tf3zYWH9_7"
      },
      "execution_count": null,
      "outputs": []
    },
    {
      "cell_type": "code",
      "source": [
        "apply(datos, c(1,2), al_cuadrado)"
      ],
      "metadata": {
        "colab": {
          "base_uri": "https://localhost:8080/",
          "height": 241
        },
        "id": "26fPj_8fIT-5",
        "outputId": "2a6356fe-4648-4963-a09a-0362ae03f9f5"
      },
      "execution_count": null,
      "outputs": [
        {
          "output_type": "display_data",
          "data": {
            "text/html": [
              "<table class=\"dataframe\">\n",
              "<caption>A matrix: 5 × 3 of type dbl</caption>\n",
              "<thead>\n",
              "\t<tr><th scope=col>A</th><th scope=col>B</th><th scope=col>C</th></tr>\n",
              "</thead>\n",
              "<tbody>\n",
              "\t<tr><td> 1</td><td> 36</td><td>121</td></tr>\n",
              "\t<tr><td> 4</td><td> 49</td><td>144</td></tr>\n",
              "\t<tr><td> 9</td><td> 64</td><td>169</td></tr>\n",
              "\t<tr><td>16</td><td> 81</td><td>196</td></tr>\n",
              "\t<tr><td>25</td><td>100</td><td>225</td></tr>\n",
              "</tbody>\n",
              "</table>\n"
            ],
            "text/markdown": "\nA matrix: 5 × 3 of type dbl\n\n| A | B | C |\n|---|---|---|\n|  1 |  36 | 121 |\n|  4 |  49 | 144 |\n|  9 |  64 | 169 |\n| 16 |  81 | 196 |\n| 25 | 100 | 225 |\n\n",
            "text/latex": "A matrix: 5 × 3 of type dbl\n\\begin{tabular}{lll}\n A & B & C\\\\\n\\hline\n\t  1 &  36 & 121\\\\\n\t  4 &  49 & 144\\\\\n\t  9 &  64 & 169\\\\\n\t 16 &  81 & 196\\\\\n\t 25 & 100 & 225\\\\\n\\end{tabular}\n",
            "text/plain": [
              "     A  B   C  \n",
              "[1,]  1  36 121\n",
              "[2,]  4  49 144\n",
              "[3,]  9  64 169\n",
              "[4,] 16  81 196\n",
              "[5,] 25 100 225"
            ]
          },
          "metadata": {}
        }
      ]
    },
    {
      "cell_type": "markdown",
      "source": [
        "`apply()` pertenece a llamada **funciones de la familia `apply`**. Éstas son un grupo de funciones con una funcionalidad similar, valga la redundancia. Son: `apply()`, `eapply()`, `lapply()`, `mapply()`, `rapply()`, `sapply()`, `tapply()` y `vapply()`. Por ejemplo, `lapply()` se emplean con listas, en lugar de con matrices o dataframes.\n",
        "\n",
        "Sin embargo, por no extendernos demasiado, solo nos hemos detenido a ver la función `apply()` por ser de aplicación en dataframes, la estructura de datos que más vamos a utilizar en este proyecto."
      ],
      "metadata": {
        "id": "X0UwFIsEJSqW"
      }
    },
    {
      "cell_type": "markdown",
      "source": [
        "#**Instalación y carga de paquetes**"
      ],
      "metadata": {
        "id": "9qM9u2_X80lA"
      }
    },
    {
      "cell_type": "markdown",
      "source": [
        "En la grandísima mayoría de análisis estadístico que hagamos - por no decir en todos -, vamos a tener que instalar o, al menos, cargar, uno o más paquetes específicos que nos permitirán desarrollar los análisis. En R, los paquetes son conjuntos de funciones con una finalidad concreta.\n",
        "\n",
        "Los paquetes también reciben el nombre de bibliotecas (*libraries*). Algunas personas distinguen entre unos y otros diciendo que una biblioteca es más grande que un paquete. No obstante, como su funcionalidad es la misma, no vamos a distinguir entre paquetes y bibliotecas, y vamos a emplear el término *paquete*.\n",
        "\n",
        "Para usar un paquete, debemos utilizar el siguiente código antes de la primera vez que lo utilicemos en un cuaderno:\n",
        "```\n",
        "install.packages(\"nombre_del_paquete\")\n",
        "library(nombre_del_paquete)\n",
        "```\n",
        "\n",
        "En algunos casos, el paquete ya está instalado por defecto en Colab, por lo que solo tendremos que llamarlo:\n",
        "```\n",
        "library(nombre_del_paquete)\n",
        "```\n",
        "Finalmente, una vez instalados y llamados, en contra de lo que ocurre con Python, no deberemos utilizar la nomenclatura del punto ni ningún metodo similar. Simplemente deberemos llamar a las funciones que queramos usar y que estén dentro de dichos paquetes y ya está.\n",
        "\n",
        "Veamos un ejemplo con el paquete `MASS` (ya instalado en Colab por defecto):\n",
        "\n",
        "\n"
      ],
      "metadata": {
        "id": "tZgHOfCRxROT"
      }
    },
    {
      "cell_type": "code",
      "source": [
        "set.seed(2021) #Establecemos una semilla para facilitar la reproductibilidad de los resultados\n",
        "#Creamos un dataset con cuatro variables continuas (altura, sexo, edad e ingresos) y una categórica (sexo), y 250 observaciones:\n",
        "#Altura y Peso estarán correlacionadas (a mayor altura, mayor peso), y lo mismo la edad y los ingresos:\n",
        "\n",
        "library(MASS) #Librería necesaria para crear datos correlacionados mediante la función mvrnorm()\n",
        "\n",
        "cov_Altura_Peso <- 0.7*sqrt((30^2)*(20^2)) #La covarianza entre X e Y es igual al producto de su correlación por sus desviaciones típicas\n",
        "cov_Edad_Ingresos <- 0.4*sqrt((15^2)*(5000^2))\n",
        "cov_matriz <- rbind(c(30^2, cov_Altura_Peso, 0, 0), #Matriz de varianzas - covarianzas\n",
        "                    c(cov_Altura_Peso, 20^2, 0, 0),\n",
        "                    c(0, 0, 15^2, cov_Edad_Ingresos),\n",
        "                    c(0, 0, cov_Edad_Ingresos, 5000^2))\n",
        "mu <- c(165, 65, 30, 15000) \n",
        "\n",
        "#Utilizamos la función mvrnorm() sin necesidad de llamar de nuevo al paquete MASS, que la contiene\n",
        "datos_Altura_Peso_Edad_Ingresos <- as.data.frame(mvrnorm(n=250, mu=mu, Sigma=cov_matriz))\n",
        "\n",
        "datos <- data.frame(\n",
        "  Sexo = sample(c(\"Hombre\", \"Mujer\"), 250, replace=TRUE), #Seleccionamos al azar, 250 veces, entre las categorías Hombre y Mujer\n",
        "  Altura = abs(datos_Altura_Peso_Edad_Ingresos[,1]), #La altura sigue una normal N(165, 30). Usamos la función abs() (valor absoluto), para evitar alturas negativas\n",
        "  Peso = abs(datos_Altura_Peso_Edad_Ingresos[,2]),  #El peso sigue una normal N(65, 30). Usamos la función abs(), para evitar pesos negativos\n",
        "  Edad = abs(datos_Altura_Peso_Edad_Ingresos[,3]), #La edad sigue una normal N(30, 15). Usamos la función abs(), para evitar edades negativas\n",
        "  Ingresos = abs(datos_Altura_Peso_Edad_Ingresos[,4]) #Los ingresos siguen una normal N(15000, 10000). Usamos la función abs(), para evitar ingresos negativos  \n",
        ")\n",
        "\n",
        "head(datos)"
      ],
      "metadata": {
        "colab": {
          "base_uri": "https://localhost:8080/",
          "height": 285
        },
        "id": "J8vK8ihh3v0j",
        "outputId": "3ab69073-f777-474e-8add-4c96e0b3cbdb"
      },
      "execution_count": null,
      "outputs": [
        {
          "output_type": "display_data",
          "data": {
            "text/html": [
              "<table class=\"dataframe\">\n",
              "<caption>A data.frame: 6 × 5</caption>\n",
              "<thead>\n",
              "\t<tr><th></th><th scope=col>Sexo</th><th scope=col>Altura</th><th scope=col>Peso</th><th scope=col>Edad</th><th scope=col>Ingresos</th></tr>\n",
              "\t<tr><th></th><th scope=col>&lt;chr&gt;</th><th scope=col>&lt;dbl&gt;</th><th scope=col>&lt;dbl&gt;</th><th scope=col>&lt;dbl&gt;</th><th scope=col>&lt;dbl&gt;</th></tr>\n",
              "</thead>\n",
              "<tbody>\n",
              "\t<tr><th scope=row>1</th><td>Mujer </td><td>162.2949</td><td>87.57508</td><td>32.23449</td><td>14387.697</td></tr>\n",
              "\t<tr><th scope=row>2</th><td>Hombre</td><td>150.9919</td><td>59.98314</td><td>14.17056</td><td>17762.306</td></tr>\n",
              "\t<tr><th scope=row>3</th><td>Hombre</td><td>104.9447</td><td>42.74725</td><td>31.06938</td><td>16743.249</td></tr>\n",
              "\t<tr><th scope=row>4</th><td>Mujer </td><td>134.8377</td><td>63.22315</td><td>16.53988</td><td>16798.180</td></tr>\n",
              "\t<tr><th scope=row>5</th><td>Hombre</td><td>180.0655</td><td>61.19098</td><td>29.48357</td><td>19490.276</td></tr>\n",
              "\t<tr><th scope=row>6</th><td>Mujer </td><td>162.6079</td><td>70.03465</td><td>25.05756</td><td> 5387.144</td></tr>\n",
              "</tbody>\n",
              "</table>\n"
            ],
            "text/markdown": "\nA data.frame: 6 × 5\n\n| <!--/--> | Sexo &lt;chr&gt; | Altura &lt;dbl&gt; | Peso &lt;dbl&gt; | Edad &lt;dbl&gt; | Ingresos &lt;dbl&gt; |\n|---|---|---|---|---|---|\n| 1 | Mujer  | 162.2949 | 87.57508 | 32.23449 | 14387.697 |\n| 2 | Hombre | 150.9919 | 59.98314 | 14.17056 | 17762.306 |\n| 3 | Hombre | 104.9447 | 42.74725 | 31.06938 | 16743.249 |\n| 4 | Mujer  | 134.8377 | 63.22315 | 16.53988 | 16798.180 |\n| 5 | Hombre | 180.0655 | 61.19098 | 29.48357 | 19490.276 |\n| 6 | Mujer  | 162.6079 | 70.03465 | 25.05756 |  5387.144 |\n\n",
            "text/latex": "A data.frame: 6 × 5\n\\begin{tabular}{r|lllll}\n  & Sexo & Altura & Peso & Edad & Ingresos\\\\\n  & <chr> & <dbl> & <dbl> & <dbl> & <dbl>\\\\\n\\hline\n\t1 & Mujer  & 162.2949 & 87.57508 & 32.23449 & 14387.697\\\\\n\t2 & Hombre & 150.9919 & 59.98314 & 14.17056 & 17762.306\\\\\n\t3 & Hombre & 104.9447 & 42.74725 & 31.06938 & 16743.249\\\\\n\t4 & Mujer  & 134.8377 & 63.22315 & 16.53988 & 16798.180\\\\\n\t5 & Hombre & 180.0655 & 61.19098 & 29.48357 & 19490.276\\\\\n\t6 & Mujer  & 162.6079 & 70.03465 & 25.05756 &  5387.144\\\\\n\\end{tabular}\n",
            "text/plain": [
              "  Sexo   Altura   Peso     Edad     Ingresos \n",
              "1 Mujer  162.2949 87.57508 32.23449 14387.697\n",
              "2 Hombre 150.9919 59.98314 14.17056 17762.306\n",
              "3 Hombre 104.9447 42.74725 31.06938 16743.249\n",
              "4 Mujer  134.8377 63.22315 16.53988 16798.180\n",
              "5 Hombre 180.0655 61.19098 29.48357 19490.276\n",
              "6 Mujer  162.6079 70.03465 25.05756  5387.144"
            ]
          },
          "metadata": {}
        }
      ]
    },
    {
      "cell_type": "code",
      "source": [
        "#Comprobamos la correlación entre altura y peso:\n",
        "cor(datos$Altura, datos$Peso)"
      ],
      "metadata": {
        "colab": {
          "base_uri": "https://localhost:8080/",
          "height": 34
        },
        "id": "8YD6yOrv4KdT",
        "outputId": "f6d2e0ec-f846-49cc-c6fb-d5015c8785a5"
      },
      "execution_count": null,
      "outputs": [
        {
          "output_type": "display_data",
          "data": {
            "text/html": [
              "0.697553291272575"
            ],
            "text/markdown": "0.697553291272575",
            "text/latex": "0.697553291272575",
            "text/plain": [
              "[1] 0.6975533"
            ]
          },
          "metadata": {}
        }
      ]
    }
  ]
}