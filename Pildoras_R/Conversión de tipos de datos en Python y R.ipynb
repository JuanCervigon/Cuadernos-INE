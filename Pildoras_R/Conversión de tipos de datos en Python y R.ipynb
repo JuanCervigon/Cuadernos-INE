{
  "nbformat": 4,
  "nbformat_minor": 0,
  "metadata": {
    "colab": {
      "name": "Conversión de tipos de datos en Python y R.ipynb",
      "provenance": [],
      "collapsed_sections": []
    },
    "kernelspec": {
      "name": "python3",
      "display_name": "Python 3"
    },
    "language_info": {
      "name": "python"
    }
  },
  "cells": [
    {
      "cell_type": "markdown",
      "source": [
        "La **conversión**, **coerción** o **casting** de tipos de datos es el cambio de un tipo de dato a otro diferente. Dicho cambio puede ser explícito o implícito:\n",
        "* **Conversión implícita:** se produce cuando una operación cambia automáticamente el tipo de dato, es decir, el tipo de los datos de salida es diferente al tipo de los datos de entrada. Un ejemplo muy sencillo es el de un división entre dos numeros enteros cuyo resultado es un número decimal. Tanto Python como R, si es necesario y pueden, intentarán realizar la conversión de manera implícita. Habrá ocasiones en los que Python y R tengas éxito y la operación ocurra sin problemas, y otras en las que fallen y obtengamos un error. En estos últimos casos suele ser necesesario realizar alguna conversión explícita.\n",
        "* **Conversión explícita:** nosotros somos los que decidimos el cambio de tipo de dato. Por ejemplo, pasar de un formato numérico a uno tipo texto. Este tipo de conversión es el que desarrollaremos en este cuaderno."
      ],
      "metadata": {
        "id": "RdIpTk9A9-gJ"
      }
    },
    {
      "cell_type": "markdown",
      "source": [
        "#**Conversión en Python**"
      ],
      "metadata": {
        "id": "HSvxTkmjB_8v"
      }
    },
    {
      "cell_type": "markdown",
      "source": [
        "En Python, contamos con cuatro funciones de conversión de tipos de datos principales:\n",
        "* `str()`: convierte los datos en tipo `string` (texto).\n",
        "* `int()`: convierte a número entero.\n",
        "* `float()`: convierte a número decimal.\n",
        "* `bool()`: comvierte a booleano (tipo lógico).\n",
        "\n",
        "Veamos distintos casos de coerción:"
      ],
      "metadata": {
        "id": "45R58Vr6CL_M"
      }
    },
    {
      "cell_type": "markdown",
      "source": [
        "######**Convertir enteros a flotantes**"
      ],
      "metadata": {
        "id": "3pgIhm_8C2-K"
      }
    },
    {
      "cell_type": "code",
      "execution_count": null,
      "metadata": {
        "colab": {
          "base_uri": "https://localhost:8080/"
        },
        "id": "ZJ18-xcH95id",
        "outputId": "3e9f6543-3200-4b84-ed28-30e6f690ce45"
      },
      "outputs": [
        {
          "output_type": "execute_result",
          "data": {
            "text/plain": [
              "96.0"
            ]
          },
          "metadata": {},
          "execution_count": 3
        }
      ],
      "source": [
        "entero = 96\n",
        "\n",
        "float(entero)"
      ]
    },
    {
      "cell_type": "code",
      "source": [
        "float(25)"
      ],
      "metadata": {
        "colab": {
          "base_uri": "https://localhost:8080/"
        },
        "id": "3k-XztDiDN2o",
        "outputId": "8ec856ae-bca8-4a43-d31d-fbd48ce64c51"
      },
      "execution_count": null,
      "outputs": [
        {
          "output_type": "execute_result",
          "data": {
            "text/plain": [
              "25.0"
            ]
          },
          "metadata": {},
          "execution_count": 4
        }
      ]
    },
    {
      "cell_type": "markdown",
      "source": [
        "######**Convertir flotantes a enteros**"
      ],
      "metadata": {
        "id": "0OUvADOsDRej"
      }
    },
    {
      "cell_type": "code",
      "source": [
        "int(655.87)"
      ],
      "metadata": {
        "colab": {
          "base_uri": "https://localhost:8080/"
        },
        "id": "MSQ-wq1zDZ5T",
        "outputId": "99241a4d-4e4f-481d-c157-25ab23efd9b3"
      },
      "execution_count": null,
      "outputs": [
        {
          "output_type": "execute_result",
          "data": {
            "text/plain": [
              "655"
            ]
          },
          "metadata": {},
          "execution_count": 6
        }
      ]
    },
    {
      "cell_type": "markdown",
      "source": [
        "Vemos que lo que hace `int()` no es aproximar a las unidades, sino que, directamente, realiza el truncamiento de la parte decimal.\n",
        "\n",
        "Si quisiéramos redondear, deberíamos usar la función `round()`:"
      ],
      "metadata": {
        "id": "qsHShEhxDdn5"
      }
    },
    {
      "cell_type": "code",
      "source": [
        "round(655.87)"
      ],
      "metadata": {
        "colab": {
          "base_uri": "https://localhost:8080/"
        },
        "id": "RFKElxN3EIxP",
        "outputId": "640fa765-0cf6-4171-c498-fe264f95a2d7"
      },
      "execution_count": null,
      "outputs": [
        {
          "output_type": "execute_result",
          "data": {
            "text/plain": [
              "656"
            ]
          },
          "metadata": {},
          "execution_count": 16
        }
      ]
    },
    {
      "cell_type": "markdown",
      "source": [
        "La función `round()` realiza implícitamente la conversión a tipo entero:"
      ],
      "metadata": {
        "id": "enTTtiUpESyc"
      }
    },
    {
      "cell_type": "code",
      "source": [
        "type(round(655.87))"
      ],
      "metadata": {
        "colab": {
          "base_uri": "https://localhost:8080/"
        },
        "id": "z1etnapFENvB",
        "outputId": "47ea6f8b-03d0-47da-fe25-7a2950a348d1"
      },
      "execution_count": null,
      "outputs": [
        {
          "output_type": "execute_result",
          "data": {
            "text/plain": [
              "int"
            ]
          },
          "metadata": {},
          "execution_count": 17
        }
      ]
    },
    {
      "cell_type": "markdown",
      "source": [
        "######**Convertir números en texto**"
      ],
      "metadata": {
        "id": "6noshXEGDmRG"
      }
    },
    {
      "cell_type": "code",
      "source": [
        "str(24)"
      ],
      "metadata": {
        "colab": {
          "base_uri": "https://localhost:8080/",
          "height": 35
        },
        "id": "gDjtitRRFbTt",
        "outputId": "7f07da93-8041-4701-cfb0-bc9453fbd5b8"
      },
      "execution_count": null,
      "outputs": [
        {
          "output_type": "execute_result",
          "data": {
            "text/plain": [
              "'24'"
            ],
            "application/vnd.google.colaboratory.intrinsic+json": {
              "type": "string"
            }
          },
          "metadata": {},
          "execution_count": 18
        }
      ]
    },
    {
      "cell_type": "code",
      "source": [
        "str(24.5)"
      ],
      "metadata": {
        "colab": {
          "base_uri": "https://localhost:8080/",
          "height": 35
        },
        "id": "ZVJ_Yil0Fdrh",
        "outputId": "d2934228-84bc-4049-ecf4-d3a0d7da0617"
      },
      "execution_count": null,
      "outputs": [
        {
          "output_type": "execute_result",
          "data": {
            "text/plain": [
              "'24.5'"
            ],
            "application/vnd.google.colaboratory.intrinsic+json": {
              "type": "string"
            }
          },
          "metadata": {},
          "execution_count": 19
        }
      ]
    },
    {
      "cell_type": "markdown",
      "source": [
        "######**Convertir texto en números**"
      ],
      "metadata": {
        "id": "eJKdER21GMK1"
      }
    },
    {
      "cell_type": "code",
      "source": [
        "int(\"24\")"
      ],
      "metadata": {
        "colab": {
          "base_uri": "https://localhost:8080/"
        },
        "id": "xhqVw3m3GP41",
        "outputId": "d49d6178-dcbd-4fce-c8c8-ef1e5c08e623"
      },
      "execution_count": null,
      "outputs": [
        {
          "output_type": "execute_result",
          "data": {
            "text/plain": [
              "24"
            ]
          },
          "metadata": {},
          "execution_count": 20
        }
      ]
    },
    {
      "cell_type": "code",
      "source": [
        "float(\"24.5\")"
      ],
      "metadata": {
        "colab": {
          "base_uri": "https://localhost:8080/"
        },
        "id": "GNiZ_wwMGS5a",
        "outputId": "f4403622-4387-441c-cfcb-63d6377c684f"
      },
      "execution_count": null,
      "outputs": [
        {
          "output_type": "execute_result",
          "data": {
            "text/plain": [
              "24.5"
            ]
          },
          "metadata": {},
          "execution_count": 21
        }
      ]
    },
    {
      "cell_type": "markdown",
      "source": [
        "Solo podemos convertir texto en formato numérico cuando la variable texto hacia referencia directamente a un número, como en los dos ejemplos anteriores. Sin embargo, no funciona cuando le pasamos otro texto:"
      ],
      "metadata": {
        "id": "Nnq7BrqHGieO"
      }
    },
    {
      "cell_type": "code",
      "source": [
        "int(\"veinticuatro\")"
      ],
      "metadata": {
        "colab": {
          "base_uri": "https://localhost:8080/",
          "height": 165
        },
        "id": "Wivz6iASGV5C",
        "outputId": "4e614101-77c3-4f5c-bfb7-83dc5dde8804"
      },
      "execution_count": null,
      "outputs": [
        {
          "output_type": "error",
          "ename": "ValueError",
          "evalue": "ignored",
          "traceback": [
            "\u001b[0;31m---------------------------------------------------------------------------\u001b[0m",
            "\u001b[0;31mValueError\u001b[0m                                Traceback (most recent call last)",
            "\u001b[0;32m<ipython-input-23-5f54d07fefab>\u001b[0m in \u001b[0;36m<module>\u001b[0;34m()\u001b[0m\n\u001b[0;32m----> 1\u001b[0;31m \u001b[0mint\u001b[0m\u001b[0;34m(\u001b[0m\u001b[0;34m\"veinticuatro\"\u001b[0m\u001b[0;34m)\u001b[0m\u001b[0;34m\u001b[0m\u001b[0;34m\u001b[0m\u001b[0m\n\u001b[0m",
            "\u001b[0;31mValueError\u001b[0m: invalid literal for int() with base 10: 'veinticuatro'"
          ]
        }
      ]
    },
    {
      "cell_type": "markdown",
      "source": [
        "######**Convertir booleanos a texto**"
      ],
      "metadata": {
        "id": "5qdDvgN6G8W3"
      }
    },
    {
      "cell_type": "code",
      "source": [
        "str(True)"
      ],
      "metadata": {
        "colab": {
          "base_uri": "https://localhost:8080/",
          "height": 35
        },
        "id": "I6IT2HeVG3KA",
        "outputId": "f2caec57-ede9-4f4a-ce4f-ceeafab66931"
      },
      "execution_count": null,
      "outputs": [
        {
          "output_type": "execute_result",
          "data": {
            "text/plain": [
              "'True'"
            ],
            "application/vnd.google.colaboratory.intrinsic+json": {
              "type": "string"
            }
          },
          "metadata": {},
          "execution_count": 26
        }
      ]
    },
    {
      "cell_type": "code",
      "source": [
        "str(False)"
      ],
      "metadata": {
        "colab": {
          "base_uri": "https://localhost:8080/",
          "height": 35
        },
        "id": "JpDJVPDZHB-w",
        "outputId": "a4363eef-4923-409f-da59-fdc81ecee91a"
      },
      "execution_count": null,
      "outputs": [
        {
          "output_type": "execute_result",
          "data": {
            "text/plain": [
              "'False'"
            ],
            "application/vnd.google.colaboratory.intrinsic+json": {
              "type": "string"
            }
          },
          "metadata": {},
          "execution_count": 27
        }
      ]
    },
    {
      "cell_type": "markdown",
      "source": [
        "######**Convertir booleanos a número**"
      ],
      "metadata": {
        "id": "CuwdkVryHEkz"
      }
    },
    {
      "cell_type": "markdown",
      "source": [
        "En este caso, la idea es la siguiente: `True` = 1, `False` = 0"
      ],
      "metadata": {
        "id": "iTjs9n-qHI6c"
      }
    },
    {
      "cell_type": "code",
      "source": [
        "int(True)"
      ],
      "metadata": {
        "colab": {
          "base_uri": "https://localhost:8080/"
        },
        "id": "e73aOieRHPfq",
        "outputId": "6c091e80-577a-480e-deb6-f47a0be03bae"
      },
      "execution_count": null,
      "outputs": [
        {
          "output_type": "execute_result",
          "data": {
            "text/plain": [
              "1"
            ]
          },
          "metadata": {},
          "execution_count": 28
        }
      ]
    },
    {
      "cell_type": "code",
      "source": [
        "float(False)"
      ],
      "metadata": {
        "colab": {
          "base_uri": "https://localhost:8080/"
        },
        "id": "tPe5GMK0HRDv",
        "outputId": "f2edb10e-e62e-434f-d7c0-d11d154db05f"
      },
      "execution_count": null,
      "outputs": [
        {
          "output_type": "execute_result",
          "data": {
            "text/plain": [
              "0.0"
            ]
          },
          "metadata": {},
          "execution_count": 29
        }
      ]
    },
    {
      "cell_type": "markdown",
      "source": [
        "######**Convertir números a formato booleano**"
      ],
      "metadata": {
        "id": "rtlhDEzhHdu_"
      }
    },
    {
      "cell_type": "markdown",
      "source": [
        "La idea es similar a la anterior: el cero será reconocido como `False`; mientras que todo número distinto de cero será reconocido como `True`:"
      ],
      "metadata": {
        "id": "-MpPErkoHisp"
      }
    },
    {
      "cell_type": "code",
      "source": [
        "bool(45)"
      ],
      "metadata": {
        "colab": {
          "base_uri": "https://localhost:8080/"
        },
        "id": "k5L0sTKUHwwk",
        "outputId": "daffa478-25be-4ae3-cc1c-931d1f5b45ce"
      },
      "execution_count": null,
      "outputs": [
        {
          "output_type": "execute_result",
          "data": {
            "text/plain": [
              "True"
            ]
          },
          "metadata": {},
          "execution_count": 39
        }
      ]
    },
    {
      "cell_type": "code",
      "source": [
        "bool(0.0)"
      ],
      "metadata": {
        "colab": {
          "base_uri": "https://localhost:8080/"
        },
        "id": "6ljkuwUWH1zC",
        "outputId": "b17efe92-782f-4a20-b544-d7a95f59842b"
      },
      "execution_count": null,
      "outputs": [
        {
          "output_type": "execute_result",
          "data": {
            "text/plain": [
              "False"
            ]
          },
          "metadata": {},
          "execution_count": 38
        }
      ]
    },
    {
      "cell_type": "markdown",
      "source": [
        "######**Convertir texto a formato booleano**"
      ],
      "metadata": {
        "id": "5Fn4igQkH5Vf"
      }
    },
    {
      "cell_type": "markdown",
      "source": [
        "En este caso, la conversión es aún más sencilla: toda cadena de texto es convertida en `True`, salvo las cadenas de texto vacías:"
      ],
      "metadata": {
        "id": "z2IjUXhXH9kB"
      }
    },
    {
      "cell_type": "code",
      "source": [
        "bool(\"Hola\")"
      ],
      "metadata": {
        "colab": {
          "base_uri": "https://localhost:8080/"
        },
        "id": "j2GSyIEqHUEH",
        "outputId": "bd48e7ed-acc8-49f3-e595-ae2be9770244"
      },
      "execution_count": null,
      "outputs": [
        {
          "output_type": "execute_result",
          "data": {
            "text/plain": [
              "True"
            ]
          },
          "metadata": {},
          "execution_count": 35
        }
      ]
    },
    {
      "cell_type": "code",
      "source": [
        "bool(\"\")"
      ],
      "metadata": {
        "colab": {
          "base_uri": "https://localhost:8080/"
        },
        "id": "-tq7d_KQJjNN",
        "outputId": "913f53f8-6a1d-47ca-a131-c1f40578e085"
      },
      "execution_count": null,
      "outputs": [
        {
          "output_type": "execute_result",
          "data": {
            "text/plain": [
              "False"
            ]
          },
          "metadata": {},
          "execution_count": 45
        }
      ]
    },
    {
      "cell_type": "markdown",
      "source": [
        "######**Conversión entre listas y tuplas**"
      ],
      "metadata": {
        "id": "OB6otRqCIiKk"
      }
    },
    {
      "cell_type": "markdown",
      "source": [
        "Otro tipo de coerción muy habitual puede ser el producido entre objetos tipo lista y objetos tipo tupla. Para ello, debemos hacer uso de las funciones `list()` y `tuple()`:"
      ],
      "metadata": {
        "id": "A4BM8gLGIn86"
      }
    },
    {
      "cell_type": "code",
      "source": [
        "#Creamos una tupla:\n",
        "Tupla = (\"HOLA\", \"ADIÓS\")\n",
        "\n",
        "#Cambiamos el tipo de dato a lista:\n",
        "list(Tupla)"
      ],
      "metadata": {
        "colab": {
          "base_uri": "https://localhost:8080/"
        },
        "id": "qi0qUCugI2VX",
        "outputId": "3f841bf0-8287-47e4-c432-4fd98fc97808"
      },
      "execution_count": null,
      "outputs": [
        {
          "output_type": "execute_result",
          "data": {
            "text/plain": [
              "['HOLA', 'ADIÓS']"
            ]
          },
          "metadata": {},
          "execution_count": 41
        }
      ]
    },
    {
      "cell_type": "code",
      "source": [
        "type(Tupla)"
      ],
      "metadata": {
        "colab": {
          "base_uri": "https://localhost:8080/"
        },
        "id": "b0swPMa6JK-C",
        "outputId": "a6ce3114-412f-4a3a-937c-f7aff67730c9"
      },
      "execution_count": null,
      "outputs": [
        {
          "output_type": "execute_result",
          "data": {
            "text/plain": [
              "tuple"
            ]
          },
          "metadata": {},
          "execution_count": 42
        }
      ]
    },
    {
      "cell_type": "code",
      "source": [
        "#Creamos una lista:\n",
        "Lista = [\"ADIÓS\", \"HOLA\"]\n",
        "\n",
        "#Cambiamos el tipo de dato a tupla:\n",
        "tuple(Lista)"
      ],
      "metadata": {
        "colab": {
          "base_uri": "https://localhost:8080/"
        },
        "id": "Bc_GFYRIJM_A",
        "outputId": "458ca4b9-66f3-4253-bab7-4d16ba184b77"
      },
      "execution_count": null,
      "outputs": [
        {
          "output_type": "execute_result",
          "data": {
            "text/plain": [
              "('ADIÓS', 'HOLA')"
            ]
          },
          "metadata": {},
          "execution_count": 43
        }
      ]
    },
    {
      "cell_type": "code",
      "source": [
        "type(Lista)"
      ],
      "metadata": {
        "colab": {
          "base_uri": "https://localhost:8080/"
        },
        "id": "ylkpN2XnJW6G",
        "outputId": "4ea11b6d-6403-40eb-f31c-89b55d772a4b"
      },
      "execution_count": null,
      "outputs": [
        {
          "output_type": "execute_result",
          "data": {
            "text/plain": [
              "list"
            ]
          },
          "metadata": {},
          "execution_count": 44
        }
      ]
    },
    {
      "cell_type": "markdown",
      "source": [
        "#**Conversión en R**"
      ],
      "metadata": {
        "id": "tr-7u-a5CEXX"
      }
    },
    {
      "cell_type": "markdown",
      "source": [
        "Para ejecutar código de R en un cuaderno de Python, emplearemos la opción *Rmagic*, que se explica en el **Cuaderno introductorio a Google Colab**:"
      ],
      "metadata": {
        "id": "aglNsjzqKCPg"
      }
    },
    {
      "cell_type": "code",
      "source": [
        "%load_ext rpy2.ipython"
      ],
      "metadata": {
        "id": "82ci2p41KX_L"
      },
      "execution_count": null,
      "outputs": []
    },
    {
      "cell_type": "markdown",
      "source": [
        "En R, contamos con cuatro funciones de conversión de tipos de datos principales:\n",
        "* `as.character()`: convierte los datos en tipo `string` (texto).\n",
        "* `as.integer()`: convierte a número entero.\n",
        "* `as.double()`: convierte a número decimal.\n",
        "* `as.numeric()`: convierte a tipo numérico (incluye tipo entero y decimal).\n",
        "* `as.logical()`: comvierte a booleano (tipo lógico).\n",
        "* `as.factor()`: convierte a tipo factor.\n",
        "\n",
        "Veamos distintos casos de coerción:"
      ],
      "metadata": {
        "id": "VbtVh3NZKstY"
      }
    },
    {
      "cell_type": "markdown",
      "source": [
        "######**Convertir enteros a flotantes**"
      ],
      "metadata": {
        "id": "ehjM5R0wLEcd"
      }
    },
    {
      "cell_type": "code",
      "source": [
        "%%R\n",
        "entero <- 96\n",
        "as.double(entero)"
      ],
      "metadata": {
        "colab": {
          "base_uri": "https://localhost:8080/"
        },
        "id": "b-AXx5PkLEHY",
        "outputId": "5cd7281f-e005-454c-a5da-d9480e8019ce"
      },
      "execution_count": null,
      "outputs": [
        {
          "output_type": "stream",
          "name": "stdout",
          "text": [
            "[1] 96\n"
          ]
        }
      ]
    },
    {
      "cell_type": "code",
      "source": [
        "%%R\n",
        "typeof(as.double(entero))"
      ],
      "metadata": {
        "colab": {
          "base_uri": "https://localhost:8080/"
        },
        "id": "QUDogjNNMUKV",
        "outputId": "eb17eabe-ffc8-43a2-9896-72ff6b0bbf39"
      },
      "execution_count": null,
      "outputs": [
        {
          "output_type": "stream",
          "name": "stdout",
          "text": [
            "[1] \"double\"\n"
          ]
        }
      ]
    },
    {
      "cell_type": "markdown",
      "source": [
        "Aunque, al contrario que hace Python, R no le añada un `.0`, sí que convierte el entero a decimal."
      ],
      "metadata": {
        "id": "6FBuMeLfMsSa"
      }
    },
    {
      "cell_type": "markdown",
      "source": [
        "######**Convertir flotantes a enteros**"
      ],
      "metadata": {
        "id": "tDpdXKk7M0VD"
      }
    },
    {
      "cell_type": "code",
      "source": [
        "%%R\n",
        "as.integer(655.87)"
      ],
      "metadata": {
        "colab": {
          "base_uri": "https://localhost:8080/"
        },
        "id": "q6W-TmvzM6TI",
        "outputId": "0c3ebd47-637d-455e-f263-4d044610267a"
      },
      "execution_count": null,
      "outputs": [
        {
          "output_type": "stream",
          "name": "stdout",
          "text": [
            "[1] 655\n"
          ]
        }
      ]
    },
    {
      "cell_type": "markdown",
      "source": [
        "Al igual que en Python, vemos que lo que hace `as.integer()` no es aproximar a las unidades, sino que, directamente, realiza el truncamiento de la parte decimal.\n",
        "\n",
        "Si quisiéramos redondear, deberíamos usar la función `round()`:"
      ],
      "metadata": {
        "id": "YgUW6uw7NLxK"
      }
    },
    {
      "cell_type": "code",
      "source": [
        "%%R\n",
        "round(655.87)"
      ],
      "metadata": {
        "colab": {
          "base_uri": "https://localhost:8080/"
        },
        "id": "tQDbrdaoM_3D",
        "outputId": "c448ef68-cdab-4d7b-bdd2-52177a348fd1"
      },
      "execution_count": null,
      "outputs": [
        {
          "output_type": "stream",
          "name": "stdout",
          "text": [
            "[1] 656\n"
          ]
        }
      ]
    },
    {
      "cell_type": "markdown",
      "source": [
        "Sin embargo, en R, la función `round()` no realiza implícitamente la conversión a tipo entero:"
      ],
      "metadata": {
        "id": "ca-mcjBzNVCQ"
      }
    },
    {
      "cell_type": "code",
      "source": [
        "%%R\n",
        "typeof(round(655.87))"
      ],
      "metadata": {
        "colab": {
          "base_uri": "https://localhost:8080/"
        },
        "id": "kn_3DzJUNWHf",
        "outputId": "6e88fcd0-6b91-41e4-b325-e84a95b519d8"
      },
      "execution_count": null,
      "outputs": [
        {
          "output_type": "stream",
          "name": "stdout",
          "text": [
            "[1] \"double\"\n"
          ]
        }
      ]
    },
    {
      "cell_type": "markdown",
      "source": [
        "######**Convertir números en texto**"
      ],
      "metadata": {
        "id": "KjoClhwpNidS"
      }
    },
    {
      "cell_type": "code",
      "source": [
        "%%R\n",
        "as.character(24)"
      ],
      "metadata": {
        "colab": {
          "base_uri": "https://localhost:8080/"
        },
        "id": "COKyn6HxNhwr",
        "outputId": "afd33a83-1ba6-4d4a-a646-88da8e046be4"
      },
      "execution_count": null,
      "outputs": [
        {
          "output_type": "stream",
          "name": "stdout",
          "text": [
            "[1] \"24\"\n"
          ]
        }
      ]
    },
    {
      "cell_type": "code",
      "source": [
        "%%R\n",
        "as.character(24.5)"
      ],
      "metadata": {
        "colab": {
          "base_uri": "https://localhost:8080/"
        },
        "id": "GJx55aSDNroi",
        "outputId": "6460d781-fb47-4c67-966c-9d5c9ffdd5df"
      },
      "execution_count": null,
      "outputs": [
        {
          "output_type": "stream",
          "name": "stdout",
          "text": [
            "[1] \"24.5\"\n"
          ]
        }
      ]
    },
    {
      "cell_type": "markdown",
      "source": [
        "######**Convertir texto en números**"
      ],
      "metadata": {
        "id": "1VPsjOAnNx0Q"
      }
    },
    {
      "cell_type": "code",
      "source": [
        "%%R\n",
        "as.integer(\"24\")"
      ],
      "metadata": {
        "colab": {
          "base_uri": "https://localhost:8080/"
        },
        "id": "jBaeVuZlOQ-y",
        "outputId": "55f6ae07-cce3-4def-ca54-650c435f47c9"
      },
      "execution_count": null,
      "outputs": [
        {
          "output_type": "stream",
          "name": "stdout",
          "text": [
            "[1] 24\n"
          ]
        }
      ]
    },
    {
      "cell_type": "code",
      "source": [
        "%%R\n",
        "as.double(\"24.5\")"
      ],
      "metadata": {
        "colab": {
          "base_uri": "https://localhost:8080/"
        },
        "id": "vJwkBKwEOVUp",
        "outputId": "8abdf6a7-b00c-4b92-b562-c9a79f18798a"
      },
      "execution_count": null,
      "outputs": [
        {
          "output_type": "stream",
          "name": "stdout",
          "text": [
            "[1] 24.5\n"
          ]
        }
      ]
    },
    {
      "cell_type": "code",
      "source": [
        "%%R\n",
        "as.numeric(\"24\")"
      ],
      "metadata": {
        "colab": {
          "base_uri": "https://localhost:8080/"
        },
        "id": "leK1dnioOZ3Y",
        "outputId": "07889a56-5acd-4f4d-af90-e00c00390647"
      },
      "execution_count": null,
      "outputs": [
        {
          "output_type": "stream",
          "name": "stdout",
          "text": [
            "[1] 24\n"
          ]
        }
      ]
    },
    {
      "cell_type": "code",
      "source": [
        "%%R\n",
        "as.numeric(\"24.5\")"
      ],
      "metadata": {
        "colab": {
          "base_uri": "https://localhost:8080/"
        },
        "id": "XaeOcZefOfBD",
        "outputId": "4ddf2869-d218-446f-e334-14b3f25264e7"
      },
      "execution_count": null,
      "outputs": [
        {
          "output_type": "stream",
          "name": "stdout",
          "text": [
            "[1] 24.5\n"
          ]
        }
      ]
    },
    {
      "cell_type": "markdown",
      "source": [
        "Como con Python, solo podemos convertir texto en formato numérico cuando la variable texto hacia referencia directamente a un número, como en los dos ejemplos anteriores. Cuando le pasamos otro texto el resultado en un `NA`(*Not a Number*):"
      ],
      "metadata": {
        "id": "lxAz-BQgOj90"
      }
    },
    {
      "cell_type": "code",
      "source": [
        "%%R\n",
        "as.integer(\"veinticuatro\")"
      ],
      "metadata": {
        "colab": {
          "base_uri": "https://localhost:8080/"
        },
        "id": "Aphp4htBOmjr",
        "outputId": "aff47ee8-e09f-4788-c504-7c9506802ff2"
      },
      "execution_count": null,
      "outputs": [
        {
          "output_type": "stream",
          "name": "stdout",
          "text": [
            "[1] NA\n"
          ]
        }
      ]
    },
    {
      "cell_type": "code",
      "source": [
        "%%R\n",
        "as.double(\"veinticuatro\")"
      ],
      "metadata": {
        "colab": {
          "base_uri": "https://localhost:8080/"
        },
        "id": "1-4yS6myOwyp",
        "outputId": "fb22063b-40a2-4ff8-f63b-c3ff3601e951"
      },
      "execution_count": null,
      "outputs": [
        {
          "output_type": "stream",
          "name": "stdout",
          "text": [
            "[1] NA\n"
          ]
        }
      ]
    },
    {
      "cell_type": "code",
      "source": [
        "%%R\n",
        "as.numeric(\"veinticuatro\")"
      ],
      "metadata": {
        "colab": {
          "base_uri": "https://localhost:8080/"
        },
        "id": "RRlGCHpSPJDl",
        "outputId": "457c1b74-64fe-4347-b8c6-49ba1d5378cf"
      },
      "execution_count": null,
      "outputs": [
        {
          "output_type": "stream",
          "name": "stdout",
          "text": [
            "[1] NA\n"
          ]
        }
      ]
    },
    {
      "cell_type": "markdown",
      "source": [
        "######**Convertir booleanos a texto**"
      ],
      "metadata": {
        "id": "L3ddxBo3PO_D"
      }
    },
    {
      "cell_type": "code",
      "source": [
        "%%R\n",
        "as.character(TRUE)"
      ],
      "metadata": {
        "colab": {
          "base_uri": "https://localhost:8080/"
        },
        "id": "0A-XdzAcPSUs",
        "outputId": "6c633b9c-7f53-4da9-c3b7-d16e06a57260"
      },
      "execution_count": null,
      "outputs": [
        {
          "output_type": "stream",
          "name": "stdout",
          "text": [
            "[1] \"TRUE\"\n"
          ]
        }
      ]
    },
    {
      "cell_type": "code",
      "source": [
        "%%R\n",
        "as.character(FALSE)"
      ],
      "metadata": {
        "colab": {
          "base_uri": "https://localhost:8080/"
        },
        "id": "IIU9iRyRPWqS",
        "outputId": "eb231050-4dbf-44ad-dc66-5fa58577fc1f"
      },
      "execution_count": null,
      "outputs": [
        {
          "output_type": "stream",
          "name": "stdout",
          "text": [
            "[1] \"FALSE\"\n"
          ]
        }
      ]
    },
    {
      "cell_type": "markdown",
      "source": [
        "######**Convertir booleanos a número**"
      ],
      "metadata": {
        "id": "MQ5UWB57PbaW"
      }
    },
    {
      "cell_type": "markdown",
      "source": [
        "En este caso, la idea es la siguiente: `TRUE` = 1, `FALSE` = 0"
      ],
      "metadata": {
        "id": "X2MYBZxIPh93"
      }
    },
    {
      "cell_type": "code",
      "source": [
        "%%R\n",
        "as.integer(TRUE)"
      ],
      "metadata": {
        "colab": {
          "base_uri": "https://localhost:8080/"
        },
        "id": "Rg4KSDEfPas8",
        "outputId": "ec3f5a3f-1ed2-422f-c72d-b1f50ee7b126"
      },
      "execution_count": null,
      "outputs": [
        {
          "output_type": "stream",
          "name": "stdout",
          "text": [
            "[1] 1\n"
          ]
        }
      ]
    },
    {
      "cell_type": "code",
      "source": [
        "%%R\n",
        "as.double(FALSE)"
      ],
      "metadata": {
        "colab": {
          "base_uri": "https://localhost:8080/"
        },
        "id": "DnXQKw85PqhB",
        "outputId": "48d8778c-8733-4446-8100-b93c198d7961"
      },
      "execution_count": null,
      "outputs": [
        {
          "output_type": "stream",
          "name": "stdout",
          "text": [
            "[1] 0\n"
          ]
        }
      ]
    },
    {
      "cell_type": "markdown",
      "source": [
        "######**Convertir números a formato booleano**"
      ],
      "metadata": {
        "id": "Uc6sCqelPzDO"
      }
    },
    {
      "cell_type": "markdown",
      "source": [
        "La idea es similar a la anterior: el cero será reconocido como `FALSE`; mientras que todo número distinto de cero será reconocido como `TRUE`:"
      ],
      "metadata": {
        "id": "ICbPxUG2P3d_"
      }
    },
    {
      "cell_type": "code",
      "source": [
        "%%R\n",
        "as.logical(45)"
      ],
      "metadata": {
        "colab": {
          "base_uri": "https://localhost:8080/"
        },
        "id": "WoHOTuqVP7cW",
        "outputId": "93c4beee-5007-4ead-945b-cba3b94194ed"
      },
      "execution_count": null,
      "outputs": [
        {
          "output_type": "stream",
          "name": "stdout",
          "text": [
            "[1] TRUE\n"
          ]
        }
      ]
    },
    {
      "cell_type": "code",
      "source": [
        "%%R\n",
        "as.logical(0.0)"
      ],
      "metadata": {
        "colab": {
          "base_uri": "https://localhost:8080/"
        },
        "id": "Z6iCkxQ4QDSo",
        "outputId": "e7bbf7c6-33c5-4e68-9059-76c5d8166bd8"
      },
      "execution_count": null,
      "outputs": [
        {
          "output_type": "stream",
          "name": "stdout",
          "text": [
            "[1] FALSE\n"
          ]
        }
      ]
    },
    {
      "cell_type": "markdown",
      "source": [
        "######**Convertir texto a formato booleano**"
      ],
      "metadata": {
        "id": "dkZUyYiYQKW8"
      }
    },
    {
      "cell_type": "markdown",
      "source": [
        "Al contrario que en Python, las cadenas de texto no se pueden convertir a formato booleano, por lo que R devolverá un `NA`:"
      ],
      "metadata": {
        "id": "nO9eGYXEQPgK"
      }
    },
    {
      "cell_type": "code",
      "source": [
        "%%R\n",
        "as.logical(\"Hola\")"
      ],
      "metadata": {
        "colab": {
          "base_uri": "https://localhost:8080/"
        },
        "id": "Mrah2XYAQJsF",
        "outputId": "f13640c5-24ae-4cd0-b464-c62fe5f60703"
      },
      "execution_count": null,
      "outputs": [
        {
          "output_type": "stream",
          "name": "stdout",
          "text": [
            "[1] NA\n"
          ]
        }
      ]
    },
    {
      "cell_type": "code",
      "source": [
        "%%R\n",
        "as.logical(\"\")"
      ],
      "metadata": {
        "colab": {
          "base_uri": "https://localhost:8080/"
        },
        "id": "ZN9fTu5XQXlA",
        "outputId": "e1ba4f6f-f474-42da-b407-36c58789d3f9"
      },
      "execution_count": null,
      "outputs": [
        {
          "output_type": "stream",
          "name": "stdout",
          "text": [
            "[1] NA\n"
          ]
        }
      ]
    },
    {
      "cell_type": "markdown",
      "source": [
        "######**Convertir en tipo factor**"
      ],
      "metadata": {
        "id": "ttYzmvdrQulT"
      }
    },
    {
      "cell_type": "markdown",
      "source": [
        "`as.factor` convierte números, texto o booleanos a un factor de un solo nivel:"
      ],
      "metadata": {
        "id": "iqzIgss0REdA"
      }
    },
    {
      "cell_type": "code",
      "source": [
        "%%R\n",
        "as.factor(27)"
      ],
      "metadata": {
        "colab": {
          "base_uri": "https://localhost:8080/"
        },
        "id": "7afvQsIiQyg_",
        "outputId": "8b3c1fc8-d89e-438d-a1dd-41ff81873a1e"
      },
      "execution_count": null,
      "outputs": [
        {
          "output_type": "stream",
          "name": "stdout",
          "text": [
            "[1] 27\n",
            "Levels: 27\n"
          ]
        }
      ]
    },
    {
      "cell_type": "code",
      "source": [
        "%%R\n",
        "as.factor(27.7)"
      ],
      "metadata": {
        "colab": {
          "base_uri": "https://localhost:8080/"
        },
        "id": "s1Y5Kq2dQ9ZD",
        "outputId": "a1579d37-f8fb-4f76-ce2b-0411a7a4a464"
      },
      "execution_count": null,
      "outputs": [
        {
          "output_type": "stream",
          "name": "stdout",
          "text": [
            "[1] 27.7\n",
            "Levels: 27.7\n"
          ]
        }
      ]
    },
    {
      "cell_type": "code",
      "source": [
        "%%R\n",
        "as.factor(\"Hola, ¿qué tal?\")"
      ],
      "metadata": {
        "colab": {
          "base_uri": "https://localhost:8080/"
        },
        "id": "gvsmRq7fQ2kH",
        "outputId": "62b896ea-f078-42c1-beee-7fce030c6191"
      },
      "execution_count": null,
      "outputs": [
        {
          "output_type": "stream",
          "name": "stdout",
          "text": [
            "[1] Hola, ¿qué tal?\n",
            "Levels: Hola, ¿qué tal?\n"
          ]
        }
      ]
    },
    {
      "cell_type": "code",
      "source": [
        "%%R\n",
        "as.factor(TRUE)"
      ],
      "metadata": {
        "colab": {
          "base_uri": "https://localhost:8080/"
        },
        "id": "dxEfACKIQ668",
        "outputId": "14bb103f-5685-4e1f-ee19-5aeeb2d7726e"
      },
      "execution_count": null,
      "outputs": [
        {
          "output_type": "stream",
          "name": "stdout",
          "text": [
            "[1] TRUE\n",
            "Levels: TRUE\n"
          ]
        }
      ]
    }
  ]
}