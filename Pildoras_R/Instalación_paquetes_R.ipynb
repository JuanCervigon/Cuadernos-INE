{
  "nbformat": 4,
  "nbformat_minor": 0,
  "metadata": {
    "colab": {
      "name": "Instalación_paquetes_R.ipynb",
      "provenance": [],
      "authorship_tag": "ABX9TyP6A+K9PyXSwa4mBT53RoTh",
      "include_colab_link": true
    },
    "kernelspec": {
      "name": "ir",
      "display_name": "R"
    },
    "language_info": {
      "name": "R"
    }
  },
  "cells": [
    {
      "cell_type": "markdown",
      "metadata": {
        "id": "view-in-github",
        "colab_type": "text"
      },
      "source": [
        "<a href=\"https://colab.research.google.com/github/AlejandroDGR/Proyecto_Difusion_Universitarios_INE/blob/master/Instalaci%C3%B3n_paquetes_R.ipynb\" target=\"_parent\"><img src=\"https://colab.research.google.com/assets/colab-badge.svg\" alt=\"Open In Colab\"/></a>"
      ]
    },
    {
      "cell_type": "markdown",
      "source": [
        "# **INSTALAR PAQUETES R EN COLAB**  \n",
        "En ocasiones es necesario instalar paquetes cuyas dependencias generan problemas durante el proceso y requieren de hacer operaciones sobre el sistema operativo.  \n",
        "Sobre un entorno python de Colab esta operación no suele ser problemática ya que la comunicación con el sistema operativo se realiza simplemente comenzando una línea de instrucción con el símbolo ```!```, por ejemplo así:  \n",
        "```\n",
        "!pip install tweepy\n",
        "```\n",
        "Sin embargo, cuando trabajamos con un entorno R sobre Colab este método no funciona y es necesario recurrir a una instrucción de R cuya finalidad es la de mandar ejecutar los comandos de la consola del sistema operativo que es Linux en Colab.\n",
        "En lo que sigue ponemos la solución al error generado al intentar instalar el paquete ```factoextra```. Al intentarlo hacer directamente nos da una serie de errores de instalación ```non-zero output status``` sobre una serie de paquetes. El primero es el paquete ```nloptr``` cuyo error se resuelve, de acuerdo a una solución encontrada en internet con la siguiente instrucción que instala la librería ```libnlopt``` sobre el SO Linux."
      ],
      "metadata": {
        "id": "-gshBJLykcFm"
      }
    },
    {
      "cell_type": "code",
      "source": [
        "system(\"sudo apt-get install libnlopt-dev\")"
      ],
      "metadata": {
        "id": "epNQ23L7yAm_"
      },
      "execution_count": null,
      "outputs": []
    },
    {
      "cell_type": "markdown",
      "source": [
        "A continuación ya podemos instalar desde R la librería que nos generaba la salida distinta de cero."
      ],
      "metadata": {
        "id": "538cUyZ8vFyC"
      }
    },
    {
      "cell_type": "code",
      "source": [
        "install.packages(\"nloptr\")"
      ],
      "metadata": {
        "id": "jU0AM-Ez0qRb"
      },
      "execution_count": null,
      "outputs": []
    },
    {
      "cell_type": "markdown",
      "source": [
        "La siguiente salida distinta de cero durante la instalación la generaba el paquete viridis. La versión recomendada de este paquete se encuentra en un repositorio de Github mantenido por su autor ```sjmgarnier```. Realizamos la instalación con la siguiente instrucción."
      ],
      "metadata": {
        "id": "a-v_x_9-vVNd"
      }
    },
    {
      "cell_type": "code",
      "source": [
        "devtools::install_github(\"sjmgarnier/viridis\")"
      ],
      "metadata": {
        "id": "zwLij4g23DIv"
      },
      "execution_count": null,
      "outputs": []
    },
    {
      "cell_type": "markdown",
      "source": [
        "La última dependencia que vamos a resolver es la del paquete ```dendextend``` y lo hacemos mediante la instrucción: "
      ],
      "metadata": {
        "id": "OudICN-Zv90Z"
      }
    },
    {
      "cell_type": "code",
      "source": [
        "install.packages(\"dendextend\")"
      ],
      "metadata": {
        "id": "telxvcVI3Q28"
      },
      "execution_count": null,
      "outputs": []
    },
    {
      "cell_type": "markdown",
      "source": [
        "Una vez resueltas todos los errores en la instalación de las dependencias de nuestro paquete ```factoextra``` podemos instalarlo con normalidad."
      ],
      "metadata": {
        "id": "srxwzJbrwU8N"
      }
    },
    {
      "cell_type": "code",
      "source": [
        "install.packages(\"factoextra\")"
      ],
      "metadata": {
        "colab": {
          "base_uri": "https://localhost:8080/"
        },
        "id": "lMnFFhY43a9W",
        "outputId": "68fe5130-4274-4e99-988f-b8cde3c75062"
      },
      "execution_count": null,
      "outputs": [
        {
          "output_type": "stream",
          "name": "stderr",
          "text": [
            "Installing package into ‘/usr/local/lib/R/site-library’\n",
            "(as ‘lib’ is unspecified)\n",
            "\n"
          ]
        }
      ]
    }
  ]
}
