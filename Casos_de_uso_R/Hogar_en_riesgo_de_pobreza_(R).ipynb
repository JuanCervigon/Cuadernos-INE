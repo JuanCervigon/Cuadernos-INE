{
  "nbformat": 4,
  "nbformat_minor": 0,
  "metadata": {
    "colab": {
      "name": "Hogar en riesgo de pobreza (R).ipynb",
      "provenance": [],
      "collapsed_sections": []
    },
    "kernelspec": {
      "name": "ir",
      "display_name": "R"
    },
    "language_info": {
      "name": "R"
    }
  },
  "cells": [
    {
      "cell_type": "markdown",
      "source": [
        "# **Caso de uso:** Aplicación de regresión logística en la ECV 2020\n",
        "\n",
        "Realizado por: Natalia Macho Simancas"
      ],
      "metadata": {
        "id": "RFiZtgA0h-6X"
      }
    },
    {
      "cell_type": "markdown",
      "source": [
        "En este caso, se ilustra la aplicación de la técnica de Regresión Logística a unos datos de la Encuesta de Condiciones de Vida (ECV). En concreto, el objetivo que se persigue es, dados los datos, clasificar si un hogar está en riesgo de pobreza o no.\n",
        "\n",
        "Los datos que se han utilizado son los microdatos de la ECV del año 2020 que recoge el Instituto Nacional de Estadística (INE). Esta encuesta se realiza en todos los países de la Unión Europea bajo los mismos criterios, para así disponer de estadísticas comparativas de la sociedad, las necesidades de la población, la pobreza y desigualdad, y el impacto de las políticas sobre los hogares."
      ],
      "metadata": {
        "id": "VnnuLRsAPEWq"
      }
    },
    {
      "cell_type": "markdown",
      "source": [
        "## **0. Instalación de librerías**\n",
        "\n",
        "Antes de comenzar a desarrollar el análisis de los datos, para poder aplicar determinadas funciones, debemos ejecutar el siguiente código instalando algunas librerías de R que vamos a usar en Collaborate."
      ],
      "metadata": {
        "id": "_aCYpfbxqhnz"
      }
    },
    {
      "cell_type": "code",
      "source": [
        "install.packages(\"ggplot2\") # Para visualizar gráficos\n",
        "library(ggplot2)\n",
        "\n",
        "install.packages(\"ggcorrplot\") # Gráfico de correlaciones\n",
        "library(ggcorrplot)\n",
        "\n",
        "install.packages(\"Epi\")\n",
        "library(Epi)\n",
        "\n",
        "install.packages(\"caret\") # Para la matriz de confusión\n",
        "library(caret)\n",
        "\n",
        "install.packages(\"ResourceSelection\") # Para el test de bondad de ajuste\n",
        "library(ResourceSelection)"
      ],
      "metadata": {
        "colab": {
          "base_uri": "https://localhost:8080/"
        },
        "id": "GHTbitSlHL0c",
        "outputId": "a7b47bdd-480c-41b0-a273-67f23cc3c724"
      },
      "execution_count": 2,
      "outputs": [
        {
          "output_type": "stream",
          "name": "stderr",
          "text": [
            "Installing package into ‘/usr/local/lib/R/site-library’\n",
            "(as ‘lib’ is unspecified)\n",
            "\n",
            "Installing package into ‘/usr/local/lib/R/site-library’\n",
            "(as ‘lib’ is unspecified)\n",
            "\n",
            "Installing package into ‘/usr/local/lib/R/site-library’\n",
            "(as ‘lib’ is unspecified)\n",
            "\n",
            "Installing package into ‘/usr/local/lib/R/site-library’\n",
            "(as ‘lib’ is unspecified)\n",
            "\n",
            "Installing package into ‘/usr/local/lib/R/site-library’\n",
            "(as ‘lib’ is unspecified)\n",
            "\n"
          ]
        }
      ]
    },
    {
      "cell_type": "code",
      "source": [
        "# Evitar que salgan mensajes warnings en la ejecución del código (si los queremos activar, warn = 1)\n",
        "options(warn=-1)"
      ],
      "metadata": {
        "id": "AsPF6aSnH-XM"
      },
      "execution_count": 3,
      "outputs": []
    },
    {
      "cell_type": "markdown",
      "source": [
        "## **1. ¿Qué es la Regresión Logística?** \n",
        "\n",
        "La regresión logística es una técnica estadística, concretamente un método de clasificación supervisada, que permite predecir el resultado de una variable dicotómica en función de un cierto número de variables independientes. \n",
        "\n",
        "Estas variables explicativas pueden ser cuantitativas o cualitativas (que se convertirán en variables dummy) y para que la ecuación del modelo sea lineal, hay que realizar una transformación logarítmica.\n",
        "\n",
        "La regresión logística modela la probabilidad de que la variable respuesta pertenezca a determinada categoría, es decir, el objetivo general de esta técnica es predecir la probabilidad de un suceso particular: $ p = Pr(Y = k | X = x) $, e identificar las variables regresoras más útiles para esta predicción.\n",
        "\n",
        "La siguiente expresión, denominada **función logística** permite calcular la probabilidad de dicho suceso, cuyo resultado está siempre comprendido entre 0 y 1:\n",
        "\n",
        "$$ p = \\frac{e^{\\beta_{0}+ \\beta_{1} X_{1}+...+ \\beta_{p} X_{p}}}{1+e^{\\beta_{0}+ \\beta_{1} X_{1}+...+ \\beta_{p} X_{p}}}  (1)$$ \n",
        "\n",
        "\n",
        "Esta función describe la forma en que X se relaciona con Y, y produce una curva en forma de S (sigmoide), comprendiéndose los valores de Y entre [0,1].\n",
        "\n",
        "* Reestructurando esta expresión, se deriva el término de **odds**:\n",
        "\n",
        "$$ odds = \\frac{p}{1-p} = e^{\\beta_{0}+ \\beta_{1} X_{1}+...+ \\beta_{p} X_{p}}$$\n",
        "\n",
        "* Y tomando logaritmos a esta expresión, se obtiene el **logit**:\n",
        "\n",
        "$$ logit = log(odds) = log(\\frac{p}{1-p}) = \\beta_{0}+ \\beta_{1} X_{1}+...+ \\beta_{p} X_{p}$$\n",
        "\n",
        "Equivalentemente, esto permite reescribir la expresión de la probabilidad (1) de forma simplificada. Multiplicando el numerador y el denominador por $e^{-logit}$, la fórmula también se puede observar como:\n",
        "\n",
        "$$ p = \\frac{1}{1+ e^{-logit}} $$  \n",
        "\n",
        "La interpretación de los parámetros del modelo, puede realizarse a través del odds o del logit. Por ejemplo, el coeficiente $\\beta_{1}$ indica cuánto cambia el logit cuando varia $X_{1}$, y de forma equivalente, multiplica el odds por $e^{\\beta_{1}}$."
      ],
      "metadata": {
        "id": "HnxVwvIfkZ7r"
      }
    },
    {
      "cell_type": "markdown",
      "source": [
        "Así, para este modelo de regresión logística que voy a ajustar, la variable dependiente dicotómica será el estar en riesgo de pobreza o no, y el objetivo de esta técnica será modelar cómo influyen las variables regresoras en la probabilidad de ocurrencia del suceso particular.\n"
      ],
      "metadata": {
        "id": "YP3FuTwukfe6"
      }
    },
    {
      "cell_type": "markdown",
      "source": [
        "## **2. Lectura y resumen de los datos** \n",
        "\n",
        "Los ficheros de microdatos contienen datos individuales anonimizados de una estadística, en este caso, de la ECV, con el fin de mantener la confidencialidad de la información. \n",
        "\n",
        "El fichero de microdatos utilizado se puede encontrar en el siguiente enlace:\n",
        "https://www.ine.es/dyngs/INEbase/es/operacion.htm?c=Estadistica_C&cid=1254736176807&menu=resultados&idp=1254735976608#!tabs-1254736195153\n",
        "\n",
        "Al descargarlo, obtenemos un fichero en formato .zip con 4 ficheros .zip en su interior, correspondientes a:\n",
        "*  Fichero D: datos básicos del hogar\n",
        "*  Fichero R: datos básicos de la persona\n",
        "*  Fichero H: datos detallados del hogar\n",
        "*  Fichero P: datos dellatados para los adultos\n",
        "\n",
        "En este caso, como he decidido hacer el estudio a nivel de hogares, voy a combinar los ficheros D y H, para quedarme, de entre todos los datos disponibles, con sólo 6 variables, combinando variables dicotómicas y numéricas (discretas y continuas), que permitan ilustrar mejor los resultados.\n",
        "\n",
        "Estas variables son:\n",
        "*  Renta disponible total del hogar (HY020)\n",
        "*  Transferencias periódicas percibidas de otros hogares (HY080N)\n",
        "*  Número de miembros en el hogar (HX040)\n",
        "*  Si el hogar a final de mes puede ahorrar dinero o no (HC050)\n",
        "*  Hogar en riesgo de pobreza (vhPobreza)\n",
        "\n",
        "Todas estas variables se encuentran en el fichero H, por lo que en primer lugar, leemos el fichero.\n"
      ],
      "metadata": {
        "id": "B7x5tmO2lZ1t"
      }
    },
    {
      "cell_type": "code",
      "source": [
        "datosH <- read.csv(\"ECV_Th_2020.csv\", sep=\"\")\n",
        "\n",
        "# Selecciono las variables con las que quiero trabajar\n",
        "datos <- datosH[,c(\"HY020\",\"HY080N\",\"HX040\",\"HC050\",\"vhPobreza\")]\n",
        "dim(datos)"
      ],
      "metadata": {
        "id": "WVW8S5-Qn4hm",
        "colab": {
          "base_uri": "https://localhost:8080/",
          "height": 34
        },
        "outputId": "dc2b89e2-5c1e-481b-9493-422d4d37cd4f"
      },
      "execution_count": 4,
      "outputs": [
        {
          "output_type": "display_data",
          "data": {
            "text/html": [
              "<style>\n",
              ".list-inline {list-style: none; margin:0; padding: 0}\n",
              ".list-inline>li {display: inline-block}\n",
              ".list-inline>li:not(:last-child)::after {content: \"\\00b7\"; padding: 0 .5ex}\n",
              "</style>\n",
              "<ol class=list-inline><li>15043</li><li>5</li></ol>\n"
            ],
            "text/markdown": "1. 15043\n2. 5\n\n\n",
            "text/latex": "\\begin{enumerate*}\n\\item 15043\n\\item 5\n\\end{enumerate*}\n",
            "text/plain": [
              "[1] 15043     5"
            ]
          },
          "metadata": {}
        }
      ]
    },
    {
      "cell_type": "markdown",
      "source": [
        "En primer lugar, cambiamos los nombres de las variables para que sea más sencillo su análisis."
      ],
      "metadata": {
        "id": "celsc3KAMzru"
      }
    },
    {
      "cell_type": "code",
      "source": [
        "# Cambiamos los nombres de las variables \n",
        "names(datos) = c(\"Renta\", \"Transferencias\", \"Num_miembros\", \"Ahorro\", \"Pobreza\")\n",
        "head(datos)"
      ],
      "metadata": {
        "colab": {
          "base_uri": "https://localhost:8080/",
          "height": 286
        },
        "id": "oO6NjD5KM06A",
        "outputId": "76b0905c-a92a-4f7f-aeb7-5af5faf035a1"
      },
      "execution_count": 5,
      "outputs": [
        {
          "output_type": "display_data",
          "data": {
            "text/html": [
              "<table class=\"dataframe\">\n",
              "<caption>A data.frame: 6 × 5</caption>\n",
              "<thead>\n",
              "\t<tr><th></th><th scope=col>Renta</th><th scope=col>Transferencias</th><th scope=col>Num_miembros</th><th scope=col>Ahorro</th><th scope=col>Pobreza</th></tr>\n",
              "\t<tr><th></th><th scope=col>&lt;dbl&gt;</th><th scope=col>&lt;dbl&gt;</th><th scope=col>&lt;int&gt;</th><th scope=col>&lt;int&gt;</th><th scope=col>&lt;int&gt;</th></tr>\n",
              "</thead>\n",
              "<tbody>\n",
              "\t<tr><th scope=row>1</th><td>    0.0</td><td>0</td><td>1</td><td>1</td><td>1</td></tr>\n",
              "\t<tr><th scope=row>2</th><td>13221.5</td><td>0</td><td>3</td><td>4</td><td>1</td></tr>\n",
              "\t<tr><th scope=row>3</th><td>24500.0</td><td>0</td><td>1</td><td>1</td><td>0</td></tr>\n",
              "\t<tr><th scope=row>4</th><td>16033.1</td><td>0</td><td>3</td><td>4</td><td>1</td></tr>\n",
              "\t<tr><th scope=row>5</th><td>39660.0</td><td>0</td><td>4</td><td>1</td><td>0</td></tr>\n",
              "\t<tr><th scope=row>6</th><td>65000.0</td><td>0</td><td>1</td><td>1</td><td>0</td></tr>\n",
              "</tbody>\n",
              "</table>\n"
            ],
            "text/markdown": "\nA data.frame: 6 × 5\n\n| <!--/--> | Renta &lt;dbl&gt; | Transferencias &lt;dbl&gt; | Num_miembros &lt;int&gt; | Ahorro &lt;int&gt; | Pobreza &lt;int&gt; |\n|---|---|---|---|---|---|\n| 1 |     0.0 | 0 | 1 | 1 | 1 |\n| 2 | 13221.5 | 0 | 3 | 4 | 1 |\n| 3 | 24500.0 | 0 | 1 | 1 | 0 |\n| 4 | 16033.1 | 0 | 3 | 4 | 1 |\n| 5 | 39660.0 | 0 | 4 | 1 | 0 |\n| 6 | 65000.0 | 0 | 1 | 1 | 0 |\n\n",
            "text/latex": "A data.frame: 6 × 5\n\\begin{tabular}{r|lllll}\n  & Renta & Transferencias & Num\\_miembros & Ahorro & Pobreza\\\\\n  & <dbl> & <dbl> & <int> & <int> & <int>\\\\\n\\hline\n\t1 &     0.0 & 0 & 1 & 1 & 1\\\\\n\t2 & 13221.5 & 0 & 3 & 4 & 1\\\\\n\t3 & 24500.0 & 0 & 1 & 1 & 0\\\\\n\t4 & 16033.1 & 0 & 3 & 4 & 1\\\\\n\t5 & 39660.0 & 0 & 4 & 1 & 0\\\\\n\t6 & 65000.0 & 0 & 1 & 1 & 0\\\\\n\\end{tabular}\n",
            "text/plain": [
              "  Renta   Transferencias Num_miembros Ahorro Pobreza\n",
              "1     0.0 0              1            1      1      \n",
              "2 13221.5 0              3            4      1      \n",
              "3 24500.0 0              1            1      0      \n",
              "4 16033.1 0              3            4      1      \n",
              "5 39660.0 0              4            1      0      \n",
              "6 65000.0 0              1            1      0      "
            ]
          },
          "metadata": {}
        }
      ]
    },
    {
      "cell_type": "markdown",
      "source": [
        "**> Depuración de los NA's**\n",
        "\n",
        "En los microdatos hay mucho ruido, por lo que encontramos gran cantidad de valores perdidos (NA's). El tratamiento de los NA's debe hacerse con cuidado, ya que los propios datos faltantes pueden aportar información y su eliminación **introduce un sesgo** a los resultados, ya que se estaría ignorando información importante. Por ejemplo, quizá todas aquellas personas que no han respondido a una cierta pregunta pertenecen a un determinado perfil.\n",
        "\n",
        "Por lo tanto, los NA's que existen en estos datos se podrían imputar pero como tenemos numerosos registros, para ilustrar este ejemplo decido simplemente borrar las filas que contengan algún NA y de esta forma, me quedo con los datos de aquellos individuos para los que se registró respuesta en todas las variables que son de nuestro interés.\n",
        "\n",
        "Sin embargo, ha de tenerse en cuenta que esta no sería la forma más apropiada de tratar los NA's ya que introduce el citado sesgo, pero su correcta imputación puede ser objeto de un profundo análisis."
      ],
      "metadata": {
        "id": "5ozKdnfsvVPs"
      }
    },
    {
      "cell_type": "code",
      "source": [
        "# Elimino la filas con NA's\n",
        "datos <- na.omit(datos)\n",
        "\n",
        "dim(datos)"
      ],
      "metadata": {
        "id": "JZ4imwX5vsiS",
        "colab": {
          "base_uri": "https://localhost:8080/",
          "height": 34
        },
        "outputId": "93c0f8a4-bddc-4ebe-8eef-da4f3a9c8fd3"
      },
      "execution_count": 6,
      "outputs": [
        {
          "output_type": "display_data",
          "data": {
            "text/html": [
              "<style>\n",
              ".list-inline {list-style: none; margin:0; padding: 0}\n",
              ".list-inline>li {display: inline-block}\n",
              ".list-inline>li:not(:last-child)::after {content: \"\\00b7\"; padding: 0 .5ex}\n",
              "</style>\n",
              "<ol class=list-inline><li>15005</li><li>5</li></ol>\n"
            ],
            "text/markdown": "1. 15005\n2. 5\n\n\n",
            "text/latex": "\\begin{enumerate*}\n\\item 15005\n\\item 5\n\\end{enumerate*}\n",
            "text/plain": [
              "[1] 15005     5"
            ]
          },
          "metadata": {}
        }
      ]
    },
    {
      "cell_type": "markdown",
      "source": [
        "A pesar de haber eliminado registros, seguimos contando con una gran cantidad de observaciones para las 6 variables, más de 15.000, que nos sirve para el objetivo que persigue este cuaderno de ilustrar el funcionamiento de un modelo de Regresión Logística."
      ],
      "metadata": {
        "id": "ua9W2pgyMu1H"
      }
    },
    {
      "cell_type": "markdown",
      "source": [
        "**> Análisis descriptivo de los datos**\n",
        "\n",
        "Antes de ajustar un modelo, vemos un resumen de los datos que vamos a utilizar:"
      ],
      "metadata": {
        "id": "rHCyDN_Qw_DS"
      }
    },
    {
      "cell_type": "code",
      "source": [
        "str(datos)"
      ],
      "metadata": {
        "id": "8cNtVZ_PxB6E",
        "colab": {
          "base_uri": "https://localhost:8080/"
        },
        "outputId": "336241ec-54d8-402c-f32f-ccf00513261e"
      },
      "execution_count": 7,
      "outputs": [
        {
          "output_type": "stream",
          "name": "stdout",
          "text": [
            "'data.frame':\t15005 obs. of  5 variables:\n",
            " $ Renta         : num  0 13222 24500 16033 39660 ...\n",
            " $ Transferencias: num  0 0 0 0 0 0 0 0 0 0 ...\n",
            " $ Num_miembros  : int  1 3 1 3 4 1 4 5 2 4 ...\n",
            " $ Ahorro        : int  1 4 1 4 1 1 1 1 1 4 ...\n",
            " $ Pobreza       : int  1 1 0 1 0 0 0 0 0 0 ...\n",
            " - attr(*, \"na.action\")= 'omit' Named int [1:38] 1381 1404 1545 2820 2885 2917 2933 2990 3350 3514 ...\n",
            "  ..- attr(*, \"names\")= chr [1:38] \"1381\" \"1404\" \"1545\" \"2820\" ...\n"
          ]
        }
      ]
    },
    {
      "cell_type": "code",
      "source": [
        "summary(datos)"
      ],
      "metadata": {
        "id": "hoAaQw2FxEpI",
        "colab": {
          "base_uri": "https://localhost:8080/",
          "height": 260
        },
        "outputId": "1cea2728-2e1a-442c-cb29-21848b54244b"
      },
      "execution_count": 8,
      "outputs": [
        {
          "output_type": "display_data",
          "data": {
            "text/plain": [
              "     Renta        Transferencias     Num_miembros        Ahorro     \n",
              " Min.   :-36233   Min.   :    0.0   Min.   : 1.000   Min.   :1.000  \n",
              " 1st Qu.: 16502   1st Qu.:    0.0   1st Qu.: 2.000   1st Qu.:1.000  \n",
              " Median : 27524   Median :    0.0   Median : 2.000   Median :2.000  \n",
              " Mean   : 31918   Mean   :  166.9   Mean   : 2.527   Mean   :2.479  \n",
              " 3rd Qu.: 41371   3rd Qu.:    0.0   3rd Qu.: 3.000   3rd Qu.:4.000  \n",
              " Max.   :349862   Max.   :40000.0   Max.   :10.000   Max.   :4.000  \n",
              "    Pobreza      \n",
              " Min.   :0.0000  \n",
              " 1st Qu.:0.0000  \n",
              " Median :0.0000  \n",
              " Mean   :0.1888  \n",
              " 3rd Qu.:0.0000  \n",
              " Max.   :1.0000  "
            ]
          },
          "metadata": {}
        }
      ]
    },
    {
      "cell_type": "markdown",
      "source": [
        "Vemos que se trata de 2 variables de caracter categórico, 2 numéricas y 1 entera.\n",
        "\n",
        "También observamos que la renta media disponible en los hogares es 31.918€, que el número medio de miembros en el hogar es 2.52, que la mayoría de hogares a final de mes puede ahorrar dinero y que la mayor parte de los hogares no están en riesgo de pobreza."
      ],
      "metadata": {
        "id": "heMWNv-UeI-Q"
      }
    },
    {
      "cell_type": "markdown",
      "source": [
        "**> Gráfico de correlaciones entre variables**\n",
        "\n",
        "Otro análisis de interés es el de las correlaciones que existen entre variables. Se observa que las variables no están muy correlacionadas entre sí, excepto la variable `Renta` con `Num_miembros`, `Ahorro` y `Pobreza`."
      ],
      "metadata": {
        "id": "1P2hlOf7KqrG"
      }
    },
    {
      "cell_type": "code",
      "source": [
        "ggcorrplot(cor(datos), type = \"lower\", lab = T, show.legend = T)"
      ],
      "metadata": {
        "colab": {
          "base_uri": "https://localhost:8080/",
          "height": 437
        },
        "id": "5qAGZtXYKtQV",
        "outputId": "c9899ebb-3149-476f-8e6f-3aa9047b6f52"
      },
      "execution_count": 9,
      "outputs": [
        {
          "output_type": "display_data",
          "data": {
            "text/plain": [
              "plot without title"
            ],
            "image/png": "[encoded data removed]"
          },
          "metadata": {
            "image/png": {
              "width": 420,
              "height": 420
            }
          }
        }
      ]
    },
    {
      "cell_type": "markdown",
      "source": [
        "**> Recodificación de datos (Data Wrangling)**\n",
        "\n",
        "Por otra parte, los valores de las variables categóricas \"Ahorro\" están codificados de cierta forma que para entenderlos, debemos ir al fichero zip donde los hemos descargado y en otro de los archivos que contiene, encontramos información sobre el significado de cada variable. Para que sea más simple interpretarlos, cambiamos directamente los valores de la variable."
      ],
      "metadata": {
        "id": "x7YtJ6usNGs_"
      }
    },
    {
      "cell_type": "code",
      "source": [
        "# Modificamos los valores de la variable HC050\n",
        "datos$Ahorro <- ifelse(datos$Ahorro==\"1\",\"Ahorra dinero\", ifelse(datos$Ahorro==\"2\",\"Necesita usar los ahorros\",ifelse(datos$Ahorro==\"3\",\"Necesita pedir dinero\",\"Otro\")))"
      ],
      "metadata": {
        "id": "6dA8Ujg5NNDT"
      },
      "execution_count": 10,
      "outputs": []
    },
    {
      "cell_type": "markdown",
      "source": [
        "Una vez hecho esto, tenemos que tener en cuenta que las variables categóricas que vamos a usar, ninguna está definida como tal, por lo que tendremos que convertirlas antes de ajustar el modelo."
      ],
      "metadata": {
        "id": "ANArNoKtNNnp"
      }
    },
    {
      "cell_type": "code",
      "source": [
        "# Antes de ajustar el modelo, hay que convertir a factor\n",
        "datos$Ahorro<-as.factor(datos$Ahorro)\n",
        "datos$Pobreza <-as.factor(datos$Pobreza)"
      ],
      "metadata": {
        "id": "F47JrH5HKxsE"
      },
      "execution_count": 11,
      "outputs": []
    },
    {
      "cell_type": "markdown",
      "source": [
        "## **3. Especificación del modelo** \n",
        "\n",
        "En el siguiente apartado voy a ajustar un modelo de Regresión Logística a la muestra completa de 15.005 registros procedentes de la ECV.\n",
        "\n",
        "* La **variable respuesta** que se quiere predecir es `Pobreza`, que indica si el hogar está en riesgo de pobreza o no.\n",
        "\n",
        "* Las **variables predictoras** son:\n",
        "    - Renta disponible total del hogar (`Renta`)\n",
        "    - Transferencias periódicas percibidas de otros hogares (`Transferencias`)\n",
        "    - Número de miembros en el hogar (`Num_miembros`)\n",
        "    - Si el hogar a final de mes puede ahorrar dinero o no (`Ahorro`) \n",
        "\n"
      ],
      "metadata": {
        "id": "B2FQADQgxOI4"
      }
    },
    {
      "cell_type": "markdown",
      "source": [
        "## **4. Ajuste del modelo de regresión logística** \n",
        "\n",
        "Comenzamos por modelizar la variable respuesta `Pobreza` a partir de cuatro predictores: la renta disponible, las transferencias periódicas percibidas, el número de miembros en el hogar y el ahorro del hogar.\n",
        "\n",
        "El ajuste del modelo se realiza por máxima verosimilitud. "
      ],
      "metadata": {
        "id": "bdQTL7h5xeGO"
      }
    },
    {
      "cell_type": "code",
      "source": [
        "modelo <- glm(Pobreza ~ Renta+Transferencias+Num_miembros+Ahorro, data = datos, family = \"binomial\")\n",
        "summary(modelo)"
      ],
      "metadata": {
        "id": "FSFmli07xjOW",
        "colab": {
          "base_uri": "https://localhost:8080/",
          "height": 503
        },
        "outputId": "cdc4a874-5332-4d90-f477-3c8e5a5f17ae"
      },
      "execution_count": 12,
      "outputs": [
        {
          "output_type": "display_data",
          "data": {
            "text/plain": [
              "\n",
              "Call:\n",
              "glm(formula = Pobreza ~ Renta + Transferencias + Num_miembros + \n",
              "    Ahorro, family = \"binomial\", data = datos)\n",
              "\n",
              "Deviance Residuals: \n",
              "    Min       1Q   Median       3Q      Max  \n",
              "-4.5845  -0.0001   0.0000   0.0000   3.1955  \n",
              "\n",
              "Coefficients:\n",
              "                                  Estimate Std. Error z value Pr(>|z|)    \n",
              "(Intercept)                      1.170e+01  4.934e-01  23.709  < 2e-16 ***\n",
              "Renta                           -2.022e-03  8.052e-05 -25.106  < 2e-16 ***\n",
              "Transferencias                  -1.771e-04  6.480e-05  -2.733  0.00627 ** \n",
              "Num_miembros                     8.153e+00  3.319e-01  24.568  < 2e-16 ***\n",
              "AhorroNecesita pedir dinero     -1.903e-01  2.491e-01  -0.764  0.44503    \n",
              "AhorroNecesita usar los ahorros  6.592e-01  2.552e-01   2.583  0.00980 ** \n",
              "AhorroOtro                       4.293e-01  1.665e-01   2.579  0.00992 ** \n",
              "---\n",
              "Signif. codes:  0 ‘***’ 0.001 ‘**’ 0.01 ‘*’ 0.05 ‘.’ 0.1 ‘ ’ 1\n",
              "\n",
              "(Dispersion parameter for binomial family taken to be 1)\n",
              "\n",
              "    Null deviance: 14539.4  on 15004  degrees of freedom\n",
              "Residual deviance:  1446.1  on 14998  degrees of freedom\n",
              "AIC: 1460.1\n",
              "\n",
              "Number of Fisher Scoring iterations: 12\n"
            ]
          },
          "metadata": {}
        }
      ]
    },
    {
      "cell_type": "markdown",
      "source": [
        "En este caso, el ahorro en el hogar es una variable categórica, por lo que hay que tener en cuenta la codificación de la variable a la hora de interpretar el modelo. Esta variable tenía c=4 categorías, y al entrar en el modelo, se convierten en c-1=3 variables dummy, siendo la categoría base el que el hogar \"puede ahorrar\".\n",
        "\n",
        "La ecuación del modelo es:\n",
        "\n",
        "$$ log(\\frac{\\hat{p}}{1-\\hat{p}}) = 11.7 - 0.002 Renta - 0.0001 Transferencias + 8.15 Num_{miembros} - 0.19 Pedir_{dinero} + 0.65 Usar_{ahorros} + 0.43Otro $$\n",
        "\n",
        "\n",
        "**a) Interpretación de los coeficientes**\n",
        "*  El coeficiente estimado para la intersección es el valor esperado del logit de que un hogar de 0 miembros se encuentre en riesgo de pobreza teniendo una renta nula, ninguna transferencia, y capacidad para ahorrar a fin de mes. En este sentido, como era de esperar, el odds es $e^{11.67}$, lo que se corresponde con una probabilidad de $p = \\frac{e^{11.7}}{1+e^{11.7}} = 0.9999$. Es decir, casi con total seguridad, un hogar de dichas características se encontrará en situación de pobreza.\n",
        "*  El coeficiente estimado para Renta es significativo, y negativo. Es decir, el logit de que un hogar tenga riesgo de pobreza está negativamente relacionado con el valor de su renta, de modo que por cada unidad que se incremente la variable Renta, se espera que el logit descienda en promedio 0'002 unidades o equivalentemente, el odds se multiplique por $e^{-0.002}$.\n",
        "*  El coeficiente estimado para Trasnsferencias es significativo, y también negativo. Es decir, el logit de que un hogar tenga riesgo de pobreza está negativamente relacionado con el valor de las transferencias que recibe, de modo que por cada unidad que se incremente la variable Renta, se espera que el logit descienda en promedio 0'0003 unidades o equivalentemente, el odds se multiplique por $e^{-0.0003}$.\n",
        "*  El coeficiente estimado para el Nº de miembros en el hogar es significativo y positivo. Es decir, el logit de que un hogar tenga riesgo de pobreza está positivamente relacionado con el número de personas que lo componen, por lo que por cada unidad que se incremente la variable, se espera que el logit aumente en promedio 8.28 unidades o equivalentemente, el odds aumente al multiplicarse por $e^{8.15}$.\n",
        "*  El coeficiente estimado para Pedir_dinero es negativo, es decir, hogares que a final de mes necesitan pedir dinero tendrían menor riesgo de pobreza. Además, no es significativo en este caso; esta variable no aporta ganancia al modelo sino que al contrario, mete ruido.\n",
        "*  El coeficiente estimado para Usar_ahorros es significativo y positivo, e indica que 0.65 es la diferencia en el logit entre hogares que necesitan usar los ahorros y aquellos que no lo necesitan. Es decir, los hogares que necesitan Usar_ahorros tienen una posibilidad $e^{0.65}$ veces mayor de estar en riesgo de pobreza.\n",
        "\n",
        "\n",
        "Se observa que todas las variables son significativas, excepto la categoría Pedir_dinero, pues su p-valor es muy grande, superior al 0.4. Por lo tanto, como la variable no es significativa y además, su interpretación es ilógica, eliminamos la variable Ahorro con una nueva especificación y ajuste del modelo, para ver si mejora."
      ],
      "metadata": {
        "id": "eH86Lb2OUR89"
      }
    },
    {
      "cell_type": "markdown",
      "source": [
        "## **5. Especificación del modelo** \n",
        "\n",
        "Como una de las categorías de la variable `Ahorro` no era significativa, eliminamos dicha variable del modelo.\n",
        "\n",
        "En el siguiente apartado voy a ajustar un nuevo modelo de Regresión Logística a la muestra completa de 15.005 registros procedentes de la ECV.\n",
        "\n",
        "* La **variable respuesta** que se quiere predecir es `Pobreza`, que indica si el hogar está en riesgo de pobreza o no.\n",
        "\n",
        "* Las **variables predictoras** son:\n",
        "    - Renta disponible total del hogar (`Renta`)\n",
        "    - Transferencias periódicas percibidas de otros hogares (`Transferencias`)\n",
        "    - Número de miembros en el hogar (`Num_miembros`)\n",
        "\n",
        "\n"
      ],
      "metadata": {
        "id": "2voBnEPyPSaK"
      }
    },
    {
      "cell_type": "markdown",
      "source": [
        "## **6. Ajuste del modelo de regresión logística** \n",
        "\n",
        "Volvemos a modelizar la variable respuesta `Pobreza`, pero esta vez a partir de tres predictores: la renta disponible, las transferencias periódicas percibidas y el número de miembros en el hogar.\n",
        "\n",
        "El ajuste del modelo se realiza por máxima verosimilitud. "
      ],
      "metadata": {
        "id": "Wa9vBpA3hred"
      }
    },
    {
      "cell_type": "code",
      "source": [
        "modelo1 <- glm(Pobreza ~ Renta+Transferencias+Num_miembros, data = datos, family = \"binomial\")\n",
        "summary(modelo1)"
      ],
      "metadata": {
        "colab": {
          "base_uri": "https://localhost:8080/",
          "height": 451
        },
        "id": "FKgmmOeeh46Z",
        "outputId": "d0e4d6f7-b4f6-4f41-c4cc-a3e45076a305"
      },
      "execution_count": 13,
      "outputs": [
        {
          "output_type": "display_data",
          "data": {
            "text/plain": [
              "\n",
              "Call:\n",
              "glm(formula = Pobreza ~ Renta + Transferencias + Num_miembros, \n",
              "    family = \"binomial\", data = datos)\n",
              "\n",
              "Deviance Residuals: \n",
              "    Min       1Q   Median       3Q      Max  \n",
              "-4.6185  -0.0002   0.0000   0.0000   3.2275  \n",
              "\n",
              "Coefficients:\n",
              "                 Estimate Std. Error z value Pr(>|z|)    \n",
              "(Intercept)     1.188e+01  4.832e-01  24.598  < 2e-16 ***\n",
              "Renta          -2.002e-03  7.957e-05 -25.163  < 2e-16 ***\n",
              "Transferencias -1.877e-04  6.504e-05  -2.885  0.00391 ** \n",
              "Num_miembros    8.070e+00  3.275e-01  24.642  < 2e-16 ***\n",
              "---\n",
              "Signif. codes:  0 ‘***’ 0.001 ‘**’ 0.01 ‘*’ 0.05 ‘.’ 0.1 ‘ ’ 1\n",
              "\n",
              "(Dispersion parameter for binomial family taken to be 1)\n",
              "\n",
              "    Null deviance: 14539.4  on 15004  degrees of freedom\n",
              "Residual deviance:  1461.3  on 15001  degrees of freedom\n",
              "AIC: 1469.3\n",
              "\n",
              "Number of Fisher Scoring iterations: 12\n"
            ]
          },
          "metadata": {}
        }
      ]
    },
    {
      "cell_type": "markdown",
      "source": [
        "La ecuación del modelo es:\n",
        "\n",
        "$$ log(\\frac{\\hat{p}}{1-\\hat{p}}) = 11.8 - 0.002 Renta - 0.0001 Transferencias + 8.07 Num_{miembros} $$\n",
        "\n",
        "\n",
        "**a) Interpretación de los coeficientes**\n",
        "*  El coeficiente estimado para la intersección es el valor esperado del logit de que un hogar de 0 miembros se encuentre en riesgo de pobreza teniendo una renta nula y ninguna transferencia. En este sentido, como era de esperar, el odds es $e^{11.8}$, lo que se corresponde con una probabilidad de $p = \\frac{e^{11.8}}{1+e^{11.8}} = 0.9999$. Es decir, casi con total seguridad, un hogar de dichas características se encontrará en situación de pobreza.\n",
        "*  El coeficiente estimado para Renta es significativo, y negativo. Es decir, el logit de que un hogar tenga riesgo de pobreza está negativamente relacionado con el valor de su renta, de modo que por cada unidad que se incremente la variable Renta, se espera que el logit descienda en promedio 0'002 unidades o equivalentemente, el odds se multiplique por $e^{-0.002}$.\n",
        "*  El coeficiente estimado para Transferencias es significativo, y también negativo. Es decir, el logit de que un hogar tenga riesgo de pobreza está negativamente relacionado con el valor de las transferencias que recibe, de modo que por cada unidad que se incremente la variable Renta, se espera que el logit descienda en promedio 0'0003 unidades o equivalentemente, el odds se multiplique por $e^{-0.0003}$.\n",
        "*  El coeficiente estimado para el Nº de miembros en el hogar es significativo y positivo. Es decir, el logit de que un hogar tenga riesgo de pobreza está positivamente relacionado con el número de personas que lo componen, por lo que por cada unidad que se incremente la variable, se espera que el logit aumente en promedio 8.28 unidades o equivalentemente, el odds aumente al multiplicarse por $e^{8.15}$.\n",
        "\n",
        "También podemos calcular los intervalos de confianza para los valores de los parámetros, a través del siguiente código."
      ],
      "metadata": {
        "id": "RLWsSS1fiJgR"
      }
    },
    {
      "cell_type": "code",
      "source": [
        "# IC para los parámetros\n",
        "confint(modelo1)"
      ],
      "metadata": {
        "colab": {
          "base_uri": "https://localhost:8080/",
          "height": 227
        },
        "id": "wlXdXHwSn4b1",
        "outputId": "57a64fd0-3f69-425a-9cb5-14ee9e1a8719"
      },
      "execution_count": null,
      "outputs": [
        {
          "output_type": "stream",
          "name": "stderr",
          "text": [
            "Waiting for profiling to be done...\n",
            "\n"
          ]
        },
        {
          "output_type": "display_data",
          "data": {
            "text/html": [
              "<table class=\"dataframe\">\n",
              "<caption>A matrix: 4 × 2 of type dbl</caption>\n",
              "<thead>\n",
              "\t<tr><th></th><th scope=col>2.5 %</th><th scope=col>97.5 %</th></tr>\n",
              "</thead>\n",
              "<tbody>\n",
              "\t<tr><th scope=row>(Intercept)</th><td>10.9695386190</td><td> 1.286468e+01</td></tr>\n",
              "\t<tr><th scope=row>Renta</th><td>-0.0021640494</td><td>-1.851937e-03</td></tr>\n",
              "\t<tr><th scope=row>Transferencias</th><td>-0.0003171121</td><td>-6.125865e-05</td></tr>\n",
              "\t<tr><th scope=row>Num_miembros</th><td> 7.4517159799</td><td> 8.736338e+00</td></tr>\n",
              "</tbody>\n",
              "</table>\n"
            ],
            "text/markdown": "\nA matrix: 4 × 2 of type dbl\n\n| <!--/--> | 2.5 % | 97.5 % |\n|---|---|---|\n| (Intercept) | 10.9695386190 |  1.286468e+01 |\n| Renta | -0.0021640494 | -1.851937e-03 |\n| Transferencias | -0.0003171121 | -6.125865e-05 |\n| Num_miembros |  7.4517159799 |  8.736338e+00 |\n\n",
            "text/latex": "A matrix: 4 × 2 of type dbl\n\\begin{tabular}{r|ll}\n  & 2.5 \\% & 97.5 \\%\\\\\n\\hline\n\t(Intercept) & 10.9695386190 &  1.286468e+01\\\\\n\tRenta & -0.0021640494 & -1.851937e-03\\\\\n\tTransferencias & -0.0003171121 & -6.125865e-05\\\\\n\tNum\\_miembros &  7.4517159799 &  8.736338e+00\\\\\n\\end{tabular}\n",
            "text/plain": [
              "               2.5 %         97.5 %       \n",
              "(Intercept)    10.9695386190  1.286468e+01\n",
              "Renta          -0.0021640494 -1.851937e-03\n",
              "Transferencias -0.0003171121 -6.125865e-05\n",
              "Num_miembros    7.4517159799  8.736338e+00"
            ]
          },
          "metadata": {}
        }
      ]
    },
    {
      "cell_type": "markdown",
      "source": [
        "**b) Bondad de ajuste del modelo**\n",
        "\n",
        "Para comprobar si el modelo ajustado es bueno o no, podemos hacer el test de Hoslem, donde las hipótesis del contraste son:\n",
        "\n",
        "$H_0:$ No hay relación entre las variables\n",
        "\n",
        "$H_1:$ Hay relación entre las variables\n"
      ],
      "metadata": {
        "id": "9o4Jf3OwoEgF"
      }
    },
    {
      "cell_type": "code",
      "source": [
        "hoslem.test(datos$Pobreza, predict(modelo1, type=\"response\"))"
      ],
      "metadata": {
        "colab": {
          "base_uri": "https://localhost:8080/",
          "height": 104
        },
        "id": "akpuQ8XJoFQU",
        "outputId": "a9eb34cf-11d2-45a0-cadc-7f8164c6b0a5"
      },
      "execution_count": null,
      "outputs": [
        {
          "output_type": "display_data",
          "data": {
            "text/plain": [
              "\n",
              "\tHosmer and Lemeshow goodness of fit (GOF) test\n",
              "\n",
              "data:  datos$Pobreza, predict(modelo1, type = \"response\")\n",
              "X-squared = 15005, df = 8, p-value < 2.2e-16\n"
            ]
          },
          "metadata": {}
        }
      ]
    },
    {
      "cell_type": "markdown",
      "source": [
        "El p-valor devuelto por el test de Hoslem es prácticamente 0, lo que permite rechazar la  $H_0$, e indica que el modelo ajustado es suficientemente bueno."
      ],
      "metadata": {
        "id": "HJWpNw8ToUIk"
      }
    },
    {
      "cell_type": "markdown",
      "source": [
        "**c) Comparación de predicciones y observaciones**\n",
        "\n",
        "Para poder comprobar la eficacia del modelo ajustado, calculamos las predicciones que realiza, estableciendo como punto de corte 0.5, por lo que aquellas probabilidades mayores que dicho valor serán clasificadas como 1 (en riesgo de pobreza) y aquellas con valor menor, se clasificarán como 0."
      ],
      "metadata": {
        "id": "GRhy3mkkocUd"
      }
    },
    {
      "cell_type": "code",
      "source": [
        "# Obtener las predicciones\n",
        "probs <- predict(modelo, datos, type=\"response\") # type = \"response\" devuelve las predicciones en forma de probabilidad\n",
        "pred <- as.factor(ifelse(probs>0.5,\"1\",\"0\"))"
      ],
      "metadata": {
        "id": "OZ-9hqPQoiVd"
      },
      "execution_count": 18,
      "outputs": []
    },
    {
      "cell_type": "markdown",
      "source": [
        "Al calcular la **matriz de confusión**, se observa que la capacidad predictiva del modelo es muy alta. La exactitud del modelo (fracción de predicciones que el modelo realizó correctamente) es del 98.18%.\n",
        "\n",
        "De los 12.172 hogares que no están en riesgo de pobreza, clasifica correctamente a 12.021, mientras que de los 2.833 que sí lo están, clasifica bien a 2.711 hogares. Además, la contradiagonal está muy equilibrada, es decir, el modelo se equivoca casi por igual en predecir el 0 y el 1.\n",
        "\n",
        "\n",
        "\n",
        "De entre todos los demás ratios que obtenemos, es de interés destacar dos de ellos:"
      ],
      "metadata": {
        "id": "TiOyrSf5onxX"
      }
    },
    {
      "cell_type": "markdown",
      "source": [
        "![image.png](data:image/png;base64,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)"
      ],
      "metadata": {
        "id": "IQ3RuqYPrUNy"
      }
    },
    {
      "cell_type": "markdown",
      "source": [
        "*  <ins> Sensitividad: </ins> también se le conoce como Tasa de verdaderos positivos, y corresponde a los valores predichos por el modelo como positivos y que efectivamente, corresponden a un valor positivo. En este caso, se calcula:\n",
        "\n",
        "$$ \\frac{12.021}{12.172} = 0.987 $$\n",
        "\n",
        "*  <ins> Especificidad: </ins> es la Tasa de verdaderos negativos, y corresponde a la proporción de verdaderos negativos estimados como negativos.\n",
        "\n",
        "$$ \\frac{2.711}{2.833} = 0.956 $$"
      ],
      "metadata": {
        "id": "YVYeMdVgreZj"
      }
    },
    {
      "cell_type": "code",
      "source": [
        "# Matriz de confusión\n",
        "confusionMatrix(pred, datos$Pobreza)"
      ],
      "metadata": {
        "colab": {
          "base_uri": "https://localhost:8080/",
          "height": 486
        },
        "id": "qs7nHadposKp",
        "outputId": "282c1389-9734-4213-b236-08bf3c67d5f6"
      },
      "execution_count": 19,
      "outputs": [
        {
          "output_type": "display_data",
          "data": {
            "text/plain": [
              "Confusion Matrix and Statistics\n",
              "\n",
              "          Reference\n",
              "Prediction     0     1\n",
              "         0 12021   122\n",
              "         1   151  2711\n",
              "                                          \n",
              "               Accuracy : 0.9818          \n",
              "                 95% CI : (0.9795, 0.9839)\n",
              "    No Information Rate : 0.8112          \n",
              "    P-Value [Acc > NIR] : < 2e-16         \n",
              "                                          \n",
              "                  Kappa : 0.9408          \n",
              "                                          \n",
              " Mcnemar's Test P-Value : 0.09014         \n",
              "                                          \n",
              "            Sensitivity : 0.9876          \n",
              "            Specificity : 0.9569          \n",
              "         Pos Pred Value : 0.9900          \n",
              "         Neg Pred Value : 0.9472          \n",
              "             Prevalence : 0.8112          \n",
              "         Detection Rate : 0.8011          \n",
              "   Detection Prevalence : 0.8093          \n",
              "      Balanced Accuracy : 0.9723          \n",
              "                                          \n",
              "       'Positive' Class : 0               \n",
              "                                          "
            ]
          },
          "metadata": {}
        }
      ]
    },
    {
      "cell_type": "markdown",
      "source": [
        "El objetivo es encontrar el punto de corte (lo habíamos definido en 0.5) que maximiza la sensitividad y especificidad, aquel para el que el error del modelo es mínimo. Para ello, empleamos la curva ROC.\n",
        "\n",
        "\n"
      ],
      "metadata": {
        "id": "5STiLWG5sL0E"
      }
    },
    {
      "cell_type": "markdown",
      "source": [
        "**> Curva ROC**\n",
        "\n",
        "La curva ROC es un gráfico que da una medida del poder predictivo del modelo, y relaciona la Sensitividad - Especificidad para todos los posibles puntos de corte. A través de la curva ROC, cuanto mayor sea el área por debajo de la curva, mejor clasificado estará el modelo. \n",
        "\n",
        "Se observa que el punto de corte óptimo es 0.321. Tomando este punto de corte se mejora de forma global el modelo, pero a costa de reducir la sensitividad o la especificidad para buscar ese equilibrio entre ambos ratios. \n",
        "\n",
        "Por lo tanto, en estos casos, hay que barajar el coste del error que conlleva este cambio en el punto de corte, ya que por ejemplo, en temas médicos puede suponer un error el dar o no cierta medicación a un paciente. Sin embargo, en este caso, no hay un coste del error tan significativo, por lo que sabiendo esto, continuaré la ilustración del análisis del modelo con el punto de corte definido en 0.5."
      ],
      "metadata": {
        "id": "nXaCkoVouTii"
      }
    },
    {
      "cell_type": "code",
      "source": [
        "# Curva ROC\n",
        "ROC(form=Pobreza~Renta+Transferencias+Num_miembros, data=datos, plot=\"ROC\", lwd=3, cex=1.5)"
      ],
      "metadata": {
        "colab": {
          "base_uri": "https://localhost:8080/",
          "height": 437
        },
        "id": "lYRybzdAucc_",
        "outputId": "99054244-faa8-40b7-a99d-8b1c6e4792c1"
      },
      "execution_count": 20,
      "outputs": [
        {
          "output_type": "display_data",
          "data": {
            "text/plain": [
              "plot without title"
            ],
            "image/png": "[encoded data removed]"
          },
          "metadata": {
            "image/png": {
              "width": 420,
              "height": 420
            }
          }
        }
      ]
    },
    {
      "cell_type": "markdown",
      "source": [
        "**d) Gráfico de las probabilidades**\n",
        "\n",
        "Los valores observados y predichos calculados podemos plasmarlos en un gráfico, donde vemos que, en general, con el modelo se obtienen muy buenas clasificaciones. Sin embargo, podemos ver algunos puntos mal clasificados, que son los errores que hemos podido observar en la matriz de confusión."
      ],
      "metadata": {
        "id": "BcoQttQFusfb"
      }
    },
    {
      "cell_type": "code",
      "source": [
        "ggplot(datos,aes(x=1:nrow(datos),y=pred,color=Pobreza)) + \n",
        "  theme_light(base_size = 15) +\n",
        "  geom_point(size=2) + \n",
        "  scale_color_manual(values=c(\"blue\",\"red\")) +\n",
        "  xlab(\" \") +\n",
        "  ylab(\"Predicciones\") +\n",
        "  geom_hline(yintercept=0.5)"
      ],
      "metadata": {
        "colab": {
          "base_uri": "https://localhost:8080/",
          "height": 437
        },
        "id": "6xfwItgdu4HB",
        "outputId": "45f0e975-d6fa-418b-a1fe-e87ec632da0a"
      },
      "execution_count": 21,
      "outputs": [
        {
          "output_type": "display_data",
          "data": {
            "text/plain": [
              "plot without title"
            ],
            "image/png": "[encoded data removed]"
          },
          "metadata": {
            "image/png": {
              "width": 420,
              "height": 420
            }
          }
        }
      ]
    },
    {
      "cell_type": "markdown",
      "source": [
        "**e) Tasa de error del modelo**\n",
        "\n",
        "Finalmente, ponemos a prueba el modelo ajustado calculando el error que comete, dividiendo el total de errores que comete el modelo entre el total de datos."
      ],
      "metadata": {
        "id": "d6wQzoaJvJEW"
      }
    },
    {
      "cell_type": "code",
      "source": [
        "# Error del conjunto test\n",
        "TEE <- sum(pred != datos$Pobreza)/nrow(datos)\n",
        "round(TEE, 3)"
      ],
      "metadata": {
        "colab": {
          "base_uri": "https://localhost:8080/",
          "height": 34
        },
        "id": "zc3DmIfBvNfP",
        "outputId": "05538ad9-71a3-4ef4-f701-376155c9989f"
      },
      "execution_count": 22,
      "outputs": [
        {
          "output_type": "display_data",
          "data": {
            "text/html": [
              "0.018"
            ],
            "text/markdown": "0.018",
            "text/latex": "0.018",
            "text/plain": [
              "[1] 0.018"
            ]
          },
          "metadata": {}
        }
      ]
    },
    {
      "cell_type": "markdown",
      "source": [
        "En este caso, el error es del 1.8%, un valor muy pequeño que indica el casi perfecto funcionamiento del modelo ajustado para predecir la pobreza de un hogar en base a los tres predictores."
      ],
      "metadata": {
        "id": "iSffrc9ivTnJ"
      }
    },
    {
      "cell_type": "markdown",
      "source": [
        "## **7. Conclusiones** \n",
        "\n",
        "Con el modelo final ajustado podemos saber la probabilidad de que dadas unas determinadas características, el hogar esté en riesgo de pobreza.\n",
        "\n",
        "$$ logit = 11.8 - 0.002 Renta - 0.0001 Transferencias + 8.07 Num_{miembros} $$\n",
        "\n",
        "$$ P(pobreza) = \\frac{1}{1+e^{-11.8 + 0.002 Renta + 0.0001 Transferencias - 8.07 Num_{miembros}}} $$"
      ],
      "metadata": {
        "id": "siirCoAoTkwE"
      }
    },
    {
      "cell_type": "markdown",
      "source": [
        "Atendiendo e interpretando el signo de los coeficientes de los predictores estimados y significativos, sabemos que:\n",
        "\n",
        "*  Cuanto mayor es la renta, menor es la probabilidad de que el hogar esté en riesgo de pobreza, y viceversa. Esto coincide con la intuición, ya que los ingresos limitan la capacidad de las familias de satisfacer sus necesidades básicas, y por tanto, cuanto mejor esté la economía del hogar, menor será la vulnerabilidad económica del hogar.\n",
        "\n",
        "*  Cuanto mayores son las transferencias que recibe un hogar, menor es la probabilidad de que esté en riesgo de pobreza. De nuevo, esto coincide con la lógica, ya que las transferencias contribuyen a aumentar la economía del hogar, y en un hogar de ciertas características y compuesto por un determinado número de personas, cuanto mayores sean los ingresos percibidos, más capacidad tienen las familias de enfrentar gastos e imprevistos, y mejor será su calidad de vida.\n",
        "\n",
        "*  Cuanto mayor es el número de miembros que habita en el hogar, más opciones hay de que el hogar se encuentre en riesgo de pobreza. Esto vuelve a ser lo que se esperaba, ya que dada una condición económica, un hogar donde vive una sola persona tendrá menos gastos y podrá vivir mejor en términos económicos que si en el mismo hogar viven 5 personas.\n",
        "\n",
        "Por lo tanto, tras haber analizado e interpretado el coeficiente de cada variable, se observa que los resultados que hemos obtenidos son lógicos.\n",
        "\n"
      ],
      "metadata": {
        "id": "aEKNICHMxkQv"
      }
    },
    {
      "cell_type": "markdown",
      "source": [
        "Para concluir, podemos extraer aquellos perfiles de hogares que tienen más probabilidad de estar en riesgo de pobreza y aquellos que menor probabilidad tienen.\n",
        "\n",
        "*  Los hogares con mayor probabilidad de estar en riesgo de pobreza son aquellos con renta y transferencias bajas/nulas, compuesto por un mayor número de miembros.\n",
        "*  Por otra parte, los hogares con menor probabilidad de estar en riesgo de pobreza son aquellos con mayores rentas y transferencias económicas, y un bajo número de miembros en el hogar."
      ],
      "metadata": {
        "id": "dArABJFya2X9"
      }
    }
  ]
}