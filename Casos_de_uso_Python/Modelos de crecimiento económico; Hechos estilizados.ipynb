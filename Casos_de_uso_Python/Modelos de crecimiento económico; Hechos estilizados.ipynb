{
  "nbformat": 4,
  "nbformat_minor": 0,
  "metadata": {
    "colab": {
      "name": "Modelos de crecimiento económico: Hechos estilizados.ipynb",
      "provenance": []
    },
    "kernelspec": {
      "name": "python3",
      "display_name": "Python 3"
    },
    "language_info": {
      "name": "python"
    }
  },
  "cells": [
    {
      "cell_type": "markdown",
      "source": [
        "#**Preámbulo**\n",
        "\n",
        "En este caso de uso vamos a explicar qué es un hecho estilizado y por qué es importante a la hora de diseñar modelos de crecimiento económico. También vamos a comprobar la validez de algunos de los más famosos para la economía española usando Python."
      ],
      "metadata": {
        "id": "gYtLubU3zdQb"
      }
    },
    {
      "cell_type": "markdown",
      "source": [
        "#**1.Introducción**\n",
        "\n",
        "Llamamos hechos estilizados a todos los fenómenos observables en economía que tienden a cumplirse siempre aunque no sepamos por qué. Por poner un ejemplo, es como cuando observamos que el sol es amarillo, podemos no saber por qué es amarillo pero lo que sabemos seguro es que tiene ese color.\n",
        "\n",
        "En economía a veces pasa lo mismo, podemos observar por los datos que hay relaciones que se cumplen siempre como, por ejemplo, que una bajada de tipo de interés tiende a subir la inflación y viceversa. Así que aunque no sepamos el por qué se produce esto lo que si sabemos seguro es que si queremos combatir la inflación no debemos bajar el tipo de interés. \n",
        "\n"
      ],
      "metadata": {
        "id": "jEFAI51vwP-I"
      }
    },
    {
      "cell_type": "markdown",
      "source": [
        "##**1.1.¿Por qué son importantes los hechos estilizados?**\n",
        "\n",
        "Para explicar por qué una economía crece los economistas usamos modelos abstractos que simplifican la realidad. Cómo estos modelos nacen un poco de la opinión de cada investigador, necesitamos tener algo que verifique que esos modelos son buenas maneras de entender la realidad. Y una manera es asegurarse de que el modelo expliqué los hechos estilizados que conocemos.\n",
        "\n",
        "Es decir, si sabemos que existen una serie de fenómenos que siempre se cumplen, un buen modelo se ocupará de dar una explicación a todos esos fenómenos. \n",
        "\n"
      ],
      "metadata": {
        "id": "ZiCoi8tH0NDN"
      }
    },
    {
      "cell_type": "markdown",
      "source": [
        "##**1.2.¿Son los hechos estilizados inamovibles?**\n",
        "\n",
        "No necesariamente, hay que recordar que la economía no deja de ser una ciencia social que estudia al ser humano. Las personas de manera individual o colectiva pueden realizar un mismo comportamiento durante décadas o siglos y luego cambiarlo. También puede pasar que en una sociedad encontremos un patrón que en otra no hay. \n",
        "\n",
        "No es como en las ciencias físicas donde pase lo que pase la fuerza de la gravedad es siempre la misma. En nuestra ciencia social siempre existe el factor humano el cuál es impredecible y puede cambiar relaciones estadísticas de décadas en días. "
      ],
      "metadata": {
        "id": "KhUvN1Zo14mm"
      }
    },
    {
      "cell_type": "markdown",
      "source": [
        "##**1.3.Caso de uso**\n",
        "\n",
        "En este caso de uso vamos a enumerar algunos de los hechos estilizados más famosos y vamos a comprobar su validez para España en el período 2002-2019. Vamos a empezar por los hechos estilizados más famosos que son los de Kaldor.\n",
        "\n",
        "Empezaremos por extraer los datos que necesitamos"
      ],
      "metadata": {
        "id": "aU7m9Cop32ip"
      }
    },
    {
      "cell_type": "code",
      "source": [
        "#Importamos las librerías que vamos a necesitar\n",
        "import numpy as np\n",
        "import pandas as pd\n",
        "import matplotlib.pyplot as plt"
      ],
      "metadata": {
        "id": "VzspqdUbRRTW"
      },
      "execution_count": 1,
      "outputs": []
    },
    {
      "cell_type": "code",
      "source": [
        "#Descargamos nuestro dataset en google colab\n",
        "from google.colab import files\n",
        "uploaded=files.upload()\n",
        "\n",
        "datos=pd.read_excel('Kaldor.xlsx')\n",
        "datos.head()"
      ],
      "metadata": {
        "colab": {
          "resources": {
            "http://localhost:8080/nbextensions/google.colab/files.js": {
              "data": "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",
              "ok": true,
              "headers": [
                [
                  "content-type",
                  "application/javascript"
                ]
              ],
              "status": 200,
              "status_text": ""
            }
          },
          "base_uri": "https://localhost:8080/",
          "height": 306
        },
        "id": "K0UmVqDmHdco",
        "outputId": "72689f98-3936-44a7-eb2d-d6083ed159c8"
      },
      "execution_count": 2,
      "outputs": [
        {
          "output_type": "display_data",
          "data": {
            "text/plain": [
              "<IPython.core.display.HTML object>"
            ],
            "text/html": [
              "\n",
              "     <input type=\"file\" id=\"files-b3a1bc78-9350-41ce-a9aa-9172eb641907\" name=\"files[]\" multiple disabled\n",
              "        style=\"border:none\" />\n",
              "     <output id=\"result-b3a1bc78-9350-41ce-a9aa-9172eb641907\">\n",
              "      Upload widget is only available when the cell has been executed in the\n",
              "      current browser session. Please rerun this cell to enable.\n",
              "      </output>\n",
              "      <script src=\"/nbextensions/google.colab/files.js\"></script> "
            ]
          },
          "metadata": {}
        },
        {
          "output_type": "stream",
          "name": "stdout",
          "text": [
            "Saving Kaldor.xlsx to Kaldor.xlsx\n"
          ]
        },
        {
          "output_type": "execute_result",
          "data": {
            "text/plain": [
              "    Año  Población            PIB  Stock de capital  Capital humano  \\\n",
              "0  2002   41837894   749552000000     3707725000000        2.668127   \n",
              "1  2003   42717064   802266000000     4064268000000        2.684631   \n",
              "2  2004   43197684   859437000000     4482428000000        2.701237   \n",
              "3  2005   44108530   927357000000     4936537000000        2.717946   \n",
              "4  2006   44708964  1003823000000     5360784000000        2.734758   \n",
              "\n",
              "       Salarios  Tasa de empleo  Tasa de actividad  \n",
              "0  358872000000           88.39              54.95  \n",
              "1  380155000000           88.63              56.25  \n",
              "2  405612000000           89.47              57.12  \n",
              "3  435359000000           91.29              58.08  \n",
              "4  471840000000           91.74              58.88  "
            ],
            "text/html": [
              "\n",
              "  <div id=\"df-8d799a04-9257-4659-a2c2-277c53026236\">\n",
              "    <div class=\"colab-df-container\">\n",
              "      <div>\n",
              "<style scoped>\n",
              "    .dataframe tbody tr th:only-of-type {\n",
              "        vertical-align: middle;\n",
              "    }\n",
              "\n",
              "    .dataframe tbody tr th {\n",
              "        vertical-align: top;\n",
              "    }\n",
              "\n",
              "    .dataframe thead th {\n",
              "        text-align: right;\n",
              "    }\n",
              "</style>\n",
              "<table border=\"1\" class=\"dataframe\">\n",
              "  <thead>\n",
              "    <tr style=\"text-align: right;\">\n",
              "      <th></th>\n",
              "      <th>Año</th>\n",
              "      <th>Población</th>\n",
              "      <th>PIB</th>\n",
              "      <th>Stock de capital</th>\n",
              "      <th>Capital humano</th>\n",
              "      <th>Salarios</th>\n",
              "      <th>Tasa de empleo</th>\n",
              "      <th>Tasa de actividad</th>\n",
              "    </tr>\n",
              "  </thead>\n",
              "  <tbody>\n",
              "    <tr>\n",
              "      <th>0</th>\n",
              "      <td>2002</td>\n",
              "      <td>41837894</td>\n",
              "      <td>749552000000</td>\n",
              "      <td>3707725000000</td>\n",
              "      <td>2.668127</td>\n",
              "      <td>358872000000</td>\n",
              "      <td>88.39</td>\n",
              "      <td>54.95</td>\n",
              "    </tr>\n",
              "    <tr>\n",
              "      <th>1</th>\n",
              "      <td>2003</td>\n",
              "      <td>42717064</td>\n",
              "      <td>802266000000</td>\n",
              "      <td>4064268000000</td>\n",
              "      <td>2.684631</td>\n",
              "      <td>380155000000</td>\n",
              "      <td>88.63</td>\n",
              "      <td>56.25</td>\n",
              "    </tr>\n",
              "    <tr>\n",
              "      <th>2</th>\n",
              "      <td>2004</td>\n",
              "      <td>43197684</td>\n",
              "      <td>859437000000</td>\n",
              "      <td>4482428000000</td>\n",
              "      <td>2.701237</td>\n",
              "      <td>405612000000</td>\n",
              "      <td>89.47</td>\n",
              "      <td>57.12</td>\n",
              "    </tr>\n",
              "    <tr>\n",
              "      <th>3</th>\n",
              "      <td>2005</td>\n",
              "      <td>44108530</td>\n",
              "      <td>927357000000</td>\n",
              "      <td>4936537000000</td>\n",
              "      <td>2.717946</td>\n",
              "      <td>435359000000</td>\n",
              "      <td>91.29</td>\n",
              "      <td>58.08</td>\n",
              "    </tr>\n",
              "    <tr>\n",
              "      <th>4</th>\n",
              "      <td>2006</td>\n",
              "      <td>44708964</td>\n",
              "      <td>1003823000000</td>\n",
              "      <td>5360784000000</td>\n",
              "      <td>2.734758</td>\n",
              "      <td>471840000000</td>\n",
              "      <td>91.74</td>\n",
              "      <td>58.88</td>\n",
              "    </tr>\n",
              "  </tbody>\n",
              "</table>\n",
              "</div>\n",
              "      <button class=\"colab-df-convert\" onclick=\"convertToInteractive('df-8d799a04-9257-4659-a2c2-277c53026236')\"\n",
              "              title=\"Convert this dataframe to an interactive table.\"\n",
              "              style=\"display:none;\">\n",
              "        \n",
              "  <svg xmlns=\"http://www.w3.org/2000/svg\" height=\"24px\"viewBox=\"0 0 24 24\"\n",
              "       width=\"24px\">\n",
              "    <path d=\"M0 0h24v24H0V0z\" fill=\"none\"/>\n",
              "    <path d=\"M18.56 5.44l.94 2.06.94-2.06 2.06-.94-2.06-.94-.94-2.06-.94 2.06-2.06.94zm-11 1L8.5 8.5l.94-2.06 2.06-.94-2.06-.94L8.5 2.5l-.94 2.06-2.06.94zm10 10l.94 2.06.94-2.06 2.06-.94-2.06-.94-.94-2.06-.94 2.06-2.06.94z\"/><path d=\"M17.41 7.96l-1.37-1.37c-.4-.4-.92-.59-1.43-.59-.52 0-1.04.2-1.43.59L10.3 9.45l-7.72 7.72c-.78.78-.78 2.05 0 2.83L4 21.41c.39.39.9.59 1.41.59.51 0 1.02-.2 1.41-.59l7.78-7.78 2.81-2.81c.8-.78.8-2.07 0-2.86zM5.41 20L4 18.59l7.72-7.72 1.47 1.35L5.41 20z\"/>\n",
              "  </svg>\n",
              "      </button>\n",
              "      \n",
              "  <style>\n",
              "    .colab-df-container {\n",
              "      display:flex;\n",
              "      flex-wrap:wrap;\n",
              "      gap: 12px;\n",
              "    }\n",
              "\n",
              "    .colab-df-convert {\n",
              "      background-color: #E8F0FE;\n",
              "      border: none;\n",
              "      border-radius: 50%;\n",
              "      cursor: pointer;\n",
              "      display: none;\n",
              "      fill: #1967D2;\n",
              "      height: 32px;\n",
              "      padding: 0 0 0 0;\n",
              "      width: 32px;\n",
              "    }\n",
              "\n",
              "    .colab-df-convert:hover {\n",
              "      background-color: #E2EBFA;\n",
              "      box-shadow: 0px 1px 2px rgba(60, 64, 67, 0.3), 0px 1px 3px 1px rgba(60, 64, 67, 0.15);\n",
              "      fill: #174EA6;\n",
              "    }\n",
              "\n",
              "    [theme=dark] .colab-df-convert {\n",
              "      background-color: #3B4455;\n",
              "      fill: #D2E3FC;\n",
              "    }\n",
              "\n",
              "    [theme=dark] .colab-df-convert:hover {\n",
              "      background-color: #434B5C;\n",
              "      box-shadow: 0px 1px 3px 1px rgba(0, 0, 0, 0.15);\n",
              "      filter: drop-shadow(0px 1px 2px rgba(0, 0, 0, 0.3));\n",
              "      fill: #FFFFFF;\n",
              "    }\n",
              "  </style>\n",
              "\n",
              "      <script>\n",
              "        const buttonEl =\n",
              "          document.querySelector('#df-8d799a04-9257-4659-a2c2-277c53026236 button.colab-df-convert');\n",
              "        buttonEl.style.display =\n",
              "          google.colab.kernel.accessAllowed ? 'block' : 'none';\n",
              "\n",
              "        async function convertToInteractive(key) {\n",
              "          const element = document.querySelector('#df-8d799a04-9257-4659-a2c2-277c53026236');\n",
              "          const dataTable =\n",
              "            await google.colab.kernel.invokeFunction('convertToInteractive',\n",
              "                                                     [key], {});\n",
              "          if (!dataTable) return;\n",
              "\n",
              "          const docLinkHtml = 'Like what you see? Visit the ' +\n",
              "            '<a target=\"_blank\" href=https://colab.research.google.com/notebooks/data_table.ipynb>data table notebook</a>'\n",
              "            + ' to learn more about interactive tables.';\n",
              "          element.innerHTML = '';\n",
              "          dataTable['output_type'] = 'display_data';\n",
              "          await google.colab.output.renderOutput(dataTable, element);\n",
              "          const docLink = document.createElement('div');\n",
              "          docLink.innerHTML = docLinkHtml;\n",
              "          element.appendChild(docLink);\n",
              "        }\n",
              "      </script>\n",
              "    </div>\n",
              "  </div>\n",
              "  "
            ]
          },
          "metadata": {},
          "execution_count": 2
        }
      ]
    },
    {
      "cell_type": "code",
      "source": [
        "#Sacamos cada serie del dataframe como una variable\n",
        "Y=datos['PIB']\n",
        "L=datos['Población']\n",
        "K=datos['Stock de capital']\n",
        "h=datos['Capital humano']\n",
        "se=datos['Tasa de empleo']\n",
        "sw=datos['Tasa de actividad']\n",
        "\n",
        "w=datos['Salarios']\n",
        "\n",
        "T=datos['Año']"
      ],
      "metadata": {
        "id": "uQUg2_mQJfD2"
      },
      "execution_count": 3,
      "outputs": []
    },
    {
      "cell_type": "code",
      "source": [
        "#Convertimos los años en string ya que si no no podemos convertirlo en fecha\n",
        "T=T.astype(str)"
      ],
      "metadata": {
        "id": "JHK4ArYoWsBd"
      },
      "execution_count": 4,
      "outputs": []
    },
    {
      "cell_type": "code",
      "source": [
        "#Pasamos los años a formato fecha\n",
        "T=pd.to_datetime(T)\n",
        "T"
      ],
      "metadata": {
        "colab": {
          "base_uri": "https://localhost:8080/"
        },
        "id": "TH0qqb284o8o",
        "outputId": "f73027ab-d39a-4c0a-d699-08c2f7ee75dc"
      },
      "execution_count": 5,
      "outputs": [
        {
          "output_type": "execute_result",
          "data": {
            "text/plain": [
              "0    2002-01-01\n",
              "1    2003-01-01\n",
              "2    2004-01-01\n",
              "3    2005-01-01\n",
              "4    2006-01-01\n",
              "5    2007-01-01\n",
              "6    2008-01-01\n",
              "7    2009-01-01\n",
              "8    2010-01-01\n",
              "9    2011-01-01\n",
              "10   2012-01-01\n",
              "11   2013-01-01\n",
              "12   2014-01-01\n",
              "13   2015-01-01\n",
              "14   2016-01-01\n",
              "15   2017-01-01\n",
              "16   2018-01-01\n",
              "17   2019-01-01\n",
              "Name: Año, dtype: datetime64[ns]"
            ]
          },
          "metadata": {},
          "execution_count": 5
        }
      ]
    },
    {
      "cell_type": "markdown",
      "source": [
        "#**2.Hechos de Kaldor**\n",
        "\n",
        "Kaldor fue un investigador económico famoso por ser quién creó el concepto de los hechos estilizados. \n",
        "\n",
        "Estudiando la economía de Estados Unidos y Reino Unido estableció que existían una serie de relaciones que perduraban en esas economías desde el siglo XIX.\n",
        "\n",
        "Vamos a comprobar si estos hechos se cumplen para España entre 2002 y 2019"
      ],
      "metadata": {
        "id": "qsbsLUBWytOE"
      }
    },
    {
      "cell_type": "markdown",
      "source": [
        "##2.1.El peso de los salarios sobre el producto se mantiene aproximadamente constante en el tiempo"
      ],
      "metadata": {
        "id": "04hHiTIhqrjE"
      }
    },
    {
      "cell_type": "code",
      "source": [
        "#Calculamos este peso como la masa salarial total entre el PIB\n",
        "Alpha=w/Y"
      ],
      "metadata": {
        "id": "5l1xQKY_mtFl"
      },
      "execution_count": 6,
      "outputs": []
    },
    {
      "cell_type": "code",
      "source": [
        "#Graficamos y ponemos un gráfico que vaya desde 1(100%) hasta 0\n",
        "fig, (ax1)=plt.subplots(1,1)\n",
        "ax1.plot(T, Alpha)\n",
        "plt.ylim(0,1)\n",
        "\n",
        "fig.set_figwidth(10)\n",
        "fig.show()\n"
      ],
      "metadata": {
        "colab": {
          "base_uri": "https://localhost:8080/",
          "height": 269
        },
        "outputId": "109314e3-ea18-4c82-84fa-c8a176e027b0",
        "id": "AmXuBISop73b"
      },
      "execution_count": 7,
      "outputs": [
        {
          "output_type": "display_data",
          "data": {
            "text/plain": [
              "<Figure size 720x288 with 1 Axes>"
            ],
            "image/png": "[encoded data removed]"
          },
          "metadata": {
            "needs_background": "light"
          }
        }
      ]
    },
    {
      "cell_type": "markdown",
      "source": [
        "Como podemos ver, el peso de los salarios en la economía española siempre se mantiene en torno al 50% así que este hecho estilizado si que se cumple para España."
      ],
      "metadata": {
        "id": "cesGJ50NK5dj"
      }
    },
    {
      "cell_type": "markdown",
      "source": [
        "##2.2.El capital por trabajador crece a una misma tasa a lo largo del tiempo"
      ],
      "metadata": {
        "id": "2smtgOOzq7jd"
      }
    },
    {
      "cell_type": "code",
      "source": [
        "#Calculamos el número de trabajadores multiplicando la tasa de actividad por la población y luego la tasa de empleabiliadad por la población activa\n",
        "Trabajador=L*(sw/100)*(se/100)\n",
        "kl=K/Trabajador"
      ],
      "metadata": {
        "id": "SH3bZFbGpv3y"
      },
      "execution_count": 8,
      "outputs": []
    },
    {
      "cell_type": "code",
      "source": [
        "\n",
        "fig, (ax2)=plt.subplots(1,1)\n",
        "ax2.plot(T, kl)\n",
        "\n",
        "\n",
        "\n",
        "fig.set_figwidth(10)\n",
        "\n",
        "fig.show()\n"
      ],
      "metadata": {
        "colab": {
          "base_uri": "https://localhost:8080/",
          "height": 265
        },
        "id": "y37A75j_HMP8",
        "outputId": "dd904a6d-1b9f-46c1-cc22-2721860a35fd"
      },
      "execution_count": 9,
      "outputs": [
        {
          "output_type": "display_data",
          "data": {
            "text/plain": [
              "<Figure size 720x288 with 1 Axes>"
            ],
            "image/png": "[encoded data removed]"
          },
          "metadata": {
            "needs_background": "light"
          }
        }
      ]
    },
    {
      "cell_type": "markdown",
      "source": [
        "Aquí podemos ver como este hecho estilizado no se cumple para España en el período analizado ya que tras la crisis del 2008 parece que su comportamiento cambia y ya no crece de manera constante"
      ],
      "metadata": {
        "id": "g8GAS-2dMZ5Q"
      }
    },
    {
      "cell_type": "markdown",
      "source": [
        "##2.3.El ratio capital producto se mantiene aproximadamente constante a lo largo del tiempo"
      ],
      "metadata": {
        "id": "cL5gr_JCrVl2"
      }
    },
    {
      "cell_type": "code",
      "source": [
        "#Dividimos el stock total de capital de España por su PIB\n",
        "ky=K/Y"
      ],
      "metadata": {
        "id": "bXpWgK6Cuvu4"
      },
      "execution_count": 11,
      "outputs": []
    },
    {
      "cell_type": "code",
      "source": [
        "\n",
        "fig, (ax1)=plt.subplots(1,1)\n",
        "ax1.plot(T, ky)\n",
        "\n",
        "\n",
        "fig.set_figwidth(10)\n",
        "\n",
        "\n",
        "\n",
        "fig.show()\n"
      ],
      "metadata": {
        "colab": {
          "base_uri": "https://localhost:8080/",
          "height": 265
        },
        "outputId": "068edd81-3ff3-4051-e396-98c5ffd89229",
        "id": "nLidAKCnMr5X"
      },
      "execution_count": 12,
      "outputs": [
        {
          "output_type": "display_data",
          "data": {
            "text/plain": [
              "<Figure size 720x288 with 1 Axes>"
            ],
            "image/png": "[encoded data removed]"
          },
          "metadata": {
            "needs_background": "light"
          }
        }
      ]
    },
    {
      "cell_type": "markdown",
      "source": [
        "En un primer vistazo al gráfico podemos ver como sí que hay fluctuaciones, pero este hecho estilizado nos dice que se mantiene **aproximadamente** constante así que vamos a hechar un vistazo a su tasa de cambio para comprobar"
      ],
      "metadata": {
        "id": "i0WVKLHANVeT"
      }
    },
    {
      "cell_type": "code",
      "source": [
        "#Para calcular la tasa de cambio podemos volver en logaritmo la variable y luego ir restandola por su período anterior\n",
        "lky=np.log(ky)\n",
        "gky=ky.diff()"
      ],
      "metadata": {
        "id": "5yslLgmGvubi"
      },
      "execution_count": 13,
      "outputs": []
    },
    {
      "cell_type": "code",
      "source": [
        "#Graficamos la tasa de cambio\n",
        "fig, (ax3)=plt.subplots(1,1)\n",
        "ax3.plot(T, gky)\n",
        "\n",
        "\n",
        "fig.set_figwidth(10)\n",
        "\n",
        "\n",
        "\n",
        "fig.show()\n"
      ],
      "metadata": {
        "colab": {
          "base_uri": "https://localhost:8080/",
          "height": 265
        },
        "outputId": "96692a33-8ff0-4c68-cddf-e1aad5d1d343",
        "id": "MsSuyLNZu0cO"
      },
      "execution_count": 14,
      "outputs": [
        {
          "output_type": "display_data",
          "data": {
            "text/plain": [
              "<Figure size 720x288 with 1 Axes>"
            ],
            "image/png": "[encoded data removed]"
          },
          "metadata": {
            "needs_background": "light"
          }
        }
      ]
    },
    {
      "cell_type": "markdown",
      "source": [
        "Como podemos ver, ha habido veces que ha crecido más de un 20% y otras que ha caído más de un 10% así que este hecho estilizado no se cumple para España"
      ],
      "metadata": {
        "id": "KR0DQSQoqfvR"
      }
    },
    {
      "cell_type": "markdown",
      "source": [
        "##2.4.Conclusión\n",
        "\n",
        "De los hechos estilizados de Kaldor que hemos analizado, únicamente se cumple el de que los salarios siempre mantienen aproximadamente el mismo peso dentro del PIB."
      ],
      "metadata": {
        "id": "cNhoYOWaOUwu"
      }
    },
    {
      "cell_type": "markdown",
      "source": [
        "#**3.Hechos estilizados del PIB**"
      ],
      "metadata": {
        "id": "-hkBojV6W1WY"
      }
    },
    {
      "cell_type": "markdown",
      "source": [
        "Otros hechos estilizados que se usan mucho en economía son todos aquellos relacionados con el PIB. En este caso hay dos principales y que a diferencia de los de Kaldor, el cuál solo estudió dos economías, estos se suelen cumplir en todos los países."
      ],
      "metadata": {
        "id": "nHr-cMVLgHWj"
      }
    },
    {
      "cell_type": "markdown",
      "source": [
        "##3.1 Obtenemos los datos"
      ],
      "metadata": {
        "id": "LX567Mxqg1nt"
      }
    },
    {
      "cell_type": "code",
      "source": [
        "#Descargamos nuestro dataset en google colab\n",
        "from google.colab import files\n",
        "uploaded=files.upload()\n",
        "\n",
        "data=pd.read_excel('PIB_factores estilizados.xlsx', index_col=0)\n",
        "data.head()"
      ],
      "metadata": {
        "colab": {
          "resources": {
            "http://localhost:8080/nbextensions/google.colab/files.js": {
              "data": "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",
              "ok": true,
              "headers": [
                [
                  "content-type",
                  "application/javascript"
                ]
              ],
              "status": 200,
              "status_text": ""
            }
          },
          "base_uri": "https://localhost:8080/",
          "height": 372
        },
        "outputId": "9263e405-0548-4a80-8ad4-842aba31582d",
        "id": "4QzgFXzIWksT"
      },
      "execution_count": 15,
      "outputs": [
        {
          "output_type": "display_data",
          "data": {
            "text/plain": [
              "<IPython.core.display.HTML object>"
            ],
            "text/html": [
              "\n",
              "     <input type=\"file\" id=\"files-eb3452b6-b1a3-456d-8ffe-8f9e10e5ba79\" name=\"files[]\" multiple disabled\n",
              "        style=\"border:none\" />\n",
              "     <output id=\"result-eb3452b6-b1a3-456d-8ffe-8f9e10e5ba79\">\n",
              "      Upload widget is only available when the cell has been executed in the\n",
              "      current browser session. Please rerun this cell to enable.\n",
              "      </output>\n",
              "      <script src=\"/nbextensions/google.colab/files.js\"></script> "
            ]
          },
          "metadata": {}
        },
        {
          "output_type": "stream",
          "name": "stdout",
          "text": [
            "Saving PIB_factores estilizados.xlsx to PIB_factores estilizados.xlsx\n"
          ]
        },
        {
          "output_type": "execute_result",
          "data": {
            "text/plain": [
              "          Producto interior bruto a precios de mercado  \\\n",
              "Columna1                                                 \n",
              "1995T1                                          112760   \n",
              "1995T2                                          114401   \n",
              "1995T3                                          115628   \n",
              "1995T4                                          117799   \n",
              "1996T1                                          119460   \n",
              "\n",
              "          Gasto en consumo final  Formación bruta de capital  \\\n",
              "Columna1                                                       \n",
              "1995T1                     88801                       25318   \n",
              "1995T2                     89939                       25909   \n",
              "1995T3                     90952                       26062   \n",
              "1995T4                     92341                       26430   \n",
              "1996T1                     93144                       26902   \n",
              "\n",
              "          Exportaciones de bienes y servicios  \\\n",
              "Columna1                                        \n",
              "1995T1                                  24866   \n",
              "1995T2                                  24966   \n",
              "1995T3                                  24850   \n",
              "1995T4                                  25851   \n",
              "1996T1                                  26950   \n",
              "\n",
              "          Importaciones de bienes y servicios  \n",
              "Columna1                                       \n",
              "1995T1                                  26225  \n",
              "1995T2                                  26413  \n",
              "1995T3                                  26236  \n",
              "1995T4                                  26823  \n",
              "1996T1                                  27536  "
            ],
            "text/html": [
              "\n",
              "  <div id=\"df-c70bbb74-841c-4265-a5bf-e0234bc9b889\">\n",
              "    <div class=\"colab-df-container\">\n",
              "      <div>\n",
              "<style scoped>\n",
              "    .dataframe tbody tr th:only-of-type {\n",
              "        vertical-align: middle;\n",
              "    }\n",
              "\n",
              "    .dataframe tbody tr th {\n",
              "        vertical-align: top;\n",
              "    }\n",
              "\n",
              "    .dataframe thead th {\n",
              "        text-align: right;\n",
              "    }\n",
              "</style>\n",
              "<table border=\"1\" class=\"dataframe\">\n",
              "  <thead>\n",
              "    <tr style=\"text-align: right;\">\n",
              "      <th></th>\n",
              "      <th>Producto interior bruto a precios de mercado</th>\n",
              "      <th>Gasto en consumo final</th>\n",
              "      <th>Formación bruta de capital</th>\n",
              "      <th>Exportaciones de bienes y servicios</th>\n",
              "      <th>Importaciones de bienes y servicios</th>\n",
              "    </tr>\n",
              "    <tr>\n",
              "      <th>Columna1</th>\n",
              "      <th></th>\n",
              "      <th></th>\n",
              "      <th></th>\n",
              "      <th></th>\n",
              "      <th></th>\n",
              "    </tr>\n",
              "  </thead>\n",
              "  <tbody>\n",
              "    <tr>\n",
              "      <th>1995T1</th>\n",
              "      <td>112760</td>\n",
              "      <td>88801</td>\n",
              "      <td>25318</td>\n",
              "      <td>24866</td>\n",
              "      <td>26225</td>\n",
              "    </tr>\n",
              "    <tr>\n",
              "      <th>1995T2</th>\n",
              "      <td>114401</td>\n",
              "      <td>89939</td>\n",
              "      <td>25909</td>\n",
              "      <td>24966</td>\n",
              "      <td>26413</td>\n",
              "    </tr>\n",
              "    <tr>\n",
              "      <th>1995T3</th>\n",
              "      <td>115628</td>\n",
              "      <td>90952</td>\n",
              "      <td>26062</td>\n",
              "      <td>24850</td>\n",
              "      <td>26236</td>\n",
              "    </tr>\n",
              "    <tr>\n",
              "      <th>1995T4</th>\n",
              "      <td>117799</td>\n",
              "      <td>92341</td>\n",
              "      <td>26430</td>\n",
              "      <td>25851</td>\n",
              "      <td>26823</td>\n",
              "    </tr>\n",
              "    <tr>\n",
              "      <th>1996T1</th>\n",
              "      <td>119460</td>\n",
              "      <td>93144</td>\n",
              "      <td>26902</td>\n",
              "      <td>26950</td>\n",
              "      <td>27536</td>\n",
              "    </tr>\n",
              "  </tbody>\n",
              "</table>\n",
              "</div>\n",
              "      <button class=\"colab-df-convert\" onclick=\"convertToInteractive('df-c70bbb74-841c-4265-a5bf-e0234bc9b889')\"\n",
              "              title=\"Convert this dataframe to an interactive table.\"\n",
              "              style=\"display:none;\">\n",
              "        \n",
              "  <svg xmlns=\"http://www.w3.org/2000/svg\" height=\"24px\"viewBox=\"0 0 24 24\"\n",
              "       width=\"24px\">\n",
              "    <path d=\"M0 0h24v24H0V0z\" fill=\"none\"/>\n",
              "    <path d=\"M18.56 5.44l.94 2.06.94-2.06 2.06-.94-2.06-.94-.94-2.06-.94 2.06-2.06.94zm-11 1L8.5 8.5l.94-2.06 2.06-.94-2.06-.94L8.5 2.5l-.94 2.06-2.06.94zm10 10l.94 2.06.94-2.06 2.06-.94-2.06-.94-.94-2.06-.94 2.06-2.06.94z\"/><path d=\"M17.41 7.96l-1.37-1.37c-.4-.4-.92-.59-1.43-.59-.52 0-1.04.2-1.43.59L10.3 9.45l-7.72 7.72c-.78.78-.78 2.05 0 2.83L4 21.41c.39.39.9.59 1.41.59.51 0 1.02-.2 1.41-.59l7.78-7.78 2.81-2.81c.8-.78.8-2.07 0-2.86zM5.41 20L4 18.59l7.72-7.72 1.47 1.35L5.41 20z\"/>\n",
              "  </svg>\n",
              "      </button>\n",
              "      \n",
              "  <style>\n",
              "    .colab-df-container {\n",
              "      display:flex;\n",
              "      flex-wrap:wrap;\n",
              "      gap: 12px;\n",
              "    }\n",
              "\n",
              "    .colab-df-convert {\n",
              "      background-color: #E8F0FE;\n",
              "      border: none;\n",
              "      border-radius: 50%;\n",
              "      cursor: pointer;\n",
              "      display: none;\n",
              "      fill: #1967D2;\n",
              "      height: 32px;\n",
              "      padding: 0 0 0 0;\n",
              "      width: 32px;\n",
              "    }\n",
              "\n",
              "    .colab-df-convert:hover {\n",
              "      background-color: #E2EBFA;\n",
              "      box-shadow: 0px 1px 2px rgba(60, 64, 67, 0.3), 0px 1px 3px 1px rgba(60, 64, 67, 0.15);\n",
              "      fill: #174EA6;\n",
              "    }\n",
              "\n",
              "    [theme=dark] .colab-df-convert {\n",
              "      background-color: #3B4455;\n",
              "      fill: #D2E3FC;\n",
              "    }\n",
              "\n",
              "    [theme=dark] .colab-df-convert:hover {\n",
              "      background-color: #434B5C;\n",
              "      box-shadow: 0px 1px 3px 1px rgba(0, 0, 0, 0.15);\n",
              "      filter: drop-shadow(0px 1px 2px rgba(0, 0, 0, 0.3));\n",
              "      fill: #FFFFFF;\n",
              "    }\n",
              "  </style>\n",
              "\n",
              "      <script>\n",
              "        const buttonEl =\n",
              "          document.querySelector('#df-c70bbb74-841c-4265-a5bf-e0234bc9b889 button.colab-df-convert');\n",
              "        buttonEl.style.display =\n",
              "          google.colab.kernel.accessAllowed ? 'block' : 'none';\n",
              "\n",
              "        async function convertToInteractive(key) {\n",
              "          const element = document.querySelector('#df-c70bbb74-841c-4265-a5bf-e0234bc9b889');\n",
              "          const dataTable =\n",
              "            await google.colab.kernel.invokeFunction('convertToInteractive',\n",
              "                                                     [key], {});\n",
              "          if (!dataTable) return;\n",
              "\n",
              "          const docLinkHtml = 'Like what you see? Visit the ' +\n",
              "            '<a target=\"_blank\" href=https://colab.research.google.com/notebooks/data_table.ipynb>data table notebook</a>'\n",
              "            + ' to learn more about interactive tables.';\n",
              "          element.innerHTML = '';\n",
              "          dataTable['output_type'] = 'display_data';\n",
              "          await google.colab.output.renderOutput(dataTable, element);\n",
              "          const docLink = document.createElement('div');\n",
              "          docLink.innerHTML = docLinkHtml;\n",
              "          element.appendChild(docLink);\n",
              "        }\n",
              "      </script>\n",
              "    </div>\n",
              "  </div>\n",
              "  "
            ]
          },
          "metadata": {},
          "execution_count": 15
        }
      ]
    },
    {
      "cell_type": "code",
      "source": [
        "#Extraemos las variables del dataset\n",
        "PIB=data['Producto interior bruto a precios de mercado']\n",
        "C=data['Gasto en consumo final']\n",
        "I=data['Formación bruta de capital']\n",
        "X=data['Exportaciones de bienes y servicios']\n",
        "M=data['Importaciones de bienes y servicios']"
      ],
      "metadata": {
        "id": "i27eRnZJW_Mn"
      },
      "execution_count": 16,
      "outputs": []
    },
    {
      "cell_type": "code",
      "source": [
        "#Como en el dataset esta 2020 y nos lo queremos quitar para que la pandemia no nos altere los datos restringimos la muestra\n",
        "I=I[0:100]\n",
        "I"
      ],
      "metadata": {
        "colab": {
          "base_uri": "https://localhost:8080/"
        },
        "id": "1aht2hmpdfUe",
        "outputId": "869df4f0-931f-441a-927d-c531e6dabf9e"
      },
      "execution_count": 17,
      "outputs": [
        {
          "output_type": "execute_result",
          "data": {
            "text/plain": [
              "Columna1\n",
              "1995T1    25318\n",
              "1995T2    25909\n",
              "1995T3    26062\n",
              "1995T4    26430\n",
              "1996T1    26902\n",
              "          ...  \n",
              "2018T4    63593\n",
              "2019T1    65067\n",
              "2019T2    64756\n",
              "2019T3    65459\n",
              "2019T4    64667\n",
              "Name: Formación bruta de capital, Length: 100, dtype: int64"
            ]
          },
          "metadata": {},
          "execution_count": 17
        }
      ]
    },
    {
      "cell_type": "code",
      "source": [
        "#Quitamos 2020 de las demás variables\n",
        "C=C[0:100]\n",
        "PIB=PIB[0:100]"
      ],
      "metadata": {
        "id": "D7hrvLqDewEP"
      },
      "execution_count": 18,
      "outputs": []
    },
    {
      "cell_type": "markdown",
      "source": [
        "##3.2 La inversión es más volátil que el consumo y el PIB"
      ],
      "metadata": {
        "id": "kTv7NLLDqBcF"
      }
    },
    {
      "cell_type": "markdown",
      "source": [
        "Para comprobar esto, tenemos que medir la volatilidad de estas tres variables en una misma unidad de medida. \n",
        "\n",
        "Para ello, primero ponemos las tres variables en tasas de cambio usando el truco de que la resta del logaritmo de cada variable en el período t menos la misma variable en t-1 es aproximadamente su tasa de cambio.\n",
        "\n",
        "Luego, calculamos la desviación típica de cada variable ya que esta es una buena aproximación de su volatilidad."
      ],
      "metadata": {
        "id": "CQ5wCyvEhga0"
      }
    },
    {
      "cell_type": "code",
      "source": [
        "#Ponemos inversión en tasa de cambio\n",
        "li=np.log(I)\n",
        "gi=li.diff()\n",
        "#Calculamos su desviación típica\n",
        "vol_I=np.std(gi)\n",
        "#Mostramos el resultado\n",
        "vol_I"
      ],
      "metadata": {
        "colab": {
          "base_uri": "https://localhost:8080/"
        },
        "id": "zcTy4KDnalTh",
        "outputId": "c79b7b67-3ce9-4f34-eddd-4a1faa7519b6"
      },
      "execution_count": 19,
      "outputs": [
        {
          "output_type": "execute_result",
          "data": {
            "text/plain": [
              "0.028748777332002772"
            ]
          },
          "metadata": {},
          "execution_count": 19
        }
      ]
    },
    {
      "cell_type": "code",
      "source": [
        "#Ponemos consumo en tasa de cambio\n",
        "lc=np.log(C)\n",
        "gc=lc.diff()\n",
        "#Calculamos su desviación típica\n",
        "vol_C=np.std(gc)\n",
        "#Mostramos el resultado\n",
        "vol_C"
      ],
      "metadata": {
        "colab": {
          "base_uri": "https://localhost:8080/"
        },
        "id": "RfCD_ygwfxuA",
        "outputId": "70f9348d-db54-4357-928f-ec6c92dbe6da"
      },
      "execution_count": 20,
      "outputs": [
        {
          "output_type": "execute_result",
          "data": {
            "text/plain": [
              "0.010524970483093032"
            ]
          },
          "metadata": {},
          "execution_count": 20
        }
      ]
    },
    {
      "cell_type": "code",
      "source": [
        "#Ponemos PIB en tasa de cambio\n",
        "lPIB=np.log(PIB)\n",
        "gPIB=lPIB.diff()\n",
        "#Calculamos su desviación típica\n",
        "vol_P=np.std(gPIB)\n",
        "#Mostramos el resultado\n",
        "vol_P"
      ],
      "metadata": {
        "colab": {
          "base_uri": "https://localhost:8080/"
        },
        "id": "fakwPPPvwOW_",
        "outputId": "b9580cf8-1052-4326-a3da-18247cadc27c"
      },
      "execution_count": 21,
      "outputs": [
        {
          "output_type": "execute_result",
          "data": {
            "text/plain": [
              "0.010280957147794277"
            ]
          },
          "metadata": {},
          "execution_count": 21
        }
      ]
    },
    {
      "cell_type": "markdown",
      "source": [
        "Como vemos, la volatiilidad de la inversión es el doble que la del PIB o el consumo. Así que este hecho estilizado se cumple para España."
      ],
      "metadata": {
        "id": "fU25cxV0qNMN"
      }
    },
    {
      "cell_type": "markdown",
      "source": [
        "##3.3 El consumo y la inversión son procíclicos\n",
        "\n"
      ],
      "metadata": {
        "id": "4ATahPpHxFd3"
      }
    },
    {
      "cell_type": "markdown",
      "source": [
        "Esto significa que cuando hay una recesión (es decir, que el PIB disminuye) tanto consumo como inversión también disminuyen y viceversa. \n",
        "\n",
        "Para verificar esto, lo que tenemos que hacer es descomponer la serie en ciclo y tendencia y ver la correlación entre los ciclos de las distintas variables.\n",
        "\n",
        "Es decir, queremos quitarnos de encima la tendencia de cada variable porque lo qe nos interesa es medir como se comportan estas variables cuando suben y bajan y no cuando siguen su tendencia natural."
      ],
      "metadata": {
        "id": "GjjB0hO1jW1K"
      }
    },
    {
      "cell_type": "code",
      "source": [
        "#Para separar ciclo de tendencia vamos a usar el filtro Hodrick-Prescott\n",
        "from statsmodels.tsa.filters.hp_filter import hpfilter"
      ],
      "metadata": {
        "colab": {
          "base_uri": "https://localhost:8080/"
        },
        "id": "JwiqtLODT5TX",
        "outputId": "8b0d44d2-016b-4225-9dbb-cb02572e8950"
      },
      "execution_count": 22,
      "outputs": [
        {
          "output_type": "stream",
          "name": "stderr",
          "text": [
            "/usr/local/lib/python3.7/dist-packages/statsmodels/tools/_testing.py:19: FutureWarning: pandas.util.testing is deprecated. Use the functions in the public API at pandas.testing instead.\n",
            "  import pandas.util.testing as tm\n"
          ]
        }
      ]
    },
    {
      "cell_type": "code",
      "source": [
        "#Separamos la tendencia (gráfica derecha) del ciclo del PIB (gráfica izquierda)\n",
        "cyclePIB, trend=hpfilter(PIB, lamb=1600)\n",
        "\n",
        "figure, axes=plt.subplots(nrows=1, ncols=2, figsize=(15,5))\n",
        "trend.plot(ax=axes[0]);\n",
        "cyclePIB.plot(ax=axes[1]);\n"
      ],
      "metadata": {
        "colab": {
          "base_uri": "https://localhost:8080/",
          "height": 334
        },
        "id": "IvRKtr8_UPLQ",
        "outputId": "d98afc17-493e-4c9a-ba6a-7a5c8499802a"
      },
      "execution_count": 23,
      "outputs": [
        {
          "output_type": "display_data",
          "data": {
            "text/plain": [
              "<Figure size 1080x360 with 2 Axes>"
            ],
            "image/png": "[encoded data removed]"
          },
          "metadata": {
            "needs_background": "light"
          }
        }
      ]
    },
    {
      "cell_type": "code",
      "source": [
        "#Separamos la tendencia (gráfica derecha) del ciclo de la inversión (gráfica izquierda)\n",
        "cycleI, trendI=hpfilter(I, lamb=1600)\n",
        "\n",
        "figure, axes=plt.subplots(nrows=1, ncols=2, figsize=(15,5))\n",
        "trendI.plot(ax=axes[0]);\n",
        "cycleI.plot(ax=axes[1]);"
      ],
      "metadata": {
        "colab": {
          "base_uri": "https://localhost:8080/",
          "height": 334
        },
        "outputId": "c2c340ce-008b-4f98-84b2-d8c7ac590a5c",
        "id": "CFyNmzRqY4DV"
      },
      "execution_count": 24,
      "outputs": [
        {
          "output_type": "display_data",
          "data": {
            "text/plain": [
              "<Figure size 1080x360 with 2 Axes>"
            ],
            "image/png": "[encoded data removed]"
          },
          "metadata": {
            "needs_background": "light"
          }
        }
      ]
    },
    {
      "cell_type": "code",
      "source": [
        "#Separamos la tendencia (gráfica derecha) del ciclo del consumo (gráfica izquierda)\n",
        "cycleC, trendC=hpfilter(C, lamb=1600)\n",
        "\n",
        "figure, axes=plt.subplots(nrows=1, ncols=2, figsize=(15,5))\n",
        "trendC.plot(ax=axes[0]);\n",
        "cycleC.plot(ax=axes[1]);"
      ],
      "metadata": {
        "colab": {
          "base_uri": "https://localhost:8080/",
          "height": 334
        },
        "outputId": "ffadb4c3-a6d3-461b-d3a6-02bc9964de70",
        "id": "5OP1Y-ypY4Tp"
      },
      "execution_count": 25,
      "outputs": [
        {
          "output_type": "display_data",
          "data": {
            "text/plain": [
              "<Figure size 1080x360 with 2 Axes>"
            ],
            "image/png": "[encoded data removed]"
          },
          "metadata": {
            "needs_background": "light"
          }
        }
      ]
    },
    {
      "cell_type": "markdown",
      "source": [
        "Ahora correlacionamos el ciclo de inversión y PIB. Si esta es positiva, inversión es prociclica, si es negativa anticilica y si no hay correlación es aciclica."
      ],
      "metadata": {
        "id": "7DfLARF-lnMb"
      }
    },
    {
      "cell_type": "code",
      "source": [
        "print('Correlación ciclo del PIB con el de la inversión:' , cycleI.corr(cyclePIB, method='pearson'))"
      ],
      "metadata": {
        "colab": {
          "base_uri": "https://localhost:8080/"
        },
        "id": "ivTreof2ZWEh",
        "outputId": "60701bb8-c2b2-4fe3-fe07-0d65808dcda7"
      },
      "execution_count": null,
      "outputs": [
        {
          "output_type": "stream",
          "name": "stdout",
          "text": [
            "Correlación ciclo del PIB con el de la inversión: 0.86513180299877\n"
          ]
        }
      ]
    },
    {
      "cell_type": "markdown",
      "source": [
        "Ahora correlacionamos el ciclo de consumo y PIB. Si esta es positiva, consumo es prociclica, si es negativa anticilica y si no hay correlación es aciclica."
      ],
      "metadata": {
        "id": "CvUkSGSNl6lY"
      }
    },
    {
      "cell_type": "code",
      "source": [
        "print('Correlación ciclo del PIB con el del consumo:', cycleC.corr(cyclePIB, method='pearson'))"
      ],
      "metadata": {
        "colab": {
          "base_uri": "https://localhost:8080/"
        },
        "id": "TUkAIAUsbp79",
        "outputId": "76ef3e63-f17e-4785-f940-4c10bb0902f0"
      },
      "execution_count": null,
      "outputs": [
        {
          "output_type": "stream",
          "name": "stdout",
          "text": [
            "Correlación ciclo del PIB con el del consumo: 0.9483245153462615\n"
          ]
        }
      ]
    },
    {
      "cell_type": "markdown",
      "source": [
        "Como vemos, el ciclo de ambas variables tienen una correlación positiva muy fuerte con el ciclo del PIB así que decimos que ambas variables son procíclicas y concluimos que este hecho estilizado también se cumple para España."
      ],
      "metadata": {
        "id": "Bfnq9L8smD8L"
      }
    },
    {
      "cell_type": "markdown",
      "source": [
        "#Bibliografía\n",
        "\n",
        "A model of economic growth. Nicholas Kaldor"
      ],
      "metadata": {
        "id": "c84Q0-w67Tpf"
      }
    }
  ]
}