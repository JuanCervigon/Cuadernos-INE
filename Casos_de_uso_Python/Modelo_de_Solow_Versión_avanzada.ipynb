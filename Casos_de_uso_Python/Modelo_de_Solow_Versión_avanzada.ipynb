{
  "nbformat": 4,
  "nbformat_minor": 0,
  "metadata": {
    "colab": {
      "name": "Modelo de Solow: Versión avanzada.ipynb",
      "provenance": []
    },
    "kernelspec": {
      "name": "python3",
      "display_name": "Python 3"
    },
    "language_info": {
      "name": "python"
    }
  },
  "cells": [
    {
      "cell_type": "markdown",
      "source": [
        "#**Preámbulo**\n",
        "\n",
        "Este caso de uso enseña un modelo de tipo Solow diseñado por el banco mundial para explicar el rápido crecimiento de Corea del Sur. Es recomendable leerse el caso de uso \"Modelo de Solow: Versión principiante\" antes de leer este ya que daré por entendidas ciertas operaciones que realicé en ese caso de uso."
      ],
      "metadata": {
        "id": "3h54-UncEuXb"
      }
    },
    {
      "cell_type": "markdown",
      "source": [
        "#**1.Introducción**\n",
        "\n",
        "Al igual que en el modelo de Solow, este modelo sirve para explicar el crecimiento de una economía descomponiéndolo en todas las variables que creamos que lo determinan. En el caso de este trabajo, el Banco Mundial considera que el crecimiento viene determinado por:\n",
        "\n",
        "1-Stock de capital (K). Es el valor de todas las máquinas, herramientas, edificios...; de un país en un momento dado.\n",
        "\n",
        "2-Productividad total de los factores (A). Mide cuán productivo es un país en el sentido de cuanto le cuesta llegar a hacer un producto con el capital y trabajo del que dispone. Para Solow cuando esta variable aumenta es que se ha realizado un progreso de la tecnología.\n",
        "\n",
        "3-Tasa de participación del capital en la economía (Alpha). Esta variable mide cuanto del PIB de un país viene producido por el capital. En este paper llaman a esta variable beta pero voy a llamarla alpha en este caso de uso para guardar la coherencia con el caso de uso anterior\n",
        "\n",
        "4-Producto (Y). Es la producción total del país en un momento dado, o lo que solemos entender por PIB.\n",
        "\n",
        "5-Capital humano (h). Esta variable mide la educación de un país, la intuición detrás es que cuanto más culto sea un país el crecimiento será mayor.\n",
        "\n",
        "6-Población activa (Sw). Mide qué fracción de la población quiere y puede trabajar excluyendo de ella a niños, jubilados, amas de casa, etc.\n",
        "\n",
        "6-Tasa de empleo (Se). Mide qué fracción de la población activa trabaja. Esto se da porque a pesar de que muchas personas quieren y tienen la capacidad de trabajar, no encuentran trabajo creando una parte de la población que llamaríamos desempleada.\n",
        "\n",
        "De esta forma, uniendo todas las variables el modelo quedaría de esta forma:\n",
        "\n",
        "\n",
        "$$y=Sw*Se*A*(K/Y)^{((1-alpha)/alpha)}*h$$\n",
        "\n",
        "Aquí, \"y\" es el PIB per cápita y K/Y es el ratio capital-producto del país. \n",
        "\n",
        "El por qué realizan esta fracción en vez de observar el crecimiento puro del capital es que consideran que este ratio aisla mejor el efecto del crecimiento de capital sobre el crecimiento de la economía.\n",
        "\n",
        "La intuición es que un aumento de la productividad conlleva un aumento del capital pero no de K/Y así que para evitar inconsistencias en el modelo tienen que realizar este ratio. Es decir, el ratio K/Y no esta correlacionado con A pero la variable K sin fraccionar si que está correlacionada."
      ],
      "metadata": {
        "id": "dqj44OSsF3fJ"
      }
    },
    {
      "cell_type": "markdown",
      "source": [
        "#**2.Realizamos este modelo de tipo Solow para España**\n",
        "\n"
      ],
      "metadata": {
        "id": "a2sB6KvdQ4M0"
      }
    },
    {
      "cell_type": "markdown",
      "source": [
        "##**2.1.Extraemos las variables que necesitamos**\n",
        "\n",
        "Una vez tenemos el marco teórico del modelo que queremos realizar, obtenemos los datos que necesitamos y lo reproducimos en python"
      ],
      "metadata": {
        "id": "NUAO7ArAWqxf"
      }
    },
    {
      "cell_type": "code",
      "source": [
        "#Importamos las librerías que vamos a necesitar\n",
        "import numpy as np\n",
        "import pandas as pd\n",
        "import matplotlib.pyplot as plt"
      ],
      "metadata": {
        "id": "VzspqdUbRRTW"
      },
      "execution_count": 2,
      "outputs": []
    },
    {
      "cell_type": "code",
      "source": [
        "#Descargamos nuestro dataset en google colab\n",
        "from google.colab import files\n",
        "uploaded=files.upload()\n",
        "\n",
        "datos=pd.read_excel('Modelo de Solow avanzado.xlsx')\n",
        "datos.head()"
      ],
      "metadata": {
        "colab": {
          "resources": {
            "http://localhost:8080/nbextensions/google.colab/files.js": {
              "data": "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",
              "ok": true,
              "headers": [
                [
                  "content-type",
                  "application/javascript"
                ]
              ],
              "status": 200,
              "status_text": ""
            }
          },
          "base_uri": "https://localhost:8080/",
          "height": 323
        },
        "id": "K0UmVqDmHdco",
        "outputId": "7def7099-e6a0-476a-ec8b-cd8fd5d12641"
      },
      "execution_count": 11,
      "outputs": [
        {
          "output_type": "display_data",
          "data": {
            "text/plain": [
              "<IPython.core.display.HTML object>"
            ],
            "text/html": [
              "\n",
              "     <input type=\"file\" id=\"files-ca905b9c-1474-4262-b47f-3919ccc61a94\" name=\"files[]\" multiple disabled\n",
              "        style=\"border:none\" />\n",
              "     <output id=\"result-ca905b9c-1474-4262-b47f-3919ccc61a94\">\n",
              "      Upload widget is only available when the cell has been executed in the\n",
              "      current browser session. Please rerun this cell to enable.\n",
              "      </output>\n",
              "      <script src=\"/nbextensions/google.colab/files.js\"></script> "
            ]
          },
          "metadata": {}
        },
        {
          "output_type": "stream",
          "name": "stdout",
          "text": [
            "Saving Modelo de Solow avanzado.xlsx to Modelo de Solow avanzado.xlsx\n"
          ]
        },
        {
          "output_type": "execute_result",
          "data": {
            "text/plain": [
              "    Año  Población            PIB  Stock de capital  Capital humano  \\\n",
              "0  2002   41837894   749552000000     3707725000000        2.668127   \n",
              "1  2003   42717064   802266000000     4064268000000        2.684631   \n",
              "2  2004   43197684   859437000000     4482428000000        2.701237   \n",
              "3  2005   44108530   927357000000     4936537000000        2.717946   \n",
              "4  2006   44708964  1003823000000     5360784000000        2.734758   \n",
              "\n",
              "       Salarios  Tasa de empleo  Tasa de actividad  \n",
              "0  358872000000           88.39              54.95  \n",
              "1  380155000000           88.63              56.25  \n",
              "2  405612000000           89.47              57.12  \n",
              "3  435359000000           91.29              58.08  \n",
              "4  471840000000           91.74              58.88  "
            ],
            "text/html": [
              "\n",
              "  <div id=\"df-8715a9f7-7c46-4c3d-938b-29dc1b0512ca\">\n",
              "    <div class=\"colab-df-container\">\n",
              "      <div>\n",
              "<style scoped>\n",
              "    .dataframe tbody tr th:only-of-type {\n",
              "        vertical-align: middle;\n",
              "    }\n",
              "\n",
              "    .dataframe tbody tr th {\n",
              "        vertical-align: top;\n",
              "    }\n",
              "\n",
              "    .dataframe thead th {\n",
              "        text-align: right;\n",
              "    }\n",
              "</style>\n",
              "<table border=\"1\" class=\"dataframe\">\n",
              "  <thead>\n",
              "    <tr style=\"text-align: right;\">\n",
              "      <th></th>\n",
              "      <th>Año</th>\n",
              "      <th>Población</th>\n",
              "      <th>PIB</th>\n",
              "      <th>Stock de capital</th>\n",
              "      <th>Capital humano</th>\n",
              "      <th>Salarios</th>\n",
              "      <th>Tasa de empleo</th>\n",
              "      <th>Tasa de actividad</th>\n",
              "    </tr>\n",
              "  </thead>\n",
              "  <tbody>\n",
              "    <tr>\n",
              "      <th>0</th>\n",
              "      <td>2002</td>\n",
              "      <td>41837894</td>\n",
              "      <td>749552000000</td>\n",
              "      <td>3707725000000</td>\n",
              "      <td>2.668127</td>\n",
              "      <td>358872000000</td>\n",
              "      <td>88.39</td>\n",
              "      <td>54.95</td>\n",
              "    </tr>\n",
              "    <tr>\n",
              "      <th>1</th>\n",
              "      <td>2003</td>\n",
              "      <td>42717064</td>\n",
              "      <td>802266000000</td>\n",
              "      <td>4064268000000</td>\n",
              "      <td>2.684631</td>\n",
              "      <td>380155000000</td>\n",
              "      <td>88.63</td>\n",
              "      <td>56.25</td>\n",
              "    </tr>\n",
              "    <tr>\n",
              "      <th>2</th>\n",
              "      <td>2004</td>\n",
              "      <td>43197684</td>\n",
              "      <td>859437000000</td>\n",
              "      <td>4482428000000</td>\n",
              "      <td>2.701237</td>\n",
              "      <td>405612000000</td>\n",
              "      <td>89.47</td>\n",
              "      <td>57.12</td>\n",
              "    </tr>\n",
              "    <tr>\n",
              "      <th>3</th>\n",
              "      <td>2005</td>\n",
              "      <td>44108530</td>\n",
              "      <td>927357000000</td>\n",
              "      <td>4936537000000</td>\n",
              "      <td>2.717946</td>\n",
              "      <td>435359000000</td>\n",
              "      <td>91.29</td>\n",
              "      <td>58.08</td>\n",
              "    </tr>\n",
              "    <tr>\n",
              "      <th>4</th>\n",
              "      <td>2006</td>\n",
              "      <td>44708964</td>\n",
              "      <td>1003823000000</td>\n",
              "      <td>5360784000000</td>\n",
              "      <td>2.734758</td>\n",
              "      <td>471840000000</td>\n",
              "      <td>91.74</td>\n",
              "      <td>58.88</td>\n",
              "    </tr>\n",
              "  </tbody>\n",
              "</table>\n",
              "</div>\n",
              "      <button class=\"colab-df-convert\" onclick=\"convertToInteractive('df-8715a9f7-7c46-4c3d-938b-29dc1b0512ca')\"\n",
              "              title=\"Convert this dataframe to an interactive table.\"\n",
              "              style=\"display:none;\">\n",
              "        \n",
              "  <svg xmlns=\"http://www.w3.org/2000/svg\" height=\"24px\"viewBox=\"0 0 24 24\"\n",
              "       width=\"24px\">\n",
              "    <path d=\"M0 0h24v24H0V0z\" fill=\"none\"/>\n",
              "    <path d=\"M18.56 5.44l.94 2.06.94-2.06 2.06-.94-2.06-.94-.94-2.06-.94 2.06-2.06.94zm-11 1L8.5 8.5l.94-2.06 2.06-.94-2.06-.94L8.5 2.5l-.94 2.06-2.06.94zm10 10l.94 2.06.94-2.06 2.06-.94-2.06-.94-.94-2.06-.94 2.06-2.06.94z\"/><path d=\"M17.41 7.96l-1.37-1.37c-.4-.4-.92-.59-1.43-.59-.52 0-1.04.2-1.43.59L10.3 9.45l-7.72 7.72c-.78.78-.78 2.05 0 2.83L4 21.41c.39.39.9.59 1.41.59.51 0 1.02-.2 1.41-.59l7.78-7.78 2.81-2.81c.8-.78.8-2.07 0-2.86zM5.41 20L4 18.59l7.72-7.72 1.47 1.35L5.41 20z\"/>\n",
              "  </svg>\n",
              "      </button>\n",
              "      \n",
              "  <style>\n",
              "    .colab-df-container {\n",
              "      display:flex;\n",
              "      flex-wrap:wrap;\n",
              "      gap: 12px;\n",
              "    }\n",
              "\n",
              "    .colab-df-convert {\n",
              "      background-color: #E8F0FE;\n",
              "      border: none;\n",
              "      border-radius: 50%;\n",
              "      cursor: pointer;\n",
              "      display: none;\n",
              "      fill: #1967D2;\n",
              "      height: 32px;\n",
              "      padding: 0 0 0 0;\n",
              "      width: 32px;\n",
              "    }\n",
              "\n",
              "    .colab-df-convert:hover {\n",
              "      background-color: #E2EBFA;\n",
              "      box-shadow: 0px 1px 2px rgba(60, 64, 67, 0.3), 0px 1px 3px 1px rgba(60, 64, 67, 0.15);\n",
              "      fill: #174EA6;\n",
              "    }\n",
              "\n",
              "    [theme=dark] .colab-df-convert {\n",
              "      background-color: #3B4455;\n",
              "      fill: #D2E3FC;\n",
              "    }\n",
              "\n",
              "    [theme=dark] .colab-df-convert:hover {\n",
              "      background-color: #434B5C;\n",
              "      box-shadow: 0px 1px 3px 1px rgba(0, 0, 0, 0.15);\n",
              "      filter: drop-shadow(0px 1px 2px rgba(0, 0, 0, 0.3));\n",
              "      fill: #FFFFFF;\n",
              "    }\n",
              "  </style>\n",
              "\n",
              "      <script>\n",
              "        const buttonEl =\n",
              "          document.querySelector('#df-8715a9f7-7c46-4c3d-938b-29dc1b0512ca button.colab-df-convert');\n",
              "        buttonEl.style.display =\n",
              "          google.colab.kernel.accessAllowed ? 'block' : 'none';\n",
              "\n",
              "        async function convertToInteractive(key) {\n",
              "          const element = document.querySelector('#df-8715a9f7-7c46-4c3d-938b-29dc1b0512ca');\n",
              "          const dataTable =\n",
              "            await google.colab.kernel.invokeFunction('convertToInteractive',\n",
              "                                                     [key], {});\n",
              "          if (!dataTable) return;\n",
              "\n",
              "          const docLinkHtml = 'Like what you see? Visit the ' +\n",
              "            '<a target=\"_blank\" href=https://colab.research.google.com/notebooks/data_table.ipynb>data table notebook</a>'\n",
              "            + ' to learn more about interactive tables.';\n",
              "          element.innerHTML = '';\n",
              "          dataTable['output_type'] = 'display_data';\n",
              "          await google.colab.output.renderOutput(dataTable, element);\n",
              "          const docLink = document.createElement('div');\n",
              "          docLink.innerHTML = docLinkHtml;\n",
              "          element.appendChild(docLink);\n",
              "        }\n",
              "      </script>\n",
              "    </div>\n",
              "  </div>\n",
              "  "
            ]
          },
          "metadata": {},
          "execution_count": 11
        }
      ]
    },
    {
      "cell_type": "markdown",
      "source": [
        "Hecho esto, extraemos las variables del dataset"
      ],
      "metadata": {
        "id": "DbDmhVAGTxi7"
      }
    },
    {
      "cell_type": "code",
      "source": [
        "Y=datos['PIB']\n",
        "L=datos['Población']\n",
        "K=datos['Stock de capital']\n",
        "h=datos['Capital humano']\n",
        "se=datos['Tasa de empleo']\n",
        "sw=datos['Tasa de actividad']\n",
        "\n",
        "w=datos['Salarios']\n",
        "\n",
        "Fecha=datos['Año']"
      ],
      "metadata": {
        "id": "uQUg2_mQJfD2"
      },
      "execution_count": 12,
      "outputs": []
    },
    {
      "cell_type": "code",
      "source": [
        "#Establecemos una variable de PIB per cápita\n",
        "y=Y/L"
      ],
      "metadata": {
        "id": "yXqL9-FFMkrm"
      },
      "execution_count": 13,
      "outputs": []
    },
    {
      "cell_type": "code",
      "source": [
        "#Creamos la variable de alpha dividiendo la cantidad total de salarios por el producto\n",
        "alpha=1-w/Y"
      ],
      "metadata": {
        "id": "LTzZadtcM1DF"
      },
      "execution_count": 14,
      "outputs": []
    },
    {
      "cell_type": "markdown",
      "source": [
        "Como expliqué en el caso de uso anterior, tenemos que hacer que alpha sea una constante ya que tanto Solow como los investigadores de este paper asumen que la tasa de participación laboral en la economía no varía en el tiempo. La volvemos una constante cogiendo la media de esta variable en el período analizado."
      ],
      "metadata": {
        "id": "-jPCydO0UQXR"
      }
    },
    {
      "cell_type": "code",
      "source": [
        "m_alpha=np.mean(alpha, axis=0)\n",
        "m_alpha"
      ],
      "metadata": {
        "colab": {
          "base_uri": "https://localhost:8080/"
        },
        "id": "5fGLuaVFUih4",
        "outputId": "69ca5023-61dc-4622-fce1-a42e25fd233f"
      },
      "execution_count": 20,
      "outputs": [
        {
          "output_type": "execute_result",
          "data": {
            "text/plain": [
              "0.5291314970978401"
            ]
          },
          "metadata": {},
          "execution_count": 20
        }
      ]
    },
    {
      "cell_type": "code",
      "source": [
        "#Creamos una variable que sea el ratio capital-producto\n",
        "ky=K/Y"
      ],
      "metadata": {
        "id": "5_82-1jsQAHJ"
      },
      "execution_count": 15,
      "outputs": []
    },
    {
      "cell_type": "markdown",
      "source": [
        "##**2.2.Despejamos la productividad**\n",
        "\n",
        "Tal y como expliqué en el anterior caso de uso, en el modelo de Solow usan el logaritmo neperiano para sacar las tasas de crecimiento de cada variable usando la regla matemática de que el logaritmo de una variable en el período 1 menos el logaritmos de esa variable en el período 0 es aproximadamente la tasa de crecimiento entre esos dos períodos. \n",
        "\n",
        "Así que, logaritmizamos el modelo y operamos y nos queda la ecuación:\n",
        "\n",
        "$$gy=gsw+gse+ga+((1-alpha)/alpha)*gky+gh$$\n",
        "\n",
        "Donde g delante de cada variable significa su tasa de crecimiento.\n",
        "\n",
        "Ahora, despejamos ga ya que es la única variable que desconocemos y nos queda:\n",
        "\n",
        "$$ga=gy-gsw-gse-gh-((1-alpha)/alpha)*gky$$"
      ],
      "metadata": {
        "id": "mJmymhJ_OiNN"
      }
    },
    {
      "cell_type": "code",
      "source": [
        "#Calculamos la tasa de crecimiento de cada variable\n",
        "gy=np.log(y).diff()\n",
        "gsw=np.log(sw).diff()\n",
        "gse=np.log(se).diff()\n",
        "gky=np.log(ky).diff()\n",
        "gh=np.log(h).diff()\n"
      ],
      "metadata": {
        "id": "CbIyj4xUM-fu"
      },
      "execution_count": 16,
      "outputs": []
    },
    {
      "cell_type": "code",
      "source": [
        "#Calculamos la tasa de creciiento de la productividad en base a la ecuación anterior\n",
        "ga=gy-gsw-gse-((1-m_alpha)/m_alpha)*gky-gh\n",
        "ga.tail()"
      ],
      "metadata": {
        "colab": {
          "base_uri": "https://localhost:8080/"
        },
        "id": "r6CSlG43Rjs6",
        "outputId": "c7ac582d-67eb-4dbe-8d35-63b7270ee83b"
      },
      "execution_count": 21,
      "outputs": [
        {
          "output_type": "execute_result",
          "data": {
            "text/plain": [
              "13    0.027221\n",
              "14    0.008959\n",
              "15    0.022536\n",
              "16    0.000760\n",
              "17    0.007259\n",
              "dtype: float64"
            ]
          },
          "metadata": {},
          "execution_count": 21
        }
      ]
    },
    {
      "cell_type": "markdown",
      "source": [
        "##**2.3.Conclusiones sobre este modelo para España**\n",
        "\n",
        "Con esto, ya hemos contabilizado como ha crecido la productividad en España a lo largo del tiempo. Vamos a visualizarlo:"
      ],
      "metadata": {
        "id": "GOuRTcLrXHQW"
      }
    },
    {
      "cell_type": "code",
      "source": [
        "numero_de_grupos=len(gy)\n",
        "indice_barras=np.arange(numero_de_grupos)\n",
        "width=0.1\n",
        "\n",
        "fig,(ax1)=plt.subplots(1,1)\n",
        "plt.bar(indice_barras,ga,width,label='Productividad')\n",
        "plt.bar(indice_barras+width,gky,width,label='Capital')\n",
        "plt.bar(indice_barras+width+width, gh, width, label='Capital humano')\n",
        "plt.bar(indice_barras+width+width+width, gse, width, label='Empleo')\n",
        "plt.bar(indice_barras+width+width+width+width,gsw,width,label='Ocupación')\n",
        "\n",
        "plt.legend(loc='best')\n",
        "\n",
        "plt.xticks(indice_barras + width, Fecha)\n",
        "\n",
        "fig.set_figwidth(20)\n",
        "fig.set_figheight(10)"
      ],
      "metadata": {
        "colab": {
          "base_uri": "https://localhost:8080/",
          "height": 612
        },
        "id": "wOhJjJscSOUX",
        "outputId": "c8ce9355-a07b-4158-d24c-c8972158bf13"
      },
      "execution_count": 22,
      "outputs": [
        {
          "output_type": "display_data",
          "data": {
            "text/plain": [
              "<Figure size 1440x720 with 1 Axes>"
            ],
            "image/png": "[encoded data removed]"
          },
          "metadata": {
            "needs_background": "light"
          }
        }
      ]
    },
    {
      "cell_type": "markdown",
      "source": [
        "Como podemos ver, durante los años del boom inmobiliario el factor que principalmente hacía crecer la economía era el capital lo cuál nos cuadra con lo que sabemos. Además, podemos ver como el factor que más influyó en la caída de la actividad económica en España durante la crisis del 2008 fue la caída en la tasa de empleo lo cuál también nos cuadra con el contexto histórico.\n",
        "\n",
        "Es importante resaltar la importancia que tuvo el empleo en la crisis del 2008 porque en el modelo de Solow simple que hemos hecho en el caso de uso anterior, hemos visto como los resultados eran que la fuerte caída económica de esos años era producida por una gran contracción en la productividad mientras que este modelo nos dice que la contracción fue debida a una caída en el empleo. \n",
        "\n",
        "Así que, como conclusión, es muy importante qué modelo usas a la hora de explicar los ciclos económicos de un país. Existen multitud de modelos en economía y se podría decir que uno de los grandes puntos de debate dentro del mundo académico es sobre qué modelo es mejor para explicar como y por qué crece un país. \n",
        "\n",
        "Si quieres dedicarte a la investigación o hacer un trabajo sobre crecimiento, lo primero que tienes que hacer es elegir bien que modelo de crecimiento quieres usar y por qué."
      ],
      "metadata": {
        "id": "8DvzQ_B8XiFK"
      }
    },
    {
      "cell_type": "markdown",
      "source": [
        "#**3.Bibliografía**\n",
        "\n",
        "Hyeok Jeong. Korea's growth experience and long term growth model. World bank"
      ],
      "metadata": {
        "id": "BF5IxckJZ3Wp"
      }
    }
  ]
}