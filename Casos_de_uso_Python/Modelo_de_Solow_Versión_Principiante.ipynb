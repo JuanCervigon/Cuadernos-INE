{
  "nbformat": 4,
  "nbformat_minor": 0,
  "metadata": {
    "colab": {
      "name": "Modelo_de_Solow_Versión_Principiante.ipynb",
      "provenance": []
    },
    "kernelspec": {
      "name": "python3",
      "display_name": "Python 3"
    },
    "language_info": {
      "name": "python"
    }
  },
  "cells": [
    {
      "cell_type": "markdown",
      "source": [
        "#**Preámbulo**\n",
        "\n",
        "Este caso de uso esta destinado para enseñar de manera resumida qué es el modelo de Solow y para qué se usa en la vida real. Además muestro como aplicarlo de manera práctica para un país usando Python y qué variables son las relevantes a la hora de crear un dataset. \n",
        "\n",
        "Si se quiere profundizar en el andamiaje matemático o teórico del mismo dejaré en bibliografia algunos libros y publicaciones útiles para profundizar en ello."
      ],
      "metadata": {
        "id": "7N24Uo5rHN80"
      }
    },
    {
      "cell_type": "markdown",
      "source": [
        "#**1.Introducción**\n",
        "\n",
        "El modelo de Solow sirve, principalmente, para explicar el crecimiento económico de un país. Por ejemplo, si yo como investigador quiero tratar de descubrir por qué España ha crecido un 6% este año, puedo usar el modelo de Solow para tratar de descomponer ese crecimiento en tres variables: Capital, trabajo y productividad.\n",
        "\n",
        "De esta manera, puedo aplicar el modelo y ver qué es lo que ha hecho que crezca. En nuestro ejemplo inventado, podría salirnos que España ha crecido un 6% este año debido a que el empleo en el país ha subido mucho mientras que capital y productividad han permanecido iguales. De esta manera, si fueras investigador, podrías usar este modelo para hacer una primera caracterización de la economía española.\n",
        "\n",
        "Aún si de esta manera explicada no entiendes bien a que me refiero recomiendo ir al gráfico de la parte 3.3 donde enseño graficamente una descomposición del crecimiento de España."
      ],
      "metadata": {
        "id": "uRh-ovaIMiHA"
      }
    },
    {
      "cell_type": "markdown",
      "source": [
        "#**2.Breve explicación de qué es el modelo de Solow**\n",
        "\n",
        "Este modelo fue diseñado por el economista Robert Solow en 1956. Su éxito reside en su sencillez ya que solo son necesarias cinco variables para realizarlo:\n",
        "\n",
        "1-Stock de capital (K). Es el valor de todas las máquinas, herramientas, edificios...; de un país en un momento dado.\n",
        "\n",
        "2-Trabajo (L). De esta variable existen varias versiones, se puede usar directamente el número de habitantes de un país o el numero de personas que forman la población activa. Para simplificarlo se suele dejar todas las variables en per cápita para librarnos de esta variable. Más abajo explico como se hace esta transformación.\n",
        "\n",
        "3-Productividad total de los factores (A). Mide cuán productivo es un país en el sentido de cuanto le cuesta llegar a hacer un producto con el capital y trabajo del que dispone. Para Solow cuando esta variable aumenta es que se ha realizado un progreso de la tecnología.\n",
        "\n",
        "4-Tasa de participación del capital en la economía (Alpha). Esta variable mide cuanto del PIB de un país viene producido por el capital.\n",
        "\n",
        "5-Producto. Es la producción total del país en un momento dado, o lo que solemos entender por PIB.\n",
        "\n",
        "La ecuación básica del modelo quedaría por tanto tal que así:\n",
        "\n",
        "$$Y=K^{alpha}*(A*L)^{1-alpha}$$\n",
        "\n",
        "Y para simplificarlo lo ponemos todo en per cápita dividiendo todo por L:\n",
        "\n",
        "$$Y/L=y$$\n",
        "\n",
        "$$K/L=k$$\n",
        "\n",
        "$$Y/L=(K^{alpha}*(A*L)^{1-alpha})/L=k^{alpha}*A^{1-alpha}$$"
      ],
      "metadata": {
        "id": "n-ZenZ5uIdw6"
      }
    },
    {
      "cell_type": "markdown",
      "source": [
        "#**3.Como medir el aumento de la productividad (progreso tecnológico)**\n",
        "\n",
        "Uno de los debates más complejos dentro de la economía es saber como medir la productividad de un país y, por tanto, su progreso tecnológico. \n",
        "\n",
        "Aunque en el día a día esto puede resultarnos obvio  (todos hemos oido historias de como antes había que llamar a un número de telefono girando una rueda) cuantificarlo no lo es tanto. ¿En que unidades medimos el progreso? ¿Cómo medimos cuán productivos somos usando un destornillador? Debido a estas dificultades, la medición del avance tecnológico sigue siendo un tema de investigación hasta el día de hoy con diversos economistas ofreciendo sus propios métodos para ello. \n",
        "\n",
        "La aproximación de Solow es sencilla, como hemos visto antes, para él, el PIB per cápita viene determinado por el capital per cápita y por la productividad. \n",
        "\n",
        "Por tanto, el crecimiento del PIB per cápita viene determinado por el crecimiento del capital y por el crecimiento de la tecnología. Si tenemos el crecimiento del PIB per cápita y el crecimiento del stock de capital podemos despejar el crecimiento de la tecnología.\n",
        "\n",
        "Vamos a realizar un sencillo caso de uso en Python para ver como se puede hacer tener resultados rapidamente y que variables se deben de usar:\n",
        "\n",
        "\n",
        "\n",
        "\n",
        "\n"
      ],
      "metadata": {
        "id": "qJgaHWU1N0nG"
      }
    },
    {
      "cell_type": "markdown",
      "source": [
        "##**3.1.Extraemos las variables que necesitamos**\n",
        "\n",
        "En el INE tenemos los datos para España de población, PIB, el valor de todo el capital acumulado del país y el valor de la suma de los salarios de todos los trabajadores"
      ],
      "metadata": {
        "id": "4d_XBwRzVsSz"
      }
    },
    {
      "cell_type": "code",
      "source": [
        "#Importamos las librerias que vamos a necesitar\n",
        "import numpy as np\n",
        "import pandas as pd\n",
        "import matplotlib.pyplot as plt\n",
        "\n",
        "#Importamos el dataset\n",
        "from google.colab import files\n",
        "uploaded=files.upload()\n",
        "\n",
        "#Visualizamos el dataset\n",
        "datos=pd.read_excel('Modelo de Solow Principiante.xlsx')\n",
        "datos.head()"
      ],
      "metadata": {
        "colab": {
          "resources": {
            "http://localhost:8080/nbextensions/google.colab/files.js": {
              "data": "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",
              "ok": true,
              "headers": [
                [
                  "content-type",
                  "application/javascript"
                ]
              ],
              "status": 200,
              "status_text": ""
            }
          },
          "base_uri": "https://localhost:8080/",
          "height": 279
        },
        "id": "HVIcIW178bbM",
        "outputId": "37ee231f-05b9-4408-fa97-8d881e492607"
      },
      "execution_count": null,
      "outputs": [
        {
          "output_type": "display_data",
          "data": {
            "text/plain": [
              "<IPython.core.display.HTML object>"
            ],
            "text/html": [
              "\n",
              "     <input type=\"file\" id=\"files-a48cd3cb-8fdb-4529-8944-0412c5429669\" name=\"files[]\" multiple disabled\n",
              "        style=\"border:none\" />\n",
              "     <output id=\"result-a48cd3cb-8fdb-4529-8944-0412c5429669\">\n",
              "      Upload widget is only available when the cell has been executed in the\n",
              "      current browser session. Please rerun this cell to enable.\n",
              "      </output>\n",
              "      <script src=\"/nbextensions/google.colab/files.js\"></script> "
            ]
          },
          "metadata": {}
        },
        {
          "output_type": "stream",
          "name": "stdout",
          "text": [
            "Saving Modelo de Solow España.xlsx to Modelo de Solow España.xlsx\n"
          ]
        },
        {
          "output_type": "execute_result",
          "data": {
            "text/plain": [
              "    Año  Población  Stock de capital      Salarios           PIB\n",
              "0  2000   40499791     3142774000000  316255000000  647851000000\n",
              "1  2001   41116842     3409748000000  337035000000  700993000000\n",
              "2  2002   41837894     3707725000000  358872000000  749552000000\n",
              "3  2003   42717064     4064268000000  380155000000  802266000000\n",
              "4  2004   43197684     4482428000000  405612000000  859437000000"
            ],
            "text/html": [
              "\n",
              "  <div id=\"df-c5a88ab0-b6f4-4ae5-9824-de343a3e5ba8\">\n",
              "    <div class=\"colab-df-container\">\n",
              "      <div>\n",
              "<style scoped>\n",
              "    .dataframe tbody tr th:only-of-type {\n",
              "        vertical-align: middle;\n",
              "    }\n",
              "\n",
              "    .dataframe tbody tr th {\n",
              "        vertical-align: top;\n",
              "    }\n",
              "\n",
              "    .dataframe thead th {\n",
              "        text-align: right;\n",
              "    }\n",
              "</style>\n",
              "<table border=\"1\" class=\"dataframe\">\n",
              "  <thead>\n",
              "    <tr style=\"text-align: right;\">\n",
              "      <th></th>\n",
              "      <th>Año</th>\n",
              "      <th>Población</th>\n",
              "      <th>Stock de capital</th>\n",
              "      <th>Salarios</th>\n",
              "      <th>PIB</th>\n",
              "    </tr>\n",
              "  </thead>\n",
              "  <tbody>\n",
              "    <tr>\n",
              "      <th>0</th>\n",
              "      <td>2000</td>\n",
              "      <td>40499791</td>\n",
              "      <td>3142774000000</td>\n",
              "      <td>316255000000</td>\n",
              "      <td>647851000000</td>\n",
              "    </tr>\n",
              "    <tr>\n",
              "      <th>1</th>\n",
              "      <td>2001</td>\n",
              "      <td>41116842</td>\n",
              "      <td>3409748000000</td>\n",
              "      <td>337035000000</td>\n",
              "      <td>700993000000</td>\n",
              "    </tr>\n",
              "    <tr>\n",
              "      <th>2</th>\n",
              "      <td>2002</td>\n",
              "      <td>41837894</td>\n",
              "      <td>3707725000000</td>\n",
              "      <td>358872000000</td>\n",
              "      <td>749552000000</td>\n",
              "    </tr>\n",
              "    <tr>\n",
              "      <th>3</th>\n",
              "      <td>2003</td>\n",
              "      <td>42717064</td>\n",
              "      <td>4064268000000</td>\n",
              "      <td>380155000000</td>\n",
              "      <td>802266000000</td>\n",
              "    </tr>\n",
              "    <tr>\n",
              "      <th>4</th>\n",
              "      <td>2004</td>\n",
              "      <td>43197684</td>\n",
              "      <td>4482428000000</td>\n",
              "      <td>405612000000</td>\n",
              "      <td>859437000000</td>\n",
              "    </tr>\n",
              "  </tbody>\n",
              "</table>\n",
              "</div>\n",
              "      <button class=\"colab-df-convert\" onclick=\"convertToInteractive('df-c5a88ab0-b6f4-4ae5-9824-de343a3e5ba8')\"\n",
              "              title=\"Convert this dataframe to an interactive table.\"\n",
              "              style=\"display:none;\">\n",
              "        \n",
              "  <svg xmlns=\"http://www.w3.org/2000/svg\" height=\"24px\"viewBox=\"0 0 24 24\"\n",
              "       width=\"24px\">\n",
              "    <path d=\"M0 0h24v24H0V0z\" fill=\"none\"/>\n",
              "    <path d=\"M18.56 5.44l.94 2.06.94-2.06 2.06-.94-2.06-.94-.94-2.06-.94 2.06-2.06.94zm-11 1L8.5 8.5l.94-2.06 2.06-.94-2.06-.94L8.5 2.5l-.94 2.06-2.06.94zm10 10l.94 2.06.94-2.06 2.06-.94-2.06-.94-.94-2.06-.94 2.06-2.06.94z\"/><path d=\"M17.41 7.96l-1.37-1.37c-.4-.4-.92-.59-1.43-.59-.52 0-1.04.2-1.43.59L10.3 9.45l-7.72 7.72c-.78.78-.78 2.05 0 2.83L4 21.41c.39.39.9.59 1.41.59.51 0 1.02-.2 1.41-.59l7.78-7.78 2.81-2.81c.8-.78.8-2.07 0-2.86zM5.41 20L4 18.59l7.72-7.72 1.47 1.35L5.41 20z\"/>\n",
              "  </svg>\n",
              "      </button>\n",
              "      \n",
              "  <style>\n",
              "    .colab-df-container {\n",
              "      display:flex;\n",
              "      flex-wrap:wrap;\n",
              "      gap: 12px;\n",
              "    }\n",
              "\n",
              "    .colab-df-convert {\n",
              "      background-color: #E8F0FE;\n",
              "      border: none;\n",
              "      border-radius: 50%;\n",
              "      cursor: pointer;\n",
              "      display: none;\n",
              "      fill: #1967D2;\n",
              "      height: 32px;\n",
              "      padding: 0 0 0 0;\n",
              "      width: 32px;\n",
              "    }\n",
              "\n",
              "    .colab-df-convert:hover {\n",
              "      background-color: #E2EBFA;\n",
              "      box-shadow: 0px 1px 2px rgba(60, 64, 67, 0.3), 0px 1px 3px 1px rgba(60, 64, 67, 0.15);\n",
              "      fill: #174EA6;\n",
              "    }\n",
              "\n",
              "    [theme=dark] .colab-df-convert {\n",
              "      background-color: #3B4455;\n",
              "      fill: #D2E3FC;\n",
              "    }\n",
              "\n",
              "    [theme=dark] .colab-df-convert:hover {\n",
              "      background-color: #434B5C;\n",
              "      box-shadow: 0px 1px 3px 1px rgba(0, 0, 0, 0.15);\n",
              "      filter: drop-shadow(0px 1px 2px rgba(0, 0, 0, 0.3));\n",
              "      fill: #FFFFFF;\n",
              "    }\n",
              "  </style>\n",
              "\n",
              "      <script>\n",
              "        const buttonEl =\n",
              "          document.querySelector('#df-c5a88ab0-b6f4-4ae5-9824-de343a3e5ba8 button.colab-df-convert');\n",
              "        buttonEl.style.display =\n",
              "          google.colab.kernel.accessAllowed ? 'block' : 'none';\n",
              "\n",
              "        async function convertToInteractive(key) {\n",
              "          const element = document.querySelector('#df-c5a88ab0-b6f4-4ae5-9824-de343a3e5ba8');\n",
              "          const dataTable =\n",
              "            await google.colab.kernel.invokeFunction('convertToInteractive',\n",
              "                                                     [key], {});\n",
              "          if (!dataTable) return;\n",
              "\n",
              "          const docLinkHtml = 'Like what you see? Visit the ' +\n",
              "            '<a target=\"_blank\" href=https://colab.research.google.com/notebooks/data_table.ipynb>data table notebook</a>'\n",
              "            + ' to learn more about interactive tables.';\n",
              "          element.innerHTML = '';\n",
              "          dataTable['output_type'] = 'display_data';\n",
              "          await google.colab.output.renderOutput(dataTable, element);\n",
              "          const docLink = document.createElement('div');\n",
              "          docLink.innerHTML = docLinkHtml;\n",
              "          element.appendChild(docLink);\n",
              "        }\n",
              "      </script>\n",
              "    </div>\n",
              "  </div>\n",
              "  "
            ]
          },
          "metadata": {},
          "execution_count": 1
        }
      ]
    },
    {
      "cell_type": "markdown",
      "source": [
        "Convertimos las distintas variables en series manejables en Python"
      ],
      "metadata": {
        "id": "iT3lMF_RWarp"
      }
    },
    {
      "cell_type": "code",
      "source": [
        "Y=datos['PIB']\n",
        "K=datos['Stock de capital']\n",
        "L=datos['Población']\n",
        "\n",
        "w=datos['Salarios']\n",
        "\n",
        "Fecha=datos['Año']"
      ],
      "metadata": {
        "id": "FUMmhphj9PT0"
      },
      "execution_count": null,
      "outputs": []
    },
    {
      "cell_type": "markdown",
      "source": [
        "Ponemos tanto el producto como el stock de capital en términos per cápita"
      ],
      "metadata": {
        "id": "kcZSU8BrWhW3"
      }
    },
    {
      "cell_type": "code",
      "source": [
        "y=Y/L\n",
        "k=K/L"
      ],
      "metadata": {
        "id": "d3EcEFO0-EfS"
      },
      "execution_count": null,
      "outputs": []
    },
    {
      "cell_type": "markdown",
      "source": [
        "Ahora sacamos el término alpha. Como hemos dicho antes, alpha mide la participación del capital en la economía. Eso significa que 1-alpha mide el nivel de participación del trabajo en la economía. \n",
        "\n",
        "Para calcular esta serie usamos la suma de todos los salarios en España y lo dividimos por su PIB. Matematicamente:\n",
        "\n",
        "$$1-alpha=w/Y$$"
      ],
      "metadata": {
        "id": "ULjfgwB8W4aZ"
      }
    },
    {
      "cell_type": "code",
      "source": [
        "alpha=1-w/Y\n",
        "alpha"
      ],
      "metadata": {
        "id": "9aKWlDL-WyAx",
        "colab": {
          "base_uri": "https://localhost:8080/"
        },
        "outputId": "b9ddc7c9-6d1b-484d-a7c0-e6bcb6a25395"
      },
      "execution_count": null,
      "outputs": [
        {
          "output_type": "execute_result",
          "data": {
            "text/plain": [
              "0     0.511840\n",
              "1     0.519203\n",
              "2     0.521218\n",
              "3     0.526148\n",
              "4     0.528049\n",
              "5     0.530538\n",
              "6     0.529957\n",
              "7     0.526755\n",
              "8     0.508926\n",
              "9     0.503668\n",
              "10    0.508103\n",
              "11    0.516620\n",
              "12    0.531844\n",
              "13    0.539827\n",
              "14    0.539233\n",
              "15    0.540669\n",
              "16    0.545872\n",
              "17    0.547279\n",
              "18    0.544432\n",
              "19    0.535229\n",
              "dtype: float64"
            ]
          },
          "metadata": {},
          "execution_count": 10
        }
      ]
    },
    {
      "cell_type": "markdown",
      "source": [
        "Aquí viene quizá la parte más difícil de entender de todo este proceso. Para alpha no vamos a usar la lista de valores que nos da desde el año 2000 hasta 2019 si no que vamos a usar el promedio de alpha durante este período.\n",
        "\n",
        "Hacemos esto porque el modelo original de Solow asumía que la tasa de participación del capital en el PIB era siempre constante. De forma que tenemos que volver a alpha un número que nunca cambia desde el 2000 hasta el 2019 y este número va a ser su media.\n",
        "\n",
        "Por supuesto hay versiones de este modelo donde alpha no es constante y se emplean sus valores anuales, pero como estamos haciendo la versión original del modelo me voy a mantener fiel a él."
      ],
      "metadata": {
        "id": "zGG2IhJBSHNi"
      }
    },
    {
      "cell_type": "code",
      "source": [
        "#Sacamos la media de alpha del período 2000-2019\n",
        "m_alpha=np.mean(alpha,axis=0)\n",
        "m_alpha"
      ],
      "metadata": {
        "colab": {
          "base_uri": "https://localhost:8080/"
        },
        "id": "3XEWD1m9Ritx",
        "outputId": "913b1098-8596-4b97-cb8d-5127e6fac8e0"
      },
      "execution_count": null,
      "outputs": [
        {
          "output_type": "execute_result",
          "data": {
            "text/plain": [
              "0.5277705167178175"
            ]
          },
          "metadata": {},
          "execution_count": 9
        }
      ]
    },
    {
      "cell_type": "markdown",
      "source": [
        "##**3.2.Despejamos la productividad**\n",
        "\n",
        "Ahora tenemos que convertir nuestras variables en tasas de crecimiento. Para ello vamos a volver toda la función un logaritmo neperiano. Hacemos esto por la regla matemática que dice que el logaritmo de una variable en el período 1 menos el logaritmo de esa misma variable en el período 0 es aproximadamente la tasade crecimiento de esa variable entre los períodos 0 y 1. Veamoslo con el ejemplo.\n",
        "\n",
        "La función del PIB per cápita es:\n",
        "\n",
        "$$y=k^{alpha}*A^{1-alpha}$$\n",
        "\n",
        "Ahora logaritmizamos la ecuacion:\n",
        "$$ln(y)=ln(k^{alpha}*A^{1-alpha})$$\n",
        "\n",
        "Usamos las reglas de cálculo de los logaritmos neperianos para dejar una expresión más adecuada para lo que buscamos:\n",
        "$$ ln(y)=alpha*ln(k)+(1-alpha)*ln(A)$$\n",
        "\n",
        "Despues restamos el logaritmo con el de su período anterior obteniendo la tasa de cambio:\n",
        "\n",
        "$$gk=ln(k_{t})-ln(k_{t-1})$$\n",
        "$$gy=ln(y_{t})-ln(y_{t-1})$$\n",
        "\n",
        "Hecho esto sustituimos en la ecuación principal:\n",
        "\n",
        "$$gy=alpha*gk+(1-alpha)*ga$$"
      ],
      "metadata": {
        "id": "Rkxd98MAXpCg"
      }
    },
    {
      "cell_type": "code",
      "source": [
        "#Tenemos los datos de PIB y de capital así que sacamos gy y gk\n",
        "#La función .diff() sirve para restar de manera sistemática los valores de una lista con sus valores anteriores\n",
        "gy=np.log(y).diff()\n",
        "gk=np.log(k).diff()"
      ],
      "metadata": {
        "id": "zdj-HsloAOcE"
      },
      "execution_count": null,
      "outputs": []
    },
    {
      "cell_type": "markdown",
      "source": [
        "Como tenemos esas dos variables depejamos para obtener ga:\n",
        "\n",
        "$$ga=(gy-alpha*gk)/(1-alpha)$$"
      ],
      "metadata": {
        "id": "wZeM1VygaipV"
      }
    },
    {
      "cell_type": "code",
      "source": [
        "#Hacemos la ecuación para sacar el crecimiento de la productividad, hay que recordar que usamos como alpha la media de esta tasa en el período analizado\n",
        "ga=(gy-(m_alpha*gk))/(1-m_alpha)\n",
        "ga.tail()"
      ],
      "metadata": {
        "colab": {
          "base_uri": "https://localhost:8080/"
        },
        "id": "xW-VxgX1_K83",
        "outputId": "c95ca75c-30ed-48cc-e224-17c99c12bca4"
      },
      "execution_count": null,
      "outputs": [
        {
          "output_type": "execute_result",
          "data": {
            "text/plain": [
              "15    0.069251\n",
              "16    0.036559\n",
              "17    0.054879\n",
              "18    0.028767\n",
              "19    0.023549\n",
              "dtype: float64"
            ]
          },
          "metadata": {},
          "execution_count": 11
        }
      ]
    },
    {
      "cell_type": "markdown",
      "source": [
        "##**3.3.Conclusiones sobre la productividad en España**\n",
        "\n",
        "Con esto ya hemos contabilizado cuanto ha crecido a lo largo de los años la productividad en España. Vamos a visualizarlo:"
      ],
      "metadata": {
        "id": "9VS8LhSpbejj"
      }
    },
    {
      "cell_type": "code",
      "source": [
        "numero_de_grupos=len(ga)\n",
        "indice_barras=np.arange(numero_de_grupos)\n",
        "ancho_barras=0.35\n",
        "\n",
        "fig,(ax0)=plt.subplots(1,1)\n",
        "plt.bar(indice_barras, ga, width=ancho_barras, label='Productividad')\n",
        "plt.bar(indice_barras + ancho_barras, gk, width=ancho_barras, label='Capital' )\n",
        "plt.legend(loc='best')\n",
        "\n",
        "plt.xticks(indice_barras + ancho_barras, Fecha)\n",
        "\n",
        "fig.set_figwidth(12)\n",
        "plt.ylabel('Crecimiento')\n",
        "plt.xlabel('Tiempo')\n",
        "plt.title('Crecimiento de capital vs crecimiento de la productividad')\n",
        "plt.show()"
      ],
      "metadata": {
        "colab": {
          "base_uri": "https://localhost:8080/",
          "height": 295
        },
        "id": "9t2Xb19sFUzZ",
        "outputId": "68a9781e-6f08-4cb2-ea52-cd43c052c11d"
      },
      "execution_count": null,
      "outputs": [
        {
          "output_type": "display_data",
          "data": {
            "text/plain": [
              "<Figure size 864x288 with 1 Axes>"
            ],
            "image/png": "[encoded data removed]"
          },
          "metadata": {
            "needs_background": "light"
          }
        }
      ]
    },
    {
      "cell_type": "markdown",
      "source": [
        "Como podemos ver, antes de la crisis del 2008 la mayoría del crecmiento económico venía dado por el crecimiento del capital lo cual nos cuadra con el boom inmobiliario de esos años. Sin embargo, tras esta crisis el crecimiento se vuelve mucho más compensado. \n",
        "\n",
        "Hay que recordar que esta es la versión más simple de este modelo. En la vida real hay muchas otras variables que determinan el crecimiento de un país. \n",
        "\n",
        "Por ello, si quieres buscar un modelo de Solow más realista recomiendo ir al caso de uso \"Modelo de Solow: Versión avanzada\" donde explico un modelo de tipo Solow diseñado por un investigador coreano que tiene en cuenta variables como tasa de empleo y educación.\n",
        "\n"
      ],
      "metadata": {
        "id": "NOvU8KHPby4c"
      }
    },
    {
      "cell_type": "markdown",
      "source": [
        "#**4.Bibliografía**\n",
        "\n",
        "Introduction to economic growth, Capítulo 2. Charles I. Jones"
      ],
      "metadata": {
        "id": "oaEpmFcB4NxQ"
      }
    }
  ]
}