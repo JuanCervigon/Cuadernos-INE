{
  "nbformat": 4,
  "nbformat_minor": 0,
  "metadata": {
    "colab": {
      "name": "Distribucionescontinuasdeprobabilidad.ipynb",
      "provenance": [],
      "collapsed_sections": [],
      "toc_visible": true
    },
    "kernelspec": {
      "name": "python3",
      "display_name": "Python 3"
    },
    "language_info": {
      "name": "python"
    }
  },
  "cells": [
    {
      "cell_type": "markdown",
      "source": [
        "# **Distribuciones Continuas de Probabilidad**"
      ],
      "metadata": {
        "id": "BBYHFnpeAYUm"
      }
    },
    {
      "cell_type": "markdown",
      "source": [
        "En este esquema veremos una breve introducción de las principales distribuciones continuas de probabilidad que nos encontramos en estadística. En cada una se hace una breve explicación, se muestra su función de densidad y la función de distribución, así como su esperanza y su varianza. Por último, se muestra en código Python cómo se hace para cada distrubución su gráfico, un histograma y un breve ejemplo.\n",
        "Las distribuciones que se explican en este tema son las siguientes:\n",
        "\n",
        "*   Distribución Normal.\n",
        "\n",
        "        1.   Distribución Normal Estandarizada (0,1).\n",
        "        2.   Distribución Normal (μ,σ^2).\n",
        "        3.   Distribuciónes asociadas a la Normal.\n",
        "             3.1 La distribución Chi-Cuadrado.\n",
        "             3.2 La distribución t-Student.\n",
        "             3.3 La distribución F de Snedecor.\n",
        "\n",
        "*   Distribución Gamma.\n",
        "*   Distribución Exponencial.\n",
        "*   Distribución Beta.\n",
        "*   Distribución Uniforme. \n",
        "*   Distribución Log-normal.\n",
        "\n"
      ],
      "metadata": {
        "id": "jotVLD8zfptS"
      }
    },
    {
      "cell_type": "markdown",
      "source": [
        "## **Distribución Normal**"
      ],
      "metadata": {
        "id": "aDcT87yGAgji"
      }
    },
    {
      "cell_type": "markdown",
      "source": [
        "### **Distribución Normal (0,1)** **Estandarizada**."
      ],
      "metadata": {
        "id": "iEs9MpfRxKUz"
      }
    },
    {
      "cell_type": "markdown",
      "source": [
        "La Función de Densidad de la distribución N(0,1) se obtiene haciendo μ=0 y σ=1 en la Función de Densidad de la N(μ, σ).\n",
        "\n"
      ],
      "metadata": {
        "id": "tx2rnxnJRouI"
      }
    },
    {
      "cell_type": "markdown",
      "source": [
        "Una variable continua Z se dice que sigue una distribución Normal de parámetros 0 y 1 si su **función de densidad** viene dada por:"
      ],
      "metadata": {
        "id": "WLdWDZTR4H76"
      }
    },
    {
      "cell_type": "markdown",
      "source": [
        "$\\displaystyle f(z)= \\frac{1}{\\sqrt{2 \\pi}} e^{\\frac{z^2}{2}}$, para todo $z∈ℜ$"
      ],
      "metadata": {
        "id": "MVhfLvkJ4TPu"
      }
    },
    {
      "cell_type": "markdown",
      "source": [
        "La función de distribución será:\\\n",
        "$F(z)=P[Z \\leq z]= \\displaystyle \\int_{- \\infty}^{z}f(z)dz= \\displaystyle \\frac {1}{ \\sqrt{2 \\pi}}\\int_{- \\infty}^{z} \\displaystyle e^{- \\displaystyle \\frac {1}{2}z^{2}}dz$"
      ],
      "metadata": {
        "id": "pIy67wA7R2Nh"
      }
    },
    {
      "cell_type": "markdown",
      "source": [
        "![image.png](data:image/png;base64,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)"
      ],
      "metadata": {
        "id": "yaDKQVOQSJj5"
      }
    },
    {
      "cell_type": "markdown",
      "source": [
        "*Esperanza:*"
      ],
      "metadata": {
        "id": "Oq5c7GeZ4vZf"
      }
    },
    {
      "cell_type": "markdown",
      "source": [
        "$E[Z]=0$"
      ],
      "metadata": {
        "id": "IJnlZ1BE5ATh"
      }
    },
    {
      "cell_type": "markdown",
      "source": [
        "*Varianza:*"
      ],
      "metadata": {
        "id": "yy1DDSwA43Kw"
      }
    },
    {
      "cell_type": "markdown",
      "source": [
        "$Var[Z]=1$"
      ],
      "metadata": {
        "id": "NqTXvcJZ5EBP"
      }
    },
    {
      "cell_type": "markdown",
      "source": [
        "***Propiedades***"
      ],
      "metadata": {
        "id": "6cEdT2DJ91Ga"
      }
    },
    {
      "cell_type": "markdown",
      "source": [
        "\n",
        "\n",
        "*   Curva simétrica respecto al eje OY, f(z)=f(-z).\n",
        "*   Asíntota horizontal en y=0 cuando  $z\\rightarrow∞ \\hspace{1em}ó \\hspace{1em}z\\rightarrow-∞ $.\n",
        "*   En z=1 y en z=-1 hay un punto de inflexión.\n",
        "\n",
        "\n"
      ],
      "metadata": {
        "id": "87_xp9S794tP"
      }
    },
    {
      "cell_type": "markdown",
      "source": [
        "### *Gráfico*"
      ],
      "metadata": {
        "id": "BRdTphRt7dUC"
      }
    },
    {
      "cell_type": "code",
      "source": [
        "from scipy.stats import norm\n",
        "import matplotlib.pyplot as plt\n",
        "fig, ax = plt.subplots(1, 1)\n",
        "mean, var, skew, kurt = norm.stats(moments='mvsk')\n",
        "x = np.linspace(norm.ppf(0.01),\n",
        "                norm.ppf(0.99), 100)\n",
        "ax.plot(x, norm.pdf(x),\n",
        "       'r-', lw=5, alpha=0.6, label='normal')\n",
        "rv = norm()\n",
        "ax.plot(x, rv.pdf(x), 'k-', lw=2, label='')\n",
        "vals = norm.ppf([0.001, 0.5, 0.999])\n",
        "np.allclose([0.001, 0.5, 0.999], norm.cdf(vals))\n",
        "r = norm.rvs(size=1000)\n",
        "ax.hist(r, density=True, histtype='stepfilled', alpha=0.2)\n",
        "ax.legend(loc='best', frameon=False)\n",
        "plt.show()"
      ],
      "metadata": {
        "colab": {
          "base_uri": "https://localhost:8080/",
          "height": 265
        },
        "id": "pJAq3Yoc5zLV",
        "outputId": "26c64d36-f6ab-4e8e-ab9f-2e459f8bdeca"
      },
      "execution_count": null,
      "outputs": [
        {
          "output_type": "display_data",
          "data": {
            "text/plain": [
              "<Figure size 432x288 with 1 Axes>"
            ],
            "image/png": "[encoded data removed]"
          },
          "metadata": {
            "needs_background": "light"
          }
        }
      ]
    },
    {
      "cell_type": "markdown",
      "source": [
        "### *Histograma:*"
      ],
      "metadata": {
        "id": "QtzNjj9L_EwQ"
      }
    },
    {
      "cell_type": "code",
      "source": [
        "import matplotlib.pyplot as plt\n",
        "import numpy as np\n",
        "mean1 = 0\n",
        "sd1 = 1\n",
        "data = np.random.normal(mean1,sd1,10000)\n",
        "print(data[0:10])\n",
        "count, bins, ignored = plt.hist(data,100,density = False)\n",
        "plt.plot(bins, 1/(sd1 * np.sqrt(2 * np.pi)) *\n",
        "         np.exp( - (bins - mean1)**2 / (2 * sd1 **2)),\n",
        "         linewidth =2, color='r')\n",
        "plt.show()"
      ],
      "metadata": {
        "colab": {
          "base_uri": "https://localhost:8080/",
          "height": 300
        },
        "id": "Leua-I9i-_ki",
        "outputId": "33533056-f750-4a3c-e04e-758bdde80e7f"
      },
      "execution_count": null,
      "outputs": [
        {
          "output_type": "stream",
          "name": "stdout",
          "text": [
            "[ 0.22295602  0.71789922  0.78355976  0.64695299  0.23328956 -0.77284441\n",
            "  2.05187223  0.90168415 -0.62838471 -0.55318404]\n"
          ]
        },
        {
          "output_type": "display_data",
          "data": {
            "text/plain": [
              "<Figure size 432x288 with 1 Axes>"
            ],
            "image/png": "[encoded data removed]"
          },
          "metadata": {
            "needs_background": "light"
          }
        }
      ]
    },
    {
      "cell_type": "markdown",
      "source": [
        "### **Distribución Normal $(μ,σ^2)$**"
      ],
      "metadata": {
        "id": "DMFwCY0Y35OI"
      }
    },
    {
      "cell_type": "markdown",
      "source": [
        "La distribución Normal es la distribución más utilizada y la más importante de todas las distribuciones de probabilidad. Con esta distribución se explican una cantidad de fenómenos que se modelizan adecuadamente con esta distribución."
      ],
      "metadata": {
        "id": "DbBV4-IPAref"
      }
    },
    {
      "cell_type": "markdown",
      "source": [
        "Una variable aleatoria continua $X$ se dice que tiene una distribución Normal de parámetros $μ$ y $σ$ si su función de densidad viene dada por:"
      ],
      "metadata": {
        "id": "MZQxmli-CYi-"
      }
    },
    {
      "cell_type": "markdown",
      "source": [
        "$\\displaystyle f(x)= \\frac{1}{\\sigma \\sqrt{2 \\pi}} e^{\\frac{-(x - \\mu)^2}{2\\sigma^2}}$\n"
      ],
      "metadata": {
        "id": "XjmWESWvHlq0"
      }
    },
    {
      "cell_type": "markdown",
      "source": [
        "Esta función de densidad de probabilidad fue descubierta por Gauss al estudiar el comportamiento de los procesos aleatorios. "
      ],
      "metadata": {
        "id": "PGqB_SVReAby"
      }
    },
    {
      "cell_type": "markdown",
      "source": [
        "***Propiedades***:"
      ],
      "metadata": {
        "id": "pDGWINEkCtK-"
      }
    },
    {
      "cell_type": "markdown",
      "source": [
        "\n",
        "\n",
        "*   La función tiene una asíntota horizontal(y=0) cuando $x\\rightarrow∞ \\hspace{1em}ó \\hspace{1em}x\\rightarrow-∞ $\n",
        "*   La curva es simétrica respecto al eje vertival. $x=μ$. Si $x<μ$ la curva es creciente y si $x>μ$ la curva es decreciente.\n",
        "*   La función tiene dos puntos de inflexión, en $x=μ-σ$  y en $x=μ+σ$.\n",
        "\n",
        "\n"
      ],
      "metadata": {
        "id": "rBifP4W0DeFZ"
      }
    },
    {
      "cell_type": "markdown",
      "source": [
        "**Esperanza:**"
      ],
      "metadata": {
        "id": "k6SPmb0oF_HJ"
      }
    },
    {
      "cell_type": "markdown",
      "source": [
        "$E[X]=μ$"
      ],
      "metadata": {
        "id": "2twM4NzJGInn"
      }
    },
    {
      "cell_type": "markdown",
      "source": [
        "**Varianza:**"
      ],
      "metadata": {
        "id": "3xM5xji8GFgu"
      }
    },
    {
      "cell_type": "markdown",
      "source": [
        "$Var[X]=σ^2$"
      ],
      "metadata": {
        "id": "2SvvOFiTGOva"
      }
    },
    {
      "cell_type": "markdown",
      "source": [
        "### Función de distribución:"
      ],
      "metadata": {
        "id": "wdSJwc7jGV1Y"
      }
    },
    {
      "cell_type": "markdown",
      "source": [
        "La función de distribución de una variable $\\mathcal{N}(μ,σ^2)$ vine dado por:"
      ],
      "metadata": {
        "id": "mEsAuVYNIXYr"
      }
    },
    {
      "cell_type": "markdown",
      "source": [
        "$F(x)=P[X\\leq\n",
        "x]=\n",
        "\\frac{1}{\\sqrt{2 \\pi}}\\int_{-\\infty}^{x}  \\!\\frac{e^\\frac{-1}{2}({\\frac{x - \\mu}{\\sigma}})^2}{\\sigma}    dx=\\frac{1}{\\sqrt{2 \\pi}\\sigma}\\int_{-\\infty}^{x}  \\!{e^\\frac{-1}{2}(\\frac{x - \\mu}{σ})^2} dx $$\\hspace{1em} $$\\hspace{1em} x\\in\\mathbb R.$"
      ],
      "metadata": {
        "id": "ScTvUteF2MGf"
      }
    },
    {
      "cell_type": "markdown",
      "source": [
        "Esta función de distribución coincide con el área que deja la función de densidad entre $x$ y $-\\infty$."
      ],
      "metadata": {
        "id": "QRt8vsTEcPvV"
      }
    },
    {
      "cell_type": "markdown",
      "source": [
        "![image.png](data:image/png;base64,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)"
      ],
      "metadata": {
        "id": "T7A5vSX1dRCy"
      }
    },
    {
      "cell_type": "markdown",
      "source": [
        "### Tipificación de una variable Normal:"
      ],
      "metadata": {
        "id": "43qHkqyQGcqA"
      }
    },
    {
      "cell_type": "markdown",
      "source": [
        "Si consideramos una variable aleatoria que sigue una distribución Normal $X \\sim\\mathcal{N}(μ,σ^2)$, la variable aleatoriza ${Z}$ definida como:"
      ],
      "metadata": {
        "id": "8c0u0mCYAefN"
      }
    },
    {
      "cell_type": "markdown",
      "source": [
        "$Z=\\frac{X-μ}{σ}$"
      ],
      "metadata": {
        "id": "z_5lwPvVCXoR"
      }
    },
    {
      "cell_type": "markdown",
      "source": [
        " siendo $X$ una variable aleatoria X tipificada que sigue una distribución $N(0,1)$.\\\n",
        "En resumen, la **tipificación** es el procedimiento que permita pasar de cualquier distribución normal a la distribución N(0,1)."
      ],
      "metadata": {
        "id": "1kjIN6X3Cb-E"
      }
    },
    {
      "cell_type": "markdown",
      "source": [
        "\n",
        "\n",
        "*   No depende de ningún parámetro\n",
        "\n",
        "*   Su media es 0, su varianza es 1 y su desviación típica es 1.\n",
        "\n",
        "*  La curva  f(x)  es simétrica respecto del eje OY. Tiene un máximo en este eje (para z>0 la curva es decreciente y para z<0 es creciente).\n",
        "\n",
        "*  Tiene dos puntos de inflexión en   z=1 y  z = -1\n",
        "\n",
        "\n"
      ],
      "metadata": {
        "id": "RGgODxplc2VS"
      }
    },
    {
      "cell_type": "markdown",
      "source": [
        "###*Gráfico*"
      ],
      "metadata": {
        "id": "miQZxlTCFtm3"
      }
    },
    {
      "cell_type": "code",
      "source": [
        "from numpy import random\n",
        "import matplotlib.pyplot as plt\n",
        "import seaborn as sns\n",
        "\n",
        "sns.distplot(random.normal(size=10000), hist=True)\n",
        "\n",
        "plt.show()"
      ],
      "metadata": {
        "colab": {
          "base_uri": "https://localhost:8080/",
          "height": 320
        },
        "id": "uITr-t7VE2y3",
        "outputId": "fa593232-d322-48ee-c187-500397ca0ef5"
      },
      "execution_count": null,
      "outputs": [
        {
          "output_type": "stream",
          "name": "stderr",
          "text": [
            "/usr/local/lib/python3.7/dist-packages/seaborn/distributions.py:2619: FutureWarning: `distplot` is a deprecated function and will be removed in a future version. Please adapt your code to use either `displot` (a figure-level function with similar flexibility) or `histplot` (an axes-level function for histograms).\n",
            "  warnings.warn(msg, FutureWarning)\n"
          ]
        },
        {
          "output_type": "display_data",
          "data": {
            "text/plain": [
              "<Figure size 432x288 with 1 Axes>"
            ],
            "image/png": "[encoded data removed]"
          },
          "metadata": {
            "needs_background": "light"
          }
        }
      ]
    },
    {
      "cell_type": "markdown",
      "source": [
        "### *Histograma*"
      ],
      "metadata": {
        "id": "9VDWor4zF1c2"
      }
    },
    {
      "cell_type": "code",
      "execution_count": null,
      "metadata": {
        "colab": {
          "base_uri": "https://localhost:8080/",
          "height": 294
        },
        "id": "otkPxYHiAOuI",
        "outputId": "8e347fe9-5a85-4346-b202-6423dc3f6335"
      },
      "outputs": [
        {
          "output_type": "display_data",
          "data": {
            "text/plain": [
              "<Figure size 432x288 with 1 Axes>"
            ],
            "image/png": "[encoded data removed]"
          },
          "metadata": {
            "needs_background": "light"
          }
        }
      ],
      "source": [
        "import numpy as np\n",
        "import matplotlib.pyplot as plt\n",
        "from scipy import stats\n",
        "aleat = normal.rvs(10000) # genera datos aleatorios\n",
        "cuenta, cajas, ignorar = plt.hist(aleat, 20)\n",
        "plt.ylabel('frequencia')\n",
        "plt.xlabel('valores')\n",
        "plt.title('Histograma Normal')\n",
        "plt.show()"
      ]
    },
    {
      "cell_type": "markdown",
      "source": [
        "### *Ejemplo*"
      ],
      "metadata": {
        "id": "x0XbqBeyEP7-"
      }
    },
    {
      "cell_type": "code",
      "source": [
        "from numpy import random\n",
        "\n",
        "x = random.normal(size=(2, 3)) #genera una distribución normal aleatoria de tamaño 2x3.\n",
        "\n",
        "print(x)"
      ],
      "metadata": {
        "colab": {
          "base_uri": "https://localhost:8080/"
        },
        "id": "VlZ3j7bTEWKU",
        "outputId": "af83d214-85f4-48cb-82c5-5ae56dcaac15"
      },
      "execution_count": null,
      "outputs": [
        {
          "output_type": "stream",
          "name": "stdout",
          "text": [
            "[[ 0.91266988 -0.69981053 -0.59118228]\n",
            " [-0.15620404 -0.42794381 -0.21731973]]\n"
          ]
        }
      ]
    },
    {
      "cell_type": "markdown",
      "source": [
        "## Distribuciones asociadas a la Normal "
      ],
      "metadata": {
        "id": "f7Yszy92G6OJ"
      }
    },
    {
      "cell_type": "markdown",
      "source": [
        "### La distribución **Chi-Cuadrado** $(χ)$"
      ],
      "metadata": {
        "id": "0Y4IluPM5B-m"
      }
    },
    {
      "cell_type": "markdown",
      "source": [
        "Una variable aleatoria continua $X$ sigue una distribución $χ^2$ con $n$ grados de libertad si, dadas $n$ variables aleatorias Normales (0,1) e independientes, la variable aleatoria $X$ es la suma de los cuadrados de las n variables aleatorias anteriores:"
      ],
      "metadata": {
        "id": "_ub3m-xL5khQ"
      }
    },
    {
      "cell_type": "markdown",
      "source": [
        "$X=\\sum_{k=1}^{n}Z_{k}^{2}\\simχ^2(n)$"
      ],
      "metadata": {
        "id": "CFodOGaT6CVo"
      }
    },
    {
      "cell_type": "markdown",
      "source": [
        "puede tomar cualquier valor positivo."
      ],
      "metadata": {
        "id": "eKlBwc_I6xWE"
      }
    },
    {
      "cell_type": "markdown",
      "source": [
        "La **función de densidad** es:\\\n",
        "$f(x)=\\frac{1}{2^{n/2}\\Gamma\\frac{n}{2}}x^{n/2-1}e^{-x/2}$; para todo x>0 con n ∈ $Ζ^+$"
      ],
      "metadata": {
        "id": "BssU-6O063En"
      }
    },
    {
      "cell_type": "markdown",
      "source": [
        "**Esperanza:**"
      ],
      "metadata": {
        "id": "XBK5w7IY8JBo"
      }
    },
    {
      "cell_type": "markdown",
      "source": [
        "$E[X]=n$"
      ],
      "metadata": {
        "id": "5aQaizf58VqP"
      }
    },
    {
      "cell_type": "markdown",
      "source": [
        "**Varianza:**"
      ],
      "metadata": {
        "id": "RmeZQUh08fq8"
      }
    },
    {
      "cell_type": "markdown",
      "source": [
        "$Var(X)=2n$"
      ],
      "metadata": {
        "id": "EBEcD3CE8r8o"
      }
    },
    {
      "cell_type": "markdown",
      "source": [
        "### Gráfico"
      ],
      "metadata": {
        "id": "Nnvt24GuFPAQ"
      }
    },
    {
      "cell_type": "code",
      "source": [
        "import numpy as np\n",
        "import matplotlib.pyplot as plt\n",
        "from scipy import stats\n",
        "df = 15 # parametro de forma.\n",
        "chi2 = stats.chi2(df)\n",
        "x = np.linspace(chi2.ppf(0.01),\n",
        "                chi2.ppf(0.99), 100)\n",
        "fp = chi2.pdf(x) # Función de Probabilidad\n",
        "plt.plot(x, fp)\n",
        "plt.title('Distribución Chi cuadrado')\n",
        "plt.ylabel('probabilidad')\n",
        "plt.xlabel('valores')\n",
        "plt.show()"
      ],
      "metadata": {
        "colab": {
          "base_uri": "https://localhost:8080/",
          "height": 294
        },
        "id": "QTu7_v_4E66h",
        "outputId": "050d5583-4178-44a7-8974-5128c6357457"
      },
      "execution_count": null,
      "outputs": [
        {
          "output_type": "display_data",
          "data": {
            "text/plain": [
              "<Figure size 432x288 with 1 Axes>"
            ],
            "image/png": "[encoded data removed]"
          },
          "metadata": {
            "needs_background": "light"
          }
        }
      ]
    },
    {
      "cell_type": "markdown",
      "source": [
        "### Histograma"
      ],
      "metadata": {
        "id": "yf43DKbSFKWM"
      }
    },
    {
      "cell_type": "code",
      "source": [
        "import numpy as np\n",
        "import matplotlib.pyplot as plt\n",
        "from scipy import stats\n",
        "aleatorios = chi2.rvs(1000) # genera numeros aleatorios\n",
        "cuenta, cajas, ignorar = plt.hist(aleatorios, 40)\n",
        "plt.ylabel('frecuencia')\n",
        "plt.xlabel('valores')\n",
        "plt.title('Histograma Chi cuadrado')\n",
        "plt.show()"
      ],
      "metadata": {
        "colab": {
          "base_uri": "https://localhost:8080/",
          "height": 294
        },
        "id": "Vsh3bQOyFAJZ",
        "outputId": "511acc78-8aa9-44bc-f2be-c877209833ff"
      },
      "execution_count": null,
      "outputs": [
        {
          "output_type": "display_data",
          "data": {
            "text/plain": [
              "<Figure size 432x288 with 1 Axes>"
            ],
            "image/png": "[encoded data removed]"
          },
          "metadata": {
            "needs_background": "light"
          }
        }
      ]
    },
    {
      "cell_type": "markdown",
      "source": [
        "### Ejemplo"
      ],
      "metadata": {
        "id": "mSlgbLUlFoU1"
      }
    },
    {
      "cell_type": "code",
      "source": [
        "from numpy import random\n",
        "#se extrae una muestra para la distribución de chi cuadrado con 2 grados de libertad y con tamaño 2x3:\n",
        "\n",
        "x = random.chisquare(df=2, size=(2, 3))\n",
        "\n",
        "print(x)"
      ],
      "metadata": {
        "colab": {
          "base_uri": "https://localhost:8080/"
        },
        "id": "oxfvX-bRFo3w",
        "outputId": "43376894-8bb2-4c48-825e-437746a0f49d"
      },
      "execution_count": null,
      "outputs": [
        {
          "output_type": "stream",
          "name": "stdout",
          "text": [
            "[[0.36255399 0.44294852 0.13253214]\n",
            " [0.8769218  1.37045878 3.20692537]]\n"
          ]
        }
      ]
    },
    {
      "cell_type": "markdown",
      "source": [
        "### La distribución t-de Student"
      ],
      "metadata": {
        "id": "USMvmR9BGTKg"
      }
    },
    {
      "cell_type": "markdown",
      "source": [
        "La Distribución t de Student es utilizada para saber si la diferencia entre las medias de dos muestras es estadísticamente significativa.\\\n",
        "Sea una variable aleatoria $Z ∼ N(0,1)$ y una variable aleatoria $Y ∼ χ^2(n)$ siendo ambas independientes, se define la variable aleatoria $T$ como:\\\n",
        "$T=\\frac{Z}{\\sqrt{\\frac{Y}{n}}}$\n",
        "\n",
        "\n"
      ],
      "metadata": {
        "id": "0BLw-CzUGZeP"
      }
    },
    {
      "cell_type": "markdown",
      "source": [
        "donde $T$ puede tomar cualquier valor real, y que sigue una distribución t de Student con los mismos grados de libertad que la variable $Y(T∼t(n))$. \\\n",
        "\n",
        "Una de las características de la función de densidad es que es simétrica respecto al eje OY $(t_{n,1-p},-t_{n,p})$\n",
        "\n",
        "\n"
      ],
      "metadata": {
        "id": "CfJewcq2HGTS"
      }
    },
    {
      "cell_type": "markdown",
      "source": [
        "**Esperanza**"
      ],
      "metadata": {
        "id": "9jJD1y2WJbbE"
      }
    },
    {
      "cell_type": "markdown",
      "source": [
        "$E[X]=0$"
      ],
      "metadata": {
        "id": "fVr6Kg3BJfYa"
      }
    },
    {
      "cell_type": "markdown",
      "source": [
        "**Varianza:**"
      ],
      "metadata": {
        "id": "u4tr9zoQJfOW"
      }
    },
    {
      "cell_type": "markdown",
      "source": [
        "$Var[X]=\\frac{n}{n-2}$"
      ],
      "metadata": {
        "id": "zp8CPsmqJfIM"
      }
    },
    {
      "cell_type": "markdown",
      "source": [
        "### Gráfico"
      ],
      "metadata": {
        "id": "fE1QIdxGKQq_"
      }
    },
    {
      "cell_type": "code",
      "source": [
        "import numpy as np\n",
        "import matplotlib.pyplot as plt\n",
        "from scipy import stats\n",
        "df = 50 # parametro de forma.\n",
        "t = stats.t(df)\n",
        "x = np.linspace(t.ppf(0.01),\n",
        "                t.ppf(0.99), 100)\n",
        "fp = t.pdf(x) # Función de Probabilidad\n",
        "plt.plot(x, fp)\n",
        "plt.title('Distribución t de Student')\n",
        "plt.ylabel('probabilidad')\n",
        "plt.xlabel('valores')\n",
        "plt.show()"
      ],
      "metadata": {
        "colab": {
          "base_uri": "https://localhost:8080/",
          "height": 294
        },
        "id": "Ogxz4zFuKPI_",
        "outputId": "6e1a264d-d9d3-48ab-f60e-5dff0ebf3ab9"
      },
      "execution_count": null,
      "outputs": [
        {
          "output_type": "display_data",
          "data": {
            "text/plain": [
              "<Figure size 432x288 with 1 Axes>"
            ],
            "image/png": "[encoded data removed]"
          },
          "metadata": {
            "needs_background": "light"
          }
        }
      ]
    },
    {
      "cell_type": "markdown",
      "source": [
        "### *Histograma*"
      ],
      "metadata": {
        "id": "n3ThNsslLs2v"
      }
    },
    {
      "cell_type": "code",
      "source": [
        "import numpy as np\n",
        "import matplotlib.pyplot as plt\n",
        "from scipy import stats\n",
        "aleat = t.rvs(10000) \n",
        "cuenta, cajas, ignorar = plt.hist(aleat, 20)\n",
        "plt.ylabel('frecuencia')\n",
        "plt.xlabel('valores')\n",
        "plt.title('Histograma t de Student')\n",
        "plt.show()"
      ],
      "metadata": {
        "colab": {
          "base_uri": "https://localhost:8080/",
          "height": 294
        },
        "id": "EQANtW-3KXw5",
        "outputId": "4f8c7233-d73e-4031-a90d-ea7645a4aca1"
      },
      "execution_count": null,
      "outputs": [
        {
          "output_type": "display_data",
          "data": {
            "text/plain": [
              "<Figure size 432x288 with 1 Axes>"
            ],
            "image/png": "[encoded data removed]"
          },
          "metadata": {
            "needs_background": "light"
          }
        }
      ]
    },
    {
      "cell_type": "markdown",
      "source": [
        "### *Ejemplo*"
      ],
      "metadata": {
        "id": "UAB53nmMLpQZ"
      }
    },
    {
      "cell_type": "code",
      "source": [
        "import numpy as np  \n",
        "from scipy.stats import t  \n",
        "    \n",
        "numargs = t .numargs  \n",
        "a, b = 4.22, 3.28\n",
        "rv = t(a, b) \n",
        "q = np.arange(0.01, 1, 0.1)  #q=cuantil\n",
        "  \n",
        "R = t.rvs(a, b)  \n",
        "print (\"Variable aleatoria : \\n\", R)  \n",
        "  \n",
        "R = t.pdf(a, b, q)  \n",
        "print (\"\\nDistribución de probabilidad : \\n\", R) "
      ],
      "metadata": {
        "colab": {
          "base_uri": "https://localhost:8080/"
        },
        "id": "-5tKoOJ3K5sm",
        "outputId": "1e7a4193-4e9b-46c8-8421-27d03cbfa663"
      },
      "execution_count": null,
      "outputs": [
        {
          "output_type": "stream",
          "name": "stdout",
          "text": [
            "Variable aleatoria : \n",
            " 3.766314850787007\n",
            "\n",
            "Distribución de probabilidad : \n",
            " [0.00695848 0.00758713 0.00828443 0.00905905 0.00992088 0.0108812\n",
            " 0.01195292 0.01315081 0.01449177 0.01599515]\n"
          ]
        }
      ]
    },
    {
      "cell_type": "markdown",
      "source": [
        "### La distribución F de Snedecor."
      ],
      "metadata": {
        "id": "-6hDApiB4EZb"
      }
    },
    {
      "cell_type": "markdown",
      "source": [
        "Es una distribución de probabilidad de gran aplicación en la inferencia estadística , fundamentalmente en la contrastación de la igualdad de varianzas de dos poblaciones normales, y , fundamentalmente en el análisis de la varianza , técnica que permite detectar la existencia o inexistencia de diferencias significativas entre muestras diferentes y que es, por tanto esencial , en todos aquellos casos en los que se quiere investigar la relevancia de un factor en el desarrollo y naturaleza de una característica.\n",
        "\n"
      ],
      "metadata": {
        "id": "NG_OGIOzQVPV"
      }
    },
    {
      "cell_type": "markdown",
      "source": [
        "Sean las variables aleatorias $X\\simχ^2(m)$ e $Y∼\\chi^2(n)$ independientes, entonces $F$ que es una variable aleatoria se define como:"
      ],
      "metadata": {
        "id": "Z5aYRtND4OPE"
      }
    },
    {
      "cell_type": "markdown",
      "source": [
        "$F=\\frac{X/m}{Y/n}$\n"
      ],
      "metadata": {
        "id": "IdOHw3_s4xyo"
      }
    },
    {
      "cell_type": "markdown",
      "source": [
        "donde F toma cualquier valor real positivo y que sigue una distribución F de Snedecord de parámetros n y m."
      ],
      "metadata": {
        "id": "PPy56TEp7qiy"
      }
    },
    {
      "cell_type": "markdown",
      "source": [
        "**Esperanza:**"
      ],
      "metadata": {
        "id": "d_vdqxIBsCZF"
      }
    },
    {
      "cell_type": "markdown",
      "source": [
        "$E[F]= \\frac{n}{n-2}$ para n>2."
      ],
      "metadata": {
        "id": "kDd0XmrFsGME"
      }
    },
    {
      "cell_type": "markdown",
      "source": [
        "**Varianza**:"
      ],
      "metadata": {
        "id": "5iYOHb3MsTkm"
      }
    },
    {
      "cell_type": "markdown",
      "source": [
        "$Var[F]=\\frac{n^2(2m+2n-4)}{m(n-2)^2(n-4)}$"
      ],
      "metadata": {
        "id": "1Av5ZOITspxd"
      }
    },
    {
      "cell_type": "markdown",
      "source": [
        "### *Gráfico:*"
      ],
      "metadata": {
        "id": "wHYomHc7vy_g"
      }
    },
    {
      "cell_type": "code",
      "source": [
        "import numpy as np\n",
        "from scipy.stats import f, norm\n",
        "import matplotlib.pyplot as plt\n",
        "\n",
        "# primera función\n",
        "rv1 = f(dfn=3, dfd=15, loc=0, scale=1)\n",
        "x = np.linspace(rv1.ppf(0.0001), rv1.ppf(0.9999), 100)\n",
        "y = rv1.pdf(x) \n",
        "\n",
        "plt.xlim(0,5)\n",
        "plt.plot(x,y, 'b-')\n",
        "\n",
        "# segunda función\n",
        "rv2 = f(dfn=10, dfd=50, loc=0, scale=1)\n",
        "x = np.linspace(rv2.ppf(0.0001), rv2.ppf(0.9999), 100)\n",
        "y = rv2.pdf(x) \n",
        "\n",
        "plt.plot(x,y, 'r--')"
      ],
      "metadata": {
        "colab": {
          "base_uri": "https://localhost:8080/",
          "height": 282
        },
        "id": "iADVPT-6vQ2v",
        "outputId": "5147f735-1bdb-47bc-8e70-c144d197899d"
      },
      "execution_count": null,
      "outputs": [
        {
          "output_type": "execute_result",
          "data": {
            "text/plain": [
              "[<matplotlib.lines.Line2D at 0x7f9535900090>]"
            ]
          },
          "metadata": {},
          "execution_count": 27
        },
        {
          "output_type": "display_data",
          "data": {
            "text/plain": [
              "<Figure size 432x288 with 1 Axes>"
            ],
            "image/png": "[encoded data removed]"
          },
          "metadata": {
            "needs_background": "light"
          }
        }
      ]
    },
    {
      "cell_type": "markdown",
      "source": [
        "### *Histograma*"
      ],
      "metadata": {
        "id": "XBC5u0JHv293"
      }
    },
    {
      "cell_type": "code",
      "source": [
        "from scipy.stats import f\n",
        "import numpy as np\n",
        "import matplotlib.pyplot as plt\n",
        "fig, ax = plt.subplots(1, 1)\n",
        "dfn, dfd = 29, 18\n",
        "mean, var, skew, kurt = f.stats(dfn, dfd, moments='mvsk')\n",
        "x = np.linspace(f.ppf(0.01, dfn, dfd),\n",
        "                f.ppf(0.99, dfn, dfd), 100)\n",
        "ax.plot(x, f.pdf(x, dfn, dfd),\n",
        "       'r-', lw=5, alpha=0.6, label='f pdf')\n",
        "rv = f(dfn, dfd)\n",
        "ax.plot(x, rv.pdf(x), 'k-', lw=2, label='frozen pdf')\n",
        "vals = f.ppf([0.001, 0.5, 0.999], dfn, dfd)\n",
        "np.allclose([0.001, 0.5, 0.999], f.cdf(vals, dfn, dfd))\n",
        "r = f.rvs(dfn, dfd, size=1000)\n",
        "ax.hist(r, density=True, histtype='stepfilled', alpha=0.2)\n",
        "ax.legend(loc='best', frameon=False)\n",
        "plt.show()"
      ],
      "metadata": {
        "colab": {
          "base_uri": "https://localhost:8080/",
          "height": 265
        },
        "id": "ETwRfk0JuUlG",
        "outputId": "f2577e41-3916-4f6b-fc9f-fbfe5c38e9f2"
      },
      "execution_count": null,
      "outputs": [
        {
          "output_type": "display_data",
          "data": {
            "text/plain": [
              "<Figure size 432x288 with 1 Axes>"
            ],
            "image/png": "[encoded data removed]"
          },
          "metadata": {
            "needs_background": "light"
          }
        }
      ]
    },
    {
      "cell_type": "markdown",
      "source": [
        "### *Ejemplo*"
      ],
      "metadata": {
        "id": "yU1ZREAQv6Ui"
      }
    },
    {
      "cell_type": "code",
      "source": [
        "a = 0.05  # nivel de significación\n",
        "\n",
        "x = np.random.normal(size=1)\n",
        "\n",
        "rv1 = f(dfn=3, dfd=20, loc=0, scale=1)\n",
        "rv2 = f(dfn=10, dfd=50, loc=0, scale=1)\n",
        "\n",
        "p1 = rv1.sf(x)\n",
        "if p1 < a:\n",
        "    print('Corta F1 en: ', x, p1)\n",
        "else:\n",
        "    print('No corta F1', x, p1)\n",
        "    \n",
        "p2 = rv2.sf(x)\n",
        "if p2 < a:\n",
        "    print('Corta a F2 en: ', x, p2)\n",
        "else:\n",
        "    print('No corta F2', x, p2)"
      ],
      "metadata": {
        "colab": {
          "base_uri": "https://localhost:8080/"
        },
        "id": "P7iNdjdVuxC1",
        "outputId": "bef8b212-ae46-4a83-e8df-1627fc6db05f"
      },
      "execution_count": null,
      "outputs": [
        {
          "output_type": "stream",
          "name": "stdout",
          "text": [
            "No corta F1 [-0.31941831] [1.]\n",
            "No corta F2 [-0.31941831] [1.]\n"
          ]
        }
      ]
    },
    {
      "cell_type": "markdown",
      "source": [
        "## Distribución Gamma"
      ],
      "metadata": {
        "id": "VRqCL0X44nlf"
      }
    },
    {
      "cell_type": "markdown",
      "source": [
        "Una variable aleatoria continua $X$ se dice que sigue una distribución Gamma de parámetros $α$ y $θ$ si su función de densidad viene dada por:"
      ],
      "metadata": {
        "id": "6bCDS_R8AX75"
      }
    },
    {
      "cell_type": "markdown",
      "source": [
        "$f(x)=\\frac{1}{Γ(α)θ^α}x^{α-1}e^{\\frac{-x}{\\theta}}$, para todo $x∈ℜ^+$"
      ],
      "metadata": {
        "id": "W-Vp0APoA8Y-"
      }
    },
    {
      "cell_type": "markdown",
      "source": [
        "donde $α>0$ es un parámetro de forma.\\\n",
        "$θ>0$ es el tiempo promedio de dos ocurrencias consecutivas."
      ],
      "metadata": {
        "id": "Aw6bw33WBh7Q"
      }
    },
    {
      "cell_type": "markdown",
      "source": [
        "### *Gráfico*"
      ],
      "metadata": {
        "id": "RtaOA5uvCMXm"
      }
    },
    {
      "cell_type": "code",
      "source": [
        "import matplotlib.pyplot as plt #función de probabilidad\n",
        "from scipy.stats import gamma\n",
        "from scipy import stats\n",
        "a = 2.6 # parametro de forma.\n",
        "gamma = stats.gamma(a)\n",
        "x = np.linspace(gamma.ppf(0.01),\n",
        "                gamma.ppf(0.99), 100)\n",
        "fp = gamma.pdf(x) # Función de Probabilidad\n",
        "plt.plot(x, fp)\n",
        "plt.title('Distribución Gamma')\n",
        "plt.ylabel('probabilidad')\n",
        "plt.xlabel('valores')\n",
        "plt.show()"
      ],
      "metadata": {
        "colab": {
          "base_uri": "https://localhost:8080/",
          "height": 295
        },
        "id": "Bps26Z7NCP8Y",
        "outputId": "fa580151-6f3a-40e0-ac3d-9a9e9bf7dd72"
      },
      "execution_count": null,
      "outputs": [
        {
          "output_type": "display_data",
          "data": {
            "text/plain": [
              "<Figure size 432x288 with 1 Axes>"
            ],
            "image/png": "[encoded data removed]"
          },
          "metadata": {
            "needs_background": "light"
          }
        }
      ]
    },
    {
      "cell_type": "markdown",
      "source": [
        "### *Histograma*"
      ],
      "metadata": {
        "id": "AmUcQlicCs8C"
      }
    },
    {
      "cell_type": "code",
      "source": [
        "aleat = gamma.rvs(10000) # genera aleatorios\n",
        "cuenta, cajas, ignorar = plt.hist(aleat, 25)\n",
        "plt.ylabel('frecuencia')\n",
        "plt.xlabel('valores')\n",
        "plt.title('Histograma Gamma')\n",
        "plt.show()"
      ],
      "metadata": {
        "id": "4QNqMF2m5Cuy",
        "colab": {
          "base_uri": "https://localhost:8080/",
          "height": 295
        },
        "outputId": "833ac4eb-b268-4174-d06d-84f9839ca7d5"
      },
      "execution_count": null,
      "outputs": [
        {
          "output_type": "display_data",
          "data": {
            "text/plain": [
              "<Figure size 432x288 with 1 Axes>"
            ],
            "image/png": "[encoded data removed]"
          },
          "metadata": {
            "needs_background": "light"
          }
        }
      ]
    },
    {
      "cell_type": "markdown",
      "source": [
        "### *Ejemplo*"
      ],
      "metadata": {
        "id": "gr4QQBPHrkaY"
      }
    },
    {
      "cell_type": "code",
      "source": [
        "import numpy as np\n",
        "q = np.arange (0.01, 1, 0.1)\n",
        "   \n",
        "# Variables aleatorias\n",
        "R = gamma.rvs(a, scale = 2,  size = 10)\n",
        "print (\"Variables aleatorias : \\n\", R)\n",
        "  \n",
        "# Función de distribución\n",
        "R = gamma.pdf(a, q, loc = 0, scale = 1)\n",
        "print (\"\\nFunción de Probabilidad : \\n\", R)"
      ],
      "metadata": {
        "colab": {
          "base_uri": "https://localhost:8080/"
        },
        "id": "jFXWU74Yq6Nu",
        "outputId": "daeb10c9-2632-465f-933d-5a627494a8a0"
      },
      "execution_count": null,
      "outputs": [
        {
          "output_type": "stream",
          "name": "stdout",
          "text": [
            "Variables aleatorias : \n",
            " [1.32119458 1.59601384 0.91554782 2.98888907 1.49394234 8.27668515\n",
            " 1.47841275 3.80096639 7.23911054 2.77789926]\n",
            "\n",
            "Función de Probabilidad : \n",
            " [0.00069225 0.00856261 0.0181228  0.02928923 0.04193605 0.05590032\n",
            " 0.07098807 0.08698082 0.10364246 0.12072607]\n"
          ]
        }
      ]
    },
    {
      "cell_type": "markdown",
      "source": [
        "## Distribución Exponencial"
      ],
      "metadata": {
        "id": "7vsxoQzB49Zz"
      }
    },
    {
      "cell_type": "markdown",
      "source": [
        "Dentro de la distribución Gamma y cuando $α=1$, tenemos la distribución exponencial de parámetro $θ>0$."
      ],
      "metadata": {
        "id": "t0zdAeDRrpri"
      }
    },
    {
      "cell_type": "markdown",
      "source": [
        "La **distribución exponencial** sirve para saber el tiempo hasta que ocurre  el próximo evento. La distribución exponencial tiene una gran utilidad práctica ya que podemos considerarla como un modelo adecuado para la distribución de probabilidad del tiempo de espera entre dos hechos que sigan un proceso de Poisson. De hecho la distribución exponencial puede derivarse de un proceso experimental de Poisson con las mismas características que las que enunciábamos al estudiar la distribución de Poisson, pero tomando como variable aleatoria.\\\n",
        "Por tanto, la variable aleatoria será continua."
      ],
      "metadata": {
        "id": "qIMINPT_s0rT"
      }
    },
    {
      "cell_type": "markdown",
      "source": [
        "*Función de densidad:*"
      ],
      "metadata": {
        "id": "C4FcvcXDuQjD"
      }
    },
    {
      "cell_type": "markdown",
      "source": [
        "$f(x) ={ \\alpha} e^{{-x}{\\alpha}}$⟶ $x⇒Exp(α)$"
      ],
      "metadata": {
        "id": "fhUlMnScsOtB"
      }
    },
    {
      "cell_type": "markdown",
      "source": [
        "*Función de distribución*:\n",
        "\n"
      ],
      "metadata": {
        "id": "u_zkoGHIuvuR"
      }
    },
    {
      "cell_type": "markdown",
      "source": [
        "$F(x)=P[X\\leq\n",
        "x]=\n",
        "\\int_{0}^{X}  \\!{ \\alpha} e^{{-x}{\\alpha}} dx=1-e^{-αX} $$\\hspace{1em} x\\in\\mathbb R.$"
      ],
      "metadata": {
        "id": "Drmu4u0Pu76j"
      }
    },
    {
      "cell_type": "markdown",
      "source": [
        "*Esperanza:*"
      ],
      "metadata": {
        "id": "OQSarxxZu1RR"
      }
    },
    {
      "cell_type": "markdown",
      "source": [
        "$E[x]=\\frac{1}{α}$"
      ],
      "metadata": {
        "id": "dgG5blUzvqYk"
      }
    },
    {
      "cell_type": "markdown",
      "source": [
        "*Varianza:*"
      ],
      "metadata": {
        "id": "KwE5js3evqVX"
      }
    },
    {
      "cell_type": "markdown",
      "source": [
        "$σ[x]=\\frac{1}{α^2}$"
      ],
      "metadata": {
        "id": "gvcvQiALv0mb"
      }
    },
    {
      "cell_type": "markdown",
      "source": [
        "### *Gráfico*"
      ],
      "metadata": {
        "id": "Dvw6bs07sY66"
      }
    },
    {
      "cell_type": "code",
      "source": [
        "from scipy.stats import expon\n",
        "from scipy import stats\n",
        "exponencial = stats.expon()\n",
        "x = np.linspace(exponencial.ppf(0.01),\n",
        "                exponencial.ppf(0.99), 100)\n",
        "fp = exponencial.pdf(x) # Función de Probabilidad\n",
        "plt.plot(x, fp)\n",
        "plt.title('Distribución Exponencial')\n",
        "plt.ylabel('probabilidad')\n",
        "plt.xlabel('valores')\n",
        "plt.show()"
      ],
      "metadata": {
        "colab": {
          "base_uri": "https://localhost:8080/",
          "height": 295
        },
        "id": "XZtDhwWAsckv",
        "outputId": "648a711e-0e4d-4a7c-9307-6f78d010494b"
      },
      "execution_count": null,
      "outputs": [
        {
          "output_type": "display_data",
          "data": {
            "text/plain": [
              "<Figure size 432x288 with 1 Axes>"
            ],
            "image/png": "[encoded data removed]"
          },
          "metadata": {
            "needs_background": "light"
          }
        }
      ]
    },
    {
      "cell_type": "markdown",
      "source": [
        "### *Histograma*"
      ],
      "metadata": {
        "id": "BckNTPSXsnKE"
      }
    },
    {
      "cell_type": "code",
      "source": [
        "# histograma\n",
        "aleatorios = exponencial.rvs(1000) # genera aleatorios\n",
        "cuenta, cajas, ignorar = plt.hist(aleatorios, 20)\n",
        "plt.ylabel('frecuencia')\n",
        "plt.xlabel('valores')\n",
        "plt.title('Histograma Exponencial')\n",
        "plt.show()"
      ],
      "metadata": {
        "colab": {
          "base_uri": "https://localhost:8080/",
          "height": 295
        },
        "id": "sHimFyuBspyN",
        "outputId": "459a499d-06ef-4e9f-b110-9d9ccf3e7b70"
      },
      "execution_count": null,
      "outputs": [
        {
          "output_type": "display_data",
          "data": {
            "text/plain": [
              "<Figure size 432x288 with 1 Axes>"
            ],
            "image/png": "[encoded data removed]"
          },
          "metadata": {
            "needs_background": "light"
          }
        }
      ]
    },
    {
      "cell_type": "markdown",
      "source": [
        "### Ejemplo"
      ],
      "metadata": {
        "id": "Jd8Xed7AwHxf"
      }
    },
    {
      "cell_type": "code",
      "source": [
        "from numpy import random\n",
        "\n",
        "x = random.exponential(scale=2, size=(2, 3))\n",
        "\n",
        "print(x)"
      ],
      "metadata": {
        "colab": {
          "base_uri": "https://localhost:8080/"
        },
        "id": "oU_gz_SOwL_s",
        "outputId": "59fade7e-ad6d-4506-8d85-4fee893ff2ee"
      },
      "execution_count": null,
      "outputs": [
        {
          "output_type": "stream",
          "name": "stdout",
          "text": [
            "[[1.73255783 0.66031447 4.57626633]\n",
            " [0.30868524 0.28277034 3.34287806]]\n"
          ]
        }
      ]
    },
    {
      "cell_type": "markdown",
      "source": [
        "## Distribución Beta"
      ],
      "metadata": {
        "id": "ryA-Knt6G2rp"
      }
    },
    {
      "cell_type": "markdown",
      "source": [
        "Una variable aleatoria X sigue una distribución binomial de media p y varianza q, β(p,q), siendo p y q números reales positivos. Suele ser utilizada en la inferencia Bayesiana.\\\n",
        "Su función de densidad será:"
      ],
      "metadata": {
        "id": "8_F_LHoPxRpv"
      }
    },
    {
      "cell_type": "markdown",
      "source": [
        "$f(x)=\\frac{1}{B(p,q)}x^{p-1}(1-x)^{q-1}$"
      ],
      "metadata": {
        "id": "rE4tc-P2xj48"
      }
    },
    {
      "cell_type": "markdown",
      "source": [
        "### *Gráfico:*"
      ],
      "metadata": {
        "id": "NXqVVAftyA8d"
      }
    },
    {
      "cell_type": "code",
      "source": [
        "# Graficando Beta\n",
        "from scipy.stats import beta\n",
        "from scipy import stats\n",
        "a, b = 2.3, 0.6 # parametros de forma.\n",
        "beta = stats.beta(a, b)\n",
        "x = np.linspace(beta.ppf(0.01),\n",
        "                beta.ppf(0.99), 100)\n",
        "fp = beta.pdf(x) # Función de Probabilidad\n",
        "plt.plot(x, fp)\n",
        "plt.title('Distribución Beta')\n",
        "plt.ylabel('probabilidad')\n",
        "plt.xlabel('valores')\n",
        "plt.show()"
      ],
      "metadata": {
        "colab": {
          "base_uri": "https://localhost:8080/",
          "height": 295
        },
        "id": "g438TgOlyFBM",
        "outputId": "aac276b6-6b6e-4a1f-b77a-d89614b68339"
      },
      "execution_count": null,
      "outputs": [
        {
          "output_type": "display_data",
          "data": {
            "text/plain": [
              "<Figure size 432x288 with 1 Axes>"
            ],
            "image/png": "[encoded data removed]"
          },
          "metadata": {
            "needs_background": "light"
          }
        }
      ]
    },
    {
      "cell_type": "markdown",
      "source": [
        "### *Histograma:*"
      ],
      "metadata": {
        "id": "vWIGvFwbFX0d"
      }
    },
    {
      "cell_type": "code",
      "source": [
        "aleatorios = beta.rvs(100000) # genera aleatorios\n",
        "cuenta, cajas, ignorar = plt.hist(aleatorios, 25)\n",
        "plt.ylabel('frecuencia')\n",
        "plt.xlabel('valores')\n",
        "plt.title('Histograma Beta')\n",
        "plt.show()"
      ],
      "metadata": {
        "colab": {
          "base_uri": "https://localhost:8080/",
          "height": 295
        },
        "id": "EqyxiNV5yM90",
        "outputId": "a5676873-f671-48f6-bf78-d16496d2dcb2"
      },
      "execution_count": null,
      "outputs": [
        {
          "output_type": "display_data",
          "data": {
            "text/plain": [
              "<Figure size 432x288 with 1 Axes>"
            ],
            "image/png": "[encoded data removed]"
          },
          "metadata": {
            "needs_background": "light"
          }
        }
      ]
    },
    {
      "cell_type": "markdown",
      "source": [
        "### *Ejemplo:*"
      ],
      "metadata": {
        "id": "WAPbimjEzJSl"
      }
    },
    {
      "cell_type": "code",
      "source": [
        "from numpy import random\n",
        "\n",
        "x = random.beta(2,5, size=(2, 3)) #alpha=2 beta=5\n",
        "\n",
        "print(x)\n"
      ],
      "metadata": {
        "colab": {
          "base_uri": "https://localhost:8080/"
        },
        "id": "xRAwb6N7zbzt",
        "outputId": "d1418af7-a14a-4f52-ecb2-724b93b75f08"
      },
      "execution_count": null,
      "outputs": [
        {
          "output_type": "stream",
          "name": "stdout",
          "text": [
            "[[0.12894221 0.55313706 0.34152104]\n",
            " [0.28393984 0.51137651 0.39206837]]\n"
          ]
        }
      ]
    },
    {
      "cell_type": "markdown",
      "source": [
        "## Distribución Uniforme"
      ],
      "metadata": {
        "id": "PAI-4epIGy2J"
      }
    },
    {
      "cell_type": "markdown",
      "source": [
        "Sea una variable continua y aleatoria X que toma valores en un intervalo finito (a,b),donde estos se encuentran igualmente distribuidos, la probabilidad de que la variable aleatoria tome un valor en cada subintervalo de igual longitud es la misma.\\\n",
        "$X$ Está uniformemente distribuida en el intervalo (a,b) si $X∼U(a,b)$y su **función de densidad** es:"
      ],
      "metadata": {
        "id": "WubmCklR3ndO"
      }
    },
    {
      "cell_type": "markdown",
      "source": [
        "$f(x) = \\left\\{\n",
        "    \\begin{array}{ll}\n",
        "            \\frac{1}{b-a} & \\mbox{si } a \\le x \\le b \\\\\n",
        "             0  & \\mbox{ } resto \n",
        "    \\end{array}\n",
        "\\right.$"
      ],
      "metadata": {
        "id": "olmACP8H3Nxi"
      }
    },
    {
      "cell_type": "markdown",
      "source": [
        "se verifica:\n",
        "\n",
        "\n",
        "*   $f(x)\\geq0 \\space\\space ∀ϵℛ$\n",
        "*   $\\int_{-∞}^{∞}f(x)dx=1 $\n",
        "\n"
      ],
      "metadata": {
        "id": "1qH-8WRP1ext"
      }
    },
    {
      "cell_type": "markdown",
      "source": [
        "por lo que su función de distribución será:\\\n",
        "$f(x) = \\left\\{\n",
        "    \\begin{array}\n",
        "           \\\\0 & \\mbox{si }x\\geq a \\\\  \\frac{x-a}{b-a} & \\mbox{si } a < x < b \\\\\n",
        "             1  & \\mbox{si } x\\geq b \n",
        "    \\end{array}\n",
        "\\right.$"
      ],
      "metadata": {
        "id": "9ysrB02q2j6u"
      }
    },
    {
      "cell_type": "markdown",
      "source": [
        "**Esperanza**"
      ],
      "metadata": {
        "id": "YN_wXjGo890g"
      }
    },
    {
      "cell_type": "markdown",
      "source": [
        "$E[X]=\\frac{a+b}{2}$"
      ],
      "metadata": {
        "id": "w4C45Bh11Mpg"
      }
    },
    {
      "cell_type": "markdown",
      "source": [
        "**Varianza**"
      ],
      "metadata": {
        "id": "AN0Lw8FI-FGD"
      }
    },
    {
      "cell_type": "markdown",
      "source": [
        "$Var[X]=\\frac{(b-a)^2}{12}$"
      ],
      "metadata": {
        "id": "agAO_2zu1UIj"
      }
    },
    {
      "cell_type": "markdown",
      "source": [
        "### Gráfico"
      ],
      "metadata": {
        "id": "3TFmV_8pDR8q"
      }
    },
    {
      "cell_type": "code",
      "source": [
        "from scipy.stats import uniform\n",
        "from scipy import stats\n",
        "import numpy as np\n",
        "import matplotlib.pyplot as plt\n",
        "uniforme = stats.uniform()\n",
        "x = np.linspace(uniforme.ppf(0.01),\n",
        "                uniforme.ppf(0.99), 100)\n",
        "fp = uniforme.pdf(x) # Función de Probabilidad\n",
        "fig, ax = plt.subplots()\n",
        "ax.plot(x, fp, '--')\n",
        "ax.vlines(x, 0, fp, colors='b', lw=5, alpha=0.5)\n",
        "ax.set_yticks([0., 0.2, 0.4, 0.6, 0.8, 1., 1.2])\n",
        "plt.title('Distribución Uniforme')\n",
        "plt.ylabel('probabilidad')\n",
        "plt.xlabel('valores')\n",
        "plt.show()"
      ],
      "metadata": {
        "colab": {
          "base_uri": "https://localhost:8080/",
          "height": 295
        },
        "id": "G0KPjdMq99xb",
        "outputId": "ade3b4d7-a723-4edc-e038-cb8c9f23b6fc"
      },
      "execution_count": null,
      "outputs": [
        {
          "output_type": "display_data",
          "data": {
            "text/plain": [
              "<Figure size 432x288 with 1 Axes>"
            ],
            "image/png": "[encoded data removed]"
          },
          "metadata": {
            "needs_background": "light"
          }
        }
      ]
    },
    {
      "cell_type": "markdown",
      "source": [
        "### Histograma"
      ],
      "metadata": {
        "id": "iL0kEm5UDYAh"
      }
    },
    {
      "cell_type": "code",
      "source": [
        "# histograma\n",
        "aleatorios = uniforme.rvs(100000) # genera aleatorios\n",
        "cuenta, cajas, ignorar = plt.hist(aleatorios, 20)\n",
        "plt.ylabel('frecuencia')\n",
        "plt.xlabel('valores')\n",
        "plt.title('Histograma Uniforme')\n",
        "plt.show()"
      ],
      "metadata": {
        "colab": {
          "base_uri": "https://localhost:8080/",
          "height": 295
        },
        "id": "cfL_7luQ-WWR",
        "outputId": "b440a7c7-cd2c-40b8-9fe0-87eabd768b67"
      },
      "execution_count": null,
      "outputs": [
        {
          "output_type": "display_data",
          "data": {
            "text/plain": [
              "<Figure size 432x288 with 1 Axes>"
            ],
            "image/png": "[encoded data removed]"
          },
          "metadata": {
            "needs_background": "light"
          }
        }
      ]
    },
    {
      "cell_type": "markdown",
      "source": [
        "### Ejemplo:"
      ],
      "metadata": {
        "id": "UBDlq6J8Db4H"
      }
    },
    {
      "cell_type": "code",
      "source": [
        "from numpy import random\n",
        "\n",
        "x = random.binomial(n=10, p=0.5, size=10)\n",
        "\n",
        "print(x)"
      ],
      "metadata": {
        "id": "gIX-0fkb-ikp",
        "outputId": "b889df94-0769-4d0b-fb48-222c4285ea39",
        "colab": {
          "base_uri": "https://localhost:8080/"
        }
      },
      "execution_count": null,
      "outputs": [
        {
          "output_type": "stream",
          "name": "stdout",
          "text": [
            "[2 6 6 6 7 2 6 4 3 5]\n"
          ]
        }
      ]
    },
    {
      "cell_type": "markdown",
      "source": [
        "##Distribución Log-normal"
      ],
      "metadata": {
        "id": "eRkXTbdp9u-T"
      }
    },
    {
      "cell_type": "markdown",
      "source": [
        "En probabilidad y estadística, la distribución normal logarítmica es una distribución de probabilidad continua de una variable aleatoria cuyo logaritmo está normalmente distribuido. Es decir, si ${\\displaystyle X}$ es una variable aleatoria con una distribución normal, entonces ${exp} (X)$ tiene una distribución log-normal."
      ],
      "metadata": {
        "id": "DhvL0wlc4PRG"
      }
    },
    {
      "cell_type": "markdown",
      "source": [
        "La distribución log-normal es:"
      ],
      "metadata": {
        "id": "wksDyzn67wwN"
      }
    },
    {
      "cell_type": "markdown",
      "source": [
        "$f(x) = \\frac{1}{ x \\sigma \\sqrt{2 \\pi}} e^{\\frac{-1}{2}\\left(\\frac{\\ln x - \\mu}{\\sigma} \\right)^2}$"
      ],
      "metadata": {
        "id": "mGUEHRjm7n5-"
      }
    },
    {
      "cell_type": "markdown",
      "source": [
        "donde la variable $x>0$ y los parámetros $μ,σ>0$."
      ],
      "metadata": {
        "id": "Z7z5GWc972Pz"
      }
    },
    {
      "cell_type": "markdown",
      "source": [
        "**Esperanza**:"
      ],
      "metadata": {
        "id": "ZqkLvjwQ4l6G"
      }
    },
    {
      "cell_type": "markdown",
      "source": [
        "$E[X]=e^{\\mu+\\frac{\\sigma^2}{2}}$"
      ],
      "metadata": {
        "id": "nHOB6wo-4qdq"
      }
    },
    {
      "cell_type": "markdown",
      "source": [
        "**Varianza:**"
      ],
      "metadata": {
        "id": "lZQqtMCa4on6"
      }
    },
    {
      "cell_type": "markdown",
      "source": [
        "$Var[X]=(e^{σ^2}-1)e^{2\\mu+σ^2}$"
      ],
      "metadata": {
        "id": "2onBxz-R47kS"
      }
    },
    {
      "cell_type": "markdown",
      "source": [
        "### Gráfico"
      ],
      "metadata": {
        "id": "CJroYUzHExvJ"
      }
    },
    {
      "cell_type": "code",
      "source": [
        "from scipy.stats import uniform\n",
        "from scipy import stats\n",
        "import numpy as np\n",
        "import matplotlib.pyplot as plt\n",
        "sigma = 0.7 # parametro\n",
        "lognormal = stats.lognorm(sigma)\n",
        "x = np.linspace(lognormal.ppf(0.01),\n",
        "                lognormal.ppf(0.99), 100)\n",
        "fp = lognormal.pdf(x) # Función de Probabilidad\n",
        "plt.plot(x, fp)\n",
        "plt.title('Distribución Log-normal')\n",
        "plt.ylabel('probabilidad')\n",
        "plt.xlabel('valores')\n",
        "plt.show()"
      ],
      "metadata": {
        "colab": {
          "base_uri": "https://localhost:8080/",
          "height": 295
        },
        "id": "d7Mm3ReVEqdv",
        "outputId": "af83dea4-ec50-4051-bee2-b63c97875095"
      },
      "execution_count": null,
      "outputs": [
        {
          "output_type": "display_data",
          "data": {
            "text/plain": [
              "<Figure size 432x288 with 1 Axes>"
            ],
            "image/png": "[encoded data removed]"
          },
          "metadata": {
            "needs_background": "light"
          }
        }
      ]
    },
    {
      "cell_type": "markdown",
      "source": [
        "### Histograma"
      ],
      "metadata": {
        "id": "CRhcLObop1fS"
      }
    },
    {
      "cell_type": "code",
      "source": [
        "aleatorios = lognormal.rvs(100000) \n",
        "cuenta, cajas, ignorar = plt.hist(aleatorios, 50)\n",
        "plt.ylabel('frecuencia')\n",
        "plt.xlabel('valores')\n",
        "plt.title('Histograma Log-normal')\n",
        "plt.show()"
      ],
      "metadata": {
        "colab": {
          "base_uri": "https://localhost:8080/",
          "height": 295
        },
        "id": "w7w6nDaoEvpY",
        "outputId": "2533db11-d764-4da1-f524-63545343c900"
      },
      "execution_count": null,
      "outputs": [
        {
          "output_type": "display_data",
          "data": {
            "text/plain": [
              "<Figure size 432x288 with 1 Axes>"
            ],
            "image/png": "[encoded data removed]"
          },
          "metadata": {
            "needs_background": "light"
          }
        }
      ]
    }
  ]
}