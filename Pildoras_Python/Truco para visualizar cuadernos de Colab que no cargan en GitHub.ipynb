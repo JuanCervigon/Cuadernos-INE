{
  "nbformat": 4,
  "nbformat_minor": 0,
  "metadata": {
    "colab": {
      "name": "Truco para visualizar cuadernos de Colab que fallan al cargarse en GitHub.ipynb",
      "provenance": [],
      "collapsed_sections": []
    },
    "kernelspec": {
      "name": "python3",
      "display_name": "Python 3"
    },
    "language_info": {
      "name": "python"
    }
  },
  "cells": [
    {
      "cell_type": "markdown",
      "source": [
        "En ocasiones, cuando vamos a visualizar un cuaderno de Colab subido a GitHub, ya sea por su gran tamaño o porque utiliza librerías con las GitHub tiene problemas, el cuaderno no se carga y nos sale un mensaje de este tipo:\n",
        "![picture](https://raw.githubusercontent.com/AlejandroDGR/Proyecto_Difusion_Universitarios_INE/master/Images/Problema%20Renderizar.png)"
      ],
      "metadata": {
        "id": "CQBFM5IlRXeL"
      }
    },
    {
      "cell_type": "markdown",
      "source": [
        "Entonces, un truco que podemos utilizar para ver el contenido de estos cuadernos es el siguiente: debemos entrar en la siguiente página: https://nbviewer.org/ y en su buscador insertar el enlace de la página en GitHub que contiene el cuaderno que da error.\n",
        "\n",
        "Le damos a **Go!** y nos mostrará el cuaderno sin problemas.\n",
        "\n",
        "![picture](https://raw.githubusercontent.com/AlejandroDGR/Proyecto_Difusion_Universitarios_INE/master/Images/Soluci%C3%B3n%20problema%20renderizar%201.png)\n",
        "\n",
        "![picture](https://raw.githubusercontent.com/AlejandroDGR/Proyecto_Difusion_Universitarios_INE/master/Images/Soluci%C3%B3n%20problema%20renderizar%202.png)\n",
        "\n",
        "![picture](https://raw.githubusercontent.com/AlejandroDGR/Proyecto_Difusion_Universitarios_INE/master/Images/Soluci%C3%B3n%20problema%20renderizar%203.png)"
      ],
      "metadata": {
        "id": "qkx20Vz8RmtT"
      }
    }
  ]
}