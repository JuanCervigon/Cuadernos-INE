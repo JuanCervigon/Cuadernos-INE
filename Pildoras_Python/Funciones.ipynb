{
  "nbformat": 4,
  "nbformat_minor": 0,
  "metadata": {
    "colab": {
      "name": "Funciones.ipynb",
      "provenance": [],
      "collapsed_sections": [],
      "toc_visible": true,
      "authorship_tag": "ABX9TyNMKyyRYJ6A2d+2hYJFhSfg",
      "include_colab_link": true
    },
    "kernelspec": {
      "name": "python3",
      "display_name": "Python 3"
    },
    "language_info": {
      "name": "python"
    }
  },
  "cells": [
    {
      "cell_type": "markdown",
      "metadata": {
        "id": "view-in-github",
        "colab_type": "text"
      },
      "source": [
        "<a href=\"https://colab.research.google.com/github/AlejandroDGR/Proyecto_Difusion_Universitarios_INE/blob/master/Funciones.ipynb\" target=\"_parent\"><img src=\"https://colab.research.google.com/assets/colab-badge.svg\" alt=\"Open In Colab\"/></a>"
      ]
    },
    {
      "cell_type": "markdown",
      "metadata": {
        "id": "qbmf8RMOhGwf"
      },
      "source": [
        "#__Funciones en Python__\n",
        "\n",
        "Creación de una función:\n",
        "```python\n",
        "def nombre_funcion(parametro1, parametro2)\n",
        "  \"\"\"docstring: aqui explicamos que la función\n",
        "  hace algo con los parametros y devuelve\n",
        "  siempre un valor (como mínimo devuelve 'none').\n",
        "  \"\"\"\n",
        "  a = haz_algo_con(parametro1, parametro2)\n",
        "  return a \n",
        "```\n",
        "\n",
        "llamada de una funcion:\n",
        "```python\n",
        "nombre_funcion(parametro1=argumento1, parametro2=argumento2)\n",
        "```\n",
        "o simplemente\n",
        "```python\n",
        "nombre_funcion(argumento1, argumento2)\n",
        "```\n",
        "los argumentos son los valores que asignamos a los parametros y los parametros son los nombres de las variables locales de la función.\n",
        "\n",
        "\n",
        "\n"
      ]
    },
    {
      "cell_type": "markdown",
      "metadata": {
        "id": "FIFTjt8LQvvo"
      },
      "source": [
        "se pueden definir valores por defecto en los argumentos\n",
        "```\n",
        "def nombre_funcion(arg1, arg2=arg_por_defecto):\n",
        "  return haz_algo(arg1, arg2)\n",
        "```\n",
        "el parámetro ```arg1``` no tiene un valor por defecto, mientras que ```arg2``` sí que lo tiene."
      ]
    },
    {
      "cell_type": "code",
      "metadata": {
        "colab": {
          "base_uri": "https://localhost:8080/"
        },
        "id": "rBWnibEBQ06X",
        "outputId": "4a24ce0b-2ec3-480b-a515-b30b03500d67"
      },
      "source": [
        "def cuadrado(base=3):\n",
        "  return base**2\n",
        "\n",
        "print(cuadrado())\n",
        "print(cuadrado(4))"
      ],
      "execution_count": 3,
      "outputs": [
        {
          "output_type": "stream",
          "name": "stdout",
          "text": [
            "9\n",
            "16\n"
          ]
        }
      ]
    },
    {
      "cell_type": "markdown",
      "metadata": {
        "id": "Ct8xTmchRKer"
      },
      "source": [
        "el orden de los argumentos importa. No se puede declarar un argumento sin valor por defecto después de haber declarado un argumento por defecto:"
      ]
    },
    {
      "cell_type": "code",
      "metadata": {
        "colab": {
          "base_uri": "https://localhost:8080/",
          "height": 135
        },
        "id": "0Ax8EX4RQlSg",
        "outputId": "03650586-f517-43c0-f1fd-a0a86db1e3ab"
      },
      "source": [
        "def potencia(base=2, exponente):\n",
        "  return base**exponente\n",
        "\n",
        "potencia(3, 2)\n"
      ],
      "execution_count": 4,
      "outputs": [
        {
          "output_type": "error",
          "ename": "SyntaxError",
          "evalue": "ignored",
          "traceback": [
            "\u001b[0;36m  File \u001b[0;32m\"<ipython-input-4-3b1179d67291>\"\u001b[0;36m, line \u001b[0;32m1\u001b[0m\n\u001b[0;31m    def potencia(base=2, exponente):\u001b[0m\n\u001b[0m                ^\u001b[0m\n\u001b[0;31mSyntaxError\u001b[0m\u001b[0;31m:\u001b[0m non-default argument follows default argument\n"
          ]
        }
      ]
    },
    {
      "cell_type": "markdown",
      "metadata": {
        "id": "-hXvyb3gSGhG"
      },
      "source": [
        "Este es el orden correcto. "
      ]
    },
    {
      "cell_type": "code",
      "metadata": {
        "id": "uPUNfkxYOogC",
        "colab": {
          "base_uri": "https://localhost:8080/"
        },
        "outputId": "de159864-0346-4cf7-a939-3ccfd82fad32"
      },
      "source": [
        "def potencia(exponente, base = 2):\n",
        "  return base**exponente\n",
        "  \n",
        "print(potencia(2,3))\n",
        "print(potencia(exponente=2, base=3))\n",
        "print(potencia(base=3, exponente=2))\n",
        "print(potencia(3))"
      ],
      "execution_count": 5,
      "outputs": [
        {
          "output_type": "stream",
          "name": "stdout",
          "text": [
            "9\n",
            "9\n",
            "9\n",
            "8\n"
          ]
        }
      ]
    },
    {
      "cell_type": "markdown",
      "metadata": {
        "id": "Azr9BWESuS62"
      },
      "source": [
        "Pero ¿por qué?  \n",
        "los argumentos pueden ser posicionales o por keyword.  \n",
        "Aquí los dos argumentos son posicionales. El intérprete de python entiende que el primero (2) corresponde al primer parámetro en la definición de la función (exponente) y el segundo argumento pasado corresponde al segundo parámetro de la definición de la función.\n",
        "```\n",
        "potencia(2,3)\n",
        "```\n"
      ]
    },
    {
      "cell_type": "markdown",
      "metadata": {
        "id": "Q3T4GgcqvHOa"
      },
      "source": [
        "Aquí los dos argumentos son pasados mediante sus keywords\n",
        "```python\n",
        "potencia(exponente=2, base=3)\n",
        "potencia(base=3, exponente=2)\n",
        "```\n",
        "Cuando se especifican todos los keywords no importa el orden en que se pasan los argumentos."
      ]
    },
    {
      "cell_type": "markdown",
      "metadata": {
        "id": "s-Pp_kNqv0W3"
      },
      "source": [
        "Cuando se utilizan argumentos posicionales y por keyword, los posicionales deben llamarse primero\n"
      ]
    },
    {
      "cell_type": "code",
      "metadata": {
        "colab": {
          "base_uri": "https://localhost:8080/"
        },
        "id": "_vLGn7GQwa3N",
        "outputId": "f67fd357-47a7-4ce4-9898-5b5aaaab597c"
      },
      "source": [
        "potencia(3, base=5)"
      ],
      "execution_count": 6,
      "outputs": [
        {
          "output_type": "execute_result",
          "data": {
            "text/plain": [
              "125"
            ]
          },
          "metadata": {},
          "execution_count": 6
        }
      ]
    },
    {
      "cell_type": "code",
      "metadata": {
        "colab": {
          "base_uri": "https://localhost:8080/",
          "height": 135
        },
        "id": "8nCuST_Owjek",
        "outputId": "a01d8ada-94bf-4d34-b957-d0e98ab0e13d"
      },
      "source": [
        "potencia(exponente=3, 5)"
      ],
      "execution_count": 7,
      "outputs": [
        {
          "output_type": "error",
          "ename": "SyntaxError",
          "evalue": "ignored",
          "traceback": [
            "\u001b[0;36m  File \u001b[0;32m\"<ipython-input-7-c38da6241f05>\"\u001b[0;36m, line \u001b[0;32m1\u001b[0m\n\u001b[0;31m    potencia(exponente=3, 5)\u001b[0m\n\u001b[0m                         ^\u001b[0m\n\u001b[0;31mSyntaxError\u001b[0m\u001b[0;31m:\u001b[0m positional argument follows keyword argument\n"
          ]
        }
      ]
    },
    {
      "cell_type": "markdown",
      "metadata": {
        "id": "VhKBtWKOChyb"
      },
      "source": [
        "##__Parámetros _keyword-only___  \n",
        "debido a la importancia o específicidad de algunos parametros dentro de una función, nos puede interesar que sólo puedan ser invocados mediante sus keyword.  \n",
        "Estos parámetros deben colocarse siempre después de un ```*```."
      ]
    },
    {
      "cell_type": "code",
      "metadata": {
        "colab": {
          "base_uri": "https://localhost:8080/"
        },
        "id": "n8Znwxg5CZwj",
        "outputId": "960069ba-654d-4b7b-9ef2-429a525dfd9f"
      },
      "source": [
        " def kw_only_parametros(argnormal, *, numerador, denominador):\n",
        "   a = argnormal + numerador / denominador\n",
        "   return a\n",
        "\n",
        "kw_only_parametros(100, numerador=2, denominador=5)"
      ],
      "execution_count": 8,
      "outputs": [
        {
          "output_type": "execute_result",
          "data": {
            "text/plain": [
              "100.4"
            ]
          },
          "metadata": {},
          "execution_count": 8
        }
      ]
    },
    {
      "cell_type": "markdown",
      "metadata": {
        "id": "jb2UvOVtK26g"
      },
      "source": [
        "Mientras que:"
      ]
    },
    {
      "cell_type": "code",
      "metadata": {
        "colab": {
          "base_uri": "https://localhost:8080/",
          "height": 171
        },
        "id": "IbuCQpbhK4l-",
        "outputId": "60c994e9-cbe5-4ba9-a1a4-a2c5df5d86cb"
      },
      "source": [
        "kw_only_parametros(100, 2, 5)"
      ],
      "execution_count": 9,
      "outputs": [
        {
          "output_type": "error",
          "ename": "TypeError",
          "evalue": "ignored",
          "traceback": [
            "\u001b[0;31m---------------------------------------------------------------------------\u001b[0m",
            "\u001b[0;31mTypeError\u001b[0m                                 Traceback (most recent call last)",
            "\u001b[0;32m<ipython-input-9-b79f7cc0fbc7>\u001b[0m in \u001b[0;36m<module>\u001b[0;34m()\u001b[0m\n\u001b[0;32m----> 1\u001b[0;31m \u001b[0mkw_only_parametros\u001b[0m\u001b[0;34m(\u001b[0m\u001b[0;36m100\u001b[0m\u001b[0;34m,\u001b[0m \u001b[0;36m2\u001b[0m\u001b[0;34m,\u001b[0m \u001b[0;36m5\u001b[0m\u001b[0;34m)\u001b[0m\u001b[0;34m\u001b[0m\u001b[0;34m\u001b[0m\u001b[0m\n\u001b[0m",
            "\u001b[0;31mTypeError\u001b[0m: kw_only_parametros() takes 1 positional argument but 3 were given"
          ]
        }
      ]
    },
    {
      "cell_type": "markdown",
      "metadata": {
        "id": "YYV3w7VXLNKR"
      },
      "source": [
        "Python, haz tu magia:  \n",
        "También puedes utilizar un diccionario para hacer un _unpacking_ de argumentos con sus keyword"
      ]
    },
    {
      "cell_type": "code",
      "metadata": {
        "id": "xG6URIVQLZUm"
      },
      "source": [
        "kw_argumentos = {'numerador': 2, 'denominador': 5}\n",
        "kw_only_parametros(100, **kw_argumentos)"
      ],
      "execution_count": null,
      "outputs": []
    },
    {
      "cell_type": "markdown",
      "metadata": {
        "id": "jwzjvmcSL6wF"
      },
      "source": [
        "##__Parámetros _positional-only___  \n",
        "A partir de python 3.8 puedes utilizar ```/``` para indicar al interprete que todos los argumentos que vienen antes son _positional-only_.  \n",
        "\n",
        "```python\n",
        "def porcentaje(a, b, /):\n",
        "  return a / b * 100\n",
        "\n",
        "porcentaje(5, 50)\n",
        "porcentaje(a=5, b=50)\n",
        "```\n",
        "Colab utiliza una versión de python anterior a la 3.8 por lo que este código no funciona\n"
      ]
    },
    {
      "cell_type": "markdown",
      "metadata": {
        "id": "cGnTjeakPHVN"
      },
      "source": [
        "Es posible combinar los dos tipos que acabamos de ver:\n",
        "```python\n",
        "def foo(ciudad, edad, /, *, nombre):\n",
        "  print(f\"{nombre} tiene {edad} y es de {ciudad})\")\n",
        "```\n",
        "y la única forma correcta de invocar esta función es:  \n",
        "```python\n",
        "foo('Zaragoza', 42, nombre='Paco')"
      ]
    },
    {
      "cell_type": "markdown",
      "metadata": {
        "id": "_j27JuE1Niox"
      },
      "source": [
        "## __Número indeterminado de argumentos__  \n",
        "A veces queremos poder pasar un número muy alto de argumentos y no queremos tener que escribir 10, 20, 30 o más parámetros en la definición de la función. \n",
        "Estos argumentos pueden ser posicionales o keyword, para ello usaremos ```*args``` o ```**kwargs``` respectivamente.\n",
        "\n",
        "OJO!: Recuerda que los argumentos posicionales siempre se llaman antes que los _key-word_"
      ]
    },
    {
      "cell_type": "code",
      "metadata": {
        "id": "q4z2a0awM0pg"
      },
      "source": [
        "def bar(*args,**kwargs):\n",
        "    print(f\"\\n\\npositional-only={args}, keyword-only={kwargs}\")\n",
        "\n",
        "bar(1, 2, 3, '...', maldita='Babylon', a_message_to_you='Rudy', etc='...')"
      ],
      "execution_count": null,
      "outputs": []
    },
    {
      "cell_type": "markdown",
      "metadata": {
        "id": "J95VXVxtNGWh"
      },
      "source": [
        "#__Challenge:__  \n",
        "Queremos una función en la que podamos hacer el sumatorio o el multiplicatorio de un numero indeterminado de operandos."
      ]
    },
    {
      "cell_type": "code",
      "metadata": {
        "id": "x2hE7OypUJIq"
      },
      "source": [
        "import numpy as np"
      ],
      "execution_count": 1,
      "outputs": []
    },
    {
      "cell_type": "markdown",
      "metadata": {
        "id": "0_xA98mrRek-"
      },
      "source": [
        "También podrías hacer un _unpack_ así:\n",
        "Recuerda ```*args``` siempre debe preceder a ```**kwargs```\n",
        "\n",
        "---\n",
        "\n",
        "\n",
        "\n"
      ]
    },
    {
      "cell_type": "code",
      "metadata": {
        "id": "ok5DXdC3RkBV"
      },
      "source": [
        "posicionales = [1, 2, 3, '...']\n",
        "kws = {'maldita': 'Babylon', 'a_message_to_you': 'Rudy', 'etc': '...'}\n",
        "bar(*posicionales, **kws)\n"
      ],
      "execution_count": null,
      "outputs": []
    },
    {
      "cell_type": "code",
      "metadata": {
        "colab": {
          "base_uri": "https://localhost:8080/"
        },
        "id": "8jm3DSQ0NAaz",
        "outputId": "6fa41058-6c56-413d-fa81-297818f1e2da"
      },
      "source": [
        "def operatorio(operacion, *operandos):\n",
        "  if operacion == 'suma':\n",
        "    a = sum(operandos)\n",
        "  elif operacion == 'producto':\n",
        "    a = np.prod(operandos)\n",
        "  else:\n",
        "    print('teclea bien la operación, animal')\n",
        "  return(a)\n",
        "\n",
        "print(operatorio('suma', 2, 3, 4))\n",
        "try:\n",
        "  operatorio(*[2,3,4], operacion='producto')\n",
        "except:\n",
        "  print('orden de argumentos incorrecto')\n"
      ],
      "execution_count": 2,
      "outputs": [
        {
          "output_type": "stream",
          "name": "stdout",
          "text": [
            "9\n",
            "orden de argumentos incorrecto\n"
          ]
        }
      ]
    }
  ]
}