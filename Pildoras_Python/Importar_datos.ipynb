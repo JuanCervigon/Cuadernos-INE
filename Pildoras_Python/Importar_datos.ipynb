{
  "nbformat": 4,
  "nbformat_minor": 0,
  "metadata": {
    "colab": {
      "name": "Importar_datos.ipynb",
      "provenance": [],
      "toc_visible": true,
      "mount_file_id": "1944v7nhzE6xd0IQFsWVTQkK7XnLo57bN",
      "authorship_tag": "ABX9TyPiAvFDaWtxfycPCq2mHGWp",
      "include_colab_link": true
    },
    "kernelspec": {
      "name": "python3",
      "display_name": "Python 3"
    },
    "language_info": {
      "name": "python"
    }
  },
  "cells": [
    {
      "cell_type": "markdown",
      "metadata": {
        "id": "view-in-github",
        "colab_type": "text"
      },
      "source": [
        "<a href=\"https://colab.research.google.com/github/AlejandroDGR/Proyecto_Difusion_Universitarios_INE/blob/master/Importar_datos.ipynb\" target=\"_parent\"><img src=\"https://colab.research.google.com/assets/colab-badge.svg\" alt=\"Open In Colab\"/></a>"
      ]
    },
    {
      "cell_type": "markdown",
      "source": [
        "# **IMPORTACIÓN DE DATOS EN COLAB**  \n",
        "Existen diversos métodos para importar archivos en Colab utilizando Python. Vamos a describir los principales indicando sus usos y limitaciones.  \n",
        "\n",
        "\n",
        "1.   Sistema de archivos local\n",
        "Existen varias alternativas para trabajar con archivos alojados en nuestro ordenador. Describiremos un método para cargarlo directamente desde su ubicación y otro método para subirlo a nuestro directorio de trabajo.\n",
        "2.   Google Drive\n",
        "Drive es el servicio de almacenamiento en la nube de Google puede ser accedido desde Google Colab\n",
        "3.   Github (o web)\n",
        "Github no es un servicio de almacenamiento en la nube sino un sistema de control de versiones de archivos y, especialmente, de código o scripts, aunque también puede ser utilizada para almacenar archivos.  \n",
        "\n",
        "## **Sistema de archivos local**\n",
        "Para trabajar desde Colab con archivos almacenados en nuestro ordenador podemos utilizar el explorador de archivos integrado en la interface de Colab. <br>\n",
        "<img src='https://drive.google.com/uc?id=1F2kVpLOEH-BPFCjqzafaoEvp-vkGMarc'> \n",
        "\n",
        "Se puede ver que existe una carpeta llamada `sample_data` donde hay precargados unos datasets para experimentar. Podemos usar esta carpeta para subir los archivos de datos con los que queremos trabajar. Hacemos click sobre los tres puntos que aparecen a la derecha de su nombre en el explorador y seleccionamos subir archivo. \n",
        "Imaginemos que hemos subido así el archivo ```fecundidad.xlsx``` para leerlo bastaría utilizar el siguiente código:\n",
        "```\n",
        "datos = pd.read_excel(\"fecundidad.xlsx\")\n",
        "```\n",
        "o la instrucción de lectura adecuadad al tipo de archivo que se desee leer.\n",
        "\n",
        "Si preferimos cargar archivos locales mediante instrucciones de Python podemos utilizar la siguiente secuencia:\n",
        "```\n",
        "from google.colab import files\n",
        "uploaded = files.upload()\n",
        "```\n",
        "Tras su ejecución podremos seleccionar un archivo de la forma habitual.\n",
        "<img src='https://drive.google.com/uc?id=1UFdD_K8mSWcvnToVXo0GxQN8Mu1IF4mt'>  \n",
        "el objeto ```uploaded``` solo es un diccionario para contener el nombre del archivo seleccionado por lo que para leerlo bastará con:\n",
        "```\n",
        "datos = pd.read_excel(\"series_trimestrales.xlsx\")\n",
        "```\n",
        "\n",
        "***Propiedades del método de ficheros locales***\n",
        "\n",
        "\n",
        "*   Muy útil para trabajar en la nube con archivos locales\n",
        "*   Los archivos se guardan temporalmente. Al cerrar la sesión se pierden y por lo tanto no sirven para retomar el trabajo otro día.\n",
        "*   Por el mismo motivo, no es útil para hacer un trabajo colaborativo  \n",
        "\n",
        "## **Desde Google Drive**  \n",
        "Para poder evitar los contras del método anterior podemos utilizar el servicio de almacenamiento en la nube de Google. Para ello utilizamos el modulo ```drive``` de la librería ```google.colab```  \n",
        "```\n",
        "from google.colab import drive\n",
        "drive.mount('/content/drive')\n",
        "```  \n",
        "Una vez ejecutado pide permiso e información de usuario para acceder a nuestro google drive. Despues disponemos de los archivos subidos a nuestro Drive.\n",
        "<img src='https://drive.google.com/uc?id=1t-ncA7WemKjwgiQeiL6fNeS3eZGfSxoh'>  \n",
        "y para accederlos seguiremos el método de lectura indicado más arriba.\n",
        "\n",
        "***Propiedades del uso de Drive***  \n",
        "*   No es necesario trabajar desde nuestro ordenador.\n",
        "*   Los archivos no se pierden al cerrar la sesión por lo que podemos trabajar en diferentes sesiones sin perder acceso al archivo.\n",
        "*   No permite trabajar de forma colaborativa de manera directa. Es necesario que el resto de usuarios tengan el archivo en su propio google Drive y que su ruta de acceso sea idéntica. De lo contrario, la ejecución dará error.  \n",
        "\n",
        "## **Desde Github**  \n",
        "Github nos permite no solo almacenar los archivos y los scripts sino que multiples personas pueden realizar contribuciones a los scripts o notebooks y una vez revisados por todos ser incorporados como versión definitiva.  \n",
        "La forma de proceder varía un poco en función del tipo de archivo que queramos importar. En cualquier caso lo primero es navegar en Github hasta el repositorio y la carpeta en la que están alojados los archivos para importar.  \n",
        "<img src='https://drive.google.com/uc?id=1C_u1Gjay0DC9nxRLjDj4-5jZaEtt9R0X'>  \n",
        "Lo más sencillo es importar los archivos ```.csv```. Para ello debemos seleccionar el archivo y hacer click en ```View Raw```  \n",
        "<img src='https://drive.google.com/uc?id=1Zemw9a093kKRyTq4JKSCpWHeSMnUtN9n'>\n",
        "Nos redigira a una previsualización del texto plano que contiene el archivo. Deberemos entonces copiar la URL de esa texto\n",
        "<img src='https://drive.google.com/uc?id=1W4JtDqn4Xq6fFObbzRCoB74evqinclsU'>\n",
        "Ahora simplemente quedaría hacer lo siguiente:\n",
        "```\n",
        "url = r'https://raw.githubusercontent.com/AlejandroDGR/Proyecto_Difusion_Universitarios_INE/master/Datasets/Datos_PISA_ESP.csv'\n",
        "datos = pd.read_csv(url)\n",
        "```\n",
        "Para importar archivos ```.xlsx``` el sitema varía un poco (aunque este sistema también funcionaría para los ```.csv```. Se trata de navegar hasta el archivo y seleccionarlo y en lugar de hacer click sobre ```View Raw``` con el botón izquierdo del ratón lo hacemos con el botón derecho y seleccionamos copiar la dirección del enlace la cual utilizaremos como variable url y la aplicaremos a la correspondiente función de importar teniendo en cuenta que si existe más de una Hoja en el excel deberemos indicar que Hoja queremos importar.    \n",
        "```\n",
        "url = r'https://github.com/AlejandroDGR/Proyecto_Difusion_Universitarios_INE/blob/master/Datasets/IMCV_cluster.xlsx?raw=true'\n",
        "datos = pd.read_excel(url, sheet_name='Datos')\n",
        "```  \n",
        "\n",
        "***Propiedades del método de GitHub***\n",
        "\n",
        "\n",
        "*   Es el más polivalente\n",
        "*   Permite acceso al archivo de forma permanente aunque la sesión se cierre o caduque.\n",
        "*   Permite que todos los usuarios del notebook puedan ejecutarlo sin necesidad de tener ellos el archivo en su ordenador o en su nube.\n",
        "*   Permite que todos los usuarios puedan ejecutar el código sin necesidad de modificar las rutas de acceso.\n"
      ],
      "metadata": {
        "id": "kbT4S2bYk6nU"
      }
    }
  ]
}
