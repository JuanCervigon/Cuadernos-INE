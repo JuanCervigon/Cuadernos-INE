{
  "nbformat": 4,
  "nbformat_minor": 0,
  "metadata": {
    "colab": {
      "name": "Cuaderno introductorio a Google Colab.ipynb",
      "provenance": [],
      "collapsed_sections": []
    },
    "kernelspec": {
      "name": "python3",
      "display_name": "Python 3"
    },
    "language_info": {
      "name": "python"
    }
  },
  "cells": [
    {
      "cell_type": "markdown",
      "source": [
        "Bienvenido al proyecto de difusión estadística del Instituto Nacional de Estadística (INE). Si estás leyendo esto quiere decir que deseas iniciarte en **Google Colab**, el entorno de programación sobre el que hemos desarrollado - y seguimos desarrollando - este proyecto. Por ello, en este cuaderno explicaremos los siguientes apartados básicos:\n",
        "\n",
        "1. **Qué es Google Colab**\n",
        "2. **Cómo abrir un cuaderno nuevo de Colab**\n",
        "3. **Cómo escribir y ejecutar código en Python**\n",
        "4. **Cómo escribir y ejecutar código en R**\n",
        "5. **Cómo escribir texto en Colab**\n",
        "6. **Cómo guardar los cambios en un cuaderno de Colab**\n"
      ],
      "metadata": {
        "id": "rWrikMC-YYMr"
      }
    },
    {
      "cell_type": "markdown",
      "source": [
        "#¿Qué es Google Colab?\n",
        "Google Colaboratory, Google Colab o, simplemente, Colab es un entorno de desarrollo de código en la nube.\n",
        "\n",
        "Como su propio nombre indica, este entorno está desarrollado por Google, utilizando como base el entorno de desarrollo local **Jupyter**. De hecho, los cuadernos de Colab son casi idénticos a los de Jupyter, y muchas veces los veras nombrados como *cuadernos de Jupyter en la nube*.\n",
        "\n",
        "El hecho de que sean cuadernos que se ejecuten en la nube significa que no empleamos nuestro ordenador personal para correrlos, sino que hacemos uso de servidores de Google.\n",
        "\n",
        "Otra cuestión fundamental es la siguiente: si bien actualmente permite programar en otros lenguajes como R, inicialmente, Colab fue desarrollado para programar en Python.\n",
        "\n",
        "Finalmente comentar que, si necesitásemos más potencia de la básica, podríamos cambiar el entorno de ejecución por defecto (CPU) a GPU y TPU - entornos más potentes utilizados para desarrollar modelos que requieran de mucha potencia informática. A continuación se muestra cómo hacerlo:\n",
        "\n",
        "<center>\n",
        "\n",
        "![picture](https://raw.githubusercontent.com/AlejandroDGR/Proyecto_Difusion_Universitarios_INE/master/Images/Cambiar%20entorno%20de%20ejecuci%C3%B3n%201.png)\n",
        "\n",
        "<center>\n",
        "\n",
        "![picture](https://raw.githubusercontent.com/AlejandroDGR/Proyecto_Difusion_Universitarios_INE/master/Images/Cambiar%20entorno%20de%20ejecuci%C3%B3n%202.png)"
      ],
      "metadata": {
        "id": "tRGmx7lsVuZF"
      }
    },
    {
      "cell_type": "markdown",
      "source": [
        "#¿Cómo abrir un cuaderno nuevo de Colab?\n",
        "Para utilizar Google Colab, lo primero que debemos hacer es tener una cuenta de **Google Drive**, ya que, a partir de nuestra cuenta de Drive podremos crear nuevos cuadernos de Colab, abrir los ya existentes y en dicha cuenta se nos guardarán los cambios que vayamos realizando sobre nuestros cuadernos.\n",
        "\n",
        "Una vez tenemos activa una cuenta de Drive, para abrir un nuevo cuaderno de Colab debemos clicar en **Nuevo**, en la esquina superior izquierda de nuestra pantalla, y, a continuación, realizar el siguiente paso:\n",
        "\n",
        "<center>\n",
        "\n",
        "![picture](https://raw.githubusercontent.com/AlejandroDGR/Proyecto_Difusion_Universitarios_INE/master/Images/Abrir%20nuevo%20cuaderno%20de%20Colab.png)\n",
        "\n",
        "<center>"
      ],
      "metadata": {
        "id": "lsaw_ZNhZ5sO"
      }
    },
    {
      "cell_type": "markdown",
      "source": [
        "De esta forma se nos abrirá un nuevo cuaderno con el siguiente aspecto:\n",
        "<center>\n",
        "\n",
        "![picture](https://raw.githubusercontent.com/AlejandroDGR/Proyecto_Difusion_Universitarios_INE/master/Images/Cuaderno%20nuevo.png)\n",
        "\n",
        "<center>"
      ],
      "metadata": {
        "id": "dIEP-J-iamQG"
      }
    },
    {
      "cell_type": "markdown",
      "source": [
        "Veamos las funcionalidades básicas:\n",
        "* Si clicamos en el título (*Untitled0.ypnb*) podremos modificarlo (la extensión de un cuaderno de Colab es *.ypnb*, por lo que es importante no modificar esta parte).\n",
        "* En la esquina superior izquierda, también vemos dos opciones: **+ Código** y **+ Texto**. Al clicar sobre la primera, se nos mostrará una nueva celda de código vacía (igual a la que viene por defecto al abrir el cuaderno y que podemos ver en gris). Al seleccionar la segunda, se nos abrirá una celda de texto, como la que estás leyendo, sobre la que poder escribir. También podremos crear nuevas celdas de código y texto a través de los botones que aparecen al pasar por los bordes de una celda de código o texto ya creada, o empleando la pestaña **Insertar**.\n",
        "* Para borrar una celda, ya sea de código o de texto, solo tendremos que darle al icono de cubo de la basura que nos aparecerá en la esquina superior derecha de una celda cuando estemos utilizándola.\n",
        "* Al clicar en el ícono con tres puntitos y tres líneas que aparece debajo del símbolo de Colab, se nos despliega un índice. Obviamente, este índice estará vacío al iniciar el cuaderno, pero irá adquiriendo apartados en cuanto vayamos creándolos, por lo que resulta muy útil para movernos por los cuadernos cuando éstos son largos.\n",
        "* Justo debajo del anterior icono, tenemos un botón con forma de lupa. se trata de un buscador que podemos utilizar para encontrar palabras o para buscar y reemplazar.\n",
        "* Al seleccionar el icono de carpeta que aparece en la barra de la izquierda de la pantalla se despliega una columna que nos permitirá subir datos en diferentes formatos (*.csv*, *.xlsx*, etc.) tanto directamente, como a través de Google Drive. No ahondaremos en esta cuestión ya que en otro cuaderno explicamos las diferentes opciones que tenemos para subir datos a Colab.\n",
        "* En la esquina superior derecha de la pantalla vemos un botón llamado **Conectar**. Este botón es básico, ya que, al darle, nos conectará con un servidor en la nube, permitiéndonos así ejecutar código."
      ],
      "metadata": {
        "id": "fF9eRvfdni4U"
      }
    },
    {
      "cell_type": "markdown",
      "source": [
        "#¿Cómo escribir y ejecutar código en Python?\n",
        "Como dijimos al principio, Colab es una entorno de ejecución para desarrollar y ejecutar código del lenguaje de programación Python, por lo que para escribir y correr código en Python no se requiere realizar ninguna acción inicial adicional más allá de iniciar un cuaderno y darle al botón **Conectar**."
      ],
      "metadata": {
        "id": "ijrg4qovaKZ4"
      }
    },
    {
      "cell_type": "code",
      "source": [
        "a = 5\n",
        "b = 10\n",
        "c = a * b\n",
        "c"
      ],
      "metadata": {
        "colab": {
          "base_uri": "https://localhost:8080/"
        },
        "id": "NHyrMPT1ti1l",
        "outputId": "e2f107e6-2c44-401e-cef6-4647906a2dbd"
      },
      "execution_count": null,
      "outputs": [
        {
          "output_type": "execute_result",
          "data": {
            "text/plain": [
              "50"
            ]
          },
          "metadata": {},
          "execution_count": 4
        }
      ]
    },
    {
      "cell_type": "markdown",
      "source": [
        "En la anterior celda, hemos creado tres variables, **a**, **b** y **c**, e impreso por pantalla el resultado de la última.\n",
        "\n",
        "Para ejecutar esta celda de cógido tenemos dos opciones:\n",
        "1. Clicar sobre la flechita que nos aparece en la parte derecha o superior derecha de la celda.\n",
        "2. Seleccionar la celda, y pulsar la siguiente combinación de teclas: **Ctrl + Intro**.\n",
        "\n",
        "Asimismo, algo fundamental en Colab es que las variables definidas en una celda, pueden usarse en celdas posteriores. Por ejemplo:"
      ],
      "metadata": {
        "id": "1fi4ibLtt05k"
      }
    },
    {
      "cell_type": "code",
      "source": [
        "a + b + c"
      ],
      "metadata": {
        "colab": {
          "base_uri": "https://localhost:8080/"
        },
        "id": "tc0gGZ1DvFIe",
        "outputId": "e515d383-1612-419b-8c4c-2999acd07baa"
      },
      "execution_count": null,
      "outputs": [
        {
          "output_type": "execute_result",
          "data": {
            "text/plain": [
              "65"
            ]
          },
          "metadata": {},
          "execution_count": 5
        }
      ]
    },
    {
      "cell_type": "markdown",
      "source": [
        "Al utilizar el botón $\\{x\\}$ que aparece en la columna izquierda de la pantalla, se nos desplegará una lista con todas las variables que hemos creado hasta el momento.\n",
        "\n",
        "Finalmente, comentar que, para deshacer una acción, debemos situarnos en la celda sobre la que queramos volver sobre nuestros pasos y utilizar la siguiente combinación de teclas: **Ctrol + Z**.\n",
        "\n",
        "También podremos eliminar la última celda creada al pulsar sobre la opción **Deshacer** de la pestaña **Editar**. Y, si nos hemos arrepentido de ir hacia atrás, podemos revertir el cambio usando la opción **Rehacer** de la misma pestaña."
      ],
      "metadata": {
        "id": "HSk4xDzRvN1Q"
      }
    },
    {
      "cell_type": "markdown",
      "source": [
        "#¿Cómo escribir y ejecutar código en R?\n",
        "Cuando queremos utilizar un lenguaje de programación en Colab que no sea Python, tenemos que realizar acciones iniciales adicionales a las necesarias para correr código de Python. Si queremos emplear R, tenemos dos opciones:"
      ],
      "metadata": {
        "id": "Wnnf69GpaWQd"
      }
    },
    {
      "cell_type": "markdown",
      "source": [
        "####**Opción 1: crear un cuaderno Colab de R**.\n",
        "Seguramente, si queremos usar R en Colab, querramos utilizar un cuaderno que nos permita ejecutar código R en todas sus celdas como hace Colab, por defecto, con Python. Para ello, contamos, a su vez, con dos opciones:\n",
        "* Si estamos utilizando el sistema operativo Windows 11 (el sistema operativo de Windows más novedoso hasta la fecha), es sencillo: al igual que hicimos para cambiar de CPU a GPU o TPU, debemos buscar la opción **Cambiar tipo de entorno de ejecución** dentro de la pestaña **Entorno de ejecución**:\n",
        "\n",
        "<center>\n",
        "\n",
        "![picture](https://raw.githubusercontent.com/AlejandroDGR/Proyecto_Difusion_Universitarios_INE/master/Images/Cambiar%20a%20R.png)\n"
      ],
      "metadata": {
        "id": "5TW8hqq7bFyK"
      }
    },
    {
      "cell_type": "markdown",
      "source": [
        "* Si no tenemos instalado el sistema operativo Windows 11 en nuestro ordenador, no podremos hacer uso de la anterior opción. Sin embargo, no tendremos más que hacer click en el siguiente enlace para abrir un cuaderno de R nuevo: https://colab.to/r\n",
        "\n",
        "  Podremos comprobar que se trata de un cuaderno de R, no solo porque permitirá ejecutar código en este lenguaje, sino porque nos permitirá cambiar el entorno de ejecución a Python empleando la opción anterior (aunque no tengamos Windows 11)."
      ],
      "metadata": {
        "id": "Nh2mCXD_biYO"
      }
    },
    {
      "cell_type": "markdown",
      "source": [
        "####**Opción 2: emplear la opción *Rmagic***\n",
        "En ocasiones, quizá queramos combinar código de Python y R en un mismo cuaderno.\n",
        "\n",
        "Para ello, en primer lugar, debemos iniciar un cuaderno básico de Colab que permita correr código en Python.\n",
        "\n",
        "Posteriormente, arriba del todo del cuaderno o, al menos, cuando queramos empezar a utilizar código de R, debemos ejecutar la siguiente línea de código:"
      ],
      "metadata": {
        "id": "KXhe2T0hzT05"
      }
    },
    {
      "cell_type": "code",
      "source": [
        "%load_ext rpy2.ipython"
      ],
      "metadata": {
        "id": "imW4UGw_Smdp"
      },
      "execution_count": null,
      "outputs": []
    },
    {
      "cell_type": "markdown",
      "source": [
        "Esta línea inicia lo que se conoce como *Rmagic*: una función que permite la integración de código entre Python y R.\n",
        "\n",
        "Una vez ejecutada esta función, podemos correr celdas de código en R, como en el siguiente ejemplo:"
      ],
      "metadata": {
        "id": "Gy6KXs5-UA6K"
      }
    },
    {
      "cell_type": "code",
      "source": [
        "%%R\n",
        "x <- 5\n",
        "y <- 4\n",
        "z = x * y\n",
        "z"
      ],
      "metadata": {
        "colab": {
          "base_uri": "https://localhost:8080/"
        },
        "id": "SGERH1CfSrDy",
        "outputId": "dcb68690-0e04-41f1-d8c6-0c9a7c48b077"
      },
      "execution_count": null,
      "outputs": [
        {
          "output_type": "stream",
          "name": "stdout",
          "text": [
            "[1] 20\n"
          ]
        }
      ]
    },
    {
      "cell_type": "markdown",
      "source": [
        "Es decir, cada vez que escribamos una celda de R, debemos comenzar escribiendo **%%R**.\n",
        "\n",
        "Sin embargo, si echamos un vistazo a la lista de variables que tenemos creadas, solo aparecen las variables creadas en lenguaje Python, y no las creadas con R.\n",
        "\n",
        "Por ello, para pasar una variable creada en R a Python, debemos emplear la función **%R** de la siguiente forma:"
      ],
      "metadata": {
        "id": "vQbkt9I7UxNn"
      }
    },
    {
      "cell_type": "code",
      "source": [
        "z = %R z\n",
        "int(z) + a"
      ],
      "metadata": {
        "colab": {
          "base_uri": "https://localhost:8080/"
        },
        "id": "e_CuqWSiSz7A",
        "outputId": "daf06eac-5ea8-4b5c-b68b-c6fe2db7e7d9"
      },
      "execution_count": null,
      "outputs": [
        {
          "output_type": "execute_result",
          "data": {
            "text/plain": [
              "25"
            ]
          },
          "metadata": {},
          "execution_count": 21
        }
      ]
    },
    {
      "cell_type": "markdown",
      "source": [
        "Al emplear esta opción, ya nos aparece la variable **z** en el visor de variables.\n",
        "\n",
        "Asimismo, podemos ver que al usar la función %R podemos combinar, en una sola celda, código en Python y R."
      ],
      "metadata": {
        "id": "5lSe1X0iV8rz"
      }
    },
    {
      "cell_type": "markdown",
      "source": [
        "#¿Cómo escribir texto en Colab?\n",
        "Otra característica básica de Colab y Jupyter es la posibilidad de insertar celdas de texto donde escribir y explicar nuestro código.\n",
        "\n",
        "En estas celdas pueden insertarse enlaces o imágenes, siendo la manera más sencilla:\n",
        "\n",
        "* Enlaces: copiando y pegando directamente en link.\n",
        "* Imágenes: Haciendo uso del icono de imagen que se nos muestra arriba al utilizar una celda de texto. (Si quisiéramos insertar imágenes centradas sería necesario utilizar lenguaje **HTML**, ya que, por defecto, las imágenes aparecerán alineadas a la derecha. Para ver cómo se hace esto, se recomienda ver el código empleado para insertar las imágenes usadas en este cuaderno).\n",
        "\n",
        "Igualmente, para formatear el texto y conseguir resultados vistosos (por ejemplo, creand tablas o introduciendo fórmulas matemáticas), Colab permite hacer uso del lenguaje **Markdown**. A continuación, mostramos las principales opciones que nos ofrece este lenguaje:\n",
        "\n"
      ],
      "metadata": {
        "id": "M4jp9E_LabXJ"
      }
    },
    {
      "cell_type": "markdown",
      "source": [
        "####**Separación entre párrafos**\n",
        "```markdown\n",
        "Para separar párrafos debemos\n",
        "\n",
        "darle dos veces a intro.\n",
        "```\n",
        "Para separar párrafos debemos\n",
        "\n",
        "darle dos veces a intro."
      ],
      "metadata": {
        "id": "HQm3m15hhGKI"
      }
    },
    {
      "cell_type": "markdown",
      "source": [
        "####**Referencias**\n",
        "```markdown\n",
        "**Esto está escrito en** negrita.\n",
        "\n",
        "*Mientras que esto está escrito en* cursiva\n",
        "\n",
        "~~Y esto está~~ tachado\n",
        "```\n",
        "**Esto está escrito en** negrita.\n",
        "\n",
        "*Mientras que esto está escrito en* cursiva\n",
        "\n",
        "~~Y esto está~~ tachado"
      ],
      "metadata": {
        "id": "OgNhb42rcseZ"
      }
    },
    {
      "cell_type": "markdown",
      "source": [
        "####**Encabezados y secciones**\n",
        "```markdown\n",
        "# Nivel de sección 1\n",
        "## Nivel de sección 2\n",
        "### Nivel de sección 3\n",
        "#### Nivel de sección 4\n",
        "##### Nivel de sección 5\n",
        "```\n",
        "# Nivel de sección 1\n",
        "## Nivel de sección 2\n",
        "### Nivel de sección 3\n",
        "#### Nivel de sección 4\n",
        "##### Nivel de sección 5\n",
        "\n",
        "\n",
        "\n"
      ],
      "metadata": {
        "id": "isJJ9gCqc4QH"
      }
    },
    {
      "cell_type": "markdown",
      "source": [
        "####**Líneas horizontales de separación**\n",
        "```markdown\n",
        "---\n",
        "```\n",
        "\n",
        "---"
      ],
      "metadata": {
        "id": "hA6j30O8gtdB"
      }
    },
    {
      "cell_type": "markdown",
      "source": [
        "####**Listas**\n",
        "Listas ordenadas:\n",
        "```markdown\n",
        "1. Uno\n",
        "2. Dos\n",
        "3. Tres\n",
        "```\n",
        "1. Uno\n",
        "2. Dos\n",
        "3. Tres\n",
        "\n",
        "---\n",
        "\n",
        "Listas sin orden:\n",
        "```markdown\n",
        "* Uno\n",
        "* Dos\n",
        "* Tres\n",
        "```\n",
        "* Uno\n",
        "* Dos\n",
        "* Tres\n",
        "\n",
        "\n"
      ],
      "metadata": {
        "id": "LZg8KvPZeA3G"
      }
    },
    {
      "cell_type": "markdown",
      "source": [
        "####**Indexación**\n",
        "```markdown\n",
        ">Un nivel de indexación\n",
        "```\n",
        "\n",
        ">Un nivel de indexación\n",
        "\n",
        "\n",
        "```markdown\n",
        ">>Dos niveles de indexación\n",
        "```\n",
        "\n",
        ">>Dos niveles de indexación"
      ],
      "metadata": {
        "id": "8vC-DDSBhS8E"
      }
    },
    {
      "cell_type": "markdown",
      "source": [
        "####**Ecuaciones**\n",
        "Ecuaciones insertadas en un párrafo u oración:\n",
        "```markdown\n",
        "Como la siguiente: $y=x^2$\n",
        "```\n",
        "Como la siguiente: $y=x^2$\n",
        "\n",
        "--- \n",
        "Ecuaciones insertadas en el centro de la imagen, entre párrafos:\n",
        "```markdown\n",
        "\\begin{align}\n",
        "Y = \\beta_0 + \\beta_1X_1 + \\beta_2X_2 + ... + \\beta_nX_n + ϵ\n",
        "\\end{align}\n",
        "```\n",
        "\\begin{align}\n",
        "Y = \\beta_0 + \\beta_1X_1 + \\beta_2X_2 + ... + \\beta_nX_n + ϵ\n",
        "\\end{align}\n",
        "\n",
        "---\n",
        "Cuando queramos escribir un símbolo matemático y no sepamos cómo hacerlo en Markdown, es recomendable utilizar la siguiente página: https://detexify.kirelabs.org/classify.html en la que, tras dibujar con el ratón el símbolo deseado, se nos muestra el código necesario para representarlo."
      ],
      "metadata": {
        "id": "Dvx41TBNfLfp"
      }
    },
    {
      "cell_type": "markdown",
      "source": [
        "####**Código**\n",
        "````\n",
        "```python\n",
        "print(\"Esto está escrito como si fuera código Python\")\n",
        "```\n",
        "````\n",
        "\n",
        "```python\n",
        "print(\"Esto está escrito como si fuera código Python\")\n",
        "```\n",
        "Actualmente, no existe una opción para escribir código como si fuese de R, pero si quitamos la palabra *python* podremos escribir código en general, sea de R o de otro lenguaje de programación.\n",
        "````\n",
        "```\n",
        "print(\"Hola\")\n",
        "```\n",
        "````\n",
        "\n",
        "```\n",
        "print(\"Hola\")\n",
        "```\n",
        "Podemos usar esta opción generalista para escribir código dentro de una oración o párrafo:\n",
        "````\n",
        "Si escribimos esto en Python: `print(\"Hola\")`, se nos imprimirá la palabra **Hola**.\n",
        "````\n",
        "Si escribimos esto en Python: `print(\"Hola\")`, se nos imprimirá la palabra \"Hola\"."
      ],
      "metadata": {
        "id": "mCE2psSLi6sM"
      }
    },
    {
      "cell_type": "markdown",
      "source": [
        "####**Tablas**\n",
        "```markdown\n",
        "Nombre primera columna | Nombre segunda columna\n",
        "-------------------|------------------\n",
        "Fila 1, columna 1  | Fila 1, columna 2\n",
        "Fila 2, columna 1  | Fila 2, columna 2\n",
        "\n",
        "```\n",
        "\n",
        "Nombre primera columna | Nombre segunda columna\n",
        "-------------------|------------------\n",
        "Fila 1, columna 1  | Fila 1, columna 2\n",
        "Fila 2, columna 1  | Fila 2, columna 2"
      ],
      "metadata": {
        "id": "QcKuuB6Ui4Ck"
      }
    },
    {
      "cell_type": "markdown",
      "source": [
        "#¿Cómo guardar los cambios en un cuaderno de Colab?\n",
        "En general, Colab guarda los cambios cada poco tiempo. No obstante, si quisiéramos guardar los cambios realizados en un momento dado, existen dos sencillas formas:\n",
        "* Forma 1: usar la combinación de teclas **Ctrl + S**.\n",
        "* Forma 2:\n",
        "\n",
        "<center>\n",
        "\n",
        "![picture](https://raw.githubusercontent.com/AlejandroDGR/Proyecto_Difusion_Universitarios_INE/master/Images/Guardar%20Cuaderno%20Colab.png)"
      ],
      "metadata": {
        "id": "oF17BrjNbrwL"
      }
    },
    {
      "cell_type": "markdown",
      "source": [
        "En esta imagen, vemos que también existe la opción de **Guardar una copia**, lo cual, en algún momento, puede resultar útil.\n"
      ],
      "metadata": {
        "id": "tLS5nTYRcj_e"
      }
    },
    {
      "cell_type": "markdown",
      "source": [
        "Finalmente, si deseáramos descargar una copia del cuaderno en nuestro ordenador, deberíamos usar la siguiente opción:\n",
        "\n",
        "<center>\n",
        "\n",
        "![picture](https://raw.githubusercontent.com/AlejandroDGR/Proyecto_Difusion_Universitarios_INE/master/Images/Descargar%20cuaderno%20en%20local.png)"
      ],
      "metadata": {
        "id": "g69h3Isnb0zQ"
      }
    }
  ]
}