{
  "nbformat": 4,
  "nbformat_minor": 0,
  "metadata": {
    "colab": {
      "name": "Cuaderno introductorio a Python.ipynb",
      "provenance": [],
      "collapsed_sections": [],
      "toc_visible": true
    },
    "kernelspec": {
      "name": "python3",
      "display_name": "Python 3"
    },
    "language_info": {
      "name": "python"
    }
  },
  "cells": [
    {
      "cell_type": "markdown",
      "source": [
        "#¿Qué es Python?"
      ],
      "metadata": {
        "id": "_R-_y-2e92VK"
      }
    },
    {
      "cell_type": "markdown",
      "source": [
        "![picture](https://raw.githubusercontent.com/AlejandroDGR/Proyecto_Difusion_Universitarios_INE/master/Images/Python%20Logo.jpg)\n",
        "\n",
        "**Python** es un lenguaje de programación cuyas características básicas son:\n",
        "* Es de muy alto nivel, es decir, se asemeja más a un lenguaje humano (español, inglés, francés, etc.) que a un lenguaje binario empleado por máquinas. Asimismo, su gramática es clara y bastante legible. Esto lo convierte en un lenguaje sencillo de aprender y muy útil para comenzar en el mundo de la programación.\n",
        "* Su tipado es fuerte - distingue de manera muy clara entre los distintos tipos que puede tener una variable - y dinámico - esto es, no es necesario establecer el tipo de una variable antes de ejecutar un programa, sino que el propio Python establecerá el tipo durante la ejecución del programa.\n",
        "* Permite la Programación Orientada a Objetos (POO). El significado y usabilidad de esta característica se desarrolla ampliamente en otro cuaderno.\n",
        "* Es un lenguaje de código abierto, es decir, no solo se puede utilizar de manera gratuita, sino que existe la posibilidad de que cada usuario plantee mejoras y desarrolle sus propias librerías y paquetes.\n",
        "* Es muy versátil. Sirve para múltiples fines: realizar programación web (*YouTube*, *Instagram* y *Spotify* son tres ejemplos), aplicaciones de escritorio... y análisis de datos. Esta última es la funcionalidad que utilizamos en este proyecto con datos del INE.\n",
        "* Es multiplataforma: podemos ejecutar programas creados en Python en distintos sistemas operativos: *Windows*, *Mac*, *Linux*, etc.\n",
        "\n",
        "Con este cuaderno pretendemos dar unos fundamentos básicos de programación en Python que resultarán más o menos útiles para el desarrollo de análisis de datos. Así, el cuaderno presenta los siguientes epígrafes:\n",
        "* **Tipos de datos, operadores y variables**\n",
        "* **Estructuras de datos en Python: listas, tuplas y diccionarios**\n",
        "* **Condicionales: `if`, `else` y `elif`**\n",
        "* **Bucles: `for` y `while`**\n",
        "* **Funciones: básicas, lambda, `filter()` y `map()`**\n",
        "* **Instalación y carga de librerías en Python (y dataframes)**\n",
        "\n",
        "Decimos que estos fundamentos nos serán más o menos útiles para realizar análisis estadísticos porque, aunque siempre será mejor controlar las bases del lenguaje que aquí presentamos, en muchas ocasiones no será necesario utilizar condicionales, bucles o funciones creadas por nosostros mismos ya que, la mayor parte del tiempo, utilizaremos funciones ya creadas por otros usuarios, mediante la carga de librerías específicas, que nos facilitarán mucho nuestras labores.\n",
        "\n",
        "Asimismo, con la finalidad de no tener que descargar nada y facilitar, lo más posible, la vida a los usuarios de nuestro proyecto, vamos a utilizar **Google Colab** como entorno de desarrollo - en lugar de otros entornos que sí requieren descarga, como pueden ser *Jupyter* o *Spyder*. La forma de utilizar Colab la tenemos descrita en otro cuaderno."
      ],
      "metadata": {
        "id": "Op0yGnr89llE"
      }
    },
    {
      "cell_type": "markdown",
      "source": [
        "#Tipos de datos, operadores y variables"
      ],
      "metadata": {
        "id": "4yqjao653Kun"
      }
    },
    {
      "cell_type": "markdown",
      "source": [
        "Python admite los siguientes **tipos de datos**:\n",
        "\n",
        "1. **Numéricos**. A su vez se dividen en:\n",
        "    * Enteros (`integer`).\n",
        "    * Decimales o de punto flotante (`float`). IMPORTANTE: en Python, como en inglés, los decimales se escriben con punto, no con coma.\n",
        "    * Complejos.\n",
        "2. **Textos** o **Cadenas de caracteres** (`string`). Las cadenas de texto van entre comillas:\n",
        "```python\n",
        "\"Hola\"\n",
        "```\n",
        "3. **Booleanos**: solo admiten dos tipos de valores: Verdadero (`True`) o Falso (`False`).\n",
        "\n",
        "Y sus **operadores** principales son:\n",
        "1. Aritméticos:\n",
        "\n",
        "| Operador| Operación| Ejemplo | Resultado|\n",
        "|--- | --- | --- | --- |\n",
        "| +  | Suma           | 5 + 2  | 7  |\n",
        "| -  | Resta          | 5 - 2  | 3  |\n",
        "| *  | Multiplicación | 5 * 2  | 10 |\n",
        "| /  | División    | 5/ 2   |2.5 |\n",
        "| // | División entera (solo se queda con la parte entera de la división, no con el resto)| 5 // 2 | 2  |\n",
        "|  % | Módulo (solo se queda con el resto de la división)       |  5 % 2 | 1  |\n",
        "| ** | Potencia       | 5 ** 2 | 25 |\n",
        "\n",
        "2. De comparación:\n",
        "\n",
        "| Operador| Significado|\n",
        "|--- | --- | \n",
        "| ==  | Igual que | \n",
        "| !=  | Diferente que | \n",
        "| >  | Mayor que | \n",
        "| <  | Menor que | \n",
        "| >= | Mayor o igual que | \n",
        "| <= | Menor o igual que |  \n",
        "\n",
        "3. Lógicos: permiten evaluar más de una condición a la vez:\n",
        "\n",
        "| Operador| Significado|\n",
        "|--- | --- | \n",
        "| AND | Y | \n",
        "| OR | O | \n",
        "| NOT  | No | \n",
        "\n",
        "\n",
        "4. De asignación: para asignar valores a variables (similares en muchos casos a los operadores aritméticos):\n",
        "\n",
        "| Operador| Significado| Ejemplo |Resultado |\n",
        "|--- | --- | --- | --- |\n",
        "| = | Igual | a = 10  | a = 10 | \n",
        "| +=  | Incremento | a = 10; a += 5| a = 15|\n",
        "| -=  | Decremento | a = 10; a -= 5| a = 5 |\n",
        "| *=  | Producto | a = 10; a *= 5| a = 50 |\n",
        "| /= | Cociente |a = 10; a /= 4 | a = 2.5 |\n",
        "| //= | Cociente entero| a = 10; a /= 4 | a = 2 |\n",
        "| %= | Módulo |  a = 10; a %= 4 | a = 2 |\n",
        "| **= | Potencia | a = 10; a **= 4 | a = 10000 |\n",
        " \n",
        "\n",
        "5. Especiales: muy útiles, sobre todo, para comprobar si un valor concreto se encuentra dentro de una cadena de valores:\n",
        "\n",
        "| Operador| Significado|\n",
        "|--- | --- | \n",
        "| IS | Es | \n",
        "| IS NOT | No es | \n",
        "| IN  | En | \n",
        "| NOT IN  | No en | \n",
        "\n",
        "\n",
        "Pero, ¿qué es una **variable**? Una variable en programación y, por tanto, una variable en Python, no es más que un espacio en la memoria del ordenador o de la nube, donde se almacenará un valor que podrá variar durante la ejecución de un programa. Véamos un ejemplo muy sencillo:\n",
        "\n"
      ],
      "metadata": {
        "id": "z-AqtZKn9s2o"
      }
    },
    {
      "cell_type": "code",
      "source": [
        "a = 10\n",
        "a"
      ],
      "metadata": {
        "colab": {
          "base_uri": "https://localhost:8080/"
        },
        "id": "ONzdUiHwccV9",
        "outputId": "fa50ef4c-a545-4c3e-85ad-433c860fc5c7"
      },
      "execution_count": null,
      "outputs": [
        {
          "output_type": "execute_result",
          "data": {
            "text/plain": [
              "10"
            ]
          },
          "metadata": {},
          "execution_count": 7
        }
      ]
    },
    {
      "cell_type": "markdown",
      "source": [
        "Ahora modificamos el valor de **a**, para que sea igual a 15:"
      ],
      "metadata": {
        "id": "Hfz_lDifchoE"
      }
    },
    {
      "cell_type": "code",
      "source": [
        "a = 15\n",
        "a"
      ],
      "metadata": {
        "colab": {
          "base_uri": "https://localhost:8080/"
        },
        "id": "xY10xLT2cqw8",
        "outputId": "052512dd-9e2f-4980-91f7-c89ab0e4a22c"
      },
      "execution_count": null,
      "outputs": [
        {
          "output_type": "execute_result",
          "data": {
            "text/plain": [
              "15"
            ]
          },
          "metadata": {},
          "execution_count": 8
        }
      ]
    },
    {
      "cell_type": "markdown",
      "source": [
        "Volvemos a modificarlo para que vuelva a ser igual a 10:"
      ],
      "metadata": {
        "id": "IItjMpRqc_6h"
      }
    },
    {
      "cell_type": "code",
      "source": [
        "a -= 5\n",
        "a"
      ],
      "metadata": {
        "colab": {
          "base_uri": "https://localhost:8080/"
        },
        "id": "PmjvGJOddDcr",
        "outputId": "8dbdd554-a6d5-4112-b3bf-6c13daa14c4e"
      },
      "execution_count": null,
      "outputs": [
        {
          "output_type": "execute_result",
          "data": {
            "text/plain": [
              "10"
            ]
          },
          "metadata": {},
          "execution_count": 9
        }
      ]
    },
    {
      "cell_type": "markdown",
      "source": [
        "De esta forma, podemos cómprobar que 1) el valor de la variable puede cambiar dentro de un mismo programa, y 2) (**MUY IMPORTANTE**) el operador de asignación por excelencia, el que nos permite crear una variable, es `=`\n",
        "\n",
        "En este sentido, es fundamental no confundir el operador de asignación `=`, con el operador de comparación `==`. Veámos un ejemplo:"
      ],
      "metadata": {
        "id": "Q4bRcdGYdIrE"
      }
    },
    {
      "cell_type": "code",
      "source": [
        "b = 7\n",
        "b"
      ],
      "metadata": {
        "colab": {
          "base_uri": "https://localhost:8080/"
        },
        "id": "y918fu_ed3vB",
        "outputId": "19e54789-2fe6-44c1-d901-b997edaaa053"
      },
      "execution_count": null,
      "outputs": [
        {
          "output_type": "execute_result",
          "data": {
            "text/plain": [
              "7"
            ]
          },
          "metadata": {},
          "execution_count": 10
        }
      ]
    },
    {
      "cell_type": "code",
      "source": [
        "b == 10"
      ],
      "metadata": {
        "colab": {
          "base_uri": "https://localhost:8080/"
        },
        "id": "COgxckD8d9Vx",
        "outputId": "d133de69-b885-47e2-8c91-4926a21ad88e"
      },
      "execution_count": null,
      "outputs": [
        {
          "output_type": "execute_result",
          "data": {
            "text/plain": [
              "False"
            ]
          },
          "metadata": {},
          "execution_count": 12
        }
      ]
    },
    {
      "cell_type": "markdown",
      "source": [
        "Con `=` hemos asignado el valor 7 a **b**, creando una variable; y con `==` le hemos preguntado a Python si **b** es igual a 10, respondiéndonos que no, que es falso. Sin embargo, si le preguntáramos si **b** es igual a 7, nos diría que sí, que es verdad:"
      ],
      "metadata": {
        "id": "_kh2hFEUeGf_"
      }
    },
    {
      "cell_type": "code",
      "source": [
        "b == 7"
      ],
      "metadata": {
        "colab": {
          "base_uri": "https://localhost:8080/"
        },
        "id": "uzD780Xnen7N",
        "outputId": "94675ca3-ce2b-4086-e047-4e395f527555"
      },
      "execution_count": null,
      "outputs": [
        {
          "output_type": "execute_result",
          "data": {
            "text/plain": [
              "True"
            ]
          },
          "metadata": {},
          "execution_count": 13
        }
      ]
    },
    {
      "cell_type": "markdown",
      "source": [
        "Otra cosa que debemos tener en cuenta a la hora de crear una variable en Python es que el nombre de ésta solo puede empezar por letras (nunca por números ni guiones bajos - aunque sí puede contener en su interior números o guiones bajos). Los guiones bajos se emplean cuando el nombre de la variable contiene más de una palabra, usándose para unir dichas palabras. Por ejemplo, nombres de variables válidos serían los siguientes: `variable`, `Variable`, `Variable1` o `Nombre_Variable`; y no serían válidos ni `1Variable` ni `_Variable` ni `Nombre Variable`.\n",
        "\n",
        "Asimismo, una función predefinida de Python muy útil para saber qué tipo de dato contiene una variable es\n",
        "```python\n",
        "type()\n",
        "```\n",
        "Lo vemos con un ejemplo:"
      ],
      "metadata": {
        "id": "fFUqLvrQa2Nr"
      }
    },
    {
      "cell_type": "code",
      "source": [
        "#Vamos a crear una variable númerica tipo entero: \n",
        "numero = 10\n",
        "type(numero)"
      ],
      "metadata": {
        "colab": {
          "base_uri": "https://localhost:8080/"
        },
        "id": "G0BauXvOdXV5",
        "outputId": "ff9e0367-6814-4720-fd5d-c917438e8f5a"
      },
      "execution_count": null,
      "outputs": [
        {
          "output_type": "execute_result",
          "data": {
            "text/plain": [
              "int"
            ]
          },
          "metadata": {},
          "execution_count": 1
        }
      ]
    },
    {
      "cell_type": "code",
      "source": [
        "#Modificamos el valor de la variable:\n",
        "numero = 10.5\n",
        "type(numero)\n",
        "#Ahora será de tipo decimal o flotante"
      ],
      "metadata": {
        "colab": {
          "base_uri": "https://localhost:8080/"
        },
        "id": "H-fFGUzrdcbH",
        "outputId": "b35faa44-a4d0-4f2e-cb22-a43d91e2c824"
      },
      "execution_count": null,
      "outputs": [
        {
          "output_type": "execute_result",
          "data": {
            "text/plain": [
              "float"
            ]
          },
          "metadata": {},
          "execution_count": 2
        }
      ]
    },
    {
      "cell_type": "code",
      "source": [
        "#Volvemos a cambiar el valor:\n",
        "numero = \"Hola\"\n",
        "type(numero)"
      ],
      "metadata": {
        "colab": {
          "base_uri": "https://localhost:8080/"
        },
        "id": "2ODKDzh6doSW",
        "outputId": "01d5b3aa-3b41-4519-c3a9-34226340fc4f"
      },
      "execution_count": null,
      "outputs": [
        {
          "output_type": "execute_result",
          "data": {
            "text/plain": [
              "str"
            ]
          },
          "metadata": {},
          "execution_count": 3
        }
      ]
    },
    {
      "cell_type": "markdown",
      "source": [
        "Vemos que, aunque se llame número, la variable es de tipo string o texto. Es decir, el tipo de la variable no lo marca su nombre, sino su contenido\n",
        "\n",
        "Por último, dentro de este apartado, comentar que la forma de poner comentarios dentro del código en Python, como hemos podido ver en los ejemplos anteriores, es mediante la colocación de una `#` al principio del comentario:\n",
        "```python\n",
        "#Esto es un comentario.\n",
        "#Todas las líneas de código que presenten una # se considerarán comentarios desde la primera # que tengan.\n",
        "```"
      ],
      "metadata": {
        "id": "z7P5Pss_eGrC"
      }
    },
    {
      "cell_type": "markdown",
      "source": [
        "#Estructuras de datos\n",
        "Existen tres tipos principales de estructuras de datos en Python: las listas, las tuplas, los diccionarios y los *dataframes*. Los últimos los veremos brevemente en el último apartado del cuaderno, ya que para usarlos necesitamos cargar la librería **Pandas**.\n"
      ],
      "metadata": {
        "id": "FsVSPOtaQ-SJ"
      }
    },
    {
      "cell_type": "markdown",
      "source": [
        "###**Listas**\n",
        "Características básicas de las **listas**:\n",
        "* Son el equivalente en Python de los *arrays* de otros lenguajes de programación.\n",
        "* Son contenedores de variables, es decir, nos permiten almacenar más de un único valor. Además, estos valores pueden ser de cualquier tipo: enteros, *strings*, otras listas, etc.\n",
        "* Permiten añadir nuevos valores a lo largo de un programa, es decir, es posible aumentar el número de elementos de una lista ya creada.\n",
        "* Los elementos de una lista quedan identificados con un índice, que no es más que la posición de cada elemento dentro de la lista. Aquí es necesario tener una en cuenta una particularidad de Python (**MUY IMPORTANTE**): la numeración de los elementos de una lista, tupla, diccionario, *dataframe*, etc, comienza en 0. Es decir, el primer número de una lista no será el número 1, sino el 0, el segundo será el 1, y así sucesivamente.\n",
        "\n",
        "Sintaxis de una lista: las listas quedan definidas mediante dos corchetes (**[...]**):\n",
        "```python\n",
        "Nombre_Lista = [elemento_1, elemento_2, ..., elemento_n]\n",
        "```\n",
        "Una lista también puede estar vacía:\n",
        "```python\n",
        "Nombre_Lista_vacia = []\n",
        "```\n",
        "Esto puede ser útil en ciertos momentos: creamos una lista vacía que luego iremos rellenando con ciertos elementos.\n",
        "\n",
        "Asimismo, las listas permiten una serie de funciones/métodos muy útiles, como son los siguientes:"
      ],
      "metadata": {
        "id": "Bd2nKq0F_fkS"
      }
    },
    {
      "cell_type": "markdown",
      "source": [
        "######**Acceder a un elemento o varios de una lista**\n"
      ],
      "metadata": {
        "id": "WwL5dVeu_lCJ"
      }
    },
    {
      "cell_type": "code",
      "source": [
        "#Creamos la lista:\n",
        "Lista = [\"Hola\", 1, 4.5, \"27\"]\n",
        "type(Lista)"
      ],
      "metadata": {
        "colab": {
          "base_uri": "https://localhost:8080/"
        },
        "id": "vhDAFY5i1QTP",
        "outputId": "f50b1010-e804-4aeb-d0fa-75f47785ddc3"
      },
      "execution_count": null,
      "outputs": [
        {
          "output_type": "execute_result",
          "data": {
            "text/plain": [
              "list"
            ]
          },
          "metadata": {},
          "execution_count": 91
        }
      ]
    },
    {
      "cell_type": "markdown",
      "source": [
        "Vemos que el objeto creado es de tipo **list** (lista)."
      ],
      "metadata": {
        "id": "zjh0jURx1U77"
      }
    },
    {
      "cell_type": "code",
      "source": [
        "#Accedemos al primer elemento\n",
        "Lista[0]"
      ],
      "metadata": {
        "colab": {
          "base_uri": "https://localhost:8080/",
          "height": 35
        },
        "id": "W72IGYymK7re",
        "outputId": "273873a3-d4f3-474b-89cf-1a1238ab7c35"
      },
      "execution_count": null,
      "outputs": [
        {
          "output_type": "execute_result",
          "data": {
            "text/plain": [
              "'Hola'"
            ],
            "application/vnd.google.colaboratory.intrinsic+json": {
              "type": "string"
            }
          },
          "metadata": {},
          "execution_count": 35
        }
      ]
    },
    {
      "cell_type": "code",
      "source": [
        "#Accedemos al primero, segundo y tercero:\n",
        "Lista[0:3]\n",
        "#Cuando queremos extraer una porción de lista como la anterior que comience en la posición 0, el 0 es posible quitarlo del código: imitando el caso anterior: Lista[:3]\n",
        "#Lo mismo si quiséramos extraer una porción que contuviese el último elemento. Por ejemplo, para extraer desde el índice 2 hasta el final podríamos usar: Lista[2:4] o Lista[2:]"
      ],
      "metadata": {
        "colab": {
          "base_uri": "https://localhost:8080/"
        },
        "id": "Oyz_Ft7FWd5W",
        "outputId": "66e92128-b51c-4ccd-c752-948862602733"
      },
      "execution_count": null,
      "outputs": [
        {
          "output_type": "execute_result",
          "data": {
            "text/plain": [
              "['Hola', 1, 4.5]"
            ]
          },
          "metadata": {},
          "execution_count": 6
        }
      ]
    },
    {
      "cell_type": "markdown",
      "source": [
        "En el ejemplo anterior, hemos escrito 3 y no 2 (aun queriendo acceder a los elementos 0, 1 y 2), porque Python cuenta un elemento menos del último que hemos nombrado."
      ],
      "metadata": {
        "id": "DqYzFG-nW709"
      }
    },
    {
      "cell_type": "code",
      "source": [
        "#Accedemos a todos los elementos de lista:\n",
        "Lista[:]\n",
        "#También podríamos poner directamente el nombre de la lista: Lista"
      ],
      "metadata": {
        "colab": {
          "base_uri": "https://localhost:8080/"
        },
        "id": "4boHNu0ZW1qp",
        "outputId": "65199399-de5b-45e1-f02d-75357d3a8775"
      },
      "execution_count": null,
      "outputs": [
        {
          "output_type": "execute_result",
          "data": {
            "text/plain": [
              "['Hola', 1, 4.5, '27']"
            ]
          },
          "metadata": {},
          "execution_count": 7
        }
      ]
    },
    {
      "cell_type": "code",
      "source": [
        "#Accedemos al último elemento de la lista:\n",
        "Lista[-1]"
      ],
      "metadata": {
        "colab": {
          "base_uri": "https://localhost:8080/",
          "height": 35
        },
        "id": "Vv9mUWk3XL6S",
        "outputId": "56ffa5d1-355b-4d56-f934-cb5c5085ccb6"
      },
      "execution_count": null,
      "outputs": [
        {
          "output_type": "execute_result",
          "data": {
            "text/plain": [
              "'27'"
            ],
            "application/vnd.google.colaboratory.intrinsic+json": {
              "type": "string"
            }
          },
          "metadata": {},
          "execution_count": 11
        }
      ]
    },
    {
      "cell_type": "markdown",
      "source": [
        "Otra particularidad de Python, como podemos ver en el cuadro de código de arriba, es que cuando queremos acceder por el final de una lista o tupla, Python no comienza a contar por 0, sino que lo hace por 1. Y para indicarle que queremos contar de detrás hacia delante, debemos escribir el símbolo menos (**-**)."
      ],
      "metadata": {
        "id": "0AmFB4hHXY_b"
      }
    },
    {
      "cell_type": "markdown",
      "source": [
        "######**Añadir un elemento al final de la lista**\n",
        "```python\n",
        "Nombre_Lista.append(elemento_a_introducir)\n",
        "```"
      ],
      "metadata": {
        "id": "SpJsBDwz_uaj"
      }
    },
    {
      "cell_type": "code",
      "source": [
        "Lista.append(\"Adiós\")\n",
        "Lista"
      ],
      "metadata": {
        "colab": {
          "base_uri": "https://localhost:8080/"
        },
        "id": "QRbmH77LZGJ4",
        "outputId": "854104b8-6165-41c0-9bfc-135fb176ef0a"
      },
      "execution_count": null,
      "outputs": [
        {
          "output_type": "execute_result",
          "data": {
            "text/plain": [
              "['Hola', 1, 4.5, '27', 'Adiós']"
            ]
          },
          "metadata": {},
          "execution_count": 92
        }
      ]
    },
    {
      "cell_type": "markdown",
      "source": [
        "#####**Añadir un elemento en una posición determinada**\n",
        "```python\n",
        "Nombre_Lista.insert(posición_en_la_que_queremos_introducir_el_nuevo_elemento, elemento_a_introducir)\n",
        "```"
      ],
      "metadata": {
        "id": "EXF6JFlHZZUN"
      }
    },
    {
      "cell_type": "code",
      "source": [
        "Lista.insert(4,-4)\n",
        "Lista"
      ],
      "metadata": {
        "colab": {
          "base_uri": "https://localhost:8080/"
        },
        "id": "GVe-AUKTZwSR",
        "outputId": "3fbf907e-d012-4362-a473-ff7f9d18eb38"
      },
      "execution_count": null,
      "outputs": [
        {
          "output_type": "execute_result",
          "data": {
            "text/plain": [
              "['Hola', 1, 4.5, '27', -4, 'Adiós']"
            ]
          },
          "metadata": {},
          "execution_count": 93
        }
      ]
    },
    {
      "cell_type": "markdown",
      "source": [
        "#####**Añadir más de un elemento**\n",
        "```python\n",
        "Nombre_Lista.extend([elemento_a_introducir_1, elemento_a_introducir_2...])\n",
        "```"
      ],
      "metadata": {
        "id": "mEjzQOIvaPmk"
      }
    },
    {
      "cell_type": "code",
      "source": [
        "Lista.extend([41, \"Buenos días\", \"Hola\", \"Hola\"])\n",
        "Lista"
      ],
      "metadata": {
        "colab": {
          "base_uri": "https://localhost:8080/"
        },
        "id": "uEOpLGwFae4M",
        "outputId": "3f34e70a-4b64-44b7-c5ad-fe5a345978a4"
      },
      "execution_count": null,
      "outputs": [
        {
          "output_type": "execute_result",
          "data": {
            "text/plain": [
              "['Hola', 1, 4.5, '27', -4, 'Adiós', 41, 'Buenos días', 'Hola', 'Hola']"
            ]
          },
          "metadata": {},
          "execution_count": 94
        }
      ]
    },
    {
      "cell_type": "markdown",
      "source": [
        "Vemos que tenemos un elemento (`\"Hola\"`) que está repetido. No pasa nada, Python no da problemas por ello."
      ],
      "metadata": {
        "id": "P6tNAT_zbPHM"
      }
    },
    {
      "cell_type": "markdown",
      "source": [
        "#####**Contar el número de veces que un elemento aparece en una lista**\n",
        "```python\n",
        "Nombre_Lista.count(elemento_que_queremos_contar)\n",
        "```"
      ],
      "metadata": {
        "id": "V4TBk6jzfpmn"
      }
    },
    {
      "cell_type": "code",
      "source": [
        "Lista.count(\"Hola\")"
      ],
      "metadata": {
        "colab": {
          "base_uri": "https://localhost:8080/"
        },
        "id": "qo5nHyeof3o2",
        "outputId": "30265320-74cd-4600-f849-3c93f3365f66"
      },
      "execution_count": null,
      "outputs": [
        {
          "output_type": "execute_result",
          "data": {
            "text/plain": [
              "3"
            ]
          },
          "metadata": {},
          "execution_count": 95
        }
      ]
    },
    {
      "cell_type": "markdown",
      "source": [
        "##### **Saber la posición de un elemento en una lista**\n",
        "```python\n",
        "Nombre_Lista.index(elemento_del_que_queremos_saber_su_posición)\n",
        "```"
      ],
      "metadata": {
        "id": "PHDBAg7x_-cQ"
      }
    },
    {
      "cell_type": "code",
      "source": [
        "Lista.index(-4)"
      ],
      "metadata": {
        "colab": {
          "base_uri": "https://localhost:8080/"
        },
        "id": "QxANP-LVcB_6",
        "outputId": "3b6ef1e9-94a1-4ba0-a9ca-b8e7d7a25c68"
      },
      "execution_count": null,
      "outputs": [
        {
          "output_type": "execute_result",
          "data": {
            "text/plain": [
              "4"
            ]
          },
          "metadata": {},
          "execution_count": 96
        }
      ]
    },
    {
      "cell_type": "markdown",
      "source": [
        "No obstante, debemos tener en cuenta que, si un elemento está repetido en la lista (como es el caso de `\"Hola\"`), y utilizamos el método `.index()` para conocer la posición de dicho elemento, Python devolverá la posición del primer elemento que coincida con el que estamos buscando:"
      ],
      "metadata": {
        "id": "EaxlHnXUcIGn"
      }
    },
    {
      "cell_type": "code",
      "source": [
        "Lista.index(\"Hola\")"
      ],
      "metadata": {
        "colab": {
          "base_uri": "https://localhost:8080/"
        },
        "id": "acQoZSDKckZi",
        "outputId": "8ba494cc-4786-4c65-d02c-7a84c83c4d2e"
      },
      "execution_count": null,
      "outputs": [
        {
          "output_type": "execute_result",
          "data": {
            "text/plain": [
              "0"
            ]
          },
          "metadata": {},
          "execution_count": 97
        }
      ]
    },
    {
      "cell_type": "markdown",
      "source": [
        "Sin embargo, si sabemos que un elemento está repetido n veces, podemos decir que nos dé la posición que ocupa el n elemento repetido. Por ejemplo, ¿qué posición ocupa el segundo `\"Hola\"`?"
      ],
      "metadata": {
        "id": "e8lESbH2BZCy"
      }
    },
    {
      "cell_type": "code",
      "source": [
        "Lista.index(\"Hola\", 2)"
      ],
      "metadata": {
        "colab": {
          "base_uri": "https://localhost:8080/"
        },
        "id": "AjDAtSA0Bs8G",
        "outputId": "2f002df8-20d6-4580-80db-3b452f245769"
      },
      "execution_count": null,
      "outputs": [
        {
          "output_type": "execute_result",
          "data": {
            "text/plain": [
              "8"
            ]
          },
          "metadata": {},
          "execution_count": 98
        }
      ]
    },
    {
      "cell_type": "markdown",
      "source": [
        "#####**Invertir el orden de los elementos de la lista**"
      ],
      "metadata": {
        "id": "TdefIgangOZY"
      }
    },
    {
      "cell_type": "code",
      "source": [
        "Lista.reverse()\n",
        "Lista"
      ],
      "metadata": {
        "colab": {
          "base_uri": "https://localhost:8080/"
        },
        "id": "9wd7fbb2gGo4",
        "outputId": "c1770897-19c6-4880-91ba-84b61072c4d2"
      },
      "execution_count": null,
      "outputs": [
        {
          "output_type": "execute_result",
          "data": {
            "text/plain": [
              "['Hola', 'Hola', 'Buenos días', 41, 'Adiós', -4, '27', 4.5, 1, 'Hola']"
            ]
          },
          "metadata": {},
          "execution_count": 99
        }
      ]
    },
    {
      "cell_type": "markdown",
      "source": [
        "#####**Eliminar un elemento de la lista**\n",
        "```python\n",
        "Nombre_Lista.remove(elemento_que_queremos_eliminar)\n",
        "```"
      ],
      "metadata": {
        "id": "40R8DV6Nc17T"
      }
    },
    {
      "cell_type": "code",
      "source": [
        "Lista.remove(41)\n",
        "Lista"
      ],
      "metadata": {
        "colab": {
          "base_uri": "https://localhost:8080/"
        },
        "id": "RjXK0TijdbWP",
        "outputId": "0876cca7-dee9-4da7-8a74-8e52277388af"
      },
      "execution_count": null,
      "outputs": [
        {
          "output_type": "execute_result",
          "data": {
            "text/plain": [
              "['Hola', 'Hola', 'Buenos días', 'Adiós', -4, '27', 4.5, 1, 'Hola']"
            ]
          },
          "metadata": {},
          "execution_count": 100
        }
      ]
    },
    {
      "cell_type": "markdown",
      "source": [
        "Al igual que pasaba con el método `.index()`, si utilizamos `.remove()` con un elemento que está repetido, Python eliminará el primer elemento que coincida con el que estamos buscando:"
      ],
      "metadata": {
        "id": "4rzrdtl9djXo"
      }
    },
    {
      "cell_type": "code",
      "source": [
        "Lista.remove(\"Hola\")\n",
        "Lista"
      ],
      "metadata": {
        "colab": {
          "base_uri": "https://localhost:8080/"
        },
        "id": "XxAiQAiVdBTM",
        "outputId": "1faffc18-cdc1-486f-ff47-85eca9778bb4"
      },
      "execution_count": null,
      "outputs": [
        {
          "output_type": "execute_result",
          "data": {
            "text/plain": [
              "['Hola', 'Buenos días', 'Adiós', -4, '27', 4.5, 1, 'Hola']"
            ]
          },
          "metadata": {},
          "execution_count": 101
        }
      ]
    },
    {
      "cell_type": "markdown",
      "source": [
        "En este caso, al contrario que con el método `.index()`, si sabemos que un elemento está repetido, no podemos decirle qué elemento repetido eliminar. Por ejemplo, vamos a eliminar el segundo `\"Hola\"` que queda en la tupla:"
      ],
      "metadata": {
        "id": "KK5DlxHuCuwn"
      }
    },
    {
      "cell_type": "code",
      "source": [
        "Lista.remove(\"Hola\", 2)"
      ],
      "metadata": {
        "colab": {
          "base_uri": "https://localhost:8080/",
          "height": 165
        },
        "id": "NVfIsySQDbQo",
        "outputId": "4bf090d1-0fb3-4264-d951-57bb4c2b480b"
      },
      "execution_count": null,
      "outputs": [
        {
          "output_type": "error",
          "ename": "TypeError",
          "evalue": "ignored",
          "traceback": [
            "\u001b[0;31m---------------------------------------------------------------------------\u001b[0m",
            "\u001b[0;31mTypeError\u001b[0m                                 Traceback (most recent call last)",
            "\u001b[0;32m<ipython-input-102-acb4d2e1a4be>\u001b[0m in \u001b[0;36m<module>\u001b[0;34m()\u001b[0m\n\u001b[0;32m----> 1\u001b[0;31m \u001b[0mLista\u001b[0m\u001b[0;34m.\u001b[0m\u001b[0mremove\u001b[0m\u001b[0;34m(\u001b[0m\u001b[0;34m\"Hola\"\u001b[0m\u001b[0;34m,\u001b[0m \u001b[0;36m2\u001b[0m\u001b[0;34m)\u001b[0m\u001b[0;34m\u001b[0m\u001b[0;34m\u001b[0m\u001b[0m\n\u001b[0m",
            "\u001b[0;31mTypeError\u001b[0m: remove() takes exactly one argument (2 given)"
          ]
        }
      ]
    },
    {
      "cell_type": "markdown",
      "source": [
        "Vemos que salta un error, ya que le estamos dando dos argumentos a un método que solo requiere uno."
      ],
      "metadata": {
        "id": "dUXX0wxHDgcE"
      }
    },
    {
      "cell_type": "markdown",
      "source": [
        "#####**Eliminar el último elemento de una lista**\n",
        "```python\n",
        "Nombre_Lista.pop()\n",
        "```"
      ],
      "metadata": {
        "id": "hEdMAK9ed4iQ"
      }
    },
    {
      "cell_type": "code",
      "source": [
        "Lista.pop()\n",
        "Lista"
      ],
      "metadata": {
        "colab": {
          "base_uri": "https://localhost:8080/"
        },
        "id": "29NGQSmXeWUO",
        "outputId": "a9131f6d-1517-4f9f-d9ea-deecadf409ed"
      },
      "execution_count": null,
      "outputs": [
        {
          "output_type": "execute_result",
          "data": {
            "text/plain": [
              "['Hola', 'Buenos días', 'Adiós', -4, '27', 4.5, 1]"
            ]
          },
          "metadata": {},
          "execution_count": 103
        }
      ]
    },
    {
      "cell_type": "markdown",
      "source": [
        "#####**Conocer la longitud de una lista**\n",
        "Es decir, el número de elementos que la componen:\n",
        "```python\n",
        "len(Nombre_Lista)\n",
        "```"
      ],
      "metadata": {
        "id": "8b7xuQJUkrIq"
      }
    },
    {
      "cell_type": "code",
      "source": [
        "len(Lista)"
      ],
      "metadata": {
        "colab": {
          "base_uri": "https://localhost:8080/"
        },
        "id": "_TS4MU0wk2rD",
        "outputId": "3182279d-0fb1-4d52-9eb1-3b7a9f93ad75"
      },
      "execution_count": null,
      "outputs": [
        {
          "output_type": "execute_result",
          "data": {
            "text/plain": [
              "7"
            ]
          },
          "metadata": {},
          "execution_count": 104
        }
      ]
    },
    {
      "cell_type": "markdown",
      "source": [
        "#####**Unir dos o más listas**\n",
        "```python\n",
        "Nombre_Lista = Nombre_Lista + Nombre_Lista_2 + ... + Nombre_Lista_n\n",
        "```"
      ],
      "metadata": {
        "id": "gsHThZrye7jf"
      }
    },
    {
      "cell_type": "code",
      "source": [
        "Lista2 = [\"Eeeyyyy\", 96]\n",
        "Lista = Lista + Lista2\n",
        "Lista"
      ],
      "metadata": {
        "colab": {
          "base_uri": "https://localhost:8080/"
        },
        "id": "1USyfe0UfPdi",
        "outputId": "c1218fed-e4e8-47f8-deed-c834d74f8325"
      },
      "execution_count": null,
      "outputs": [
        {
          "output_type": "execute_result",
          "data": {
            "text/plain": [
              "['Hola', 'Buenos días', 'Adiós', -4, '27', 4.5, 1, 'Eeeyyyy', 96]"
            ]
          },
          "metadata": {},
          "execution_count": 41
        }
      ]
    },
    {
      "cell_type": "markdown",
      "source": [
        "##### **Duplicar, triplicar, etc, los elementos de una lista**\n",
        "```python\n",
        "Nombre_Lista * número_de_veces_que_queramos_repetir_la_lista\n",
        "```"
      ],
      "metadata": {
        "id": "X2gGmBBYfOx_"
      }
    },
    {
      "cell_type": "code",
      "source": [
        "Lista * 2"
      ],
      "metadata": {
        "colab": {
          "base_uri": "https://localhost:8080/"
        },
        "id": "XOrncILbg7xd",
        "outputId": "4e3dd23f-be63-40a8-9647-c7d5f0b01992"
      },
      "execution_count": null,
      "outputs": [
        {
          "output_type": "execute_result",
          "data": {
            "text/plain": [
              "['Hola',\n",
              " 'Buenos días',\n",
              " 'Adiós',\n",
              " -4,\n",
              " '27',\n",
              " 4.5,\n",
              " 1,\n",
              " 'Eeeyyyy',\n",
              " 96,\n",
              " 'Hola',\n",
              " 'Buenos días',\n",
              " 'Adiós',\n",
              " -4,\n",
              " '27',\n",
              " 4.5,\n",
              " 1,\n",
              " 'Eeeyyyy',\n",
              " 96]"
            ]
          },
          "metadata": {},
          "execution_count": 42
        }
      ]
    },
    {
      "cell_type": "markdown",
      "source": [
        "#####**Desempaquetar los elementos de una lista**\n",
        "```python\n",
        "Nombre_Lista = [elemento_1, elemento_2,...., elemento_n]\n",
        "#Desempaquetamos la anterior tupla en cada uno de los elementos que la componían:\n",
        "elemento_1, elemento_2,..., elemento_n = Nombre_Lista\n",
        "```\n"
      ],
      "metadata": {
        "id": "wyIhvXIEJWq0"
      }
    },
    {
      "cell_type": "code",
      "source": [
        "Lista_Persona = [\"Noelia\", 160, 50, \"Verdes\"]\n",
        "nombre, altura, peso, color_ojos = Lista_Persona\n",
        "nombre"
      ],
      "metadata": {
        "colab": {
          "base_uri": "https://localhost:8080/",
          "height": 35
        },
        "id": "fhN2mMrbJcwo",
        "outputId": "bb93406c-49fa-4e5c-e886-6b8773cb8310"
      },
      "execution_count": null,
      "outputs": [
        {
          "output_type": "execute_result",
          "data": {
            "text/plain": [
              "'Noelia'"
            ],
            "application/vnd.google.colaboratory.intrinsic+json": {
              "type": "string"
            }
          },
          "metadata": {},
          "execution_count": 60
        }
      ]
    },
    {
      "cell_type": "code",
      "source": [
        "type(altura)"
      ],
      "metadata": {
        "colab": {
          "base_uri": "https://localhost:8080/"
        },
        "id": "ltUAax6EJf2R",
        "outputId": "115e803c-587b-41b4-bd61-7f1e35c556a3"
      },
      "execution_count": null,
      "outputs": [
        {
          "output_type": "execute_result",
          "data": {
            "text/plain": [
              "int"
            ]
          },
          "metadata": {},
          "execution_count": 61
        }
      ]
    },
    {
      "cell_type": "markdown",
      "source": [
        "###**Tuplas**\n",
        "Las **tuplas** son listas inmutables, esto es, una vez creadas, no se pueden modificar. Debido a ello, no cuentan con métodos especiales para añadir o eliminar elementos de su interior.\n",
        "\n",
        "No obstante, si podemos realizar otras operaciones con ellas, como extraer elementos de la tupla, buscar la posición de los mismos o comprobar la existencia de un elemento en la tupla.\n",
        "\n",
        "**Sintaxis de una tupla**: las tuplas quedan definidas mediante dos paréntesis (**(...)**):\n",
        "```python\n",
        "Nombre_Tupla = (elemento_1, elemento_2, ..., elemento_n)\n",
        "```\n",
        "\n",
        "De nuevo, como en las listas, la numeración de los elementos comienza en 0.\n",
        "\n",
        "Una pregunta que podemos hacernos es: si las tuplas no son más que listas con ciertas restricciones, **¿para qué sirven las tuplas?**\n",
        "* Las tuplas se ejecutan más rápido que las listas, ya que ocupan menos espacio en memoria. Por ello, si sabemos que los elementos que conforman una lista no los vamos a tener que modificar en un futuro, es mejor utilizar una tupla y no una lista. Pero si creemos que pasará lo contrario - que sí necesitaremos añadir o eliminar elementos - será necesario emplear una lista.\n",
        "* Las tuplas pueden utilizarse como claves de un diccionario, mientras que no se puede hacer lo mismo con las listas.\n",
        "* Las tuplas permiten formatear *strings*. Más adelante veremos qué significa esto."
      ],
      "metadata": {
        "id": "kBDatNZxhFMd"
      }
    },
    {
      "cell_type": "markdown",
      "source": [
        "##### **Acceder a uno o varios elementos de una tupla**"
      ],
      "metadata": {
        "id": "78kc8jVXAfJ9"
      }
    },
    {
      "cell_type": "code",
      "source": [
        "#Creamos la tupla:\n",
        "Tupla = (\"Hola\", 27, 137,5, -8, True, 27)\n",
        "type(Tupla)"
      ],
      "metadata": {
        "colab": {
          "base_uri": "https://localhost:8080/"
        },
        "id": "4xp9OrRq9rwS",
        "outputId": "ad017824-e347-42b0-8534-feea0ff47e8e"
      },
      "execution_count": null,
      "outputs": [
        {
          "output_type": "execute_result",
          "data": {
            "text/plain": [
              "tuple"
            ]
          },
          "metadata": {},
          "execution_count": 43
        }
      ]
    },
    {
      "cell_type": "markdown",
      "source": [
        "Vemos que el objeto creado es de tipo **tuple** (tupla)."
      ],
      "metadata": {
        "id": "pJLEU6BV96Q7"
      }
    },
    {
      "cell_type": "code",
      "source": [
        "#Accedemos al primer elemento:\n",
        "Tupla[0]"
      ],
      "metadata": {
        "colab": {
          "base_uri": "https://localhost:8080/",
          "height": 35
        },
        "id": "qqol8bA0-SR3",
        "outputId": "a71618d7-1b63-4be7-ea59-deeb3676c38a"
      },
      "execution_count": null,
      "outputs": [
        {
          "output_type": "execute_result",
          "data": {
            "text/plain": [
              "'Hola'"
            ],
            "application/vnd.google.colaboratory.intrinsic+json": {
              "type": "string"
            }
          },
          "metadata": {},
          "execution_count": 9
        }
      ]
    },
    {
      "cell_type": "code",
      "source": [
        "#Accedemos a los elementos entre las posiciones 1 y 3:\n",
        "Tupla[1:4]"
      ],
      "metadata": {
        "colab": {
          "base_uri": "https://localhost:8080/"
        },
        "id": "o-rTVd1u-gfY",
        "outputId": "aa3bd9a4-16d7-46e1-85d3-cc1d0698b6bb"
      },
      "execution_count": null,
      "outputs": [
        {
          "output_type": "execute_result",
          "data": {
            "text/plain": [
              "(27, 137, 5)"
            ]
          },
          "metadata": {},
          "execution_count": 10
        }
      ]
    },
    {
      "cell_type": "code",
      "source": [
        "#Accedemos al segundo elemento por el final:\n",
        "Tupla[-2]"
      ],
      "metadata": {
        "colab": {
          "base_uri": "https://localhost:8080/"
        },
        "id": "0CCn_c2Z-n7-",
        "outputId": "75bb8ea2-d481-4c5e-ad07-3eeec725f172"
      },
      "execution_count": null,
      "outputs": [
        {
          "output_type": "execute_result",
          "data": {
            "text/plain": [
              "True"
            ]
          },
          "metadata": {},
          "execution_count": 11
        }
      ]
    },
    {
      "cell_type": "code",
      "source": [
        "#Accedemos a todos los elementos:\n",
        "Tupla[:]"
      ],
      "metadata": {
        "colab": {
          "base_uri": "https://localhost:8080/"
        },
        "id": "ZOCjVa3a-tYO",
        "outputId": "427fdeeb-2231-4fda-d961-a31766a09110"
      },
      "execution_count": null,
      "outputs": [
        {
          "output_type": "execute_result",
          "data": {
            "text/plain": [
              "('Hola', 27, 137, 5, -8, True, 27)"
            ]
          },
          "metadata": {},
          "execution_count": 12
        }
      ]
    },
    {
      "cell_type": "markdown",
      "source": [
        "#####**Contar el número de veces que un elemento aparece en una tupla**\n",
        "```python\n",
        "Nombre_Tupla.count(elemento_que_queremos_contar)\n",
        "```"
      ],
      "metadata": {
        "id": "oobWD-3iEtSy"
      }
    },
    {
      "cell_type": "code",
      "source": [
        "Tupla.count(27)"
      ],
      "metadata": {
        "colab": {
          "base_uri": "https://localhost:8080/"
        },
        "id": "rd8NtIbWE5S2",
        "outputId": "19e80265-37f7-4493-8374-25c6fda01139"
      },
      "execution_count": null,
      "outputs": [
        {
          "output_type": "execute_result",
          "data": {
            "text/plain": [
              "2"
            ]
          },
          "metadata": {},
          "execution_count": 45
        }
      ]
    },
    {
      "cell_type": "markdown",
      "source": [
        "##### **Saber la posicición de un elemento en una tupla**\n",
        "```python\n",
        "Nombre_Tupla.index(elemento_cuya_posición_queremos_conocer)\n",
        "```"
      ],
      "metadata": {
        "id": "3_bKpjYE_Bbn"
      }
    },
    {
      "cell_type": "code",
      "source": [
        "Tupla.index(137)"
      ],
      "metadata": {
        "colab": {
          "base_uri": "https://localhost:8080/"
        },
        "id": "GgeZmUq4A5Zg",
        "outputId": "d9b51223-525e-4c5c-8f06-49f39bc6abeb"
      },
      "execution_count": null,
      "outputs": [
        {
          "output_type": "execute_result",
          "data": {
            "text/plain": [
              "2"
            ]
          },
          "metadata": {},
          "execution_count": 13
        }
      ]
    },
    {
      "cell_type": "markdown",
      "source": [
        "Al igual que pasaba con las listas, si un elemento se repite dentro de una tupla, podemos específicar la posición de qué elemento repetido deseamos conocer. Por ejemplo, vamos a ver qué posición ocupa el primer `27` y, luego, el segundo:"
      ],
      "metadata": {
        "id": "ER3isSwHFPEE"
      }
    },
    {
      "cell_type": "code",
      "source": [
        "Tupla.index(27)"
      ],
      "metadata": {
        "colab": {
          "base_uri": "https://localhost:8080/"
        },
        "id": "ilLayXeVFi6O",
        "outputId": "779704da-4dc5-4ba3-e85e-0199b2006711"
      },
      "execution_count": null,
      "outputs": [
        {
          "output_type": "execute_result",
          "data": {
            "text/plain": [
              "1"
            ]
          },
          "metadata": {},
          "execution_count": 46
        }
      ]
    },
    {
      "cell_type": "code",
      "source": [
        "Tupla.index(27, 2)"
      ],
      "metadata": {
        "colab": {
          "base_uri": "https://localhost:8080/"
        },
        "id": "v3JC5sfLFhX7",
        "outputId": "eb14b817-42fe-470e-ce14-46ab8d799787"
      },
      "execution_count": null,
      "outputs": [
        {
          "output_type": "execute_result",
          "data": {
            "text/plain": [
              "6"
            ]
          },
          "metadata": {},
          "execution_count": 47
        }
      ]
    },
    {
      "cell_type": "markdown",
      "source": [
        "#####**Saber si un elemento está dentro de una tupla**\n",
        "```python\n",
        "elemento_que_queremos_saber_si_esta_o_no_en_la_tupla in Nombre_Tupla \n",
        "```\n",
        "Python responderá a esta pregunta con `True` - si sí está - o `False` - si no está."
      ],
      "metadata": {
        "id": "cFcvj0p7G5zu"
      }
    },
    {
      "cell_type": "code",
      "source": [
        "27 in Tupla"
      ],
      "metadata": {
        "colab": {
          "base_uri": "https://localhost:8080/"
        },
        "id": "cMmu_ziYHdJr",
        "outputId": "86efc62c-d2f1-4a85-a754-6fce384ce96d"
      },
      "execution_count": null,
      "outputs": [
        {
          "output_type": "execute_result",
          "data": {
            "text/plain": [
              "True"
            ]
          },
          "metadata": {},
          "execution_count": 52
        }
      ]
    },
    {
      "cell_type": "code",
      "source": [
        "\"27\" in Tupla"
      ],
      "metadata": {
        "colab": {
          "base_uri": "https://localhost:8080/"
        },
        "id": "KktmjHLjHiHL",
        "outputId": "6916ae92-6389-453c-8caa-56ca307e7ad0"
      },
      "execution_count": null,
      "outputs": [
        {
          "output_type": "execute_result",
          "data": {
            "text/plain": [
              "False"
            ]
          },
          "metadata": {},
          "execution_count": 53
        }
      ]
    },
    {
      "cell_type": "markdown",
      "source": [
        "#####**Conocer la longitud de una tupla**\n",
        "Es decir, saber el número total de elementos que la componen:\n",
        "```python\n",
        "len(Nombre_Tupla)\n",
        "```"
      ],
      "metadata": {
        "id": "39JeJgsqjsgL"
      }
    },
    {
      "cell_type": "code",
      "source": [
        "len(Tupla)"
      ],
      "metadata": {
        "colab": {
          "base_uri": "https://localhost:8080/"
        },
        "id": "s17QyTOMj3KM",
        "outputId": "16ffad20-9492-461a-f8cb-716ff33e0432"
      },
      "execution_count": null,
      "outputs": [
        {
          "output_type": "execute_result",
          "data": {
            "text/plain": [
              "7"
            ]
          },
          "metadata": {},
          "execution_count": 88
        }
      ]
    },
    {
      "cell_type": "markdown",
      "source": [
        "#####**Desempaquetar los elementos de una tupla**\n",
        "```python\n",
        "Nombre_Tupla = (elemento_1, elemento_2,...., elemento_n)\n",
        "#Desempaquetamos la anterior tupla en cada uno de los elementos que la componían:\n",
        "elemento_1, elemento_2,..., elemento_n = Nombre_Tupla\n",
        "```"
      ],
      "metadata": {
        "id": "ifGepHeWHuAq"
      }
    },
    {
      "cell_type": "code",
      "source": [
        "#Creamos una tupla nueva que vamos a desempaquetar:\n",
        "Tupla_Persona = (\"Noelia\", 160, 50, \"Verdes\")\n",
        "#Desempaquetamos la tupla:\n",
        "nombre, altura, peso, color_ojos = Tupla_Persona\n",
        "nombre"
      ],
      "metadata": {
        "colab": {
          "base_uri": "https://localhost:8080/",
          "height": 35
        },
        "id": "ZxNlDbH0IOOs",
        "outputId": "795a1f9b-83fd-4512-e712-c90f75eeb115"
      },
      "execution_count": null,
      "outputs": [
        {
          "output_type": "execute_result",
          "data": {
            "text/plain": [
              "'Noelia'"
            ],
            "application/vnd.google.colaboratory.intrinsic+json": {
              "type": "string"
            }
          },
          "metadata": {},
          "execution_count": 55
        }
      ]
    },
    {
      "cell_type": "code",
      "source": [
        "type(nombre)"
      ],
      "metadata": {
        "colab": {
          "base_uri": "https://localhost:8080/"
        },
        "id": "Jr217LtiIzZT",
        "outputId": "ee539748-1cd4-4f8f-cd71-331720950449"
      },
      "execution_count": null,
      "outputs": [
        {
          "output_type": "execute_result",
          "data": {
            "text/plain": [
              "str"
            ]
          },
          "metadata": {},
          "execution_count": 56
        }
      ]
    },
    {
      "cell_type": "markdown",
      "source": [
        "#####**Formatear *strings* mediante tuplas**\n",
        "Lo vemos con un ejemplo:"
      ],
      "metadata": {
        "id": "RViJwPYGM3ag"
      }
    },
    {
      "cell_type": "code",
      "source": [
        "Nombre = \"Alejandro\"\n",
        "Edad = 25\n",
        "print(\"%s tiene %d años.\" % (Nombre, Edad))"
      ],
      "metadata": {
        "colab": {
          "base_uri": "https://localhost:8080/"
        },
        "id": "J_Z0J6akNUpO",
        "outputId": "7fdffb66-40fa-4fef-f03b-eea2d78c3a08"
      },
      "execution_count": null,
      "outputs": [
        {
          "output_type": "stream",
          "name": "stdout",
          "text": [
            "Alejandro tiene 25 años.\n"
          ]
        }
      ]
    },
    {
      "cell_type": "markdown",
      "source": [
        "Es decir, formatear un *string* consiste en modificar su contenido en función de los parámetros que le pasemos.\n",
        "\n",
        "Para establecer qué tipo de parámetros le vamos a pasar debemos usar lo que se conoce como **especificador de argumentos**. Los especificadores más comunes son:\n",
        "* `%s` para *strings*.\n",
        "* `%d` para número enteros.\n",
        "* `%f` para números decimales.\n",
        "\n",
        "En este caso, las tuplas sirven para indicar los elementos que vamos a introducir en el *string*."
      ],
      "metadata": {
        "id": "npn5ZYFvNpwS"
      }
    },
    {
      "cell_type": "markdown",
      "source": [
        "#####**Convertir una tupla en una lista y una lista en una tupla**\n",
        "```python\n",
        "#Para convertir una tupla en una lista:\n",
        "Nombre_Tupla = list(Nombre_Lista)\n",
        "#Para convertir una lista en una tupla:\n",
        "Nombre_Lista = tuple(Nombre_Tupla)\n",
        "```"
      ],
      "metadata": {
        "id": "hwkzYGGbGApS"
      }
    },
    {
      "cell_type": "code",
      "source": [
        "Lista_procedente_de_tupla = list(Tupla)\n",
        "Lista_procedente_de_tupla"
      ],
      "metadata": {
        "colab": {
          "base_uri": "https://localhost:8080/"
        },
        "id": "u4hxDz8vGYNQ",
        "outputId": "909faa56-55bb-45f2-a57b-deb0075cc901"
      },
      "execution_count": null,
      "outputs": [
        {
          "output_type": "execute_result",
          "data": {
            "text/plain": [
              "['Hola', 27, 137, 5, -8, True, 27]"
            ]
          },
          "metadata": {},
          "execution_count": 48
        }
      ]
    },
    {
      "cell_type": "code",
      "source": [
        "type(Lista_procedente_de_tupla)"
      ],
      "metadata": {
        "colab": {
          "base_uri": "https://localhost:8080/"
        },
        "id": "Ckuc0BdLGhHo",
        "outputId": "c9a07b62-382e-43ad-a968-f268dc450e54"
      },
      "execution_count": null,
      "outputs": [
        {
          "output_type": "execute_result",
          "data": {
            "text/plain": [
              "list"
            ]
          },
          "metadata": {},
          "execution_count": 49
        }
      ]
    },
    {
      "cell_type": "code",
      "source": [
        "Tupla_procedente_de_lista = tuple(Lista)\n",
        "Tupla_procedente_de_lista"
      ],
      "metadata": {
        "colab": {
          "base_uri": "https://localhost:8080/"
        },
        "id": "3DYhepdyGk6P",
        "outputId": "0ae38693-d336-4618-8c2b-6cf5ab4b339a"
      },
      "execution_count": null,
      "outputs": [
        {
          "output_type": "execute_result",
          "data": {
            "text/plain": [
              "('Hola', 'Buenos días', 'Adiós', -4, '27', 4.5, 1, 'Eeeyyyy', 96)"
            ]
          },
          "metadata": {},
          "execution_count": 50
        }
      ]
    },
    {
      "cell_type": "code",
      "source": [
        "type(Tupla_procedente_de_lista)"
      ],
      "metadata": {
        "colab": {
          "base_uri": "https://localhost:8080/"
        },
        "id": "6X7rw_2pGtxH",
        "outputId": "1f9c6a52-4bb8-4023-f431-060c0c16799f"
      },
      "execution_count": null,
      "outputs": [
        {
          "output_type": "execute_result",
          "data": {
            "text/plain": [
              "tuple"
            ]
          },
          "metadata": {},
          "execution_count": 51
        }
      ]
    },
    {
      "cell_type": "markdown",
      "source": [
        "###**Diccionarios**\n",
        "Un **diccionario** es una estructura de datos con formato **clave : valor**. Esto implica que, a cada valor que introducimos dentro de un diccionario, se le asiga una clave única. Más adelante, con un ejemplo, veremos en qué consiste esto.\n",
        "\n",
        "Los diccionarios pueden almacenar cualquier tipo de dato en su interior, incluyendo listas, tuplas y otros diccionarios.\n",
        "\n",
        "Asimismo, otra característica de los diccionarios es que el orden de los elementos que contiene no es relevante, esto es, los elementos almacenados no están ordenados.\n",
        "\n",
        "**Sintaxis de un diccionario**: los diccionarios quedan definidos mediante dos llaves (**{...}**) y la asociación clave-valor:\n",
        "```python\n",
        "Nombre_Diccionario = {clave_1: valor_1,\n",
        "                      clave_2: valor_2,\n",
        "                      ...,\n",
        "                      clave_n: valor_n}\n",
        "```\n",
        "Vamos a crear un diccionario:"
      ],
      "metadata": {
        "id": "MsNyOr55hM1F"
      }
    },
    {
      "cell_type": "code",
      "source": [
        "Diccionario = {\"Andalucía\": \"Sevilla\",\n",
        "               \"Extremadura\": \"Mérida\",\n",
        "               \"Aragón\": \"Zaragoza\",\n",
        "               \"La Rioja\": \"Logroño\",\n",
        "               \"Cataluña\": \"Barcelona\"}\n",
        "type(Diccionario)"
      ],
      "metadata": {
        "colab": {
          "base_uri": "https://localhost:8080/"
        },
        "id": "J9I3to1tTN-t",
        "outputId": "31b53a87-b43b-4994-c479-74ed7823b6be"
      },
      "execution_count": null,
      "outputs": [
        {
          "output_type": "execute_result",
          "data": {
            "text/plain": [
              "dict"
            ]
          },
          "metadata": {},
          "execution_count": 77
        }
      ]
    },
    {
      "cell_type": "markdown",
      "source": [
        "Vemos que el objeto creado es de tipo **dict** (diccionario)."
      ],
      "metadata": {
        "id": "0-40oRocUEPu"
      }
    },
    {
      "cell_type": "markdown",
      "source": [
        "#####**Acceder a uno o varios elementos de un diccionario**"
      ],
      "metadata": {
        "id": "81DzsaqqTl6M"
      }
    },
    {
      "cell_type": "code",
      "source": [
        "#Accedemos al valor de la clave Aragón:\n",
        "Diccionario[\"Aragón\"]"
      ],
      "metadata": {
        "colab": {
          "base_uri": "https://localhost:8080/",
          "height": 35
        },
        "id": "iQlLS7NITpkz",
        "outputId": "ec846f69-5419-4ce6-8cf0-992021ccb405"
      },
      "execution_count": null,
      "outputs": [
        {
          "output_type": "execute_result",
          "data": {
            "text/plain": [
              "'Zaragoza'"
            ],
            "application/vnd.google.colaboratory.intrinsic+json": {
              "type": "string"
            }
          },
          "metadata": {},
          "execution_count": 78
        }
      ]
    },
    {
      "cell_type": "code",
      "source": [
        "#Accedemos a todo el diccionario:\n",
        "Diccionario"
      ],
      "metadata": {
        "colab": {
          "base_uri": "https://localhost:8080/"
        },
        "id": "-YQwA2XeT1z4",
        "outputId": "96d0d1b4-2099-4831-eff6-f6a6d4afd444"
      },
      "execution_count": null,
      "outputs": [
        {
          "output_type": "execute_result",
          "data": {
            "text/plain": [
              "{'Andalucía': 'Sevilla',\n",
              " 'Aragón': 'Zaragoza',\n",
              " 'Cataluña': 'Barcelona',\n",
              " 'Extremadura': 'Mérida',\n",
              " 'La Rioja': 'Logroño'}"
            ]
          },
          "metadata": {},
          "execution_count": 79
        }
      ]
    },
    {
      "cell_type": "markdown",
      "source": [
        "Solo podemos acceder a un solo valor o a todo el diccionario, no a varios valores, como sí permitían las listas y las tuplas."
      ],
      "metadata": {
        "id": "gIJUsGHDYH_z"
      }
    },
    {
      "cell_type": "markdown",
      "source": [
        "#####**Agregar un elemento nuevo a un diccionario**\n",
        "```python\n",
        "Nombre_Diccionario[clave_a_añadir] = valor_a_añadir\n",
        "```\n"
      ],
      "metadata": {
        "id": "BdDUM8j_bne0"
      }
    },
    {
      "cell_type": "code",
      "source": [
        "Diccionario[\"Región de Murcia\"] = \"Cartagena\"\n",
        "Diccionario"
      ],
      "metadata": {
        "colab": {
          "base_uri": "https://localhost:8080/"
        },
        "id": "pHteImAQbmnv",
        "outputId": "7737abfc-bd66-411f-d19d-b7d5ebaa59ee"
      },
      "execution_count": null,
      "outputs": [
        {
          "output_type": "execute_result",
          "data": {
            "text/plain": [
              "{'Andalucía': 'Sevilla',\n",
              " 'Aragón': 'Zaragoza',\n",
              " 'Cataluña': 'Barcelona',\n",
              " 'Extremadura': 'Mérida',\n",
              " 'La Rioja': 'Logroño',\n",
              " 'Región de Murcia': 'Cartagena'}"
            ]
          },
          "metadata": {},
          "execution_count": 80
        }
      ]
    },
    {
      "cell_type": "markdown",
      "source": [
        "#####**Modificar un valor dentro de un diccionario**\n",
        "```python\n",
        "Nombre_Diccionario[clave_cuyo_valor_queremos_modificar] = valor_a_añadir_en_sustitución_del_antiguo\n",
        "```"
      ],
      "metadata": {
        "id": "5IcQ98xecQug"
      }
    },
    {
      "cell_type": "code",
      "source": [
        "#Como pusimos mal la capital de la Región de Murcia, ahora lo corregimos:\n",
        "Diccionario[\"Región de Murcia\"] = \"Murcia\"\n",
        "Diccionario"
      ],
      "metadata": {
        "colab": {
          "base_uri": "https://localhost:8080/"
        },
        "id": "aTfXdIascieK",
        "outputId": "75d95fa4-ea72-41f2-f245-51c322898625"
      },
      "execution_count": null,
      "outputs": [
        {
          "output_type": "execute_result",
          "data": {
            "text/plain": [
              "{'Andalucía': 'Sevilla',\n",
              " 'Aragón': 'Zaragoza',\n",
              " 'Cataluña': 'Barcelona',\n",
              " 'Extremadura': 'Mérida',\n",
              " 'La Rioja': 'Logroño',\n",
              " 'Región de Murcia': 'Murcia'}"
            ]
          },
          "metadata": {},
          "execution_count": 81
        }
      ]
    },
    {
      "cell_type": "markdown",
      "source": [
        "Sobreescribimos un valor por el anterior, ya que, en un diccionario, no puede haber nunca dos claves iguales."
      ],
      "metadata": {
        "id": "7JczfShIdCnY"
      }
    },
    {
      "cell_type": "markdown",
      "source": [
        "#####**Eliminar una pareja clave-valor**\n",
        "```python\n",
        "del Nombre_Diccionario[clave_que_queremos_eliminar]\n",
        "```"
      ],
      "metadata": {
        "id": "QJMx7_H3dbMc"
      }
    },
    {
      "cell_type": "code",
      "source": [
        "del Diccionario[\"Aragón\"]\n",
        "Diccionario"
      ],
      "metadata": {
        "colab": {
          "base_uri": "https://localhost:8080/"
        },
        "id": "Y5B15BmcdsC-",
        "outputId": "c63ca3f4-e03c-4119-a9a5-16a3b2e513f1"
      },
      "execution_count": null,
      "outputs": [
        {
          "output_type": "execute_result",
          "data": {
            "text/plain": [
              "{'Andalucía': 'Sevilla',\n",
              " 'Cataluña': 'Barcelona',\n",
              " 'Extremadura': 'Mérida',\n",
              " 'La Rioja': 'Logroño',\n",
              " 'Región de Murcia': 'Murcia'}"
            ]
          },
          "metadata": {},
          "execution_count": 82
        }
      ]
    },
    {
      "cell_type": "markdown",
      "source": [
        "#####**Utilizar una tupla para asignar las claves de un diccionario**\n",
        "```python\n",
        "Nombre_Tupla = (elemento_1, elemento_2,..., elemento_n)\n",
        "Nombre_Diccionario = {Nombre_Tupla[0]: valor_1,\n",
        "                      Nombre_Tupla[1]: valor_2,\n",
        "                      ...,\n",
        "                      Nombre_Tupla[n-1]: valor n}\n",
        "```"
      ],
      "metadata": {
        "id": "8zIraYaGfGwj"
      }
    },
    {
      "cell_type": "code",
      "source": [
        "Tupla_Dict = (1, 6, 7, 9, 10)\n",
        "Dict_Tupla = {Tupla_Dict[0]: \"Casillas\",\n",
        "              Tupla_Dict[1]: \"Iniesta\",\n",
        "              Tupla_Dict[2]: \"Cristiano\",\n",
        "              Tupla_Dict[3]: \"Benzema\",\n",
        "              Tupla_Dict[4]: \"Messi\"}\n",
        "Dict_Tupla"
      ],
      "metadata": {
        "colab": {
          "base_uri": "https://localhost:8080/"
        },
        "id": "IkcadjXqfzzr",
        "outputId": "15f8d46e-1861-494e-d855-d32b8be442e9"
      },
      "execution_count": null,
      "outputs": [
        {
          "output_type": "execute_result",
          "data": {
            "text/plain": [
              "{1: 'Casillas', 6: 'Iniesta', 7: 'Cristiano', 9: 'Benzema', 10: 'Messi'}"
            ]
          },
          "metadata": {},
          "execution_count": 83
        }
      ]
    },
    {
      "cell_type": "markdown",
      "source": [
        "#####**Almacenar una lista, una tupla y un diccionario en otro diccionario**\n",
        "Se pueden pasar listas, tuplas y diccionarios como valores en un diccionario:"
      ],
      "metadata": {
        "id": "WbnGxyEtgzzA"
      }
    },
    {
      "cell_type": "code",
      "source": [
        "Diccionario_Nadal = {\"Nombre\": \"Rafael\",\n",
        "                     \"Apellidos\": \"Nadal Parera\",\n",
        "                     \"Títulos\": {\"US Open\": (2010, 2013, 2017, 2019),\n",
        "                                 \"Roland Garros\": (2005, 2006, 2007, 2008, 2010, 2011, 2012, 2013, 2014, 2017, 2018, 2019, 2020),\n",
        "                                 \"Wimbledon\": (2008, 2010),\n",
        "                                 \"Australia\": (2009, 2022),\n",
        "                                 \"Copa Davis\": [2004, 2008, 2009, 2011, 2019]}}\n",
        "Diccionario_Nadal"
      ],
      "metadata": {
        "colab": {
          "base_uri": "https://localhost:8080/"
        },
        "id": "vgXj5h6Kg8A1",
        "outputId": "634e97db-2930-40b3-8827-994d20c17d44"
      },
      "execution_count": null,
      "outputs": [
        {
          "output_type": "execute_result",
          "data": {
            "text/plain": [
              "{'Apellidos': 'Nadal Parera',\n",
              " 'Nombre': 'Rafael',\n",
              " 'Títulos': {'Australia': (2009, 2022),\n",
              "  'Copa Davis': [2004, 2008, 2009, 2011, 2019],\n",
              "  'Roland Garros': (2005,\n",
              "   2006,\n",
              "   2007,\n",
              "   2008,\n",
              "   2010,\n",
              "   2011,\n",
              "   2012,\n",
              "   2013,\n",
              "   2014,\n",
              "   2017,\n",
              "   2018,\n",
              "   2019,\n",
              "   2020),\n",
              "  'US Open': (2010, 2013, 2017, 2019),\n",
              "  'Wimbledon': (2008, 2010)}}"
            ]
          },
          "metadata": {},
          "execution_count": 87
        }
      ]
    },
    {
      "cell_type": "markdown",
      "source": [
        "#####**Conocer la longitud de un diccionario**\n",
        "Es decir, saber el número de parejas clave-valor:\n",
        "```python\n",
        "len(Nombre_Diccionario)\n",
        "```"
      ],
      "metadata": {
        "id": "Ma7UjV2NkNbE"
      }
    },
    {
      "cell_type": "code",
      "source": [
        "len(Diccionario)"
      ],
      "metadata": {
        "colab": {
          "base_uri": "https://localhost:8080/"
        },
        "id": "eDJ2m51hkfZa",
        "outputId": "481e9521-9664-4022-a09d-bad97dc54835"
      },
      "execution_count": null,
      "outputs": [
        {
          "output_type": "execute_result",
          "data": {
            "text/plain": [
              "5"
            ]
          },
          "metadata": {},
          "execution_count": 89
        }
      ]
    },
    {
      "cell_type": "markdown",
      "source": [
        "#####**Conocer las claves y los valores que contiene un diccionario**\n",
        "```python\n",
        "#Para saber las claves:\n",
        "Nombre_Dicionario.keys()\n",
        "#Para saber los valores:\n",
        "Nombre_Diccionario.values()\n",
        "#Para conocer tanto las claves como los valores (método similar a llamar directamente al diccionario):\n",
        "Nombre_Diccionario.items()\n",
        "```"
      ],
      "metadata": {
        "id": "u8HB2MVDlQSD"
      }
    },
    {
      "cell_type": "code",
      "source": [
        "Diccionario.keys()"
      ],
      "metadata": {
        "colab": {
          "base_uri": "https://localhost:8080/"
        },
        "id": "UF7bFFtOlh4r",
        "outputId": "c51e55e8-2d82-47a5-ada1-23f6625be070"
      },
      "execution_count": null,
      "outputs": [
        {
          "output_type": "execute_result",
          "data": {
            "text/plain": [
              "dict_keys(['Andalucía', 'Extremadura', 'La Rioja', 'Cataluña', 'Región de Murcia'])"
            ]
          },
          "metadata": {},
          "execution_count": 105
        }
      ]
    },
    {
      "cell_type": "code",
      "source": [
        "Diccionario.values()"
      ],
      "metadata": {
        "colab": {
          "base_uri": "https://localhost:8080/"
        },
        "id": "vthZTWOZlkz2",
        "outputId": "c9a18c9a-7af3-4e20-f2a9-01796c52d873"
      },
      "execution_count": null,
      "outputs": [
        {
          "output_type": "execute_result",
          "data": {
            "text/plain": [
              "dict_values(['Sevilla', 'Mérida', 'Logroño', 'Barcelona', 'Murcia'])"
            ]
          },
          "metadata": {},
          "execution_count": 106
        }
      ]
    },
    {
      "cell_type": "code",
      "source": [
        "Diccionario.items()"
      ],
      "metadata": {
        "colab": {
          "base_uri": "https://localhost:8080/"
        },
        "id": "dO7nPxojyWBA",
        "outputId": "2c94b718-db22-4abb-d767-78a757927f91"
      },
      "execution_count": null,
      "outputs": [
        {
          "output_type": "execute_result",
          "data": {
            "text/plain": [
              "dict_items([('Andalucía', 'Sevilla'), ('Extremadura', 'Mérida'), ('La Rioja', 'Logroño'), ('Cataluña', 'Barcelona'), ('Región de Murcia', 'Murcia')])"
            ]
          },
          "metadata": {},
          "execution_count": 107
        }
      ]
    },
    {
      "cell_type": "markdown",
      "source": [
        "#####**Método `.get()`**\n",
        "Permite buscar un valor a partir de su clave y, si no lo encuentra, devuelve un valor explicitado:\n",
        "```python\n",
        "Nombre_Diccionario.get(clave_del_valor_a_extraer, \"Mensaje que arroja si no encuentra la clave\")\n",
        "```"
      ],
      "metadata": {
        "id": "F-Y5Ue12yhI-"
      }
    },
    {
      "cell_type": "code",
      "source": [
        "Diccionario.get(\"La Rioja\", \"No se ha encontrado la clave buscada\")"
      ],
      "metadata": {
        "colab": {
          "base_uri": "https://localhost:8080/",
          "height": 35
        },
        "id": "8em8YBI3zFxv",
        "outputId": "8d14a242-c290-48cf-bfa6-c680a825da60"
      },
      "execution_count": null,
      "outputs": [
        {
          "output_type": "execute_result",
          "data": {
            "text/plain": [
              "'Logroño'"
            ],
            "application/vnd.google.colaboratory.intrinsic+json": {
              "type": "string"
            }
          },
          "metadata": {},
          "execution_count": 108
        }
      ]
    },
    {
      "cell_type": "code",
      "source": [
        "Diccionario.get(\"Galicia\", \"No se ha encontrado la clave buscada\")"
      ],
      "metadata": {
        "colab": {
          "base_uri": "https://localhost:8080/",
          "height": 35
        },
        "id": "RhtjMAXGzMBH",
        "outputId": "24091af6-bfb5-4d85-8521-58cc7b9bfd4e"
      },
      "execution_count": null,
      "outputs": [
        {
          "output_type": "execute_result",
          "data": {
            "text/plain": [
              "'No se ha encontrado la clave buscada'"
            ],
            "application/vnd.google.colaboratory.intrinsic+json": {
              "type": "string"
            }
          },
          "metadata": {},
          "execution_count": 109
        }
      ]
    },
    {
      "cell_type": "markdown",
      "source": [
        "#####**Método `.pop()`**\n",
        "Permite extraer y borrar un valor a partir de su clave y, si no lo encuentra, devuelve un valor explicitado:\n",
        "```python\n",
        "Nombre_Diccionario.pop(clave_del_valor_a_extraer_y_eliminar, \"Mensaje que arroja si no encuentra la clave\")\n",
        "```"
      ],
      "metadata": {
        "id": "HKtsc5d2ynqS"
      }
    },
    {
      "cell_type": "code",
      "source": [
        "Diccionario.pop(\"La Rioja\", \"No se ha encontrado la clave buscada\")"
      ],
      "metadata": {
        "colab": {
          "base_uri": "https://localhost:8080/",
          "height": 35
        },
        "id": "p7AX5Gieza2A",
        "outputId": "81d3b36e-4307-48e1-d898-9b22968fb286"
      },
      "execution_count": null,
      "outputs": [
        {
          "output_type": "execute_result",
          "data": {
            "text/plain": [
              "'Logroño'"
            ],
            "application/vnd.google.colaboratory.intrinsic+json": {
              "type": "string"
            }
          },
          "metadata": {},
          "execution_count": 112
        }
      ]
    },
    {
      "cell_type": "code",
      "source": [
        "Diccionario.pop(\"La Rioja\", \"No se ha encontrado la clave buscada\")"
      ],
      "metadata": {
        "colab": {
          "base_uri": "https://localhost:8080/",
          "height": 35
        },
        "id": "HVPZObBszkb3",
        "outputId": "b6a3186f-b7f9-4a46-9515-c78c15aa5923"
      },
      "execution_count": null,
      "outputs": [
        {
          "output_type": "execute_result",
          "data": {
            "text/plain": [
              "'No se ha encontrado la clave buscada'"
            ],
            "application/vnd.google.colaboratory.intrinsic+json": {
              "type": "string"
            }
          },
          "metadata": {},
          "execution_count": 114
        }
      ]
    },
    {
      "cell_type": "markdown",
      "source": [
        "Arroja el mensaje de que no encuentra la clave, ya que ésta ya ha sido eliminada en el paso anterior."
      ],
      "metadata": {
        "id": "-v4KDHQlzzog"
      }
    },
    {
      "cell_type": "markdown",
      "source": [
        "#####**Eliminar todos los registros de un diccionario**\n",
        "Este método borra todos los registros del diccionario:\n",
        "```python\n",
        "Nombre_Diccionario.clear()\n",
        "```"
      ],
      "metadata": {
        "id": "mbNnio5w0DJj"
      }
    },
    {
      "cell_type": "code",
      "source": [
        "Diccionario.clear()\n",
        "Diccionario"
      ],
      "metadata": {
        "colab": {
          "base_uri": "https://localhost:8080/"
        },
        "id": "BX3uQxD50ohk",
        "outputId": "a5bc29ff-c485-47a6-fc47-45e76a20d221"
      },
      "execution_count": null,
      "outputs": [
        {
          "output_type": "execute_result",
          "data": {
            "text/plain": [
              "{}"
            ]
          },
          "metadata": {},
          "execution_count": 115
        }
      ]
    },
    {
      "cell_type": "markdown",
      "source": [
        "#Condicionales"
      ],
      "metadata": {
        "id": "riyYgAWz9wPr"
      }
    },
    {
      "cell_type": "markdown",
      "source": [
        "En general, en programación, el código se ejecuta de arriba abajo. Sin embargo, es posible emplear estructuras de control del flujo de ejecución del programa - como los condicionales o los bucles - que modifiquen esta lectura lineal de arriba abajo.\n",
        "\n",
        "Así, los condicionales son estructuras de control que permiten ejecutar una o varias instrucciones solo si se cumplen una o varias condiciones. Es decir, el código se va ejecutando de arriba abajo y, cuando llega al condicional, Python evalúa la condición. Si ésta se cumple, se ejecuta el código dentro del condicional y luego se continúa ejecutando lo que resta del programa. Sin embargo, si la condición no se cumple, el programa se salta el bloque de código que contiene el condicional.\n",
        "\n",
        "La estructura de código de los condicionales en Python es la siguiente:\n",
        "\n",
        "```python\n",
        "if condición: \n",
        "    instrucción\n",
        "elif condición:\n",
        "    otra instrucción diferente\n",
        "elif condición:\n",
        "    otra instrucción diferente\n",
        "\n",
        "...\n",
        "\n",
        "else:\n",
        "    otra instrucción diferente\n",
        "```\n",
        "\n",
        "Vemos, por tanto, que se utilizan las palabras reservadas `if`,`elif`  y `else`. Los condicionales más básicos solo emplearán `if`. A continuación, para permitir otra condición, usamos `else`; y para añadir aún más condiciones se utilizan todos los `elif` que sean necesarios.\n",
        "\n",
        "Tres ejemplos muy sencillos con número creciente de condiciones:"
      ],
      "metadata": {
        "id": "JChtmUOL8UcQ"
      }
    },
    {
      "cell_type": "code",
      "source": [
        "#Condicional con una sola condición: solo if\n",
        "\n",
        "numero = int(input(\"Elige un número cualquiera: \"))\n",
        "\n",
        "if numero < 0:\n",
        "  print(f\"El número {numero} es negativo.\")"
      ],
      "metadata": {
        "colab": {
          "base_uri": "https://localhost:8080/"
        },
        "id": "aLm1zx4sQ9Z-",
        "outputId": "47e83960-6d9f-4bee-9df6-14272c1762b1"
      },
      "execution_count": null,
      "outputs": [
        {
          "output_type": "stream",
          "name": "stdout",
          "text": [
            "Elige un número cualquiera: -200\n",
            "El número -200 es negativo.\n"
          ]
        }
      ]
    },
    {
      "cell_type": "code",
      "source": [
        "#Condicional con dos condiciones: if y else\n",
        "\n",
        "numero = int(input(\"Elige un número cualquiera: \"))\n",
        "\n",
        "if numero < 0:\n",
        "  print(f\"El número {numero} es negativo.\")\n",
        "else:\n",
        "  print(f\"El número {numero} es positivo.\")"
      ],
      "metadata": {
        "colab": {
          "base_uri": "https://localhost:8080/"
        },
        "id": "9O0pmDgsP5F2",
        "outputId": "f4f1676d-0ea0-41a3-bbec-017f1ac50239"
      },
      "execution_count": null,
      "outputs": [
        {
          "output_type": "stream",
          "name": "stdout",
          "text": [
            "Elige un número cualquiera: 4\n",
            "El número 4 es positivo.\n"
          ]
        }
      ]
    },
    {
      "cell_type": "code",
      "source": [
        "#Condicional con más de dos condiciones: if, elif y else:\n",
        "\n",
        "numero = int(input(\"Elige un número cualquiera: \"))\n",
        "\n",
        "if numero < 0:\n",
        "  print(f\"El número {numero} es negativo.\")\n",
        "elif 0 <= numero <= 100:\n",
        "  print(f\"El número {numero} está entre cero y cien.\")\n",
        "else:\n",
        "  print(f\"El número {numero} es mayor que cien.\")"
      ],
      "metadata": {
        "colab": {
          "base_uri": "https://localhost:8080/"
        },
        "id": "1CTvTiiTRYmv",
        "outputId": "8b7ea1dc-3da4-490e-e800-bf29c1676889"
      },
      "execution_count": null,
      "outputs": [
        {
          "output_type": "stream",
          "name": "stdout",
          "text": [
            "Elige un número cualquiera: 40\n",
            "El número 40 está entre cero y cien.\n"
          ]
        }
      ]
    },
    {
      "cell_type": "markdown",
      "source": [
        "Con estos ejemplos, hemos visto también otra función integrada por defecto en Python: la función `input()`. Como hemos podido comprobar, esta función permite pedir al usuario un dato - dato que luego será utilizado en el programa.\n",
        "\n",
        "Algo que debemos tener en cuenta al emplear `input()` es que sea el que sea el dato que introduzcamos - texto, número entero o número decimal -, Python lo considerará de tipo *string*. Por ello, para poder compararlo con un número entero en el condicional, necesitamos haberlo convertido previamente en otro número entero. Esto lo hemos hecho con la función `int()` (lo mismo ocurre con la función `readline()` en R)."
      ],
      "metadata": {
        "id": "6yhdJzaTSqaN"
      }
    },
    {
      "cell_type": "markdown",
      "source": [
        "#Bucles"
      ],
      "metadata": {
        "id": "BpToLI0m9z9A"
      }
    },
    {
      "cell_type": "markdown",
      "source": [
        "Junto con los condicionales, los bucles son la otra estructura de control por excelencia. Como su propio nombre indica, sirven para ejecutar un número determinado o indeterminado de veces un bloque de código, hasta que se cumpla o deje de cumplirse una determinada condición. Es decir, los bucles son muy útiles a la hora de realizar acciones que, de otra forma, deberíamos repetir muchas veces: por ejemplo, si debemos repetir cierto mensaje cincuenta veces, en lugar de copiar y pergar el código del mensaje cincuenta veces, escribimos un bucle que repita dicho mensaje las veces necesarias. Por ello, los bucles son una manera, por un lado, de ahorrarnos tiempo de escritura de código y, por otro, de permitirnos crear un código menos repetitivo y más estilizado. De hecho, hay ocasiones en las que sabremos que vamos a necesitar repetir una o varias acciones varias veces, pero no justamente qué número de veces. En esas ocasiones será esencial utilizar un bucle."
      ],
      "metadata": {
        "id": "fN70Trb-klVi"
      }
    },
    {
      "cell_type": "markdown",
      "source": [
        "###**Bucle `for`: bucle determinado**\n"
      ],
      "metadata": {
        "id": "Lh3IFwQWniQ-"
      }
    },
    {
      "cell_type": "markdown",
      "source": [
        "Los bucles determinados son aquellos que se ejecutan un número concreto de veces. Por ello, a priori ya sabemos cuántas veces se va a ejecutar el código del interior del bucle.\n",
        "```python\n",
        "for elemento in objeto iterable:\n",
        "    Instrucciones\n",
        "```\n",
        "Dos ejemplos muy sencillos:\n",
        "  "
      ],
      "metadata": {
        "id": "k0uDheBkkUUx"
      }
    },
    {
      "cell_type": "code",
      "source": [
        "for numero in (1,2,3,4,5):\n",
        "    print(numero)"
      ],
      "metadata": {
        "colab": {
          "base_uri": "https://localhost:8080/"
        },
        "id": "BSUTsCafL1ll",
        "outputId": "ce2f2352-e526-4f33-81c7-a87e113969e9"
      },
      "execution_count": null,
      "outputs": [
        {
          "output_type": "stream",
          "name": "stdout",
          "text": [
            "1\n",
            "2\n",
            "3\n",
            "4\n",
            "5\n"
          ]
        }
      ]
    },
    {
      "cell_type": "code",
      "source": [
        "for i in [\"Invierno\", \"Primavera\", \"Verano\", \"Otoño\"]:\n",
        "  print(i)"
      ],
      "metadata": {
        "colab": {
          "base_uri": "https://localhost:8080/"
        },
        "id": "bRTKhJfZL5pg",
        "outputId": "55432cf8-6262-49c6-c649-5b84a3d3d818"
      },
      "execution_count": null,
      "outputs": [
        {
          "output_type": "stream",
          "name": "stdout",
          "text": [
            "Invierno\n",
            "Primavera\n",
            "Verano\n",
            "Otoño\n"
          ]
        }
      ]
    },
    {
      "cell_type": "markdown",
      "source": [
        "Un objeto iterable también puede ser un *string*. Los *strings* serán recorridos caracter por caracter. Por ejemplo:"
      ],
      "metadata": {
        "id": "MtUwWeUNMb6p"
      }
    },
    {
      "cell_type": "code",
      "source": [
        "for letra in \"Hola\":\n",
        "  print(letra)"
      ],
      "metadata": {
        "colab": {
          "base_uri": "https://localhost:8080/"
        },
        "id": "ZJy-1mjxMmkf",
        "outputId": "73230ebf-3e25-4003-ba5f-65fb8f845009"
      },
      "execution_count": null,
      "outputs": [
        {
          "output_type": "stream",
          "name": "stdout",
          "text": [
            "H\n",
            "o\n",
            "l\n",
            "a\n"
          ]
        }
      ]
    },
    {
      "cell_type": "markdown",
      "source": [
        "Otro tipo de objeto iterable lo podemos crear mediante la función `range()`:"
      ],
      "metadata": {
        "id": "g_0XgitONEjq"
      }
    },
    {
      "cell_type": "code",
      "source": [
        "for elemento in range(5):\n",
        "  print(elemento)"
      ],
      "metadata": {
        "colab": {
          "base_uri": "https://localhost:8080/"
        },
        "id": "MzdLPTTXNJkz",
        "outputId": "59af970b-05a2-4676-8977-525ebf42c492"
      },
      "execution_count": null,
      "outputs": [
        {
          "output_type": "stream",
          "name": "stdout",
          "text": [
            "0\n",
            "1\n",
            "2\n",
            "3\n",
            "4\n"
          ]
        }
      ]
    },
    {
      "cell_type": "code",
      "source": [
        "for i in range (1,10, 2):\n",
        "  print(i)\n",
        "#Este range va de 1 a 10 dando saltos de dos en dos"
      ],
      "metadata": {
        "colab": {
          "base_uri": "https://localhost:8080/"
        },
        "id": "CH7J9tYaOOla",
        "outputId": "dadda278-a64a-4cc3-81e8-75016e9390a6"
      },
      "execution_count": null,
      "outputs": [
        {
          "output_type": "stream",
          "name": "stdout",
          "text": [
            "1\n",
            "3\n",
            "5\n",
            "7\n",
            "9\n"
          ]
        }
      ]
    },
    {
      "cell_type": "code",
      "source": [
        "for elemento in range(5):\n",
        "  print(27)"
      ],
      "metadata": {
        "colab": {
          "base_uri": "https://localhost:8080/"
        },
        "id": "ae7ssArdNQLE",
        "outputId": "79d728d8-06b7-4318-d2c8-cbb7ca6480ec"
      },
      "execution_count": null,
      "outputs": [
        {
          "output_type": "stream",
          "name": "stdout",
          "text": [
            "27\n",
            "27\n",
            "27\n",
            "27\n",
            "27\n"
          ]
        }
      ]
    },
    {
      "cell_type": "markdown",
      "source": [
        "###**Bucle `while`: bucle indeterminado**\n",
        "\n"
      ],
      "metadata": {
        "id": "g2756el4oC0S"
      }
    },
    {
      "cell_type": "markdown",
      "source": [
        "Los bucles indeterminados son aquellos para los que, a priori, no sabemos el número de veces que se va a ejecutar el bucle, variando éste en función de las condiciones que hayamos establecido.\n",
        "```python\n",
        "while condición_sea_True:\n",
        "    Instrucciones\n",
        "```\n",
        "Veámos unos sencillos ejemplos:"
      ],
      "metadata": {
        "id": "QchXVfwLm12K"
      }
    },
    {
      "cell_type": "code",
      "source": [
        "#Bucle while equivalente al primer bucle for puesto como ejemplo:\n",
        "numero = 1\n",
        "while numero <= 5:\n",
        "    print (numero)\n",
        "    numero = numero + 1"
      ],
      "metadata": {
        "colab": {
          "base_uri": "https://localhost:8080/"
        },
        "id": "ZEuslhvKOsBD",
        "outputId": "82e89d2f-5606-4768-fa49-4a719498d50c"
      },
      "execution_count": null,
      "outputs": [
        {
          "output_type": "stream",
          "name": "stdout",
          "text": [
            "1\n",
            "2\n",
            "3\n",
            "4\n",
            "5\n"
          ]
        }
      ]
    },
    {
      "cell_type": "code",
      "source": [
        "Edad = int(input(\"¿Cuántos años tienes? \"))\n",
        "\n",
        "while Edad < 0:\n",
        "  print(\"No puedes tener una edad negativa\")\n",
        "  Edad = int(input(\"¿Cuántos años tienes? \"))"
      ],
      "metadata": {
        "colab": {
          "base_uri": "https://localhost:8080/"
        },
        "id": "onaF4cmIPE8T",
        "outputId": "012e32e7-edd0-471e-a6f0-d74208c32d4a"
      },
      "execution_count": null,
      "outputs": [
        {
          "name": "stdout",
          "output_type": "stream",
          "text": [
            "¿Cuántos años tienes? -9\n",
            "No puedes tener una edad negativa\n",
            "¿Cuántos años tienes? 7\n"
          ]
        }
      ]
    },
    {
      "cell_type": "markdown",
      "source": [
        "### **Instrucciones `break`, `continue` y `else`**\n",
        "En este subapartado vamos a ver cuatro instrucciones adicionales que podemos añadir a los bucles `for` y `while`:"
      ],
      "metadata": {
        "id": "G9_ByKCrV42u"
      }
    },
    {
      "cell_type": "markdown",
      "source": [
        "* La instrucción **`break`** permite poner fin a un bucle en función de una condición previa: "
      ],
      "metadata": {
        "id": "HRzljgIZWIZp"
      }
    },
    {
      "cell_type": "code",
      "source": [
        "#break con el bucle for:\n",
        "for letra in \"string\":\n",
        "    if letra == \"r\":\n",
        "        break\n",
        "    print(letra)"
      ],
      "metadata": {
        "colab": {
          "base_uri": "https://localhost:8080/"
        },
        "id": "B0dcxQ3aSSQ-",
        "outputId": "11133ad6-dda2-40f9-fba4-b411c5f852ca"
      },
      "execution_count": null,
      "outputs": [
        {
          "output_type": "stream",
          "name": "stdout",
          "text": [
            "s\n",
            "t\n"
          ]
        }
      ]
    },
    {
      "cell_type": "markdown",
      "source": [
        "De esta forma, `break` es una forma de evitar que un bucle indeterminado se convierta en un bucle infinito. Por ejemplo, si en el ejemplo que hemos visto para el bucle `while` introducimos siempre edades negativas, el bucle nunca pararía de ejecutarse. Para evitar esto, es necesario usar `break`:"
      ],
      "metadata": {
        "id": "JRaLYME1P1Sa"
      }
    },
    {
      "cell_type": "code",
      "source": [
        "Edad = int(input(\"¿Cuántos años tienes? \"))\n",
        "\n",
        "posibilidades = 0\n",
        "\n",
        "while Edad < 0:\n",
        "  print(\"No puedes tener una edad negativa\")\n",
        "\n",
        "  if posibilidades == 2:\n",
        "    print(\"Has agotado tus intentos de respuesta. Lo siento.\")\n",
        "    break\n",
        "  \n",
        "  Edad = int(input(\"¿Cuántos años tienes? \"))\n",
        "  \n",
        "  if Edad < 0:\n",
        "    posibilidades = posibilidades + 1\n",
        "\n"
      ],
      "metadata": {
        "colab": {
          "base_uri": "https://localhost:8080/"
        },
        "id": "wB3kD8qMQShG",
        "outputId": "7d078438-a0d4-4f1a-931c-ce70a1b41db3"
      },
      "execution_count": null,
      "outputs": [
        {
          "output_type": "stream",
          "name": "stdout",
          "text": [
            "¿Cuántos años tienes? -88\n",
            "No puedes tener una edad negativa\n",
            "¿Cuántos años tienes? -11\n",
            "No puedes tener una edad negativa\n",
            "¿Cuántos años tienes? -22\n",
            "No puedes tener una edad negativa\n",
            "Has agotado tus intentos de respuesta. Lo siento.\n"
          ]
        }
      ]
    },
    {
      "cell_type": "markdown",
      "source": [
        "* La instrucción `continue` permite ignorar una iteración si se cumple cierta concición. Lo vemos con un ejemplo:"
      ],
      "metadata": {
        "id": "YrwU1vNwXnPD"
      }
    },
    {
      "cell_type": "code",
      "source": [
        "for letra in \"abcdefghijk\":\n",
        "  if letra == \"f\":\n",
        "    continue\n",
        "  print(\"Esta letra es la \" + letra)"
      ],
      "metadata": {
        "colab": {
          "base_uri": "https://localhost:8080/"
        },
        "id": "EW9hHVbNYEkC",
        "outputId": "18cdae19-882d-42d5-c026-4e7bed3a0acf"
      },
      "execution_count": null,
      "outputs": [
        {
          "output_type": "stream",
          "name": "stdout",
          "text": [
            "Esta letra es la a\n",
            "Esta letra es la b\n",
            "Esta letra es la c\n",
            "Esta letra es la d\n",
            "Esta letra es la e\n",
            "Esta letra es la g\n",
            "Esta letra es la h\n",
            "Esta letra es la i\n",
            "Esta letra es la j\n",
            "Esta letra es la k\n"
          ]
        }
      ]
    },
    {
      "cell_type": "markdown",
      "source": [
        "Vemos cómo se ha saltado la letra **f**, ya que le hemos dicho que, cuando llegue a dicha iteración, ignore las instrucciones del bucle y salte a la siguiente iteracion."
      ],
      "metadata": {
        "id": "BHq0QDOHYZT7"
      }
    },
    {
      "cell_type": "markdown",
      "source": [
        "* La instrucción `else` sirve para introducir una condición adicional a un bucle al igual que se utiliza con el condicional `if`. Por ejemplo:"
      ],
      "metadata": {
        "id": "evlZKaTwYwbo"
      }
    },
    {
      "cell_type": "code",
      "source": [
        "numero = 15\n",
        "\n",
        "for i in [10, 5, 8, 6, 99, 55, 27]:\n",
        "  if (i == numero):\n",
        "    print(\"Número encontrado\")\n",
        "    break\n",
        "else:\n",
        "  print(\"Número no encontrado\")\n",
        "\n",
        "#Si el condicional encuentra el número en la lista, imprime el primer mensaje. Si no, imprime el segundo."
      ],
      "metadata": {
        "colab": {
          "base_uri": "https://localhost:8080/"
        },
        "id": "iBqDvh_daQxF",
        "outputId": "ff3e0055-c8bc-4001-8f53-a9b7e4ba8bdb"
      },
      "execution_count": null,
      "outputs": [
        {
          "output_type": "stream",
          "name": "stdout",
          "text": [
            "Número no encontrado\n"
          ]
        }
      ]
    },
    {
      "cell_type": "markdown",
      "source": [
        "#Funciones"
      ],
      "metadata": {
        "id": "jpBKukLz9-eR"
      }
    },
    {
      "cell_type": "markdown",
      "source": [
        "A rasgos generales, podemos definir una **función** como un grupo instrucciones que conforman una unidad lógica del programa y resuelven un problema concreto.\n",
        "\n",
        "De manera más desarrollada, podemos decir que una función es un bloque de código, con un nombre asociado, que recibe cero o más parámetros o argumentos y, siguiendo una secuencia de instrucciones, ejecuta una operación.\n",
        "\n",
        "El uso de funciones es básico en cualquier lenguaje de programación, ya que nos permiten desarrollar dos cuestiones fundamentales: 1) fragmentar un programa complejo en partes más breves y sencillas (**modularización**) y 2) una vez definida, la función puede ser llamada tantas veces como se necesite (**reutilización**).\n",
        "\n",
        "Python dispone de una serie de funciones integradas por defecto: `print()`, `len()`, `type()`, etc. Y, en la mayor parte de los análisis que se presentan en este proyecto del INE, se utilizarán funciones de caracter estadístico o relacionado que cargaremos procedentes de distintas librerías.\n",
        "\n",
        "No obstante, en este apartado, mostramos la forma de crear nuestras propias funciones, si fuera necesario."
      ],
      "metadata": {
        "id": "4mvyLkS69fYr"
      }
    },
    {
      "cell_type": "markdown",
      "source": [
        "###**Funciones básicas**"
      ],
      "metadata": {
        "id": "hJI9bTXKJIe8"
      }
    },
    {
      "cell_type": "markdown",
      "source": [
        "Presentan la siguiente estructura de código:\n",
        "```python\n",
        "def Nombre_Funcion(parametros/argumentos que recibe):\n",
        "  Instrucciones de la función\n",
        "  return opcional\n",
        "```\n",
        "IMPORTANTE: los elementos/instrucciones que lleve dentro la función deben ir indexados, es decir, las líneas de código internas deben empezar más adentro que la línea definidora de la función, como si se tratara de una sangría de texto.\n",
        "\n",
        "A su vez, para llamar a la función una vez creada, debemos escribir:\n",
        "```python\n",
        "Nombre_Función(parámetros/argumentos que requiera)\n",
        "``` \n",
        "Veámos unos ejemplos muy básicos:"
      ],
      "metadata": {
        "id": "r8UhKcYVA3ts"
      }
    },
    {
      "cell_type": "code",
      "source": [
        "#Función sin parámetros:\n",
        "def bienvenida():\n",
        "  print(\"Hola, ¿cómo te llamas?\")\n",
        "  print(\"Bienvenido al proyecto de difusión del INE.\")"
      ],
      "metadata": {
        "id": "SYce-GtLFZuQ"
      },
      "execution_count": null,
      "outputs": []
    },
    {
      "cell_type": "code",
      "source": [
        "bienvenida()"
      ],
      "metadata": {
        "colab": {
          "base_uri": "https://localhost:8080/"
        },
        "id": "-XW2k99aFuEr",
        "outputId": "718537a6-149e-4e31-843b-f43b9ebf6acf"
      },
      "execution_count": null,
      "outputs": [
        {
          "output_type": "stream",
          "name": "stdout",
          "text": [
            "Hola, ¿cómo te llamas?\n",
            "Bienvenido al proyecto de difusión del INE.\n"
          ]
        }
      ]
    },
    {
      "cell_type": "code",
      "source": [
        "#Función con parametros:\n",
        "def multiplicacion(numero_1, numero_2):\n",
        "  resultado = numero_1 * numero_2\n",
        "  return resultado"
      ],
      "metadata": {
        "id": "iXsSVp6LFz06"
      },
      "execution_count": null,
      "outputs": []
    },
    {
      "cell_type": "code",
      "source": [
        "multiplicacion(7, 10)"
      ],
      "metadata": {
        "colab": {
          "base_uri": "https://localhost:8080/"
        },
        "id": "Pr4UAbJFGBqR",
        "outputId": "f490e15d-0a8a-432c-9865-b5ca74be1b1b"
      },
      "execution_count": null,
      "outputs": [
        {
          "output_type": "execute_result",
          "data": {
            "text/plain": [
              "70"
            ]
          },
          "metadata": {},
          "execution_count": 2
        }
      ]
    },
    {
      "cell_type": "markdown",
      "source": [
        "Como hemos visto en el anterior ejemplo, no es necesario explicitar el nombre de los parámetros al llamar a la función. Cuando hacemos esto, el orden de los parámetros que introducimos será igual al orden que tiene definido la función. Es decir, en este caso `numero_1` será igual a 7, y `numero_2` a 10. Sin embargo, puede que queramos introducir los parámetros en otro orden y que la función se siga ejecutando con el mismo resultado. Para ello, al llamar a la función, deberemos explicitar el nombre de cada parámetro introducido.\n",
        "\n",
        "Lo vemos con un ejemplo donde el orden de los parámetros sí afecta al resultado:"
      ],
      "metadata": {
        "id": "63gu1ItkbeI1"
      }
    },
    {
      "cell_type": "code",
      "source": [
        "def resta(numero_1, numero_2):\n",
        "  resultado = numero_1 - numero_2\n",
        "  return resultado\n",
        "#Las restas no son conmutativas: numero_1 - numero_2 ≠ numero_2 - numero_1"
      ],
      "metadata": {
        "id": "ZVUTy_32aukG"
      },
      "execution_count": null,
      "outputs": []
    },
    {
      "cell_type": "code",
      "source": [
        "resta(50, 30)"
      ],
      "metadata": {
        "colab": {
          "base_uri": "https://localhost:8080/"
        },
        "id": "PUtynbwMbANZ",
        "outputId": "8f0a1c87-0e07-44cc-cdeb-f713cfe46234"
      },
      "execution_count": null,
      "outputs": [
        {
          "output_type": "execute_result",
          "data": {
            "text/plain": [
              "20"
            ]
          },
          "metadata": {},
          "execution_count": 5
        }
      ]
    },
    {
      "cell_type": "code",
      "source": [
        "resta(30, 50)"
      ],
      "metadata": {
        "colab": {
          "base_uri": "https://localhost:8080/"
        },
        "id": "azStURodbU9R",
        "outputId": "e3a7fe32-8414-49d6-c400-ac6b28096fa2"
      },
      "execution_count": null,
      "outputs": [
        {
          "output_type": "execute_result",
          "data": {
            "text/plain": [
              "-20"
            ]
          },
          "metadata": {},
          "execution_count": 6
        }
      ]
    },
    {
      "cell_type": "code",
      "source": [
        "#Explicitamos el nombre de los parámetros para que el resultado sea igual al del primer intento:\n",
        "resta(numero_2=30, numero_1=50)"
      ],
      "metadata": {
        "colab": {
          "base_uri": "https://localhost:8080/"
        },
        "id": "D4z_9AZIbYs2",
        "outputId": "b40823db-8ac9-4fc4-8379-3180c2271fe5"
      },
      "execution_count": null,
      "outputs": [
        {
          "output_type": "execute_result",
          "data": {
            "text/plain": [
              "20"
            ]
          },
          "metadata": {},
          "execution_count": 7
        }
      ]
    },
    {
      "cell_type": "markdown",
      "source": [
        "###**Funciones lambda**"
      ],
      "metadata": {
        "id": "iRW_GxViA7cW"
      }
    },
    {
      "cell_type": "markdown",
      "source": [
        "En general, las funciones lambda o funciones anónimas son una forma de simplificar aún más el código de funciones básicas sencillas. Básicamente, dicha simplificación consiste en no darle nombre a la función (por ello, se denominan *anónimas*). Debido a ello, las funciones lambda o anónimas son útiles cuando se van a utilizar una sola vez o un número pequeño de veces, si es rápido volver a escribirlas. Sin embargo, en Python (al contrario que R, por ejemplo), en general, se necesita almacenar la función `lambda` en una variable para poder utilizarla, por lo que, en la práctica, sí que le estamos dando un nombre.\n",
        "\n",
        "Presentan la siguiente estructura de código:\n",
        "```python\n",
        "Nombre_Función = lambda parámetros/argumentos que requiera: instrucción \n",
        "```\n",
        "Lo vemos con un ejemplo:"
      ],
      "metadata": {
        "id": "m2cPsSejJKfJ"
      }
    },
    {
      "cell_type": "code",
      "source": [
        "#Creamos una función básica sencilla:\n",
        "def potencia(x):\n",
        "    return x**2\n",
        "\n",
        "potencia(9)"
      ],
      "metadata": {
        "colab": {
          "base_uri": "https://localhost:8080/"
        },
        "id": "jyjDV0MhKW10",
        "outputId": "6cb49c4c-84ea-4b68-88d3-8bb6f5c0ae32"
      },
      "execution_count": null,
      "outputs": [
        {
          "output_type": "execute_result",
          "data": {
            "text/plain": [
              "81"
            ]
          },
          "metadata": {},
          "execution_count": 132
        }
      ]
    },
    {
      "cell_type": "code",
      "source": [
        "#Creamos la función lambda equivalente:\n",
        "potencia_lambda =  lambda x: x**2\n",
        "\n",
        "potencia_lambda(9)"
      ],
      "metadata": {
        "colab": {
          "base_uri": "https://localhost:8080/"
        },
        "id": "lJxcwYLmKoky",
        "outputId": "32908cf0-ec85-48a6-f579-d56776d9ff20"
      },
      "execution_count": null,
      "outputs": [
        {
          "output_type": "execute_result",
          "data": {
            "text/plain": [
              "81"
            ]
          },
          "metadata": {},
          "execution_count": 137
        }
      ]
    },
    {
      "cell_type": "markdown",
      "source": [
        "###**Funciones `filter()` y `map()`**\n",
        "\n"
      ],
      "metadata": {
        "id": "xyP3FdIAmvjF"
      }
    },
    {
      "cell_type": "markdown",
      "source": [
        "Las funciones `filter()` y `map()` son funciones de orden superior. Las funciones de orden superior son aquellas que cumplen, al menos, una de las siguientes dos condiciones:\n",
        "1. Toman una o más funciones como parámetro.\n",
        "2. Devuelven una función como salida.\n",
        "\n",
        "Veámos primero la función `filter()`. Como su propio nombre indica, esta función sirve para filtrar: recibiendo por parámetros un objeto iterable (una lista, por ejemplo o una tupla) y una función condicional (función que tiene en su interior un condicional `if`), `filter()` devuelve una lista con aquellos elementos filtrados que cumplen la condición. Por ejemplo:\n",
        "\n",
        "\n"
      ],
      "metadata": {
        "id": "kiWkWlbapZb8"
      }
    },
    {
      "cell_type": "code",
      "source": [
        "#Creamos una función condicional que devuelva True si el número es impar\n",
        "def numero_impar(numero):\n",
        "  if numero % 2 != 0:\n",
        "    return True\n",
        "\n",
        "#Creamos una lista de número que pasarán la función condicional:\n",
        "lista_numeros = [3, 28, 69, 145, 502, 4085, 100053]\n",
        "\n",
        "#Utilizamos la función filter, empleando con parámetros la lista y la función condicional:\n",
        "list(filter(numero_impar, lista_numeros))"
      ],
      "metadata": {
        "colab": {
          "base_uri": "https://localhost:8080/"
        },
        "id": "113ps0-grV3C",
        "outputId": "b0b9587b-3250-4946-d33b-2e152364af0e"
      },
      "execution_count": null,
      "outputs": [
        {
          "output_type": "execute_result",
          "data": {
            "text/plain": [
              "[3, 69, 145, 4085, 100053]"
            ]
          },
          "metadata": {},
          "execution_count": 13
        }
      ]
    },
    {
      "cell_type": "markdown",
      "source": [
        "En el ejemplo anterior vemos que para mostrar el resultado de la función `filter()` es necesario emplear el método `list()`. Si no, el resultado sería el siguiente:"
      ],
      "metadata": {
        "id": "lC6e3piYtMCk"
      }
    },
    {
      "cell_type": "code",
      "source": [
        "filter(numero_impar, lista_numeros)"
      ],
      "metadata": {
        "colab": {
          "base_uri": "https://localhost:8080/"
        },
        "id": "Siq9HG5gtcHG",
        "outputId": "185e0058-bacc-483f-c10d-f003a454f80e"
      },
      "execution_count": null,
      "outputs": [
        {
          "output_type": "execute_result",
          "data": {
            "text/plain": [
              "<filter at 0x7f2ce9488590>"
            ]
          },
          "metadata": {},
          "execution_count": 14
        }
      ]
    },
    {
      "cell_type": "markdown",
      "source": [
        "Por otro lado, podemos realizar la misma función `filter()` de manera mucho más estilizada y eficiente si, en lugar de pasarle una función condicional básica, le pasamos una función condicional lambda. De esta forma, vemos otra potencialidad de las funciones lambda que, en este caso, sí serán anónimas, ya que no será necesario almacenarlas en una variable para ejecutarlas:"
      ],
      "metadata": {
        "id": "YJOtX7pfsubI"
      }
    },
    {
      "cell_type": "code",
      "source": [
        "#Realizamos el mismo ejemplo pero con una función lambda:\n",
        "list(filter(lambda numero: numero % 2 != 0, lista_numeros))"
      ],
      "metadata": {
        "colab": {
          "base_uri": "https://localhost:8080/"
        },
        "id": "wlhVwRZBtKUV",
        "outputId": "f0bbb301-bfc8-4b64-a12e-09a261f65bad"
      },
      "execution_count": null,
      "outputs": [
        {
          "output_type": "execute_result",
          "data": {
            "text/plain": [
              "[3, 69, 145, 4085, 100053]"
            ]
          },
          "metadata": {},
          "execution_count": 15
        }
      ]
    },
    {
      "cell_type": "markdown",
      "source": [
        "Respecto a la función `map()`, su finalidad es muy similar a la de `filter()` solo que es más versátil: permite aplicar a los elementos de un objeto iterable, funciones que no sean condicionales. Asimismo, su modo de empleo es idéntico al de la función `filter()`:"
      ],
      "metadata": {
        "id": "EpLD7rLHwGK0"
      }
    },
    {
      "cell_type": "code",
      "source": [
        "#Ejemplo con función básica:\n",
        "def triple(numero):\n",
        "  return numero*3\n",
        "\n",
        "numeros = [1, 2, 3, 4, 5, 6, 7]\n",
        "\n",
        "list(map(triple, numeros))"
      ],
      "metadata": {
        "colab": {
          "base_uri": "https://localhost:8080/"
        },
        "id": "uSjiy_5iw0kX",
        "outputId": "48fb83aa-f508-4c49-f9a6-c79f74b0328b"
      },
      "execution_count": null,
      "outputs": [
        {
          "output_type": "execute_result",
          "data": {
            "text/plain": [
              "[3, 6, 9, 12, 15, 18, 21]"
            ]
          },
          "metadata": {},
          "execution_count": 16
        }
      ]
    },
    {
      "cell_type": "code",
      "source": [
        "#Ejemplo con función lambda:\n",
        "list(map(lambda numero: numero*3, numeros))"
      ],
      "metadata": {
        "colab": {
          "base_uri": "https://localhost:8080/"
        },
        "id": "vWWgAfBKxEke",
        "outputId": "b249de18-81b8-421f-ad2a-83c0663c3a52"
      },
      "execution_count": null,
      "outputs": [
        {
          "output_type": "execute_result",
          "data": {
            "text/plain": [
              "[3, 6, 9, 12, 15, 18, 21]"
            ]
          },
          "metadata": {},
          "execution_count": 17
        }
      ]
    },
    {
      "cell_type": "markdown",
      "source": [
        "#Instalación y carga de paquetes"
      ],
      "metadata": {
        "id": "xQnpwos9isMi"
      }
    },
    {
      "cell_type": "markdown",
      "source": [
        "En la grandísima mayoría de análisis estadístico que hagamos - por no decir en todos -, vamos a tener que instalar o, al menos, cargar, uno o más paquetes específicos que nos permitirán desarrollar los análisis. En Python, los paquetes son conjuntos de funciones con una finalidad concreta. Por ejemplo, *Pandas* - una de los más usados - contienen funciones que sirven para leer información procedente de ficheros *.csv* o *.xlsx* y crear *dataframes*.\n",
        "\n",
        "Los paquetes también reciben el nombre de bibliotecas (*libraries*). Algunas personas distinguen entre unos y otros diciendo que una biblioteca es más grande que un paquete. No obstante, como su funcionalidad es la misma, no vamos a distinguir entre paquetes y bibliotecas, y vamos a emplear el término *paquete*.\n",
        "\n",
        "Para usar un paquete, debemos utilizar el siguiente código antes de la primera vez que lo utilicemos en un cuaderno:\n",
        "```python\n",
        "!pip install nombre_del_paquete\n",
        "import nombre_del paquete\n",
        "```\n",
        "\n",
        "En algunos casos, como el de Pandas, el paquete ya está instalado por defecto en Colab, por lo que solo tendremos que llamarlo:\n",
        "```python\n",
        "import nombre_del_paquete\n",
        "```\n",
        "\n",
        "También es posible importar solamente funciones o partes específicas de un paquete. Para ello, en lugar de emplear solo la instrucción `import`, debemos usar la siguente línea de código:\n",
        "```python\n",
        "from nombre_del_paquete import parte_o_funcion_especifica\n",
        "```\n",
        "\n",
        "En numerosas ocasiones, al cargar los paquetes les ponemos un nombre abreviado con la instrucción `as` con el objetivo de poder emplear sus funciones más rápidamente:\n",
        "```python\n",
        "import nombre_del_paquete as nombre_abreviado\n",
        "```\n",
        "\n",
        "Finalmente, una vez instalados e importados, para utilizar una función de un paquete, debemos emplear la conocida como **nomenclatura del punto**:\n",
        "```python\n",
        "nombre_del_paquete.funcion_a_utilizar_de_ese_paquete()\n",
        "\n",
        "o\n",
        "\n",
        "nombre_abreviado.funcion_a_utilizar_de_ese_paquete()\n",
        "\n",
        "```\n",
        "\n",
        "Vamos a ver un pequeño ejemplo: instalamos los paquetes *Seaborn* y *Pandas*, ya instalados en Colab, por lo que solo deben ser importados:"
      ],
      "metadata": {
        "id": "Aq3w4hY8-AaY"
      }
    },
    {
      "cell_type": "code",
      "source": [
        "import seaborn as sns\n",
        "import pandas as pd"
      ],
      "metadata": {
        "id": "ikUVJDWCep61"
      },
      "execution_count": null,
      "outputs": []
    },
    {
      "cell_type": "code",
      "source": [
        "#Utilizamos seaborn para importar un conjunto de datos llamado iris:\n",
        "datos_iris = sns.load_dataset(\"iris\")"
      ],
      "metadata": {
        "id": "SE56SyExeuJA"
      },
      "execution_count": null,
      "outputs": []
    },
    {
      "cell_type": "code",
      "source": [
        "#Utilizamos Pandas para crear un dataframe con el conjunto de datos iris\n",
        "dataframe_iris = pd.DataFrame(datos_iris)\n",
        "dataframe_iris.head()"
      ],
      "metadata": {
        "colab": {
          "base_uri": "https://localhost:8080/",
          "height": 205
        },
        "id": "FNqERf3qe1_L",
        "outputId": "dd67cf58-5fa7-4ff0-e667-509dc959d420"
      },
      "execution_count": null,
      "outputs": [
        {
          "output_type": "execute_result",
          "data": {
            "text/plain": [
              "   sepal_length  sepal_width  petal_length  petal_width species\n",
              "0           5.1          3.5           1.4          0.2  setosa\n",
              "1           4.9          3.0           1.4          0.2  setosa\n",
              "2           4.7          3.2           1.3          0.2  setosa\n",
              "3           4.6          3.1           1.5          0.2  setosa\n",
              "4           5.0          3.6           1.4          0.2  setosa"
            ],
            "text/html": [
              "\n",
              "  <div id=\"df-ad1aafc5-3aba-4ff9-a5b4-e396b2b1a68a\">\n",
              "    <div class=\"colab-df-container\">\n",
              "      <div>\n",
              "<style scoped>\n",
              "    .dataframe tbody tr th:only-of-type {\n",
              "        vertical-align: middle;\n",
              "    }\n",
              "\n",
              "    .dataframe tbody tr th {\n",
              "        vertical-align: top;\n",
              "    }\n",
              "\n",
              "    .dataframe thead th {\n",
              "        text-align: right;\n",
              "    }\n",
              "</style>\n",
              "<table border=\"1\" class=\"dataframe\">\n",
              "  <thead>\n",
              "    <tr style=\"text-align: right;\">\n",
              "      <th></th>\n",
              "      <th>sepal_length</th>\n",
              "      <th>sepal_width</th>\n",
              "      <th>petal_length</th>\n",
              "      <th>petal_width</th>\n",
              "      <th>species</th>\n",
              "    </tr>\n",
              "  </thead>\n",
              "  <tbody>\n",
              "    <tr>\n",
              "      <th>0</th>\n",
              "      <td>5.1</td>\n",
              "      <td>3.5</td>\n",
              "      <td>1.4</td>\n",
              "      <td>0.2</td>\n",
              "      <td>setosa</td>\n",
              "    </tr>\n",
              "    <tr>\n",
              "      <th>1</th>\n",
              "      <td>4.9</td>\n",
              "      <td>3.0</td>\n",
              "      <td>1.4</td>\n",
              "      <td>0.2</td>\n",
              "      <td>setosa</td>\n",
              "    </tr>\n",
              "    <tr>\n",
              "      <th>2</th>\n",
              "      <td>4.7</td>\n",
              "      <td>3.2</td>\n",
              "      <td>1.3</td>\n",
              "      <td>0.2</td>\n",
              "      <td>setosa</td>\n",
              "    </tr>\n",
              "    <tr>\n",
              "      <th>3</th>\n",
              "      <td>4.6</td>\n",
              "      <td>3.1</td>\n",
              "      <td>1.5</td>\n",
              "      <td>0.2</td>\n",
              "      <td>setosa</td>\n",
              "    </tr>\n",
              "    <tr>\n",
              "      <th>4</th>\n",
              "      <td>5.0</td>\n",
              "      <td>3.6</td>\n",
              "      <td>1.4</td>\n",
              "      <td>0.2</td>\n",
              "      <td>setosa</td>\n",
              "    </tr>\n",
              "  </tbody>\n",
              "</table>\n",
              "</div>\n",
              "      <button class=\"colab-df-convert\" onclick=\"convertToInteractive('df-ad1aafc5-3aba-4ff9-a5b4-e396b2b1a68a')\"\n",
              "              title=\"Convert this dataframe to an interactive table.\"\n",
              "              style=\"display:none;\">\n",
              "        \n",
              "  <svg xmlns=\"http://www.w3.org/2000/svg\" height=\"24px\"viewBox=\"0 0 24 24\"\n",
              "       width=\"24px\">\n",
              "    <path d=\"M0 0h24v24H0V0z\" fill=\"none\"/>\n",
              "    <path d=\"M18.56 5.44l.94 2.06.94-2.06 2.06-.94-2.06-.94-.94-2.06-.94 2.06-2.06.94zm-11 1L8.5 8.5l.94-2.06 2.06-.94-2.06-.94L8.5 2.5l-.94 2.06-2.06.94zm10 10l.94 2.06.94-2.06 2.06-.94-2.06-.94-.94-2.06-.94 2.06-2.06.94z\"/><path d=\"M17.41 7.96l-1.37-1.37c-.4-.4-.92-.59-1.43-.59-.52 0-1.04.2-1.43.59L10.3 9.45l-7.72 7.72c-.78.78-.78 2.05 0 2.83L4 21.41c.39.39.9.59 1.41.59.51 0 1.02-.2 1.41-.59l7.78-7.78 2.81-2.81c.8-.78.8-2.07 0-2.86zM5.41 20L4 18.59l7.72-7.72 1.47 1.35L5.41 20z\"/>\n",
              "  </svg>\n",
              "      </button>\n",
              "      \n",
              "  <style>\n",
              "    .colab-df-container {\n",
              "      display:flex;\n",
              "      flex-wrap:wrap;\n",
              "      gap: 12px;\n",
              "    }\n",
              "\n",
              "    .colab-df-convert {\n",
              "      background-color: #E8F0FE;\n",
              "      border: none;\n",
              "      border-radius: 50%;\n",
              "      cursor: pointer;\n",
              "      display: none;\n",
              "      fill: #1967D2;\n",
              "      height: 32px;\n",
              "      padding: 0 0 0 0;\n",
              "      width: 32px;\n",
              "    }\n",
              "\n",
              "    .colab-df-convert:hover {\n",
              "      background-color: #E2EBFA;\n",
              "      box-shadow: 0px 1px 2px rgba(60, 64, 67, 0.3), 0px 1px 3px 1px rgba(60, 64, 67, 0.15);\n",
              "      fill: #174EA6;\n",
              "    }\n",
              "\n",
              "    [theme=dark] .colab-df-convert {\n",
              "      background-color: #3B4455;\n",
              "      fill: #D2E3FC;\n",
              "    }\n",
              "\n",
              "    [theme=dark] .colab-df-convert:hover {\n",
              "      background-color: #434B5C;\n",
              "      box-shadow: 0px 1px 3px 1px rgba(0, 0, 0, 0.15);\n",
              "      filter: drop-shadow(0px 1px 2px rgba(0, 0, 0, 0.3));\n",
              "      fill: #FFFFFF;\n",
              "    }\n",
              "  </style>\n",
              "\n",
              "      <script>\n",
              "        const buttonEl =\n",
              "          document.querySelector('#df-ad1aafc5-3aba-4ff9-a5b4-e396b2b1a68a button.colab-df-convert');\n",
              "        buttonEl.style.display =\n",
              "          google.colab.kernel.accessAllowed ? 'block' : 'none';\n",
              "\n",
              "        async function convertToInteractive(key) {\n",
              "          const element = document.querySelector('#df-ad1aafc5-3aba-4ff9-a5b4-e396b2b1a68a');\n",
              "          const dataTable =\n",
              "            await google.colab.kernel.invokeFunction('convertToInteractive',\n",
              "                                                     [key], {});\n",
              "          if (!dataTable) return;\n",
              "\n",
              "          const docLinkHtml = 'Like what you see? Visit the ' +\n",
              "            '<a target=\"_blank\" href=https://colab.research.google.com/notebooks/data_table.ipynb>data table notebook</a>'\n",
              "            + ' to learn more about interactive tables.';\n",
              "          element.innerHTML = '';\n",
              "          dataTable['output_type'] = 'display_data';\n",
              "          await google.colab.output.renderOutput(dataTable, element);\n",
              "          const docLink = document.createElement('div');\n",
              "          docLink.innerHTML = docLinkHtml;\n",
              "          element.appendChild(docLink);\n",
              "        }\n",
              "      </script>\n",
              "    </div>\n",
              "  </div>\n",
              "  "
            ]
          },
          "metadata": {},
          "execution_count": 14
        }
      ]
    },
    {
      "cell_type": "markdown",
      "source": [
        "De esta forma vemos otra estructura de datos esencial en Python: el **dataframe**. Los *dataframes* son estructuras de similares a las tablas de Excel, donde la información se dispone en filas y columnas. Lo normal suele ser tener las variables en las columnas y las observaciones en las filas, aunque también puede usarse el orden inverso. Asimismo, como con las listas y las tuplas, la numeración de las filas y columnas de un *dataframe* comienza en el número cero.\n",
        "\n",
        "Para saber más del manejo de *dataframes*, recomendamos echar un vistazo al cuaderno: **Análisis Exploratorio de Datos con Python**, donde se explican las principales operaciones de manejo de tablas (*data wrangling*).\n",
        "\n",
        "Con esto, damos por terminado este cuaderno introductorio a Python."
      ],
      "metadata": {
        "id": "ch48-2sChabj"
      }
    },
    {
      "cell_type": "markdown",
      "source": [
        "#Enlace recomendado\n",
        "* https://www.youtube.com/playlist?list=PLU8oAlHdN5BlvPxziopYZRd55pdqFwkeS"
      ],
      "metadata": {
        "id": "MfrGYIctiuxN"
      }
    }
  ]
}