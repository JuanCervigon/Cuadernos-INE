{
  "nbformat": 4,
  "nbformat_minor": 0,
  "metadata": {
    "colab": {
      "name": "Cuaderno introductorio a fechas .ipynb",
      "provenance": []
    },
    "kernelspec": {
      "name": "python3",
      "display_name": "Python 3"
    },
    "language_info": {
      "name": "python"
    }
  },
  "cells": [
    {
      "cell_type": "markdown",
      "source": [
        "#Preámbulo\n",
        "\n",
        "Este cuaderno se encarga de explicar las bases para manipular fechas usando Python. \n",
        "\n",
        "Aunque parece algo redundante, uno de los problemas más comunes en Python cuando se trabaja con datos que están fechados es la dificultad para adaptar las fechas de una manera legible para el programa."
      ],
      "metadata": {
        "id": "Pdx_Tr03ULrJ"
      }
    },
    {
      "cell_type": "markdown",
      "source": [
        "#1.Introducción\n",
        "\n",
        "Las fechas en Python tienen un formato propio llamado datetime64. Cuando trabajamos con tiempo es conveniente pasar las fechas a este formato ya que de otra forma existe la posibilidad de que el código te empiece a dar errores. \n",
        "\n",
        "Por ejemplo, si intentamos hacer un gráfico con fechas que están en formato número (string) y no en datetime, lo más normal es que el eje tiempo te salga con décimales del tipo \"año 2002.5\". \n",
        "\n",
        "Este formato tiene sus propias peculiaridades y vamos a desgranarlos todos a lo largo de este caso de uso."
      ],
      "metadata": {
        "id": "yZBjfVzNWXTN"
      }
    },
    {
      "cell_type": "code",
      "source": [
        "import pandas as pd"
      ],
      "metadata": {
        "id": "P03KIC0NZcPP"
      },
      "execution_count": null,
      "outputs": []
    },
    {
      "cell_type": "markdown",
      "source": [
        "#2.Cómo convertir unos datos al formato fecha\n",
        "\n",
        "Para comprobarlo vamos a crear una serie con fechas en un formato diferente al datetime64. "
      ],
      "metadata": {
        "id": "2nQjLexLXzRy"
      }
    },
    {
      "cell_type": "code",
      "source": [
        "#Vamos a empezar creando una serie de fechas en formato número\n",
        "FechasN=pd.Series([1-1-2020,1-1-2021,1-1-2022])\n",
        "FechasN"
      ],
      "metadata": {
        "colab": {
          "base_uri": "https://localhost:8080/"
        },
        "id": "H8ekNIU0GMfA",
        "outputId": "9c817679-6887-4abd-982c-02ac36f8138d"
      },
      "execution_count": null,
      "outputs": [
        {
          "output_type": "execute_result",
          "data": {
            "text/plain": [
              "0   -2020\n",
              "1   -2021\n",
              "2   -2022\n",
              "dtype: int64"
            ]
          },
          "metadata": {},
          "execution_count": 8
        }
      ]
    },
    {
      "cell_type": "markdown",
      "source": [
        "Nos devuelve el año en negativo y no la fecha. Vamos a hacerlo como si las fechas fueran palabras (strings)"
      ],
      "metadata": {
        "id": "GfIy3kIoK7pT"
      }
    },
    {
      "cell_type": "code",
      "source": [
        "FechasP=pd.Series(['1-1-2020','1-1-2021','1-1-2022'])\n",
        "FechasP"
      ],
      "metadata": {
        "colab": {
          "base_uri": "https://localhost:8080/"
        },
        "id": "J30G8XkyLGI4",
        "outputId": "f4727ecc-a9e0-48cc-d72a-b967f44e115c"
      },
      "execution_count": null,
      "outputs": [
        {
          "output_type": "execute_result",
          "data": {
            "text/plain": [
              "0    1-1-2020\n",
              "1    1-1-2021\n",
              "2    1-1-2022\n",
              "dtype: object"
            ]
          },
          "metadata": {},
          "execution_count": 9
        }
      ]
    },
    {
      "cell_type": "markdown",
      "source": [
        "Aquí ya nos devuelve las fechas que queremos pero como si fueran palabras. Esto puede llegar a darnos problemas para algunas operaciones así que lo convertimos a formato fecha"
      ],
      "metadata": {
        "id": "BVWGc1l7LlP6"
      }
    },
    {
      "cell_type": "code",
      "source": [
        "Fechas1=pd.to_datetime(FechasP)\n",
        "Fechas1"
      ],
      "metadata": {
        "colab": {
          "base_uri": "https://localhost:8080/"
        },
        "id": "yfwXLlQnIa9k",
        "outputId": "535dc5c3-d9c8-4f21-9e6a-a814b9212161"
      },
      "execution_count": null,
      "outputs": [
        {
          "output_type": "execute_result",
          "data": {
            "text/plain": [
              "0   2020-01-01\n",
              "1   2021-01-01\n",
              "2   2022-01-01\n",
              "dtype: datetime64[ns]"
            ]
          },
          "metadata": {},
          "execution_count": 10
        }
      ]
    },
    {
      "cell_type": "markdown",
      "source": [
        "Ya lo tenemos en formato fecha. Pero, ¿y que pasaría si solo tuvieramos los años? Es decir, los datos que tenemos están en frecuancia anual sin tener meses o días."
      ],
      "metadata": {
        "id": "U4F58INMMXOP"
      }
    },
    {
      "cell_type": "code",
      "source": [
        "FechasA=pd.Series(['2020','2021','2022'])\n",
        "FechasA"
      ],
      "metadata": {
        "colab": {
          "base_uri": "https://localhost:8080/"
        },
        "id": "nXOyM4O1Lz2h",
        "outputId": "90578184-aba4-4f53-9e5c-ae7fee9fea90"
      },
      "execution_count": null,
      "outputs": [
        {
          "output_type": "execute_result",
          "data": {
            "text/plain": [
              "0    2020\n",
              "1    2021\n",
              "2    2022\n",
              "dtype: object"
            ]
          },
          "metadata": {},
          "execution_count": 11
        }
      ]
    },
    {
      "cell_type": "code",
      "source": [
        "Fechas2=pd.to_datetime(FechasA)\n",
        "Fechas2"
      ],
      "metadata": {
        "colab": {
          "base_uri": "https://localhost:8080/"
        },
        "id": "SwlTq7FJMN39",
        "outputId": "b406c7d9-2510-4514-f01b-40327a75de24"
      },
      "execution_count": null,
      "outputs": [
        {
          "output_type": "execute_result",
          "data": {
            "text/plain": [
              "0   2020-01-01\n",
              "1   2021-01-01\n",
              "2   2022-01-01\n",
              "dtype: datetime64[ns]"
            ]
          },
          "metadata": {},
          "execution_count": 12
        }
      ]
    },
    {
      "cell_type": "markdown",
      "source": [
        "Como podemos ver, el formate fecha (datetime64) siempre necesita de mes y día. Si no lo tiene simplemente asume que es 1 de enero (1-1-...)"
      ],
      "metadata": {
        "id": "dS0ch8BXMzzB"
      }
    },
    {
      "cell_type": "markdown",
      "source": [
        "#3.Como modificar los períodos (si va por mes, año...)\n",
        "\n"
      ],
      "metadata": {
        "id": "WCJ-XFwXZ99r"
      }
    },
    {
      "cell_type": "markdown",
      "source": [
        "Período es el intervalo de tiempo que comprende cada fecha.\n",
        "\n",
        "Cuando se trabaja con fechas es muy importante conocer el intervalo en el que nos estamos manejando. Esto es, si cada período es una semana, un mes, un año...\n",
        "\n",
        "Para ello usamos una una función de pandas donde tenemos que dar tres argumentos; fecha de inicio, número de períodos y tipo de intervalo donde tipo de intervalo es:\n",
        "\n",
        "1-'D' es día\n",
        "\n",
        "2-'W' es semana\n",
        "\n",
        "3-'M' es mes\n",
        "\n",
        "4-'Q' es trimestre\n",
        "\n",
        "5-'Y' es año"
      ],
      "metadata": {
        "id": "s9DYx_2DalvS"
      }
    },
    {
      "cell_type": "code",
      "source": [
        "Período=pd.date_range('1-1-2019',periods=12,freq='D')\n",
        "Período"
      ],
      "metadata": {
        "colab": {
          "base_uri": "https://localhost:8080/"
        },
        "id": "NdtR9eljdv9T",
        "outputId": "a2d6a10d-6d70-43fd-a0e3-8a01ef29000f"
      },
      "execution_count": null,
      "outputs": [
        {
          "output_type": "execute_result",
          "data": {
            "text/plain": [
              "DatetimeIndex(['2019-01-01', '2019-01-02', '2019-01-03', '2019-01-04',\n",
              "               '2019-01-05', '2019-01-06', '2019-01-07', '2019-01-08',\n",
              "               '2019-01-09', '2019-01-10', '2019-01-11', '2019-01-12'],\n",
              "              dtype='datetime64[ns]', freq='D')"
            ]
          },
          "metadata": {},
          "execution_count": 16
        }
      ]
    },
    {
      "cell_type": "markdown",
      "source": [
        "Como vemos, hemos creado una serie de 12 fechas que van día a día empezando el 1 de enero de 2019.\n",
        "\n",
        "Vamos a ver como se hace con otro tipo de períodos."
      ],
      "metadata": {
        "id": "6y-giIPOd-5f"
      }
    },
    {
      "cell_type": "code",
      "source": [
        "PeríodoQ=pd.date_range('1-1-2019',periods=4,freq='Q')\n",
        "PeríodoQ"
      ],
      "metadata": {
        "colab": {
          "base_uri": "https://localhost:8080/"
        },
        "id": "bSK5JtmjePde",
        "outputId": "7c01e873-16e9-4758-c62b-c19a04a835d8"
      },
      "execution_count": null,
      "outputs": [
        {
          "output_type": "execute_result",
          "data": {
            "text/plain": [
              "DatetimeIndex(['2019-03-31', '2019-06-30', '2019-09-30', '2019-12-31'], dtype='datetime64[ns]', freq='Q-DEC')"
            ]
          },
          "metadata": {},
          "execution_count": 17
        }
      ]
    },
    {
      "cell_type": "markdown",
      "source": [
        "En este caso hemos creado una serie de fechas que son los cuatro trimestres de 2019 contandolos desde el final de estos trimestres."
      ],
      "metadata": {
        "id": "wPLovrprehA9"
      }
    },
    {
      "cell_type": "markdown",
      "source": [
        "#4.Cómo tomar lags y leads en Python\n",
        "\n",
        "Estos términos son importantes si estás trabajando en ciencia de datos. \n",
        "\n",
        "Lags significa que tomas el período anterior de toda la serie de fechas. Esto es, si tu serie está en $x_t$ tomar un lag significa tomar esa misma variable en $x_{t-1}$\n",
        "\n",
        "Un lead es lo mismo pero al revés, si tu variable está en $x_t$ tomar un lead es pasarlo a $x_{t+1}$. Es decir, pasarlo todo un período hacia delante.\n",
        "\n",
        "Veamoslo con un ejemplo para que quede más claro"
      ],
      "metadata": {
        "id": "hYwAQnmsexwn"
      }
    },
    {
      "cell_type": "code",
      "source": [
        "Período"
      ],
      "metadata": {
        "colab": {
          "base_uri": "https://localhost:8080/"
        },
        "id": "cE9jgrdbgviN",
        "outputId": "335e9870-4e0c-4d06-f231-0ae4f9712b68"
      },
      "execution_count": null,
      "outputs": [
        {
          "output_type": "execute_result",
          "data": {
            "text/plain": [
              "DatetimeIndex(['2019-01-01', '2019-01-02', '2019-01-03', '2019-01-04',\n",
              "               '2019-01-05', '2019-01-06', '2019-01-07', '2019-01-08',\n",
              "               '2019-01-09', '2019-01-10', '2019-01-11', '2019-01-12'],\n",
              "              dtype='datetime64[ns]', freq='D')"
            ]
          },
          "metadata": {},
          "execution_count": 18
        }
      ]
    },
    {
      "cell_type": "markdown",
      "source": [
        "La serie \"período\" empieza el 1 de enero de 2019 y acaba el 12 de enero de 2019. Así que si tomamos el lag de esta serie:"
      ],
      "metadata": {
        "id": "m2RPbKtBg0be"
      }
    },
    {
      "cell_type": "code",
      "source": [
        "lag=Período.shift(-1)\n",
        "lag"
      ],
      "metadata": {
        "colab": {
          "base_uri": "https://localhost:8080/"
        },
        "id": "PxxjfaUmUbSp",
        "outputId": "12fdbc4a-1489-4dd6-968d-fc432f3dd325"
      },
      "execution_count": null,
      "outputs": [
        {
          "output_type": "execute_result",
          "data": {
            "text/plain": [
              "DatetimeIndex(['2018-12-31', '2019-01-01', '2019-01-02', '2019-01-03',\n",
              "               '2019-01-04', '2019-01-05', '2019-01-06', '2019-01-07',\n",
              "               '2019-01-08', '2019-01-09', '2019-01-10', '2019-01-11'],\n",
              "              dtype='datetime64[ns]', freq='D')"
            ]
          },
          "metadata": {},
          "execution_count": 19
        }
      ]
    },
    {
      "cell_type": "markdown",
      "source": [
        "Nos devuelve una serie que empieza el 31 de diciembre de 2018 y acaba el 11 de enero de 2019. Para ello tienes que usar .shift() y poner dentro del paréntesis el número de períodos que quieres retrasar la serie (el número de lags). Para los lags siempre se ponen los números en negativo. \n",
        "\n",
        "Para los leads es lo mismo pero al revés."
      ],
      "metadata": {
        "id": "PTxQMHG4hMJD"
      }
    },
    {
      "cell_type": "code",
      "source": [
        "Lead=Período.shift(1)\n",
        "Lead"
      ],
      "metadata": {
        "colab": {
          "base_uri": "https://localhost:8080/"
        },
        "id": "rfe7oBgqhqNV",
        "outputId": "11c7fa01-415b-42be-84cc-a851d421ac10"
      },
      "execution_count": null,
      "outputs": [
        {
          "output_type": "execute_result",
          "data": {
            "text/plain": [
              "DatetimeIndex(['2019-01-02', '2019-01-03', '2019-01-04', '2019-01-05',\n",
              "               '2019-01-06', '2019-01-07', '2019-01-08', '2019-01-09',\n",
              "               '2019-01-10', '2019-01-11', '2019-01-12', '2019-01-13'],\n",
              "              dtype='datetime64[ns]', freq='D')"
            ]
          },
          "metadata": {},
          "execution_count": 20
        }
      ]
    },
    {
      "cell_type": "markdown",
      "source": [
        "El lead de \"período\" nos devuelve una serie que empieza el 2 de enero de 2019 y acaba el 13 de enero de 2019."
      ],
      "metadata": {
        "id": "gjYjDGbYhxNU"
      }
    },
    {
      "cell_type": "markdown",
      "source": [
        "#5.Como hacer cálculos con fechas\n",
        "\n",
        "En Python puedes hacer cálculos con fechas usando timedelta. Esto es, puedes sumar o restar días, horas, semanas y demás y luego puedes convertirlo a segundos o a días."
      ],
      "metadata": {
        "id": "FVLgFwOGIEOp"
      }
    },
    {
      "cell_type": "code",
      "source": [
        "#Empezaremos estbleciendo un período de tiempo y calculando cuantos segundos tiene\n",
        "from datetime import timedelta\n",
        "\n",
        "#Definimos el intervalo de tiempo\n",
        "delta=timedelta(days=50)\n",
        "#Calculamos cuantos segundos tiene\n",
        "delta.total_seconds()\n"
      ],
      "metadata": {
        "colab": {
          "base_uri": "https://localhost:8080/"
        },
        "id": "a82JFJScKBAG",
        "outputId": "c05a5d9a-3229-41f5-de68-815ebbe68e7c"
      },
      "execution_count": null,
      "outputs": [
        {
          "output_type": "execute_result",
          "data": {
            "text/plain": [
              "4320000.0"
            ]
          },
          "metadata": {},
          "execution_count": 6
        }
      ]
    },
    {
      "cell_type": "markdown",
      "source": [
        "Ahora vamos a sumarle a estos 50 días 2 semanas extras y vamos a comprobar cuantos días y segundos tiene el intervalo"
      ],
      "metadata": {
        "id": "RpJmUcHRzRhP"
      }
    },
    {
      "cell_type": "code",
      "source": [
        "delta1=timedelta(weeks=2)\n",
        "delta2=delta+delta1\n",
        "\n",
        "\n",
        "print('Total días:',delta2.days,\n",
        "      'Total segundos:',delta2.total_seconds())"
      ],
      "metadata": {
        "colab": {
          "base_uri": "https://localhost:8080/"
        },
        "id": "BXQ-yPjRwOlM",
        "outputId": "5598ef85-a44e-4a8e-a2ce-b6a330aeb4e1"
      },
      "execution_count": null,
      "outputs": [
        {
          "output_type": "stream",
          "name": "stdout",
          "text": [
            "Total días: 64 Total segundos: 5529600.0\n"
          ]
        }
      ]
    },
    {
      "cell_type": "markdown",
      "source": [
        "#6.Como calcular la fecha actual\n",
        "\n"
      ],
      "metadata": {
        "id": "1p0ZUpcJzmDc"
      }
    },
    {
      "cell_type": "markdown",
      "source": [
        "Usando Python puedes calcular la fecha actaul y jugar con ella. Para saber la fecha actual (te devuelve año, mes y día) se usa .today()"
      ],
      "metadata": {
        "id": "b1NLsOlk-ICW"
      }
    },
    {
      "cell_type": "code",
      "source": [
        "from datetime import date\n",
        "Hoy=date.today()\n",
        "Hoy"
      ],
      "metadata": {
        "colab": {
          "base_uri": "https://localhost:8080/"
        },
        "id": "AA_kyZqALiom",
        "outputId": "468e2a16-1345-40ed-fc87-7b9739b2f09d"
      },
      "execution_count": null,
      "outputs": [
        {
          "output_type": "execute_result",
          "data": {
            "text/plain": [
              "datetime.date(2022, 5, 31)"
            ]
          },
          "metadata": {},
          "execution_count": 27
        }
      ]
    },
    {
      "cell_type": "markdown",
      "source": [
        "Ahora vamos a crear un objeto que sea la fecha de mi cumpleaños este año (se pone primero año, luego mes y luego día). Después vamos a restar ese día a la fecha actual para saber cuantos días quedan para mi cumpleaños contando desde hoy."
      ],
      "metadata": {
        "id": "P4Gb18Hc-lT3"
      }
    },
    {
      "cell_type": "code",
      "source": [
        "micumpleaños=date(2022,11,23)\n",
        "\n",
        "t=micumpleaños-Hoy\n",
        "\n",
        "print('Días hasta mi cumpleaños:',t.days)\n"
      ],
      "metadata": {
        "colab": {
          "base_uri": "https://localhost:8080/"
        },
        "id": "ub6GqFbc0rwH",
        "outputId": "7b8a3696-4899-41df-d812-91a8d10b1b94"
      },
      "execution_count": null,
      "outputs": [
        {
          "output_type": "stream",
          "name": "stdout",
          "text": [
            "Días hasta mi cumpleaños: 176\n"
          ]
        }
      ]
    },
    {
      "cell_type": "markdown",
      "source": [
        "También podemos saber cuantos segundos tiene este intervalo de tiempo contando desde el minuto 1 del 31 de mayo."
      ],
      "metadata": {
        "id": "XW2osCEl_WBo"
      }
    },
    {
      "cell_type": "code",
      "source": [
        "print('Segundos hasta mi cumpleaños:',t.total_seconds())"
      ],
      "metadata": {
        "colab": {
          "base_uri": "https://localhost:8080/"
        },
        "id": "IrHe7P6960Bo",
        "outputId": "9f64b5d6-269f-4179-9a92-d2d045a583bb"
      },
      "execution_count": null,
      "outputs": [
        {
          "output_type": "stream",
          "name": "stdout",
          "text": [
            "Segundos hasta mi cumpleaños: 15206400.0\n"
          ]
        }
      ]
    },
    {
      "cell_type": "markdown",
      "source": [
        "#7.Como cambiar el formato de fecha"
      ],
      "metadata": {
        "id": "oCQh-X8P_l8S"
      }
    },
    {
      "cell_type": "markdown",
      "source": [
        "Python te devuelve por defecto el formato de fecha americana que consiste en decir primero el año, luego el mes y luego el día. Si quieres pasarlo al formato de España puedes hacerlo de la siguiente manera:"
      ],
      "metadata": {
        "id": "GmId6IVf_qR6"
      }
    },
    {
      "cell_type": "code",
      "source": [
        "Hoy.strftime('%d/%m/%y')"
      ],
      "metadata": {
        "colab": {
          "base_uri": "https://localhost:8080/",
          "height": 35
        },
        "id": "IxNfvXsI37A6",
        "outputId": "a4070e75-99d6-4c10-f2ad-6590898ce487"
      },
      "execution_count": null,
      "outputs": [
        {
          "output_type": "execute_result",
          "data": {
            "text/plain": [
              "'31/05/22'"
            ],
            "application/vnd.google.colaboratory.intrinsic+json": {
              "type": "string"
            }
          },
          "metadata": {},
          "execution_count": 56
        }
      ]
    },
    {
      "cell_type": "markdown",
      "source": [
        "Si quieres también incluir el día de la semana y que el mes sea el nombre y no el número se hace así"
      ],
      "metadata": {
        "id": "553z_5Sp__W-"
      }
    },
    {
      "cell_type": "code",
      "source": [
        "Hoy.strftime('%A %d %B %y')"
      ],
      "metadata": {
        "colab": {
          "base_uri": "https://localhost:8080/",
          "height": 35
        },
        "id": "2AgmKsVT5ogg",
        "outputId": "6c81c2f5-2268-4c07-8fcd-4582f199d83f"
      },
      "execution_count": null,
      "outputs": [
        {
          "output_type": "execute_result",
          "data": {
            "text/plain": [
              "'Tuesday 31 May 22'"
            ],
            "application/vnd.google.colaboratory.intrinsic+json": {
              "type": "string"
            }
          },
          "metadata": {},
          "execution_count": 57
        }
      ]
    }
  ]
}